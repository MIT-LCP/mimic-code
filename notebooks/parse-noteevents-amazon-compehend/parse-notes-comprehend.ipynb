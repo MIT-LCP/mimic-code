{
 "cells": [
  {
   "cell_type": "markdown",
   "metadata": {},
   "source": [
    "## Parse ICD-10-CM code from Discharge summaries of MIMIC III Dataset using Amazon Comprehend Medical"
   ]
  },
  {
   "cell_type": "markdown",
   "metadata": {},
   "source": [
    "This notebook walks through a demonstration of how Amazon Comprehend Medical can parse ICD-10 codes from the discharge summaries in the notesevents table. Since there are thousands of summaries in the MIMIC-III dataset, we use a subset of data. To identify a subset, we use discharge summaries of all admissions that had a diagnoses ICD-9 code of 428.21. This code represents “Acute systolic heart failure”"
   ]
  },
  {
   "cell_type": "code",
   "execution_count": 9,
   "metadata": {},
   "outputs": [],
   "source": [
    "#This demonstation looks at medical conditions for patients that have been diagnosed with \"Acute systolic heart failure\".\n",
    "#Change this to run for a different code. However, before you run the comprehend medical API, please get a cost estimate\n",
    "#from https://aws.amazon.com/comprehend/pricing/ \n",
    "icd9code=\"42821\""
   ]
  },
  {
   "cell_type": "code",
   "execution_count": 10,
   "metadata": {},
   "outputs": [],
   "source": [
    "import pandas as pd\n",
    "import boto3\n",
    "import botocore\n",
    "import gzip\n",
    "import shutil"
   ]
  },
  {
   "cell_type": "markdown",
   "metadata": {},
   "source": [
    "The first step is to download the required files and unzip them."
   ]
  },
  {
   "cell_type": "code",
   "execution_count": 3,
   "metadata": {},
   "outputs": [],
   "source": [
    "#Download data\n",
    "s3 = boto3.resource('s3')\n",
    "s3.Bucket(\"mimic-iii-physionet\").download_file('NOTEEVENTS.csv.gz', 'NOTEEVENTS.csv.gz')\n",
    "s3.Bucket(\"mimic-iii-physionet\").download_file('ADMISSIONS.csv.gz', 'ADMISSIONS.csv.gz')\n",
    "s3.Bucket(\"mimic-iii-physionet\").download_file('DIAGNOSES_ICD.csv.gz', 'DIAGNOSES_ICD.csv.gz')\n",
    "\n",
    "#Unzip the files\n",
    "with gzip.open('NOTEEVENTS.csv.gz', 'rb') as f_in:\n",
    "    with open('NOTEEVENTS.csv', 'wb') as f_out:\n",
    "        shutil.copyfileobj(f_in, f_out)\n",
    "\n",
    "with gzip.open('ADMISSIONS.csv.gz', 'rb') as f_in:\n",
    "    with open('ADMISSIONS.csv', 'wb') as f_out:\n",
    "        shutil.copyfileobj(f_in, f_out)\n",
    "\n",
    "with gzip.open('DIAGNOSES_ICD.csv.gz', 'rb') as f_in:\n",
    "    with open('DIAGNOSES_ICD.csv', 'wb') as f_out:\n",
    "        shutil.copyfileobj(f_in, f_out)\n"
   ]
  },
  {
   "cell_type": "markdown",
   "metadata": {},
   "source": [
    "The next step is to read the NoteEvents table into a DataFrame and also read the diagnoses table"
   ]
  },
  {
   "cell_type": "code",
   "execution_count": 8,
   "metadata": {},
   "outputs": [],
   "source": [
    "#Read the noteevents table into a DataFrame\n",
    "import csv\n",
    "labels = [\"ROW_ID\",\"SUBJECT_ID\",\"HADM_ID\",\"CHARTDATE\",\"CHARTTIME\",\n",
    "          \"STORETIME\",\"CATEGORY\",\"DESCRIPTION\",\"CGID\",\"ISERROR\",\"TEXT\"]\n",
    "with open(\"NOTEEVENTS.csv\") as f:\n",
    "    reader = csv.reader(f)\n",
    "    csv_rows = list(reader)\n",
    "events = pd.DataFrame.from_records(csv_rows,columns=labels)\n",
    "#drop the header\n",
    "events=events.drop(events.index[0])\n",
    "\n",
    "#get all the admissions that have a particular diagnoses\n",
    "HADM_IDS=set()\n",
    "diagnoses_icd = pd.read_csv(\"DIAGNOSES_ICD.csv\")\n",
    "for row,diagnoses in diagnoses_icd.iterrows():\n",
    "        # Change the ICD9 code  to run for a different diagnoses\n",
    "        if (str(diagnoses['ICD9_CODE']).startswith(icd9code)):\n",
    "            HADM_IDS.add(diagnoses['HADM_ID'])\n",
    "events_heart = pd.DataFrame(columns=labels)\n",
    "for row,event in events.iterrows():\n",
    "    if ((event['HADM_ID'] != '') and (event['CATEGORY'] == 'Discharge summary')\\\n",
    "        and (int(event['HADM_ID']) in HADM_IDS)):\n",
    "        events_heart=events_heart.append(event)\n",
    "#Persist to a file to reuse data after notebook restart        \n",
    "events_heart.to_pickle(f\"{icd9code}.pkl\")"
   ]
  },
  {
   "cell_type": "code",
   "execution_count": 29,
   "metadata": {},
   "outputs": [],
   "source": [
    "#read from the persisted file if the code above has been run once.\n",
    "#events_heart = pd.read_pickle(f\"{icd9code}.pkl\")"
   ]
  },
  {
   "cell_type": "markdown",
   "metadata": {},
   "source": [
    "The next step is to use Comprehend Medical to parse the medical text. We use the infer_icd10_cm endpoint"
   ]
  },
  {
   "cell_type": "code",
   "execution_count": null,
   "metadata": {},
   "outputs": [],
   "source": [
    "import boto3\n",
    "client = boto3.client(service_name='comprehendmedical', region_name='ap-southeast-2')\n",
    "lines = pd.DataFrame()\n",
    "j = 0\n",
    "for row,event in events_heart.iterrows():\n",
    "    print(j)\n",
    "    j=j+1\n",
    "    a=event['TEXT']\n",
    "    length=10000\n",
    "    for i in range(0, len(a), length):\n",
    "        icd10entities = client.infer_icd10_cm(Text=a[0+i:length+i])\n",
    "        for entity in icd10entities['Entities']:\n",
    "            if((entity['Category']=='MEDICAL_CONDITION') and (float(entity['Score']) > 0.8) ):\n",
    "                for concept in entity['ICD10CMConcepts']:\n",
    "                    if (concept['Score']>0.75):\n",
    "                        lines = lines.append({'HADM_ID':event['HADM_ID'],\n",
    "                                   'MEDICAL_CONDITION_NAME':concept['Description'],\n",
    "                                   'ICDM_10C':concept['Code'],\n",
    "                                   'SCORE':concept['Score']\n",
    "                                    },ignore_index=True)\n",
    "\n",
    "# The comprehend medical API charges per call and therefore we store the results in a file \n",
    "# to use them later if required.\n",
    "lines.to_csv(\"heart_failures.csv\")"
   ]
  },
  {
   "cell_type": "markdown",
   "metadata": {},
   "source": [
    "The \"heart_failures.csv\" file has the medical conditions extracted using Comprehend Medical. While experimenting various models, do not rerun the medical comprehend code for the same dataset since it is charged per API call. Read the values from the csv file and then continue experimenting.\n",
    "\n",
    "Merge with the admissions table to get the SUBJECT_ID"
   ]
  },
  {
   "cell_type": "code",
   "execution_count": 6,
   "metadata": {},
   "outputs": [],
   "source": [
    "import pandas as pd\n",
    "heart_failures_cause = pd.read_csv(\"heart_failures.csv\")\n",
    "# Load admissions\n",
    "admissions = pd.read_csv(\"ADMISSIONS.csv\",parse_dates=['ADMITTIME','DISCHTIME'])\n",
    "HADM_ID_PATIENT_ID = {}\n",
    "for row,admission in admissions.iterrows():\n",
    "    HADM_ID_PATIENT_ID[admission['HADM_ID']] = admission['SUBJECT_ID']\n",
    "heart_failures_sub = pd.DataFrame()\n",
    "#Add SUBJECT_ID\n",
    "for row,line in heart_failures_cause.iterrows():\n",
    "    heart_failures_sub = heart_failures_sub.append({\n",
    "                        'SUBJECT_ID':HADM_ID_PATIENT_ID[line['HADM_ID']],\n",
    "                        'ICDM_10C':line['ICDM_10C'],\n",
    "                        'MEDICAL_CONDITION_NAME' : line['MEDICAL_CONDITION_NAME']},ignore_index=True)\n",
    "\n",
    "# get the patient ID\n",
    "heart_failures_unq = heart_failures_sub.drop_duplicates(subset=['SUBJECT_ID','ICDM_10C'],keep=False)    "
   ]
  },
  {
   "cell_type": "markdown",
   "metadata": {},
   "source": [
    "Its now time to look at top medical conditions."
   ]
  },
  {
   "cell_type": "code",
   "execution_count": 7,
   "metadata": {},
   "outputs": [
    {
     "name": "stdout",
     "output_type": "stream",
     "text": [
      "Total Number of patients: 791\n"
     ]
    },
    {
     "data": {
      "image/png": "[encoded data removed]",
      "text/plain": [
       "<Figure size 720x432 with 1 Axes>"
      ]
     },
     "metadata": {
      "needs_background": "light"
     },
     "output_type": "display_data"
    }
   ],
   "source": [
    "%matplotlib inline\n",
    "import matplotlib.pyplot as plt\n",
    "plt.figure(figsize=[10,6])\n",
    "subject_ids = heart_failures_unq.iloc[:,0]\n",
    "print(\"Total Number of patients: {}\".format(subject_ids.value_counts().count()))\n",
    "condition = heart_failures_unq.iloc[:,1]\n",
    "condition.value_counts()[:20].plot(kind='barh')\n",
    "plt.show()"
   ]
  },
  {
   "cell_type": "markdown",
   "metadata": {},
   "source": [
    "In addition to the top medical conditions, we can also use the apriori algorithm to find out the medical conditions that occur together"
   ]
  },
  {
   "cell_type": "code",
   "execution_count": 8,
   "metadata": {},
   "outputs": [],
   "source": [
    "#get the first 10 medical conditions\n",
    "t = heart_failures_unq.loc[heart_failures_unq.MEDICAL_CONDITION_NAME.\n",
    "                           isin(condition.value_counts().nlargest(10).index)]\n",
    "# Keep only the required columns\n",
    "y = t[['SUBJECT_ID','MEDICAL_CONDITION_NAME']]\n",
    "# create a column called count and set it to 1. Kind of one hot encoding.\n",
    "y['count'] = 1\n",
    "# The work unspecified is removed for result brevity\n",
    "y['MEDICAL_CONDITION_NAME']=y['MEDICAL_CONDITION_NAME'].str.replace(\"unspecified\",\"\")\n",
    "# A bit of magical code to collapse the rows so that there is only one row per patient and \n",
    "# one hot encoded medical conditions\n",
    "b = (y.groupby(['SUBJECT_ID','MEDICAL_CONDITION_NAME']))['count']\\\n",
    ".sum().unstack().reset_index().fillna(0)\n",
    "# We can drop the Subject id.\n",
    "b=b.drop(columns=['SUBJECT_ID'],axis=1)"
   ]
  },
  {
   "cell_type": "code",
   "execution_count": null,
   "metadata": {},
   "outputs": [],
   "source": [
    "!pip install matplotlib\n",
    "!pip install mlxtend"
   ]
  },
  {
   "cell_type": "code",
   "execution_count": 10,
   "metadata": {},
   "outputs": [],
   "source": [
    "from mlxtend.frequent_patterns import apriori\n",
    "from mlxtend.frequent_patterns import association_rules\n",
    "# run the apriori algorithm\n",
    "frequent_itemsets = apriori(b, min_support=0.07, use_colnames=True)\n",
    "# get the length of frequent itemsets\n",
    "frequent_itemsets['length'] = frequent_itemsets['itemsets'].apply(lambda x: len(x))\n",
    "#keep only rows with two items. We do similar code for 3\n",
    "frequent_itemsets_2=frequent_itemsets[ (frequent_itemsets['length'] == 2 )  ]\n",
    "frequent_itemsets_2_sorted=frequent_itemsets_2.sort_values(by=['support'],ascending=False)\n",
    "\n",
    "#Create html file for rows with two items.\n",
    "html = frequent_itemsets_2_sorted.to_html()\n",
    "text_file = open(\"frequent_itemsets_2_sorted.html\", \"w\")\n",
    "text_file.write(html)\n",
    "text_file.close()\n",
    "\n",
    "#Create html file for rows with two items.\n",
    "frequent_itemsets_3=frequent_itemsets[ (frequent_itemsets['length'] == 3 )  ]\n",
    "frequent_itemsets_3_sorted=frequent_itemsets_3.sort_values(by=['support'],ascending=False)\n",
    "html = frequent_itemsets_3_sorted.to_html()\n",
    "text_file = open(\"frequent_itemsets_3_sorted.html\", \"w\")\n",
    "text_file.write(html)\n",
    "text_file.close()"
   ]
  },
  {
   "cell_type": "markdown",
   "metadata": {},
   "source": [
    "Support indicates how frequently the medical conditions occur together. So the first condition occurs for about 23% of the transactions."
   ]
  },
  {
   "cell_type": "code",
   "execution_count": 11,
   "metadata": {},
   "outputs": [
    {
     "name": "stdout",
     "output_type": "stream",
     "text": [
      "     support                                           itemsets  length\n",
      "52  0.228070  (Soft tissue disorder, , Other specified soft ...       2\n",
      "45  0.195175  (Other cardiac sounds, Other abnormal bowel so...       2\n",
      "51  0.177632                   (Wheezing, Other cardiac sounds)       2\n",
      "54  0.153509                 (Soft tissue disorder, , Wheezing)       2\n",
      "48  0.142544            (Wheezing, Other abnormal bowel sounds)       2\n",
      "50  0.140351     (Soft tissue disorder, , Other cardiac sounds)       2\n",
      "15  0.138158           (Cardiac murmur, , Other cardiac sounds)       2\n",
      "17  0.135965         (Cardiac murmur, , Soft tissue disorder, )       2\n",
      "25  0.133772                    (Cough, Soft tissue disorder, )       2\n",
      "38  0.127193                  (Fever, , Soft tissue disorder, )       2\n",
      "53  0.122807  (Wheezing, Other specified soft tissue disorders)       2\n",
      "47  0.122807  (Soft tissue disorder, , Other abnormal bowel ...       2\n",
      "43  0.122807  (Soft tissue disorder, , Hypertensive heart di...       2\n",
      "39  0.122807                                (Fever, , Wheezing)       2\n",
      "33  0.122807                              (Wheezing, Dyspnea, )       2\n",
      "26  0.118421                                  (Cough, Wheezing)       2\n",
      "32  0.114035                (Soft tissue disorder, , Dyspnea, )       2\n",
      "16  0.114035  (Cardiac murmur, , Other specified soft tissue...       2\n",
      "23  0.114035                      (Cough, Other cardiac sounds)       2\n",
      "20  0.111842                                   (Fever, , Cough)       2\n",
      "44  0.109649  (Hypertensive heart disease with heart failure...       2\n",
      "30  0.107456                  (Other cardiac sounds, Dyspnea, )       2\n",
      "14  0.107456    (Cardiac murmur, , Other abnormal bowel sounds)       2\n",
      "18  0.107456                       (Cardiac murmur, , Wheezing)       2\n",
      "36  0.107456                    (Fever, , Other cardiac sounds)       2\n",
      "41  0.105263  (Hypertensive heart disease with heart failure...       2\n",
      "37  0.103070   (Fever, , Other specified soft tissue disorders)       2\n",
      "49  0.098684  (Other specified soft tissue disorders, Other ...       2\n",
      "19  0.098684                                 (Cough, Dyspnea, )       2\n",
      "13  0.096491  (Cardiac murmur, , Hypertensive heart disease ...       2\n",
      "27  0.096491                               (Fever, , Dyspnea, )       2\n",
      "40  0.096491  (Hypertensive heart disease with heart failure...       2\n",
      "24  0.096491     (Cough, Other specified soft tissue disorders)       2\n",
      "29  0.094298           (Other abnormal bowel sounds, Dyspnea, )       2\n",
      "28  0.092105  (Hypertensive heart disease with heart failure...       2\n",
      "10  0.092105                          (Cardiac murmur, , Cough)       2\n",
      "12  0.089912                        (Fever, , Cardiac murmur, )       2\n",
      "11  0.087719                      (Cardiac murmur, , Dyspnea, )       2\n",
      "31  0.087719  (Other specified soft tissue disorders, Dyspne...       2\n",
      "21  0.085526  (Cough, Hypertensive heart disease with heart ...       2\n",
      "34  0.085526  (Fever, , Hypertensive heart disease with hear...       2\n",
      "42  0.083333  (Hypertensive heart disease with heart failure...       2\n",
      "22  0.083333               (Cough, Other abnormal bowel sounds)       2\n",
      "46  0.083333  (Other specified soft tissue disorders, Other ...       2\n",
      "35  0.076754             (Fever, , Other abnormal bowel sounds)       2\n"
     ]
    }
   ],
   "source": [
    "print(frequent_itemsets_2_sorted)"
   ]
  },
  {
   "cell_type": "code",
   "execution_count": 12,
   "metadata": {},
   "outputs": [
    {
     "name": "stdout",
     "output_type": "stream",
     "text": [
      "     support                                           itemsets  length\n",
      "61  0.109649  (Wheezing, Other cardiac sounds, Other abnorma...       3\n",
      "63  0.096491  (Soft tissue disorder, , Wheezing, Other speci...       3\n",
      "55  0.081140  (Cardiac murmur, , Soft tissue disorder, , Oth...       3\n",
      "56  0.081140  (Cough, Soft tissue disorder, , Other specifie...       3\n",
      "60  0.078947  (Soft tissue disorder, , Other cardiac sounds,...       3\n",
      "59  0.076754  (Fever, , Soft tissue disorder, , Other specif...       3\n",
      "58  0.072368  (Soft tissue disorder, , Other specified soft ...       3\n",
      "62  0.072368  (Soft tissue disorder, , Other specified soft ...       3\n",
      "57  0.070175        (Wheezing, Other cardiac sounds, Dyspnea, )       3\n"
     ]
    }
   ],
   "source": [
    "print(frequent_itemsets_3_sorted)"
   ]
  },
  {
   "cell_type": "markdown",
   "metadata": {},
   "source": [
    "The purpose of this notebook was to explain how medical entities can be pa"
   ]
  },
  {
   "cell_type": "markdown",
   "metadata": {},
   "source": [
    "End!"
   ]
  }
 ],
 "metadata": {
  "kernelspec": {
   "display_name": "conda_python3",
   "language": "python",
   "name": "conda_python3"
  },
  "language_info": {
   "codemirror_mode": {
    "name": "ipython",
    "version": 3
   },
   "file_extension": ".py",
   "mimetype": "text/x-python",
   "name": "python",
   "nbconvert_exporter": "python",
   "pygments_lexer": "ipython3",
   "version": "3.6.10"
  }
 },
 "nbformat": 4,
 "nbformat_minor": 4
}
