{
 "cells": [
  {
   "cell_type": "markdown",
   "metadata": {
    "slideshow": {
     "slide_type": "slide"
    }
   },
   "source": [
    "# Interactive Web application with Dash\n",
    "\n",
    "Authors: Prof. med. Thomas Ganslandt <Thomas.Ganslandt@medma.uni-heidelberg.de> <br>\n",
    "and Kim Hee <HeeEun.Kim@medma.uni-heidelberg.de> <br>\n",
    "Heinrich-Lanz-Center for Digital Health (HLZ) of the Medical Faculty Mannheim <br>\n",
    "Heidelberg University\n",
    "\n",
    "This tutorial is prepared for TMF summer school on 03.07.2019"
   ]
  },
  {
   "cell_type": "markdown",
   "metadata": {
    "slideshow": {
     "slide_type": "subslide"
    }
   },
   "source": [
    "### Dash\n",
    "* https://dash.plot.ly/gallery <br>\n",
    "* Dash is a Python framework for creating data-driven web applications <br>\n",
    "* Dash apps are written on top of Flask, Plotly, and React\n",
    " * Flask is a Python web framework\n",
    " * Plotly is specifically a charting library built on top of D3.js\n",
    " * React is a JavaScript library for building user interfaces maintained by Facebook and a community "
   ]
  },
  {
   "cell_type": "markdown",
   "metadata": {
    "slideshow": {
     "slide_type": "subslide"
    }
   },
   "source": [
    "## Case Study 2: Labitems Trend Visualization\n",
    "[Trend analysis](https://en.wikipedia.org/wiki/Trend_analysis) is the widespread practice of collecting information and attempting to spot a pattern. This case study will illustrate a drug reaction of a sepsis patient. This case study tracks the biomarker and prescription history of patient 41976. It visualizes the relation between two key biomarkers of sepsis (White Blood Cells and Neutrophils) and \n",
    "\n",
    "* '41976' patient is choosen for this case study because this patient contains most and interesting records among other sepsis patients '10006', '10013', '10036', '10056', '40601'"
   ]
  },
  {
   "cell_type": "markdown",
   "metadata": {
    "slideshow": {
     "slide_type": "subslide"
    }
   },
   "source": [
    "### Import Python pakages (1/6)"
   ]
  },
  {
   "cell_type": "code",
   "execution_count": 10,
   "metadata": {},
   "outputs": [],
   "source": [
    "# # Dash packages installation\n",
    "# !conda install -c conda-forge dash-renderer -y\n",
    "# !conda install -c conda-forge dash -y\n",
    "# !conda install -c conda-forge dash-html-components -y\n",
    "# !conda install -c conda-forge dash-core-components -y\n",
    "# !conda install -c conda-forge plotly -y"
   ]
  },
  {
   "cell_type": "code",
   "execution_count": 11,
   "metadata": {
    "scrolled": true,
    "slideshow": {
     "slide_type": "fragment"
    }
   },
   "outputs": [],
   "source": [
    "import dash\n",
    "import dash_core_components as dcc\n",
    "import dash_html_components as html\n",
    "import flask\n",
    "from dash.dependencies import Input, Output\n",
    "import plotly.graph_objs as go\n",
    "import numpy as np\n",
    "import pandas as pd\n",
    "pd.set_option('display.max_columns', 999)\n",
    "import pandas.io.sql as psql"
   ]
  },
  {
   "cell_type": "markdown",
   "metadata": {
    "slideshow": {
     "slide_type": "subslide"
    }
   },
   "source": [
    "### Data collection (2/6)\n",
    "* Query `d_labitems` table (Dictionary table for mapping)\n",
    "* Query `labevents` table (History of the labitem order)\n",
    "* Join two tables\n",
    "* Query `prescriptions` table (History of the prscription order)"
   ]
  },
  {
   "cell_type": "code",
   "execution_count": 12,
   "metadata": {},
   "outputs": [
    {
     "data": {
      "text/html": [
       "<div>\n",
       "<style scoped>\n",
       "    .dataframe tbody tr th:only-of-type {\n",
       "        vertical-align: middle;\n",
       "    }\n",
       "\n",
       "    .dataframe tbody tr th {\n",
       "        vertical-align: top;\n",
       "    }\n",
       "\n",
       "    .dataframe thead th {\n",
       "        text-align: right;\n",
       "    }\n",
       "</style>\n",
       "<table border=\"1\" class=\"dataframe\">\n",
       "  <thead>\n",
       "    <tr style=\"text-align: right;\">\n",
       "      <th></th>\n",
       "      <th>itemid</th>\n",
       "      <th>label</th>\n",
       "      <th>fluid</th>\n",
       "      <th>category</th>\n",
       "      <th>loinc_code</th>\n",
       "      <th>subject_id</th>\n",
       "      <th>hadm_id</th>\n",
       "      <th>charttime</th>\n",
       "      <th>value</th>\n",
       "      <th>valuenum</th>\n",
       "      <th>valueuom</th>\n",
       "      <th>flag</th>\n",
       "    </tr>\n",
       "  </thead>\n",
       "  <tbody>\n",
       "    <tr>\n",
       "      <th>0</th>\n",
       "      <td>51463</td>\n",
       "      <td>Bacteria</td>\n",
       "      <td>Urine</td>\n",
       "      <td>Hematology</td>\n",
       "      <td>5769-5</td>\n",
       "      <td>41976</td>\n",
       "      <td>173269.0</td>\n",
       "      <td>2199-01-13 15:50:00</td>\n",
       "      <td>RARE</td>\n",
       "      <td>NaN</td>\n",
       "      <td>NaN</td>\n",
       "      <td>NaN</td>\n",
       "    </tr>\n",
       "    <tr>\n",
       "      <th>1</th>\n",
       "      <td>51463</td>\n",
       "      <td>Bacteria</td>\n",
       "      <td>Urine</td>\n",
       "      <td>Hematology</td>\n",
       "      <td>5769-5</td>\n",
       "      <td>41976</td>\n",
       "      <td>172082.0</td>\n",
       "      <td>2200-03-17 19:30:00</td>\n",
       "      <td>RARE</td>\n",
       "      <td>NaN</td>\n",
       "      <td>NaN</td>\n",
       "      <td>NaN</td>\n",
       "    </tr>\n",
       "    <tr>\n",
       "      <th>2</th>\n",
       "      <td>51463</td>\n",
       "      <td>Bacteria</td>\n",
       "      <td>Urine</td>\n",
       "      <td>Hematology</td>\n",
       "      <td>5769-5</td>\n",
       "      <td>41976</td>\n",
       "      <td>176016.0</td>\n",
       "      <td>2199-01-31 18:46:00</td>\n",
       "      <td>RARE</td>\n",
       "      <td>NaN</td>\n",
       "      <td>NaN</td>\n",
       "      <td>NaN</td>\n",
       "    </tr>\n",
       "    <tr>\n",
       "      <th>3</th>\n",
       "      <td>51463</td>\n",
       "      <td>Bacteria</td>\n",
       "      <td>Urine</td>\n",
       "      <td>Hematology</td>\n",
       "      <td>5769-5</td>\n",
       "      <td>41976</td>\n",
       "      <td>152032.0</td>\n",
       "      <td>2200-06-09 15:20:00</td>\n",
       "      <td>MOD</td>\n",
       "      <td>NaN</td>\n",
       "      <td>NaN</td>\n",
       "      <td>NaN</td>\n",
       "    </tr>\n",
       "    <tr>\n",
       "      <th>4</th>\n",
       "      <td>51463</td>\n",
       "      <td>Bacteria</td>\n",
       "      <td>Urine</td>\n",
       "      <td>Hematology</td>\n",
       "      <td>5769-5</td>\n",
       "      <td>41976</td>\n",
       "      <td>NaN</td>\n",
       "      <td>2198-09-29 12:02:00</td>\n",
       "      <td>FEW</td>\n",
       "      <td>NaN</td>\n",
       "      <td>NaN</td>\n",
       "      <td>NaN</td>\n",
       "    </tr>\n",
       "  </tbody>\n",
       "</table>\n",
       "</div>"
      ],
      "text/plain": [
       "   itemid     label  fluid    category loinc_code  subject_id   hadm_id  \\\n",
       "0   51463  Bacteria  Urine  Hematology     5769-5       41976  173269.0   \n",
       "1   51463  Bacteria  Urine  Hematology     5769-5       41976  172082.0   \n",
       "2   51463  Bacteria  Urine  Hematology     5769-5       41976  176016.0   \n",
       "3   51463  Bacteria  Urine  Hematology     5769-5       41976  152032.0   \n",
       "4   51463  Bacteria  Urine  Hematology     5769-5       41976       NaN   \n",
       "\n",
       "             charttime value  valuenum valueuom flag  \n",
       "0  2199-01-13 15:50:00  RARE       NaN      NaN  NaN  \n",
       "1  2200-03-17 19:30:00  RARE       NaN      NaN  NaN  \n",
       "2  2199-01-31 18:46:00  RARE       NaN      NaN  NaN  \n",
       "3  2200-06-09 15:20:00   MOD       NaN      NaN  NaN  \n",
       "4  2198-09-29 12:02:00   FEW       NaN      NaN  NaN  "
      ]
     },
     "execution_count": 12,
     "metadata": {},
     "output_type": "execute_result"
    }
   ],
   "source": [
    "d_lab = pd.read_csv(\"data/D_LABITEMS.csv\")\n",
    "d_lab.columns = map(str.lower, d_lab.columns)\n",
    "d_lab.drop(columns = ['row_id'], inplace = True)\n",
    "\n",
    "lab = pd.read_csv(\"data/LABEVENTS.csv\")\n",
    "lab.columns = map(str.lower, lab.columns)\n",
    "lab = lab[lab['subject_id'] == 41976]\n",
    "lab.drop(columns = ['row_id'], inplace = True)\n",
    "\n",
    "lab = pd.merge(d_lab, lab, on = 'itemid', how = 'inner')\n",
    "lab.head()"
   ]
  },
  {
   "cell_type": "code",
   "execution_count": 13,
   "metadata": {},
   "outputs": [
    {
     "data": {
      "text/html": [
       "<div>\n",
       "<style scoped>\n",
       "    .dataframe tbody tr th:only-of-type {\n",
       "        vertical-align: middle;\n",
       "    }\n",
       "\n",
       "    .dataframe tbody tr th {\n",
       "        vertical-align: top;\n",
       "    }\n",
       "\n",
       "    .dataframe thead th {\n",
       "        text-align: right;\n",
       "    }\n",
       "</style>\n",
       "<table border=\"1\" class=\"dataframe\">\n",
       "  <thead>\n",
       "    <tr style=\"text-align: right;\">\n",
       "      <th></th>\n",
       "      <th>subject_id</th>\n",
       "      <th>hadm_id</th>\n",
       "      <th>icustay_id</th>\n",
       "      <th>startdate</th>\n",
       "      <th>enddate</th>\n",
       "      <th>drug_type</th>\n",
       "      <th>drug</th>\n",
       "      <th>drug_name_poe</th>\n",
       "      <th>drug_name_generic</th>\n",
       "      <th>formulary_drug_cd</th>\n",
       "      <th>gsn</th>\n",
       "      <th>ndc</th>\n",
       "      <th>prod_strength</th>\n",
       "      <th>dose_val_rx</th>\n",
       "      <th>dose_unit_rx</th>\n",
       "      <th>form_val_disp</th>\n",
       "      <th>form_unit_disp</th>\n",
       "      <th>route</th>\n",
       "    </tr>\n",
       "  </thead>\n",
       "  <tbody>\n",
       "    <tr>\n",
       "      <th>5674</th>\n",
       "      <td>41976</td>\n",
       "      <td>152032</td>\n",
       "      <td>234541.0</td>\n",
       "      <td>2200-06-10 00:00:00</td>\n",
       "      <td>2200-06-11 00:00:00</td>\n",
       "      <td>BASE</td>\n",
       "      <td>0.9% Sodium Chloride</td>\n",
       "      <td>NaN</td>\n",
       "      <td>NaN</td>\n",
       "      <td>NS1000</td>\n",
       "      <td>1210.0</td>\n",
       "      <td>3.380049e+08</td>\n",
       "      <td>1000mL Bag</td>\n",
       "      <td>1000</td>\n",
       "      <td>mL</td>\n",
       "      <td>1</td>\n",
       "      <td>BAG</td>\n",
       "      <td>IV</td>\n",
       "    </tr>\n",
       "    <tr>\n",
       "      <th>5675</th>\n",
       "      <td>41976</td>\n",
       "      <td>152032</td>\n",
       "      <td>234541.0</td>\n",
       "      <td>2200-06-10 00:00:00</td>\n",
       "      <td>2200-06-11 00:00:00</td>\n",
       "      <td>BASE</td>\n",
       "      <td>SW</td>\n",
       "      <td>NaN</td>\n",
       "      <td>NaN</td>\n",
       "      <td>SW50</td>\n",
       "      <td>NaN</td>\n",
       "      <td>0.000000e+00</td>\n",
       "      <td>50 mL Bag</td>\n",
       "      <td>100</td>\n",
       "      <td>mL</td>\n",
       "      <td>2</td>\n",
       "      <td>BAG</td>\n",
       "      <td>IV</td>\n",
       "    </tr>\n",
       "    <tr>\n",
       "      <th>5676</th>\n",
       "      <td>41976</td>\n",
       "      <td>152032</td>\n",
       "      <td>234541.0</td>\n",
       "      <td>2200-06-10 00:00:00</td>\n",
       "      <td>2200-06-11 00:00:00</td>\n",
       "      <td>MAIN</td>\n",
       "      <td>Magnesium Sulfate</td>\n",
       "      <td>NaN</td>\n",
       "      <td>NaN</td>\n",
       "      <td>MAG2PM</td>\n",
       "      <td>16546.0</td>\n",
       "      <td>4.096729e+08</td>\n",
       "      <td>2 g / 50 mL Premix Bag</td>\n",
       "      <td>4</td>\n",
       "      <td>gm</td>\n",
       "      <td>2</td>\n",
       "      <td>BAG</td>\n",
       "      <td>IV</td>\n",
       "    </tr>\n",
       "    <tr>\n",
       "      <th>5677</th>\n",
       "      <td>41976</td>\n",
       "      <td>152032</td>\n",
       "      <td>234541.0</td>\n",
       "      <td>2200-06-10 00:00:00</td>\n",
       "      <td>2200-06-11 00:00:00</td>\n",
       "      <td>MAIN</td>\n",
       "      <td>Potassium Chloride</td>\n",
       "      <td>Potassium Chloride</td>\n",
       "      <td>Potassium Chloride</td>\n",
       "      <td>POTA20</td>\n",
       "      <td>22346.0</td>\n",
       "      <td>5.817702e+10</td>\n",
       "      <td>20 mEq SR Tablet</td>\n",
       "      <td>40</td>\n",
       "      <td>mEq</td>\n",
       "      <td>2</td>\n",
       "      <td>TAB</td>\n",
       "      <td>PO</td>\n",
       "    </tr>\n",
       "    <tr>\n",
       "      <th>5678</th>\n",
       "      <td>41976</td>\n",
       "      <td>152032</td>\n",
       "      <td>234541.0</td>\n",
       "      <td>2200-06-10 00:00:00</td>\n",
       "      <td>2200-06-11 00:00:00</td>\n",
       "      <td>MAIN</td>\n",
       "      <td>Potassium Chloride</td>\n",
       "      <td>Potassium Chloride</td>\n",
       "      <td>Potassium Chloride (Powder)</td>\n",
       "      <td>KCL20P</td>\n",
       "      <td>1262.0</td>\n",
       "      <td>4.560663e+08</td>\n",
       "      <td>20mEq Packet</td>\n",
       "      <td>40</td>\n",
       "      <td>mEq</td>\n",
       "      <td>2</td>\n",
       "      <td>PKT</td>\n",
       "      <td>PO</td>\n",
       "    </tr>\n",
       "  </tbody>\n",
       "</table>\n",
       "</div>"
      ],
      "text/plain": [
       "      subject_id  hadm_id  icustay_id            startdate  \\\n",
       "5674       41976   152032    234541.0  2200-06-10 00:00:00   \n",
       "5675       41976   152032    234541.0  2200-06-10 00:00:00   \n",
       "5676       41976   152032    234541.0  2200-06-10 00:00:00   \n",
       "5677       41976   152032    234541.0  2200-06-10 00:00:00   \n",
       "5678       41976   152032    234541.0  2200-06-10 00:00:00   \n",
       "\n",
       "                  enddate drug_type                  drug       drug_name_poe  \\\n",
       "5674  2200-06-11 00:00:00      BASE  0.9% Sodium Chloride                 NaN   \n",
       "5675  2200-06-11 00:00:00      BASE                    SW                 NaN   \n",
       "5676  2200-06-11 00:00:00      MAIN     Magnesium Sulfate                 NaN   \n",
       "5677  2200-06-11 00:00:00      MAIN    Potassium Chloride  Potassium Chloride   \n",
       "5678  2200-06-11 00:00:00      MAIN    Potassium Chloride  Potassium Chloride   \n",
       "\n",
       "                drug_name_generic formulary_drug_cd      gsn           ndc  \\\n",
       "5674                          NaN            NS1000   1210.0  3.380049e+08   \n",
       "5675                          NaN              SW50      NaN  0.000000e+00   \n",
       "5676                          NaN            MAG2PM  16546.0  4.096729e+08   \n",
       "5677           Potassium Chloride            POTA20  22346.0  5.817702e+10   \n",
       "5678  Potassium Chloride (Powder)            KCL20P   1262.0  4.560663e+08   \n",
       "\n",
       "               prod_strength dose_val_rx dose_unit_rx form_val_disp  \\\n",
       "5674              1000mL Bag        1000           mL             1   \n",
       "5675               50 mL Bag         100           mL             2   \n",
       "5676  2 g / 50 mL Premix Bag           4           gm             2   \n",
       "5677        20 mEq SR Tablet          40          mEq             2   \n",
       "5678            20mEq Packet          40          mEq             2   \n",
       "\n",
       "     form_unit_disp route  \n",
       "5674            BAG    IV  \n",
       "5675            BAG    IV  \n",
       "5676            BAG    IV  \n",
       "5677            TAB    PO  \n",
       "5678            PKT    PO  "
      ]
     },
     "execution_count": 13,
     "metadata": {},
     "output_type": "execute_result"
    }
   ],
   "source": [
    "presc = pd.read_csv(\"data/PRESCRIPTIONS.csv\")\n",
    "presc.columns = map(str.lower, presc.columns)\n",
    "presc = presc[presc['subject_id'] == 41976]\n",
    "presc.drop(columns = ['row_id'], inplace = True)\n",
    "presc.head()"
   ]
  },
  {
   "cell_type": "markdown",
   "metadata": {
    "slideshow": {
     "slide_type": "subslide"
    }
   },
   "source": [
    "###  Data preparation for labevents table (3/6)\n",
    "* Convert data type to datetime and extract only year value "
   ]
  },
  {
   "cell_type": "code",
   "execution_count": 14,
   "metadata": {
    "slideshow": {
     "slide_type": "fragment"
    }
   },
   "outputs": [
    {
     "data": {
      "text/html": [
       "<div>\n",
       "<style scoped>\n",
       "    .dataframe tbody tr th:only-of-type {\n",
       "        vertical-align: middle;\n",
       "    }\n",
       "\n",
       "    .dataframe tbody tr th {\n",
       "        vertical-align: top;\n",
       "    }\n",
       "\n",
       "    .dataframe thead th {\n",
       "        text-align: right;\n",
       "    }\n",
       "</style>\n",
       "<table border=\"1\" class=\"dataframe\">\n",
       "  <thead>\n",
       "    <tr style=\"text-align: right;\">\n",
       "      <th></th>\n",
       "      <th>itemid</th>\n",
       "      <th>label</th>\n",
       "      <th>fluid</th>\n",
       "      <th>category</th>\n",
       "      <th>loinc_code</th>\n",
       "      <th>subject_id</th>\n",
       "      <th>hadm_id</th>\n",
       "      <th>value</th>\n",
       "      <th>valuenum</th>\n",
       "      <th>valueuom</th>\n",
       "      <th>flag</th>\n",
       "    </tr>\n",
       "    <tr>\n",
       "      <th>charttime</th>\n",
       "      <th></th>\n",
       "      <th></th>\n",
       "      <th></th>\n",
       "      <th></th>\n",
       "      <th></th>\n",
       "      <th></th>\n",
       "      <th></th>\n",
       "      <th></th>\n",
       "      <th></th>\n",
       "      <th></th>\n",
       "      <th></th>\n",
       "    </tr>\n",
       "  </thead>\n",
       "  <tbody>\n",
       "    <tr>\n",
       "      <th>2198-09-29 07:50:00</th>\n",
       "      <td>51237</td>\n",
       "      <td>INR(PT)</td>\n",
       "      <td>Blood</td>\n",
       "      <td>Hematology</td>\n",
       "      <td>5895-7</td>\n",
       "      <td>41976</td>\n",
       "      <td>NaN</td>\n",
       "      <td>3.6</td>\n",
       "      <td>3.6</td>\n",
       "      <td>NaN</td>\n",
       "      <td>abnormal</td>\n",
       "    </tr>\n",
       "  </tbody>\n",
       "</table>\n",
       "</div>"
      ],
      "text/plain": [
       "                     itemid    label  fluid    category loinc_code  \\\n",
       "charttime                                                            \n",
       "2198-09-29 07:50:00   51237  INR(PT)  Blood  Hematology     5895-7   \n",
       "\n",
       "                     subject_id  hadm_id value  valuenum valueuom      flag  \n",
       "charttime                                                                    \n",
       "2198-09-29 07:50:00       41976      NaN   3.6       3.6      NaN  abnormal  "
      ]
     },
     "execution_count": 14,
     "metadata": {},
     "output_type": "execute_result"
    }
   ],
   "source": [
    "lab['charttime'] = pd.to_datetime(lab['charttime'], errors = 'coerce')\n",
    "lab.sort_values(by='charttime', inplace=True)\n",
    "lab.set_index('charttime', inplace = True)\n",
    "lab.head(1)"
   ]
  },
  {
   "cell_type": "markdown",
   "metadata": {
    "slideshow": {
     "slide_type": "subslide"
    }
   },
   "source": [
    "###  Data preparation for prescriptions table (4/6)\n",
    "* Filter conditions:\n",
    " * unit: 'mg'\n",
    " * antibiotics medicines: ('Vancomycin','Meropenem','Levofloxacin')\n",
    "* Contruct a normalized dose column\n",
    "* Convert data type to datetime and extract only year value "
   ]
  },
  {
   "cell_type": "code",
   "execution_count": 15,
   "metadata": {
    "slideshow": {
     "slide_type": "fragment"
    }
   },
   "outputs": [
    {
     "name": "stderr",
     "output_type": "stream",
     "text": [
      "C:\\Users\\hk17\\AppData\\Local\\Continuum\\anaconda3\\envs\\dataviz\\lib\\site-packages\\ipykernel_launcher.py:8: SettingWithCopyWarning:\n",
      "\n",
      "\n",
      "A value is trying to be set on a copy of a slice from a DataFrame.\n",
      "Try using .loc[row_indexer,col_indexer] = value instead\n",
      "\n",
      "See the caveats in the documentation: http://pandas.pydata.org/pandas-docs/stable/indexing.html#indexing-view-versus-copy\n",
      "\n"
     ]
    },
    {
     "data": {
      "text/html": [
       "<div>\n",
       "<style scoped>\n",
       "    .dataframe tbody tr th:only-of-type {\n",
       "        vertical-align: middle;\n",
       "    }\n",
       "\n",
       "    .dataframe tbody tr th {\n",
       "        vertical-align: top;\n",
       "    }\n",
       "\n",
       "    .dataframe thead th {\n",
       "        text-align: right;\n",
       "    }\n",
       "</style>\n",
       "<table border=\"1\" class=\"dataframe\">\n",
       "  <thead>\n",
       "    <tr style=\"text-align: right;\">\n",
       "      <th></th>\n",
       "      <th>subject_id</th>\n",
       "      <th>hadm_id</th>\n",
       "      <th>icustay_id</th>\n",
       "      <th>enddate</th>\n",
       "      <th>drug_type</th>\n",
       "      <th>drug</th>\n",
       "      <th>drug_name_poe</th>\n",
       "      <th>drug_name_generic</th>\n",
       "      <th>formulary_drug_cd</th>\n",
       "      <th>gsn</th>\n",
       "      <th>ndc</th>\n",
       "      <th>prod_strength</th>\n",
       "      <th>dose_val_rx</th>\n",
       "      <th>dose_unit_rx</th>\n",
       "      <th>form_val_disp</th>\n",
       "      <th>form_unit_disp</th>\n",
       "      <th>route</th>\n",
       "      <th>norm_size</th>\n",
       "    </tr>\n",
       "    <tr>\n",
       "      <th>startdate</th>\n",
       "      <th></th>\n",
       "      <th></th>\n",
       "      <th></th>\n",
       "      <th></th>\n",
       "      <th></th>\n",
       "      <th></th>\n",
       "      <th></th>\n",
       "      <th></th>\n",
       "      <th></th>\n",
       "      <th></th>\n",
       "      <th></th>\n",
       "      <th></th>\n",
       "      <th></th>\n",
       "      <th></th>\n",
       "      <th></th>\n",
       "      <th></th>\n",
       "      <th></th>\n",
       "      <th></th>\n",
       "    </tr>\n",
       "  </thead>\n",
       "  <tbody>\n",
       "    <tr>\n",
       "      <th>2198-10-29</th>\n",
       "      <td>41976</td>\n",
       "      <td>125449</td>\n",
       "      <td>285272.0</td>\n",
       "      <td>2198-11-01 00:00:00</td>\n",
       "      <td>MAIN</td>\n",
       "      <td>Vancomycin</td>\n",
       "      <td>NaN</td>\n",
       "      <td>NaN</td>\n",
       "      <td>VANC1F</td>\n",
       "      <td>43952.0</td>\n",
       "      <td>338355248.0</td>\n",
       "      <td>1g Frozen Bag</td>\n",
       "      <td>1000.0</td>\n",
       "      <td>mg</td>\n",
       "      <td>1</td>\n",
       "      <td>BAG</td>\n",
       "      <td>IV</td>\n",
       "      <td>1.0</td>\n",
       "    </tr>\n",
       "  </tbody>\n",
       "</table>\n",
       "</div>"
      ],
      "text/plain": [
       "            subject_id  hadm_id  icustay_id              enddate drug_type  \\\n",
       "startdate                                                                    \n",
       "2198-10-29       41976   125449    285272.0  2198-11-01 00:00:00      MAIN   \n",
       "\n",
       "                  drug drug_name_poe drug_name_generic formulary_drug_cd  \\\n",
       "startdate                                                                  \n",
       "2198-10-29  Vancomycin           NaN               NaN            VANC1F   \n",
       "\n",
       "                gsn          ndc  prod_strength  dose_val_rx dose_unit_rx  \\\n",
       "startdate                                                                   \n",
       "2198-10-29  43952.0  338355248.0  1g Frozen Bag       1000.0           mg   \n",
       "\n",
       "           form_val_disp form_unit_disp route  norm_size  \n",
       "startdate                                                 \n",
       "2198-10-29             1            BAG    IV        1.0  "
      ]
     },
     "execution_count": 15,
     "metadata": {},
     "output_type": "execute_result"
    }
   ],
   "source": [
    "presc['dose_val_rx'] = pd.to_numeric(presc['dose_val_rx'], errors = 'coerce')\n",
    "presc = presc[presc['dose_unit_rx']=='mg']\n",
    "presc = presc[presc['drug'].isin(['Vancomycin','Meropenem','Levofloxacin'])]\n",
    "\n",
    "temp_df = pd.DataFrame()\n",
    "for item in presc.drug.unique():\n",
    "    temp = presc[presc['drug'].str.contains(item)]\n",
    "    temp['norm_size'] = temp['dose_val_rx'] / temp['dose_val_rx'].max()\n",
    "    temp_df = temp_df.append(temp)\n",
    "presc = pd.merge(presc, temp_df, on=list(presc.columns))\n",
    "\n",
    "presc['startdate'] = pd.to_datetime(presc['startdate'], errors = 'coerce')\n",
    "presc.sort_values(by='startdate', inplace=True)\n",
    "presc.set_index('startdate', inplace = True)\n",
    "presc.head(1)"
   ]
  },
  {
   "cell_type": "markdown",
   "metadata": {
    "slideshow": {
     "slide_type": "subslide"
    }
   },
   "source": [
    "###  Create a structure and presentation of your web with HTML and CSS (5/6)"
   ]
  },
  {
   "cell_type": "code",
   "execution_count": 16,
   "metadata": {
    "scrolled": true,
    "slideshow": {
     "slide_type": "fragment"
    }
   },
   "outputs": [],
   "source": [
    "list_patient = ['41976']\n",
    "list_biomarker = ['White Blood Cells', 'Neutrophils']\n",
    "list_drug = ['Vancomycin','Meropenem','Levofloxacin']\n",
    "\n",
    "# stylesheets = ['./resources/bWLwgP.css']\n",
    "app = dash.Dash()\n",
    "\n",
    "app.layout = html.Div([\n",
    "\n",
    "    dcc.Dropdown(\n",
    "        id = 'patient',\n",
    "        value = '41976',\n",
    "        multi = False,\n",
    "        options = [{'label': i, 'value': i} for i in list_patient],\n",
    "    ),\n",
    "    dcc.Dropdown(\n",
    "        id = 'biomarker',\n",
    "        value = 'White Blood Cells',\n",
    "        multi = False,\n",
    "        options = [{'label': i, 'value': i} for i in list_biomarker],\n",
    "    ),\n",
    "    dcc.Dropdown(\n",
    "        id = 'drug',\n",
    "        value = ['Vancomycin'],\n",
    "        multi = True,\n",
    "        options = [{'label': i, 'value': i} for i in list_drug],\n",
    "    ),\n",
    "    dcc.Graph(id = 'graph'),\n",
    "])"
   ]
  },
  {
   "cell_type": "markdown",
   "metadata": {
    "slideshow": {
     "slide_type": "subslide"
    }
   },
   "source": [
    "###  Define the reactive behavior with Python (6/6)"
   ]
  },
  {
   "cell_type": "code",
   "execution_count": 17,
   "metadata": {
    "scrolled": false,
    "slideshow": {
     "slide_type": "fragment"
    }
   },
   "outputs": [],
   "source": [
    "@app.callback(Output('graph', 'figure'), \n",
    "              [Input('patient', 'value'),\n",
    "               Input('biomarker', 'value'),\n",
    "               Input('drug', 'value')])\n",
    "def update_graph(patient, biomarker, drug):\n",
    "    traces = []\n",
    "    temp_l = lab[lab['subject_id'].astype(str) == patient]\n",
    "    temp_p = presc[presc['subject_id'].astype(str) == patient]\n",
    "    temp_min = 0\n",
    "    \n",
    "    item = biomarker\n",
    "    temp = temp_l[temp_l['label'] == item]\n",
    "    temp_min = float(temp.value.astype(float).min())\n",
    "    trace = go.Scatter(\n",
    "                x = temp.index,\n",
    "                y = temp.value,\n",
    "                name = item,\n",
    "                mode = 'lines+markers',\n",
    "            )\n",
    "    traces.append(trace)\n",
    "        \n",
    "    for i, item in enumerate(drug):\n",
    "        temp = temp_p[ temp_p['drug'] == item]\n",
    "        trace = go.Scatter(\n",
    "                    x = temp.index,\n",
    "                    y = np.ones((1, len(temp)))[0] * temp_min - i - 1,\n",
    "                    name = item,\n",
    "                    mode = 'markers',\n",
    "                    marker = {\n",
    "                        'size': temp.norm_size * 10\n",
    "                    }\n",
    "                )\n",
    "        traces.append(trace)\n",
    "    \n",
    "    layout = go.Layout(\n",
    "        legend = {'x': 0.5, 'y': -0.1, 'orientation': 'h', 'xanchor': 'center'},\n",
    "        margin = {'l': 300, 'b': 10, 't': 10, 'r': 300},\n",
    "        hovermode = 'closest',\n",
    "    )\n",
    "    return {'data': traces, 'layout': layout}"
   ]
  },
  {
   "cell_type": "code",
   "execution_count": null,
   "metadata": {},
   "outputs": [],
   "source": [
    "app.run_server(port = 8050)"
   ]
  },
  {
   "cell_type": "markdown",
   "metadata": {
    "slideshow": {
     "slide_type": "slide"
    }
   },
   "source": [
    "## Takeaway\n",
    "* Python is the first class citizenship in the data science world\n",
    " * It is a power tool to analyze and visualize data\n",
    " * It can also develop a data-driven web application\n",
    "\n",
    "* Docker decouples the application from the infrastructure\n",
    " * It enables you to deliver your solution quickly"
   ]
  },
  {
   "cell_type": "markdown",
   "metadata": {
    "slideshow": {
     "slide_type": "slide"
    }
   },
   "source": [
    "## External Resources (1/2)\n",
    "* Docker\n",
    " * https://docs.docker.com/get-started/\n",
    "* Introductory course of Python as a data analysis tool\n",
    " * Getting and Cleaning Data (Johns Hopkins University)\n",
    " * https://www.coursera.org/learn/data-cleaning#\n",
    "* Introductory course of Data Science \n",
    " * Foundations of Data Science — Spring 2016 (Berkeley University) \n",
    " * https://data-8.appspot.com/sp16/"
   ]
  },
  {
   "cell_type": "markdown",
   "metadata": {
    "slideshow": {
     "slide_type": "subslide"
    }
   },
   "source": [
    "## External Resources (2/2)\n",
    "* Kaggle: the largest and most diverse data community in the world\n",
    " * Competitions and take an advantage of using “Kernels”\n",
    " * www.kaggle.com/competitions\n",
    " * Example kernels:\n",
    "   * Can you improve lung cancer detection? (https://goo.gl/MV01o3)\n",
    "   * Transforming How We Diagnose Heart Disease (https://goo.gl/b9Rta1)\n",
    "   * Predict West Nile virus in mosquitos across the city of Chicago (https://goo.gl/VdVKtF)\n",
    "   * and more\n",
    "* Visualization examples\n",
    " * Matplotlib (https://matplotlib.org/gallery/index.html)\n",
    " * Plotly (https://plot.ly/python/)\n",
    "\n"
   ]
  },
  {
   "cell_type": "markdown",
   "metadata": {
    "slideshow": {
     "slide_type": "slide"
    }
   },
   "source": [
    "# Question?\n",
    "Authors: Prof. med. Thomas Ganslandt <Thomas.Ganslandt@medma.uni-heidelberg.de> <br>\n",
    "and Kim Hee <HeeEun.Kim@medma.uni-heidelberg.de> <br>\n",
    "\n",
    "Heinrich-Lanz-Center for Digital Health (HLZ) of the Medical Faculty Mannheim <br>\n",
    "Heidelberg University\n",
    "\n",
    "This is a part of a tutorial prepared for TMF summer school on 03.07.2019"
   ]
  }
 ],
 "metadata": {
  "celltoolbar": "Slideshow",
  "kernelspec": {
   "display_name": "Python 3",
   "language": "python",
   "name": "python3"
  },
  "language_info": {
   "codemirror_mode": {
    "name": "ipython",
    "version": 3
   },
   "file_extension": ".py",
   "mimetype": "text/x-python",
   "name": "python",
   "nbconvert_exporter": "python",
   "pygments_lexer": "ipython3",
   "version": "3.7.3"
  },
  "nbTranslate": {
   "displayLangs": [
    "*"
   ],
   "hotkey": "alt-t",
   "langInMainMenu": true,
   "sourceLang": "en",
   "targetLang": "fr",
   "useGoogleTranslate": true
  },
  "toc": {
   "base_numbering": 1,
   "nav_menu": {},
   "number_sections": true,
   "sideBar": true,
   "skip_h1_title": false,
   "title_cell": "Table of Contents",
   "title_sidebar": "Contents",
   "toc_cell": false,
   "toc_position": {},
   "toc_section_display": true,
   "toc_window_display": false
  },
  "widgets": {
   "application/vnd.jupyter.widget-state+json": {
    "state": {},
    "version_major": 2,
    "version_minor": 0
   }
  }
 },
 "nbformat": 4,
 "nbformat_minor": 2
}
