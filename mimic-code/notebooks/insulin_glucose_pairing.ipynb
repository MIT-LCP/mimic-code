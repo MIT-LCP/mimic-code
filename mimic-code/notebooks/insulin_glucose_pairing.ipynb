{
  "nbformat": 4,
  "nbformat_minor": 0,
  "metadata": {
    "colab": {
      "name": "insulin_glucose_pairing.ipynb",
      "version": "0.3.2",
      "provenance": [],
      "collapsed_sections": [],
      "include_colab_link": true
    },
    "kernelspec": {
      "name": "python3",
      "display_name": "Python 3"
    }
  },
  "cells": [
    {
      "cell_type": "markdown",
      "metadata": {
        "id": "view-in-github",
        "colab_type": "text"
      },
      "source": [
        "<a href=\"https://colab.research.google.com/github/aldo-arevalo/mimic-code/blob/google-cloud-views/mimic-code/notebooks/insulin_glucose_pairing.ipynb\" target=\"_parent\"><img src=\"https://colab.research.google.com/assets/colab-badge.svg\" alt=\"Open In Colab\"/></a>"
      ]
    },
    {
      "cell_type": "markdown",
      "metadata": {
        "id": "EuNknjcF82Wl",
        "colab_type": "text"
      },
      "source": [
        "# Identification of Critically-ill Patients Under Insulin Therapy for Glucose Control\n",
        "## Interactive notebook\n",
        "\n",
        "Authors: [Aldo Robles Arévalo](mailto:aldo.arevalo@tecnico.ulisboa.pt); Lawrence Baker; Francis DeMichele; Susana M. da Silva Vieira; João M. da Costa Sousa; Stan Finkelstein; Roselyn Cristelle, Leo Celi\n",
        "\n",
        "## Overview\n",
        "\n",
        "This notebook contains the curation and pre-processing process to extract glucose readings and insulin inputs from  the Medical Information Mart for Intensive Care (MIMIC).\n",
        "\n",
        "## Code\n",
        "\n",
        "### Import dependencies and libraries"
      ]
    },
    {
      "cell_type": "code",
      "metadata": {
        "id": "cXSD1PBS86Nt",
        "colab_type": "code",
        "colab": {
          "base_uri": "https://localhost:8080/",
          "height": 34
        },
        "outputId": "41f13772-f7cc-48cb-d5e9-2afbbede21bd"
      },
      "source": [
        "import pandas as pd\n",
        "import numpy as np\n",
        "import matplotlib.pyplot as plt\n",
        "import seaborn as sns\n",
        "from sklearn.metrics import mean_squared_error,r2_score\n",
        "import matplotlib.colors as colors\n",
        "\n",
        "# Below imports are used to print out pretty pandas dataframes\n",
        "from IPython.display import display, HTML, Math, Latex\n",
        "\n",
        "# Imports for accessing data using Google BigQuery.\n",
        "from google.cloud import bigquery\n",
        "from google.colab import auth\n",
        "auth.authenticate_user()\n",
        "print('Authenticated')\n",
        "\n",
        "%load_ext google.colab.data_table\n",
        "\n",
        "# To download dataframes\n",
        "from google.colab import files\n",
        "\n",
        "# Imports to ignore warnings to improve notebook visualization\n",
        "import warnings\n",
        "\n",
        "def q(query,projectid):\n",
        "    client = bigquery.Client(location=\"US\",project=projectid)\n",
        "    # Location must match that of the dataset(s) referenced in the query.\n",
        "    query_job = client.query(query,\n",
        "    location=\"US\",)  # API re\n",
        "    return query_job.to_dataframe()"
      ],
      "execution_count": 1,
      "outputs": [
        {
          "output_type": "stream",
          "text": [
            "Authenticated\n"
          ],
          "name": "stdout"
        }
      ]
    },
    {
      "cell_type": "markdown",
      "metadata": {
        "id": "2la1ZvdrvvnK",
        "colab_type": "text"
      },
      "source": [
        "### Verify client name\n",
        "\n",
        "The project id would depend on your credentials.\n",
        "\n",
        "Verify the location of server hosting the database."
      ]
    },
    {
      "cell_type": "code",
      "metadata": {
        "id": "I_fh5r9Xwuuh",
        "colab_type": "code",
        "outputId": "b1de2f63-438c-40e8-e1f0-e1d1b08c43ec",
        "colab": {
          "base_uri": "https://localhost:8080/",
          "height": 34
        }
      },
      "source": [
        "client = bigquery.Client(location=\"US\",project = \"fluent-empire-241300\")\n",
        "print(\"Client creating using default project: {}\".format(client.project))"
      ],
      "execution_count": 2,
      "outputs": [
        {
          "output_type": "stream",
          "text": [
            "Client creating using default project: fluent-empire-241300\n"
          ],
          "name": "stdout"
        }
      ]
    },
    {
      "cell_type": "markdown",
      "metadata": {
        "id": "X8Q3D8-uxBki",
        "colab_type": "text"
      },
      "source": [
        "## Extraction of insulin events\n",
        "\n",
        "The following item id's are extracted\n",
        "\n",
        "| Item id | Insulin type |\n",
        "|---------|:------------:|\n",
        "| 223257  |'Intermediate'|\n",
        "| 223258  |   'Short'    |\n",
        "| 223259  |'Intermediate'|\n",
        "| 223260  |   'Long'     |\n",
        "| 223261  |'Intermediate'|\n",
        "| 223262  |   'Short'    |"
      ]
    },
    {
      "cell_type": "code",
      "metadata": {
        "id": "9VCu-vifxGXm",
        "colab_type": "code",
        "outputId": "c0ee14b9-f8b1-4a4c-ec4c-f1c71eaed47a",
        "colab": {
          "base_uri": "https://localhost:8080/",
          "height": 0
        }
      },
      "source": [
        "# Import Insulin input raw\n",
        "projectid = \"milan-datathon\"\n",
        "query = \"\"\"\n",
        "    SELECT atr.SUBJECT_ID, atr.HADM_ID, atr.ICUSTAY_ID\n",
        "        , CAST(atr.starttime AS TIMESTAMP) AS STARTTIME\n",
        "        , CAST(atr.endtime AS TIMESTAMP) AS ENDTIME\n",
        "        , atr.AMOUNT, atr.RATE, atr.ORIGINALRATE, atr.ITEMID\n",
        "        , atr.ORDERCATEGORYNAME\n",
        "        , (CASE\n",
        "            WHEN itemid=223257 THEN 'Intermediate' --'Ins7030'\n",
        "            WHEN itemid=223258 THEN 'Short'        --'InsRegular'\n",
        "            WHEN itemid=223259 THEN 'Intermediate' --'InsNPH'\n",
        "            WHEN itemid=223260 THEN 'Long'         --'InsGlargine'\n",
        "            WHEN itemid=223261 THEN 'Intermediate' --'InsHum7525'\n",
        "            WHEN itemid=223262 THEN 'Short'        --'InsHum'\n",
        "            ELSE null END) AS InsulinType\n",
        "        , (CASE\n",
        "            WHEN UPPER(ORDERCATEGORYNAME) LIKE '%NON IV%' THEN 'BOLUS_INYECTION'\n",
        "            WHEN UPPER(ORDERCATEGORYNAME) LIKE '%MED BOLUS%' THEN 'BOLUS_PUSH'\n",
        "            WHEN ORDERCATEGORYNAME IN ('01-Drips','12-Parenteral Nutrition') THEN 'INFUSION'\n",
        "            ELSE null END) AS InsulinAdmin\n",
        "        , (CASE WHEN STATUSDESCRIPTION IN ('Paused','Stopped') THEN 1 ELSE NULL END) AS INFXSTOP\n",
        "        , CAST(atr.STORETIME AS TIMESTAMP) AS STORETIME\n",
        "    FROM `physionet-data.mimiciii_clinical.inputevents_mv` atr\t\t\t\t\t\t\t\t\n",
        "    WHERE itemid IN (223257 -- [Ins7030]     - Insulin 70/30 \n",
        "                    , 223258 -- [InsRegular]  - Insulin Regular\n",
        "                    , 223259 -- [InsNPH]      - Insulin NPH\n",
        "                    , 223260 -- [InsGlargine] - Insulin Glargine\n",
        "                    , 223261 -- [nsHum7525]   - Insulin Humalog 75/25\n",
        "                    , 223262) -- [InsHum]      - Insulin Humalog\n",
        "    AND atr.statusdescription != 'Rewritten' --Exclude invalid measures that were rewritten\n",
        "    GROUP BY atr.subject_id, atr.hadm_id, atr.icustay_id, atr.starttime\n",
        "    , atr.endtime, atr.STORETIME, atr.ITEMID, atr.ordercategoryname\n",
        "    , atr.statusdescription, atr.amount, atr.rate, atr.ORIGINALRATE\n",
        "    ORDER BY atr.icustay_id, atr.subject_id, atr.hadm_id, atr.starttime\n",
        "    \"\"\" \n",
        "\n",
        "insulin_mv = q(query,projectid)\n",
        "\n",
        "display(insulin_mv.head())"
      ],
      "execution_count": 3,
      "outputs": [
        {
          "output_type": "display_data",
          "data": {
            "application/vnd.google.colaboratory.module+javascript": "\n      import \"https://ssl.gstatic.com/colaboratory/data_table/a036b366c3cace79/data_table.js\";\n\n      window.createDataTable({\n        data: [[{\n            'v': 0,\n            'f': \"0\",\n        },\n{\n            'v': 963,\n            'f': \"963\",\n        },\n{\n            'v': 190225,\n            'f': \"190225\",\n        },\n{\n            'v': NaN,\n            'f': \"NaN\",\n        },\n\"2204-10-26 12:29:00+00:00\",\n\"2204-10-26 12:30:00+00:00\",\n{\n            'v': 2.0,\n            'f': \"2.0\",\n        },\n{\n            'v': NaN,\n            'f': \"NaN\",\n        },\n{\n            'v': 2.0,\n            'f': \"2.0\",\n        },\n{\n            'v': 223258,\n            'f': \"223258\",\n        },\n\"05-Med Bolus\",\n\"Short\",\n\"BOLUS_PUSH\",\n{\n            'v': NaN,\n            'f': \"NaN\",\n        },\n\"2204-10-26 12:29:00+00:00\"],\n [{\n            'v': 1,\n            'f': \"1\",\n        },\n{\n            'v': 963,\n            'f': \"963\",\n        },\n{\n            'v': 190225,\n            'f': \"190225\",\n        },\n{\n            'v': NaN,\n            'f': \"NaN\",\n        },\n\"2204-10-26 12:29:00+00:00\",\n\"2204-10-26 13:54:00+00:00\",\n{\n            'v': 2.833333475,\n            'f': \"2.833333475\",\n        },\n{\n            'v': 2.0000001,\n            'f': \"2.0000001\",\n        },\n{\n            'v': 2.0,\n            'f': \"2.0\",\n        },\n{\n            'v': 223258,\n            'f': \"223258\",\n        },\n\"01-Drips\",\n\"Short\",\n\"INFUSION\",\n{\n            'v': NaN,\n            'f': \"NaN\",\n        },\n\"2204-10-26 12:29:00+00:00\"],\n [{\n            'v': 2,\n            'f': \"2\",\n        },\n{\n            'v': 963,\n            'f': \"963\",\n        },\n{\n            'v': 190225,\n            'f': \"190225\",\n        },\n{\n            'v': NaN,\n            'f': \"NaN\",\n        },\n\"2204-10-26 13:54:00+00:00\",\n\"2204-10-26 16:08:00+00:00\",\n{\n            'v': 6.701149184,\n            'f': \"6.701149184\",\n        },\n{\n            'v': 3.00051456,\n            'f': \"3.00051456\",\n        },\n{\n            'v': 3.0,\n            'f': \"3.0\",\n        },\n{\n            'v': 223258,\n            'f': \"223258\",\n        },\n\"01-Drips\",\n\"Short\",\n\"INFUSION\",\n{\n            'v': NaN,\n            'f': \"NaN\",\n        },\n\"2204-10-26 13:54:00+00:00\"],\n [{\n            'v': 3,\n            'f': \"3\",\n        },\n{\n            'v': 963,\n            'f': \"963\",\n        },\n{\n            'v': 190225,\n            'f': \"190225\",\n        },\n{\n            'v': NaN,\n            'f': \"NaN\",\n        },\n\"2204-10-26 16:08:00+00:00\",\n\"2204-10-26 18:11:00+00:00\",\n{\n            'v': 2.050351575,\n            'f': \"2.050351575\",\n        },\n{\n            'v': 1.0001715,\n            'f': \"1.0001715\",\n        },\n{\n            'v': 1.0,\n            'f': \"1.0\",\n        },\n{\n            'v': 223258,\n            'f': \"223258\",\n        },\n\"01-Drips\",\n\"Short\",\n\"INFUSION\",\n{\n            'v': NaN,\n            'f': \"NaN\",\n        },\n\"2204-10-26 16:08:00+00:00\"],\n [{\n            'v': 4,\n            'f': \"4\",\n        },\n{\n            'v': 963,\n            'f': \"963\",\n        },\n{\n            'v': 190225,\n            'f': \"190225\",\n        },\n{\n            'v': NaN,\n            'f': \"NaN\",\n        },\n\"2204-10-26 18:11:00+00:00\",\n\"2204-10-26 19:07:00+00:00\",\n{\n            'v': 1.8669868,\n            'f': \"1.8669868\",\n        },\n{\n            'v': 2.000343,\n            'f': \"2.000343\",\n        },\n{\n            'v': 2.0,\n            'f': \"2.0\",\n        },\n{\n            'v': 223258,\n            'f': \"223258\",\n        },\n\"01-Drips\",\n\"Short\",\n\"INFUSION\",\n{\n            'v': NaN,\n            'f': \"NaN\",\n        },\n\"2204-10-26 18:11:00+00:00\"]],\n        columns: [[\"number\", \"index\"], [\"number\", \"SUBJECT_ID\"], [\"number\", \"HADM_ID\"], [\"number\", \"ICUSTAY_ID\"], [\"string\", \"STARTTIME\"], [\"string\", \"ENDTIME\"], [\"number\", \"AMOUNT\"], [\"number\", \"RATE\"], [\"number\", \"ORIGINALRATE\"], [\"number\", \"ITEMID\"], [\"string\", \"ORDERCATEGORYNAME\"], [\"string\", \"InsulinType\"], [\"string\", \"InsulinAdmin\"], [\"number\", \"INFXSTOP\"], [\"string\", \"STORETIME\"]],\n        rowsPerPage: 25,\n        helpUrl: \"https://colab.research.google.com/notebooks/data_table.ipynb\",\n      });\n    ",
            "text/html": [
              "<div>\n",
              "<style scoped>\n",
              "    .dataframe tbody tr th:only-of-type {\n",
              "        vertical-align: middle;\n",
              "    }\n",
              "\n",
              "    .dataframe tbody tr th {\n",
              "        vertical-align: top;\n",
              "    }\n",
              "\n",
              "    .dataframe thead th {\n",
              "        text-align: right;\n",
              "    }\n",
              "</style>\n",
              "<table border=\"1\" class=\"dataframe\">\n",
              "  <thead>\n",
              "    <tr style=\"text-align: right;\">\n",
              "      <th></th>\n",
              "      <th>SUBJECT_ID</th>\n",
              "      <th>HADM_ID</th>\n",
              "      <th>ICUSTAY_ID</th>\n",
              "      <th>STARTTIME</th>\n",
              "      <th>ENDTIME</th>\n",
              "      <th>AMOUNT</th>\n",
              "      <th>RATE</th>\n",
              "      <th>ORIGINALRATE</th>\n",
              "      <th>ITEMID</th>\n",
              "      <th>ORDERCATEGORYNAME</th>\n",
              "      <th>InsulinType</th>\n",
              "      <th>InsulinAdmin</th>\n",
              "      <th>INFXSTOP</th>\n",
              "      <th>STORETIME</th>\n",
              "    </tr>\n",
              "  </thead>\n",
              "  <tbody>\n",
              "    <tr>\n",
              "      <th>0</th>\n",
              "      <td>963</td>\n",
              "      <td>190225</td>\n",
              "      <td>NaN</td>\n",
              "      <td>2204-10-26 12:29:00+00:00</td>\n",
              "      <td>2204-10-26 12:30:00+00:00</td>\n",
              "      <td>2.000000</td>\n",
              "      <td>NaN</td>\n",
              "      <td>2.0</td>\n",
              "      <td>223258</td>\n",
              "      <td>05-Med Bolus</td>\n",
              "      <td>Short</td>\n",
              "      <td>BOLUS_PUSH</td>\n",
              "      <td>NaN</td>\n",
              "      <td>2204-10-26 12:29:00+00:00</td>\n",
              "    </tr>\n",
              "    <tr>\n",
              "      <th>1</th>\n",
              "      <td>963</td>\n",
              "      <td>190225</td>\n",
              "      <td>NaN</td>\n",
              "      <td>2204-10-26 12:29:00+00:00</td>\n",
              "      <td>2204-10-26 13:54:00+00:00</td>\n",
              "      <td>2.833333</td>\n",
              "      <td>2.000000</td>\n",
              "      <td>2.0</td>\n",
              "      <td>223258</td>\n",
              "      <td>01-Drips</td>\n",
              "      <td>Short</td>\n",
              "      <td>INFUSION</td>\n",
              "      <td>NaN</td>\n",
              "      <td>2204-10-26 12:29:00+00:00</td>\n",
              "    </tr>\n",
              "    <tr>\n",
              "      <th>2</th>\n",
              "      <td>963</td>\n",
              "      <td>190225</td>\n",
              "      <td>NaN</td>\n",
              "      <td>2204-10-26 13:54:00+00:00</td>\n",
              "      <td>2204-10-26 16:08:00+00:00</td>\n",
              "      <td>6.701149</td>\n",
              "      <td>3.000515</td>\n",
              "      <td>3.0</td>\n",
              "      <td>223258</td>\n",
              "      <td>01-Drips</td>\n",
              "      <td>Short</td>\n",
              "      <td>INFUSION</td>\n",
              "      <td>NaN</td>\n",
              "      <td>2204-10-26 13:54:00+00:00</td>\n",
              "    </tr>\n",
              "    <tr>\n",
              "      <th>3</th>\n",
              "      <td>963</td>\n",
              "      <td>190225</td>\n",
              "      <td>NaN</td>\n",
              "      <td>2204-10-26 16:08:00+00:00</td>\n",
              "      <td>2204-10-26 18:11:00+00:00</td>\n",
              "      <td>2.050352</td>\n",
              "      <td>1.000171</td>\n",
              "      <td>1.0</td>\n",
              "      <td>223258</td>\n",
              "      <td>01-Drips</td>\n",
              "      <td>Short</td>\n",
              "      <td>INFUSION</td>\n",
              "      <td>NaN</td>\n",
              "      <td>2204-10-26 16:08:00+00:00</td>\n",
              "    </tr>\n",
              "    <tr>\n",
              "      <th>4</th>\n",
              "      <td>963</td>\n",
              "      <td>190225</td>\n",
              "      <td>NaN</td>\n",
              "      <td>2204-10-26 18:11:00+00:00</td>\n",
              "      <td>2204-10-26 19:07:00+00:00</td>\n",
              "      <td>1.866987</td>\n",
              "      <td>2.000343</td>\n",
              "      <td>2.0</td>\n",
              "      <td>223258</td>\n",
              "      <td>01-Drips</td>\n",
              "      <td>Short</td>\n",
              "      <td>INFUSION</td>\n",
              "      <td>NaN</td>\n",
              "      <td>2204-10-26 18:11:00+00:00</td>\n",
              "    </tr>\n",
              "  </tbody>\n",
              "</table>\n",
              "</div>"
            ],
            "text/plain": [
              "   SUBJECT_ID  HADM_ID  ...  INFXSTOP                 STORETIME\n",
              "0         963   190225  ...       NaN 2204-10-26 12:29:00+00:00\n",
              "1         963   190225  ...       NaN 2204-10-26 12:29:00+00:00\n",
              "2         963   190225  ...       NaN 2204-10-26 13:54:00+00:00\n",
              "3         963   190225  ...       NaN 2204-10-26 16:08:00+00:00\n",
              "4         963   190225  ...       NaN 2204-10-26 18:11:00+00:00\n",
              "\n",
              "[5 rows x 14 columns]"
            ]
          },
          "metadata": {
            "tags": []
          }
        }
      ]
    },
    {
      "cell_type": "code",
      "metadata": {
        "id": "S68Rw8ug1wNw",
        "colab_type": "code",
        "outputId": "6a5c1305-a047-48af-a7c4-10a35d1a4ade",
        "colab": {
          "base_uri": "https://localhost:8080/",
          "height": 0
        }
      },
      "source": [
        "# Coerse columns\n",
        "insulin_mv[[\"ICUSTAY_ID\",\"INFXSTOP\",\"RATE\",\"ORIGINALRATE\"]] = insulin_mv[\n",
        "        [\"ICUSTAY_ID\",\"INFXSTOP\",\"RATE\",\"ORIGINALRATE\"]].apply(pd.to_numeric\n",
        "        , errors='coerce')\n",
        "\n",
        "# Display results\n",
        "display(HTML('<h5>It contains the following information</h5>'))\n",
        "print(\"Observations: {}\".format(insulin_mv.shape[0]))\n",
        "print(\"Patients: {}\".format(insulin_mv['SUBJECT_ID'].nunique()))\n",
        "print(\"Hospital admissions: {}\".format(insulin_mv['HADM_ID'].nunique()))\n",
        "print('ICU stays: {}'.format(insulin_mv['ICUSTAY_ID'].nunique()))\n",
        "\n",
        "display(HTML('<h5>The gathered item ids are:</h5>'))\n",
        "display(insulin_mv['ITEMID'].value_counts())\n",
        "\n",
        "display(HTML('<h5>Verify column types</h5>'))\n",
        "display(insulin_mv.dtypes)"
      ],
      "execution_count": 4,
      "outputs": [
        {
          "output_type": "display_data",
          "data": {
            "text/html": [
              "<h5>It contains the following information</h5>"
            ],
            "text/plain": [
              "<IPython.core.display.HTML object>"
            ]
          },
          "metadata": {
            "tags": []
          }
        },
        {
          "output_type": "stream",
          "text": [
            "Observations: 151207\n",
            "Patients: 9638\n",
            "Hospital admissions: 11236\n",
            "ICU stays: 11882\n"
          ],
          "name": "stdout"
        },
        {
          "output_type": "display_data",
          "data": {
            "text/html": [
              "<h5>The gathered item ids are:</h5>"
            ],
            "text/plain": [
              "<IPython.core.display.HTML object>"
            ]
          },
          "metadata": {
            "tags": []
          }
        },
        {
          "output_type": "display_data",
          "data": {
            "text/plain": [
              "223258    108241\n",
              "223262     30342\n",
              "223260      8642\n",
              "223259      3383\n",
              "223257       441\n",
              "223261       158\n",
              "Name: ITEMID, dtype: int64"
            ]
          },
          "metadata": {
            "tags": []
          }
        },
        {
          "output_type": "display_data",
          "data": {
            "text/html": [
              "<h5>Verify column types</h5>"
            ],
            "text/plain": [
              "<IPython.core.display.HTML object>"
            ]
          },
          "metadata": {
            "tags": []
          }
        },
        {
          "output_type": "display_data",
          "data": {
            "text/plain": [
              "SUBJECT_ID                         int64\n",
              "HADM_ID                            int64\n",
              "ICUSTAY_ID                       float64\n",
              "STARTTIME            datetime64[ns, UTC]\n",
              "ENDTIME              datetime64[ns, UTC]\n",
              "AMOUNT                           float64\n",
              "RATE                             float64\n",
              "ORIGINALRATE                     float64\n",
              "ITEMID                             int64\n",
              "ORDERCATEGORYNAME                 object\n",
              "InsulinType                       object\n",
              "InsulinAdmin                      object\n",
              "INFXSTOP                         float64\n",
              "STORETIME            datetime64[ns, UTC]\n",
              "dtype: object"
            ]
          },
          "metadata": {
            "tags": []
          }
        }
      ]
    },
    {
      "cell_type": "code",
      "metadata": {
        "id": "YLCl9gz-14HD",
        "colab_type": "code",
        "outputId": "31a6bcb7-0cea-417c-da97-582c9b73c453",
        "colab": {
          "base_uri": "https://localhost:8080/",
          "height": 0
        }
      },
      "source": [
        "# Drop missing ICU stays\n",
        "\n",
        "insulin_mv = insulin_mv.dropna(subset=[\"ICUSTAY_ID\"])\n",
        "\n",
        "display(insulin_mv.describe())"
      ],
      "execution_count": 5,
      "outputs": [
        {
          "output_type": "display_data",
          "data": {
            "application/vnd.google.colaboratory.module+javascript": "\n      import \"https://ssl.gstatic.com/colaboratory/data_table/a036b366c3cace79/data_table.js\";\n\n      window.createDataTable({\n        data: [[\"count\",\n{\n            'v': 151162.0,\n            'f': \"151162.0\",\n        },\n{\n            'v': 151162.0,\n            'f': \"151162.0\",\n        },\n{\n            'v': 151162.0,\n            'f': \"151162.0\",\n        },\n{\n            'v': 151162.0,\n            'f': \"151162.0\",\n        },\n{\n            'v': 44632.0,\n            'f': \"44632.0\",\n        },\n{\n            'v': 151162.0,\n            'f': \"151162.0\",\n        },\n{\n            'v': 151162.0,\n            'f': \"151162.0\",\n        },\n{\n            'v': 7152.0,\n            'f': \"7152.0\",\n        }],\n [\"mean\",\n{\n            'v': 63093.186581283655,\n            'f': \"63093.186581283655\",\n        },\n{\n            'v': 150538.8354679086,\n            'f': \"150538.8354679086\",\n        },\n{\n            'v': 249874.90107963642,\n            'f': \"249874.90107963642\",\n        },\n{\n            'v': 7.819067909215688,\n            'f': \"7.819067909215688\",\n        },\n{\n            'v': 5.663981219767003,\n            'f': \"5.663981219767003\",\n        },\n{\n            'v': 11.30302334414927,\n            'f': \"11.30302334414927\",\n        },\n{\n            'v': 223258.93977322342,\n            'f': \"223258.93977322342\",\n        },\n{\n            'v': 1.0,\n            'f': \"1.0\",\n        }],\n [\"std\",\n{\n            'v': 23339.386172965133,\n            'f': \"23339.386172965133\",\n        },\n{\n            'v': 28647.967592983758,\n            'f': \"28647.967592983758\",\n        },\n{\n            'v': 29008.94280790499,\n            'f': \"29008.94280790499\",\n        },\n{\n            'v': 10.978645676751727,\n            'f': \"10.978645676751727\",\n        },\n{\n            'v': 12.097431632654505,\n            'f': \"12.097431632654505\",\n        },\n{\n            'v': 1956.3762347859858,\n            'f': \"1956.3762347859858\",\n        },\n{\n            'v': 1.609842345647622,\n            'f': \"1.609842345647622\",\n        },\n{\n            'v': 0.0,\n            'f': \"0.0\",\n        }],\n [\"min\",\n{\n            'v': 23.0,\n            'f': \"23.0\",\n        },\n{\n            'v': 100001.0,\n            'f': \"100001.0\",\n        },\n{\n            'v': 200010.0,\n            'f': \"200010.0\",\n        },\n{\n            'v': 0.0,\n            'f': \"0.0\",\n        },\n{\n            'v': 0.0499987824,\n            'f': \"0.0499987824\",\n        },\n{\n            'v': 0.0,\n            'f': \"0.0\",\n        },\n{\n            'v': 223257.0,\n            'f': \"223257.0\",\n        },\n{\n            'v': 1.0,\n            'f': \"1.0\",\n        }],\n [\"25%\",\n{\n            'v': 48204.0,\n            'f': \"48204.0\",\n        },\n{\n            'v': 125843.0,\n            'f': \"125843.0\",\n        },\n{\n            'v': 224516.0,\n            'f': \"224516.0\",\n        },\n{\n            'v': 2.0,\n            'f': \"2.0\",\n        },\n{\n            'v': 2.0010753300000004,\n            'f': \"2.0010753300000004\",\n        },\n{\n            'v': 2.0,\n            'f': \"2.0\",\n        },\n{\n            'v': 223258.0,\n            'f': \"223258.0\",\n        },\n{\n            'v': 1.0,\n            'f': \"1.0\",\n        }],\n [\"50%\",\n{\n            'v': 64921.0,\n            'f': \"64921.0\",\n        },\n{\n            'v': 150871.0,\n            'f': \"150871.0\",\n        },\n{\n            'v': 250075.0,\n            'f': \"250075.0\",\n        },\n{\n            'v': 4.0,\n            'f': \"4.0\",\n        },\n{\n            'v': 4.0000002,\n            'f': \"4.0000002\",\n        },\n{\n            'v': 4.0,\n            'f': \"4.0\",\n        },\n{\n            'v': 223258.0,\n            'f': \"223258.0\",\n        },\n{\n            'v': 1.0,\n            'f': \"1.0\",\n        }],\n [\"75%\",\n{\n            'v': 81923.0,\n            'f': \"81923.0\",\n        },\n{\n            'v': 175448.0,\n            'f': \"175448.0\",\n        },\n{\n            'v': 275509.0,\n            'f': \"275509.0\",\n        },\n{\n            'v': 8.5585147335,\n            'f': \"8.5585147335\",\n        },\n{\n            'v': 6.0340622999999995,\n            'f': \"6.0340622999999995\",\n        },\n{\n            'v': 7.0,\n            'f': \"7.0\",\n        },\n{\n            'v': 223260.0,\n            'f': \"223260.0\",\n        },\n{\n            'v': 1.0,\n            'f': \"1.0\",\n        }],\n [\"max\",\n{\n            'v': 99992.0,\n            'f': \"99992.0\",\n        },\n{\n            'v': 199979.0,\n            'f': \"199979.0\",\n        },\n{\n            'v': 299998.0,\n            'f': \"299998.0\",\n        },\n{\n            'v': 500.0000152,\n            'f': \"500.0000152\",\n        },\n{\n            'v': 1084.03188,\n            'f': \"1084.03188\",\n        },\n{\n            'v': 760627.0,\n            'f': \"760627.0\",\n        },\n{\n            'v': 223262.0,\n            'f': \"223262.0\",\n        },\n{\n            'v': 1.0,\n            'f': \"1.0\",\n        }]],\n        columns: [[\"string\", \"index\"], [\"number\", \"SUBJECT_ID\"], [\"number\", \"HADM_ID\"], [\"number\", \"ICUSTAY_ID\"], [\"number\", \"AMOUNT\"], [\"number\", \"RATE\"], [\"number\", \"ORIGINALRATE\"], [\"number\", \"ITEMID\"], [\"number\", \"INFXSTOP\"]],\n        rowsPerPage: 25,\n        helpUrl: \"https://colab.research.google.com/notebooks/data_table.ipynb\",\n      });\n    ",
            "text/html": [
              "<div>\n",
              "<style scoped>\n",
              "    .dataframe tbody tr th:only-of-type {\n",
              "        vertical-align: middle;\n",
              "    }\n",
              "\n",
              "    .dataframe tbody tr th {\n",
              "        vertical-align: top;\n",
              "    }\n",
              "\n",
              "    .dataframe thead th {\n",
              "        text-align: right;\n",
              "    }\n",
              "</style>\n",
              "<table border=\"1\" class=\"dataframe\">\n",
              "  <thead>\n",
              "    <tr style=\"text-align: right;\">\n",
              "      <th></th>\n",
              "      <th>SUBJECT_ID</th>\n",
              "      <th>HADM_ID</th>\n",
              "      <th>ICUSTAY_ID</th>\n",
              "      <th>AMOUNT</th>\n",
              "      <th>RATE</th>\n",
              "      <th>ORIGINALRATE</th>\n",
              "      <th>ITEMID</th>\n",
              "      <th>INFXSTOP</th>\n",
              "    </tr>\n",
              "  </thead>\n",
              "  <tbody>\n",
              "    <tr>\n",
              "      <th>count</th>\n",
              "      <td>151162.000000</td>\n",
              "      <td>151162.000000</td>\n",
              "      <td>151162.000000</td>\n",
              "      <td>151162.000000</td>\n",
              "      <td>44632.000000</td>\n",
              "      <td>151162.000000</td>\n",
              "      <td>151162.000000</td>\n",
              "      <td>7152.0</td>\n",
              "    </tr>\n",
              "    <tr>\n",
              "      <th>mean</th>\n",
              "      <td>63093.186581</td>\n",
              "      <td>150538.835468</td>\n",
              "      <td>249874.901080</td>\n",
              "      <td>7.819068</td>\n",
              "      <td>5.663981</td>\n",
              "      <td>11.303023</td>\n",
              "      <td>223258.939773</td>\n",
              "      <td>1.0</td>\n",
              "    </tr>\n",
              "    <tr>\n",
              "      <th>std</th>\n",
              "      <td>23339.386173</td>\n",
              "      <td>28647.967593</td>\n",
              "      <td>29008.942808</td>\n",
              "      <td>10.978646</td>\n",
              "      <td>12.097432</td>\n",
              "      <td>1956.376235</td>\n",
              "      <td>1.609842</td>\n",
              "      <td>0.0</td>\n",
              "    </tr>\n",
              "    <tr>\n",
              "      <th>min</th>\n",
              "      <td>23.000000</td>\n",
              "      <td>100001.000000</td>\n",
              "      <td>200010.000000</td>\n",
              "      <td>0.000000</td>\n",
              "      <td>0.049999</td>\n",
              "      <td>0.000000</td>\n",
              "      <td>223257.000000</td>\n",
              "      <td>1.0</td>\n",
              "    </tr>\n",
              "    <tr>\n",
              "      <th>25%</th>\n",
              "      <td>48204.000000</td>\n",
              "      <td>125843.000000</td>\n",
              "      <td>224516.000000</td>\n",
              "      <td>2.000000</td>\n",
              "      <td>2.001075</td>\n",
              "      <td>2.000000</td>\n",
              "      <td>223258.000000</td>\n",
              "      <td>1.0</td>\n",
              "    </tr>\n",
              "    <tr>\n",
              "      <th>50%</th>\n",
              "      <td>64921.000000</td>\n",
              "      <td>150871.000000</td>\n",
              "      <td>250075.000000</td>\n",
              "      <td>4.000000</td>\n",
              "      <td>4.000000</td>\n",
              "      <td>4.000000</td>\n",
              "      <td>223258.000000</td>\n",
              "      <td>1.0</td>\n",
              "    </tr>\n",
              "    <tr>\n",
              "      <th>75%</th>\n",
              "      <td>81923.000000</td>\n",
              "      <td>175448.000000</td>\n",
              "      <td>275509.000000</td>\n",
              "      <td>8.558515</td>\n",
              "      <td>6.034062</td>\n",
              "      <td>7.000000</td>\n",
              "      <td>223260.000000</td>\n",
              "      <td>1.0</td>\n",
              "    </tr>\n",
              "    <tr>\n",
              "      <th>max</th>\n",
              "      <td>99992.000000</td>\n",
              "      <td>199979.000000</td>\n",
              "      <td>299998.000000</td>\n",
              "      <td>500.000015</td>\n",
              "      <td>1084.031880</td>\n",
              "      <td>760627.000000</td>\n",
              "      <td>223262.000000</td>\n",
              "      <td>1.0</td>\n",
              "    </tr>\n",
              "  </tbody>\n",
              "</table>\n",
              "</div>"
            ],
            "text/plain": [
              "          SUBJECT_ID        HADM_ID  ...         ITEMID  INFXSTOP\n",
              "count  151162.000000  151162.000000  ...  151162.000000    7152.0\n",
              "mean    63093.186581  150538.835468  ...  223258.939773       1.0\n",
              "std     23339.386173   28647.967593  ...       1.609842       0.0\n",
              "min        23.000000  100001.000000  ...  223257.000000       1.0\n",
              "25%     48204.000000  125843.000000  ...  223258.000000       1.0\n",
              "50%     64921.000000  150871.000000  ...  223258.000000       1.0\n",
              "75%     81923.000000  175448.000000  ...  223260.000000       1.0\n",
              "max     99992.000000  199979.000000  ...  223262.000000       1.0\n",
              "\n",
              "[8 rows x 8 columns]"
            ]
          },
          "metadata": {
            "tags": []
          }
        }
      ]
    },
    {
      "cell_type": "markdown",
      "metadata": {
        "id": "RCV5T-x82HE6",
        "colab_type": "text"
      },
      "source": [
        "### Short-acting infusions\n",
        "Only short-acting infusions exist"
      ]
    },
    {
      "cell_type": "code",
      "metadata": {
        "id": "VSY0mdqY2IsL",
        "colab_type": "code",
        "outputId": "e02100f8-2c2a-41b8-957d-04cf9e5cac04",
        "colab": {
          "base_uri": "https://localhost:8080/",
          "height": 0
        }
      },
      "source": [
        "# Filter infusions\n",
        "MV_infusions = insulin_mv[(insulin_mv['InsulinType']==\"Short\") & \n",
        "                      (insulin_mv['InsulinAdmin'].str.contains('INFUSION'))]\n",
        "\n",
        "display(MV_infusions.head())"
      ],
      "execution_count": 6,
      "outputs": [
        {
          "output_type": "display_data",
          "data": {
            "application/vnd.google.colaboratory.module+javascript": "\n      import \"https://ssl.gstatic.com/colaboratory/data_table/a036b366c3cace79/data_table.js\";\n\n      window.createDataTable({\n        data: [[{\n            'v': 118,\n            'f': \"118\",\n        },\n{\n            'v': 74282,\n            'f': \"74282\",\n        },\n{\n            'v': 121149,\n            'f': \"121149\",\n        },\n{\n            'v': 200061.0,\n            'f': \"200061.0\",\n        },\n\"2134-01-23 23:08:00+00:00\",\n\"2134-01-24 00:00:00+00:00\",\n{\n            'v': 0.866666736,\n            'f': \"0.866666736\",\n        },\n{\n            'v': 1.00000008,\n            'f': \"1.00000008\",\n        },\n{\n            'v': 1.0,\n            'f': \"1.0\",\n        },\n{\n            'v': 223258,\n            'f': \"223258\",\n        },\n\"01-Drips\",\n\"Short\",\n\"INFUSION\",\n{\n            'v': NaN,\n            'f': \"NaN\",\n        },\n\"2134-01-24 00:08:00+00:00\"],\n [{\n            'v': 119,\n            'f': \"119\",\n        },\n{\n            'v': 74282,\n            'f': \"74282\",\n        },\n{\n            'v': 121149,\n            'f': \"121149\",\n        },\n{\n            'v': 200061.0,\n            'f': \"200061.0\",\n        },\n\"2134-01-24 00:00:00+00:00\",\n\"2134-01-24 01:00:00+00:00\",\n{\n            'v': 2.0000001,\n            'f': \"2.0000001\",\n        },\n{\n            'v': 2.0000001,\n            'f': \"2.0000001\",\n        },\n{\n            'v': 2.0,\n            'f': \"2.0\",\n        },\n{\n            'v': 223258,\n            'f': \"223258\",\n        },\n\"01-Drips\",\n\"Short\",\n\"INFUSION\",\n{\n            'v': NaN,\n            'f': \"NaN\",\n        },\n\"2134-01-24 00:09:00+00:00\"],\n [{\n            'v': 120,\n            'f': \"120\",\n        },\n{\n            'v': 74282,\n            'f': \"74282\",\n        },\n{\n            'v': 121149,\n            'f': \"121149\",\n        },\n{\n            'v': 200061.0,\n            'f': \"200061.0\",\n        },\n\"2134-01-24 01:00:00+00:00\",\n\"2134-01-24 02:01:00+00:00\",\n{\n            'v': 3.049476681,\n            'f': \"3.049476681\",\n        },\n{\n            'v': 2.99948526,\n            'f': \"2.99948526\",\n        },\n{\n            'v': 3.0,\n            'f': \"3.0\",\n        },\n{\n            'v': 223258,\n            'f': \"223258\",\n        },\n\"01-Drips\",\n\"Short\",\n\"INFUSION\",\n{\n            'v': NaN,\n            'f': \"NaN\",\n        },\n\"2134-01-24 01:28:00+00:00\"],\n [{\n            'v': 121,\n            'f': \"121\",\n        },\n{\n            'v': 74282,\n            'f': \"74282\",\n        },\n{\n            'v': 121149,\n            'f': \"121149\",\n        },\n{\n            'v': 200061.0,\n            'f': \"200061.0\",\n        },\n\"2134-01-24 02:01:00+00:00\",\n\"2134-01-24 03:05:00+00:00\",\n{\n            'v': 5.333363072,\n            'f': \"5.333363072\",\n        },\n{\n            'v': 5.00002788,\n            'f': \"5.00002788\",\n        },\n{\n            'v': 5.0,\n            'f': \"5.0\",\n        },\n{\n            'v': 223258,\n            'f': \"223258\",\n        },\n\"01-Drips\",\n\"Short\",\n\"INFUSION\",\n{\n            'v': NaN,\n            'f': \"NaN\",\n        },\n\"2134-01-24 02:19:00+00:00\"],\n [{\n            'v': 122,\n            'f': \"122\",\n        },\n{\n            'v': 74282,\n            'f': \"74282\",\n        },\n{\n            'v': 121149,\n            'f': \"121149\",\n        },\n{\n            'v': 200061.0,\n            'f': \"200061.0\",\n        },\n\"2134-01-24 03:05:00+00:00\",\n\"2134-01-24 04:02:00+00:00\",\n{\n            'v': 6.6475395,\n            'f': \"6.6475395\",\n        },\n{\n            'v': 6.99741,\n            'f': \"6.99741\",\n        },\n{\n            'v': 7.0,\n            'f': \"7.0\",\n        },\n{\n            'v': 223258,\n            'f': \"223258\",\n        },\n\"01-Drips\",\n\"Short\",\n\"INFUSION\",\n{\n            'v': NaN,\n            'f': \"NaN\",\n        },\n\"2134-01-24 03:19:00+00:00\"]],\n        columns: [[\"number\", \"index\"], [\"number\", \"SUBJECT_ID\"], [\"number\", \"HADM_ID\"], [\"number\", \"ICUSTAY_ID\"], [\"string\", \"STARTTIME\"], [\"string\", \"ENDTIME\"], [\"number\", \"AMOUNT\"], [\"number\", \"RATE\"], [\"number\", \"ORIGINALRATE\"], [\"number\", \"ITEMID\"], [\"string\", \"ORDERCATEGORYNAME\"], [\"string\", \"InsulinType\"], [\"string\", \"InsulinAdmin\"], [\"number\", \"INFXSTOP\"], [\"string\", \"STORETIME\"]],\n        rowsPerPage: 25,\n        helpUrl: \"https://colab.research.google.com/notebooks/data_table.ipynb\",\n      });\n    ",
            "text/html": [
              "<div>\n",
              "<style scoped>\n",
              "    .dataframe tbody tr th:only-of-type {\n",
              "        vertical-align: middle;\n",
              "    }\n",
              "\n",
              "    .dataframe tbody tr th {\n",
              "        vertical-align: top;\n",
              "    }\n",
              "\n",
              "    .dataframe thead th {\n",
              "        text-align: right;\n",
              "    }\n",
              "</style>\n",
              "<table border=\"1\" class=\"dataframe\">\n",
              "  <thead>\n",
              "    <tr style=\"text-align: right;\">\n",
              "      <th></th>\n",
              "      <th>SUBJECT_ID</th>\n",
              "      <th>HADM_ID</th>\n",
              "      <th>ICUSTAY_ID</th>\n",
              "      <th>STARTTIME</th>\n",
              "      <th>ENDTIME</th>\n",
              "      <th>AMOUNT</th>\n",
              "      <th>RATE</th>\n",
              "      <th>ORIGINALRATE</th>\n",
              "      <th>ITEMID</th>\n",
              "      <th>ORDERCATEGORYNAME</th>\n",
              "      <th>InsulinType</th>\n",
              "      <th>InsulinAdmin</th>\n",
              "      <th>INFXSTOP</th>\n",
              "      <th>STORETIME</th>\n",
              "    </tr>\n",
              "  </thead>\n",
              "  <tbody>\n",
              "    <tr>\n",
              "      <th>118</th>\n",
              "      <td>74282</td>\n",
              "      <td>121149</td>\n",
              "      <td>200061.0</td>\n",
              "      <td>2134-01-23 23:08:00+00:00</td>\n",
              "      <td>2134-01-24 00:00:00+00:00</td>\n",
              "      <td>0.866667</td>\n",
              "      <td>1.000000</td>\n",
              "      <td>1.0</td>\n",
              "      <td>223258</td>\n",
              "      <td>01-Drips</td>\n",
              "      <td>Short</td>\n",
              "      <td>INFUSION</td>\n",
              "      <td>NaN</td>\n",
              "      <td>2134-01-24 00:08:00+00:00</td>\n",
              "    </tr>\n",
              "    <tr>\n",
              "      <th>119</th>\n",
              "      <td>74282</td>\n",
              "      <td>121149</td>\n",
              "      <td>200061.0</td>\n",
              "      <td>2134-01-24 00:00:00+00:00</td>\n",
              "      <td>2134-01-24 01:00:00+00:00</td>\n",
              "      <td>2.000000</td>\n",
              "      <td>2.000000</td>\n",
              "      <td>2.0</td>\n",
              "      <td>223258</td>\n",
              "      <td>01-Drips</td>\n",
              "      <td>Short</td>\n",
              "      <td>INFUSION</td>\n",
              "      <td>NaN</td>\n",
              "      <td>2134-01-24 00:09:00+00:00</td>\n",
              "    </tr>\n",
              "    <tr>\n",
              "      <th>120</th>\n",
              "      <td>74282</td>\n",
              "      <td>121149</td>\n",
              "      <td>200061.0</td>\n",
              "      <td>2134-01-24 01:00:00+00:00</td>\n",
              "      <td>2134-01-24 02:01:00+00:00</td>\n",
              "      <td>3.049477</td>\n",
              "      <td>2.999485</td>\n",
              "      <td>3.0</td>\n",
              "      <td>223258</td>\n",
              "      <td>01-Drips</td>\n",
              "      <td>Short</td>\n",
              "      <td>INFUSION</td>\n",
              "      <td>NaN</td>\n",
              "      <td>2134-01-24 01:28:00+00:00</td>\n",
              "    </tr>\n",
              "    <tr>\n",
              "      <th>121</th>\n",
              "      <td>74282</td>\n",
              "      <td>121149</td>\n",
              "      <td>200061.0</td>\n",
              "      <td>2134-01-24 02:01:00+00:00</td>\n",
              "      <td>2134-01-24 03:05:00+00:00</td>\n",
              "      <td>5.333363</td>\n",
              "      <td>5.000028</td>\n",
              "      <td>5.0</td>\n",
              "      <td>223258</td>\n",
              "      <td>01-Drips</td>\n",
              "      <td>Short</td>\n",
              "      <td>INFUSION</td>\n",
              "      <td>NaN</td>\n",
              "      <td>2134-01-24 02:19:00+00:00</td>\n",
              "    </tr>\n",
              "    <tr>\n",
              "      <th>122</th>\n",
              "      <td>74282</td>\n",
              "      <td>121149</td>\n",
              "      <td>200061.0</td>\n",
              "      <td>2134-01-24 03:05:00+00:00</td>\n",
              "      <td>2134-01-24 04:02:00+00:00</td>\n",
              "      <td>6.647539</td>\n",
              "      <td>6.997410</td>\n",
              "      <td>7.0</td>\n",
              "      <td>223258</td>\n",
              "      <td>01-Drips</td>\n",
              "      <td>Short</td>\n",
              "      <td>INFUSION</td>\n",
              "      <td>NaN</td>\n",
              "      <td>2134-01-24 03:19:00+00:00</td>\n",
              "    </tr>\n",
              "  </tbody>\n",
              "</table>\n",
              "</div>"
            ],
            "text/plain": [
              "     SUBJECT_ID  HADM_ID  ...  INFXSTOP                 STORETIME\n",
              "118       74282   121149  ...       NaN 2134-01-24 00:08:00+00:00\n",
              "119       74282   121149  ...       NaN 2134-01-24 00:09:00+00:00\n",
              "120       74282   121149  ...       NaN 2134-01-24 01:28:00+00:00\n",
              "121       74282   121149  ...       NaN 2134-01-24 02:19:00+00:00\n",
              "122       74282   121149  ...       NaN 2134-01-24 03:19:00+00:00\n",
              "\n",
              "[5 rows x 14 columns]"
            ]
          },
          "metadata": {
            "tags": []
          }
        }
      ]
    },
    {
      "cell_type": "code",
      "metadata": {
        "id": "gFQczmcrlUwd",
        "colab_type": "code",
        "outputId": "a8b4e632-17bf-4b03-b49b-7d8d984d575e",
        "colab": {
          "base_uri": "https://localhost:8080/",
          "height": 0
        }
      },
      "source": [
        "# Display results\n",
        "display(HTML('<h5>Statistics</h5>'))\n",
        "display(MV_infusions[['RATE','ORIGINALRATE']].describe())\n",
        "\n",
        "display(HTML('<h5>Infusions contains the following information</h5>'))\n",
        "print(\"Observations: {}\".format(MV_infusions.shape[0]))\n",
        "print(\"Patients: {}\".format(MV_infusions['SUBJECT_ID'].nunique()))\n",
        "print(\"Hospital admissions: {}\".format(MV_infusions['HADM_ID'].nunique()))\n",
        "print('ICU stays: {}'.format(MV_infusions['ICUSTAY_ID'].nunique()))\n",
        "\n",
        "display(HTML('<h5>The gathered item ids are:</h5>'))\n",
        "display(MV_infusions['ITEMID'].value_counts())"
      ],
      "execution_count": 7,
      "outputs": [
        {
          "output_type": "display_data",
          "data": {
            "text/html": [
              "<h5>Statistics</h5>"
            ],
            "text/plain": [
              "<IPython.core.display.HTML object>"
            ]
          },
          "metadata": {
            "tags": []
          }
        },
        {
          "output_type": "display_data",
          "data": {
            "application/vnd.google.colaboratory.module+javascript": "\n      import \"https://ssl.gstatic.com/colaboratory/data_table/a036b366c3cace79/data_table.js\";\n\n      window.createDataTable({\n        data: [[\"count\",\n{\n            'v': 44632.0,\n            'f': \"44632.0\",\n        },\n{\n            'v': 45623.0,\n            'f': \"45623.0\",\n        }],\n [\"mean\",\n{\n            'v': 5.663981219767003,\n            'f': \"5.663981219767003\",\n        },\n{\n            'v': 22.20722694141203,\n            'f': \"22.20722694141203\",\n        }],\n [\"std\",\n{\n            'v': 12.097431632654505,\n            'f': \"12.097431632654505\",\n        },\n{\n            'v': 3561.0585574838797,\n            'f': \"3561.0585574838797\",\n        }],\n [\"min\",\n{\n            'v': 0.0499987824,\n            'f': \"0.0499987824\",\n        },\n{\n            'v': 0.0,\n            'f': \"0.0\",\n        }],\n [\"25%\",\n{\n            'v': 2.0010753300000004,\n            'f': \"2.0010753300000004\",\n        },\n{\n            'v': 2.0,\n            'f': \"2.0\",\n        }],\n [\"50%\",\n{\n            'v': 4.0000002,\n            'f': \"4.0000002\",\n        },\n{\n            'v': 4.0,\n            'f': \"4.0\",\n        }],\n [\"75%\",\n{\n            'v': 6.0340622999999995,\n            'f': \"6.0340622999999995\",\n        },\n{\n            'v': 6.0,\n            'f': \"6.0\",\n        }],\n [\"max\",\n{\n            'v': 1084.03188,\n            'f': \"1084.03188\",\n        },\n{\n            'v': 760627.0,\n            'f': \"760627.0\",\n        }]],\n        columns: [[\"string\", \"index\"], [\"number\", \"RATE\"], [\"number\", \"ORIGINALRATE\"]],\n        rowsPerPage: 25,\n        helpUrl: \"https://colab.research.google.com/notebooks/data_table.ipynb\",\n      });\n    ",
            "text/html": [
              "<div>\n",
              "<style scoped>\n",
              "    .dataframe tbody tr th:only-of-type {\n",
              "        vertical-align: middle;\n",
              "    }\n",
              "\n",
              "    .dataframe tbody tr th {\n",
              "        vertical-align: top;\n",
              "    }\n",
              "\n",
              "    .dataframe thead th {\n",
              "        text-align: right;\n",
              "    }\n",
              "</style>\n",
              "<table border=\"1\" class=\"dataframe\">\n",
              "  <thead>\n",
              "    <tr style=\"text-align: right;\">\n",
              "      <th></th>\n",
              "      <th>RATE</th>\n",
              "      <th>ORIGINALRATE</th>\n",
              "    </tr>\n",
              "  </thead>\n",
              "  <tbody>\n",
              "    <tr>\n",
              "      <th>count</th>\n",
              "      <td>44632.000000</td>\n",
              "      <td>45623.000000</td>\n",
              "    </tr>\n",
              "    <tr>\n",
              "      <th>mean</th>\n",
              "      <td>5.663981</td>\n",
              "      <td>22.207227</td>\n",
              "    </tr>\n",
              "    <tr>\n",
              "      <th>std</th>\n",
              "      <td>12.097432</td>\n",
              "      <td>3561.058557</td>\n",
              "    </tr>\n",
              "    <tr>\n",
              "      <th>min</th>\n",
              "      <td>0.049999</td>\n",
              "      <td>0.000000</td>\n",
              "    </tr>\n",
              "    <tr>\n",
              "      <th>25%</th>\n",
              "      <td>2.001075</td>\n",
              "      <td>2.000000</td>\n",
              "    </tr>\n",
              "    <tr>\n",
              "      <th>50%</th>\n",
              "      <td>4.000000</td>\n",
              "      <td>4.000000</td>\n",
              "    </tr>\n",
              "    <tr>\n",
              "      <th>75%</th>\n",
              "      <td>6.034062</td>\n",
              "      <td>6.000000</td>\n",
              "    </tr>\n",
              "    <tr>\n",
              "      <th>max</th>\n",
              "      <td>1084.031880</td>\n",
              "      <td>760627.000000</td>\n",
              "    </tr>\n",
              "  </tbody>\n",
              "</table>\n",
              "</div>"
            ],
            "text/plain": [
              "               RATE   ORIGINALRATE\n",
              "count  44632.000000   45623.000000\n",
              "mean       5.663981      22.207227\n",
              "std       12.097432    3561.058557\n",
              "min        0.049999       0.000000\n",
              "25%        2.001075       2.000000\n",
              "50%        4.000000       4.000000\n",
              "75%        6.034062       6.000000\n",
              "max     1084.031880  760627.000000"
            ]
          },
          "metadata": {
            "tags": []
          }
        },
        {
          "output_type": "display_data",
          "data": {
            "text/html": [
              "<h5>Infusions contains the following information</h5>"
            ],
            "text/plain": [
              "<IPython.core.display.HTML object>"
            ]
          },
          "metadata": {
            "tags": []
          }
        },
        {
          "output_type": "stream",
          "text": [
            "Observations: 45623\n",
            "Patients: 3621\n",
            "Hospital admissions: 3829\n",
            "ICU stays: 3879\n"
          ],
          "name": "stdout"
        },
        {
          "output_type": "display_data",
          "data": {
            "text/html": [
              "<h5>The gathered item ids are:</h5>"
            ],
            "text/plain": [
              "<IPython.core.display.HTML object>"
            ]
          },
          "metadata": {
            "tags": []
          }
        },
        {
          "output_type": "display_data",
          "data": {
            "text/plain": [
              "223258    45623\n",
              "Name: ITEMID, dtype: int64"
            ]
          },
          "metadata": {
            "tags": []
          }
        }
      ]
    },
    {
      "cell_type": "markdown",
      "metadata": {
        "id": "Dha_zcqbl6Xb",
        "colab_type": "text"
      },
      "source": [
        "### Short-acting boluses"
      ]
    },
    {
      "cell_type": "code",
      "metadata": {
        "id": "-xAnBWSwllF6",
        "colab_type": "code",
        "outputId": "9f09c328-19da-41e2-f724-0d21168b9e4b",
        "colab": {
          "base_uri": "https://localhost:8080/",
          "height": 0
        }
      },
      "source": [
        "# Filter short-acting boluses\n",
        "MV_bol_short = insulin_mv[(insulin_mv['InsulinType']==\"Short\") & \n",
        "                      (insulin_mv['InsulinAdmin'].str.contains('BOLUS'))]\n",
        "\n",
        "display(MV_bol_short.head())"
      ],
      "execution_count": 8,
      "outputs": [
        {
          "output_type": "display_data",
          "data": {
            "application/vnd.google.colaboratory.module+javascript": "\n      import \"https://ssl.gstatic.com/colaboratory/data_table/a036b366c3cace79/data_table.js\";\n\n      window.createDataTable({\n        data: [[{\n            'v': 45,\n            'f': \"45\",\n        },\n{\n            'v': 11861,\n            'f': \"11861\",\n        },\n{\n            'v': 192256,\n            'f': \"192256\",\n        },\n{\n            'v': 200010.0,\n            'f': \"200010.0\",\n        },\n\"2132-08-05 10:00:00+00:00\",\n\"2132-08-05 10:01:00+00:00\",\n{\n            'v': 4.0,\n            'f': \"4.0\",\n        },\n{\n            'v': NaN,\n            'f': \"NaN\",\n        },\n{\n            'v': 4.0,\n            'f': \"4.0\",\n        },\n{\n            'v': 223262,\n            'f': \"223262\",\n        },\n\"06-Insulin (Non IV)\",\n\"Short\",\n\"BOLUS_INYECTION\",\n{\n            'v': NaN,\n            'f': \"NaN\",\n        },\n\"2132-08-05 16:12:00+00:00\"],\n [{\n            'v': 46,\n            'f': \"46\",\n        },\n{\n            'v': 11861,\n            'f': \"11861\",\n        },\n{\n            'v': 192256,\n            'f': \"192256\",\n        },\n{\n            'v': 200010.0,\n            'f': \"200010.0\",\n        },\n\"2132-08-05 16:12:00+00:00\",\n\"2132-08-05 16:13:00+00:00\",\n{\n            'v': 6.0,\n            'f': \"6.0\",\n        },\n{\n            'v': NaN,\n            'f': \"NaN\",\n        },\n{\n            'v': 6.0,\n            'f': \"6.0\",\n        },\n{\n            'v': 223262,\n            'f': \"223262\",\n        },\n\"06-Insulin (Non IV)\",\n\"Short\",\n\"BOLUS_INYECTION\",\n{\n            'v': NaN,\n            'f': \"NaN\",\n        },\n\"2132-08-05 16:12:00+00:00\"],\n [{\n            'v': 47,\n            'f': \"47\",\n        },\n{\n            'v': 11861,\n            'f': \"11861\",\n        },\n{\n            'v': 192256,\n            'f': \"192256\",\n        },\n{\n            'v': 200010.0,\n            'f': \"200010.0\",\n        },\n\"2132-08-05 21:28:00+00:00\",\n\"2132-08-05 21:29:00+00:00\",\n{\n            'v': 8.0,\n            'f': \"8.0\",\n        },\n{\n            'v': NaN,\n            'f': \"NaN\",\n        },\n{\n            'v': 8.0,\n            'f': \"8.0\",\n        },\n{\n            'v': 223262,\n            'f': \"223262\",\n        },\n\"06-Insulin (Non IV)\",\n\"Short\",\n\"BOLUS_INYECTION\",\n{\n            'v': NaN,\n            'f': \"NaN\",\n        },\n\"2132-08-05 21:28:00+00:00\"],\n [{\n            'v': 49,\n            'f': \"49\",\n        },\n{\n            'v': 76603,\n            'f': \"76603\",\n        },\n{\n            'v': 179633,\n            'f': \"179633\",\n        },\n{\n            'v': 200024.0,\n            'f': \"200024.0\",\n        },\n\"2127-03-03 17:30:00+00:00\",\n\"2127-03-03 17:31:00+00:00\",\n{\n            'v': 10.0,\n            'f': \"10.0\",\n        },\n{\n            'v': NaN,\n            'f': \"NaN\",\n        },\n{\n            'v': 10.0,\n            'f': \"10.0\",\n        },\n{\n            'v': 223258,\n            'f': \"223258\",\n        },\n\"06-Insulin (Non IV)\",\n\"Short\",\n\"BOLUS_INYECTION\",\n{\n            'v': NaN,\n            'f': \"NaN\",\n        },\n\"2127-03-03 18:21:00+00:00\"],\n [{\n            'v': 50,\n            'f': \"50\",\n        },\n{\n            'v': 41710,\n            'f': \"41710\",\n        },\n{\n            'v': 181955,\n            'f': \"181955\",\n        },\n{\n            'v': 200028.0,\n            'f': \"200028.0\",\n        },\n\"2133-10-29 22:15:00+00:00\",\n\"2133-10-29 22:16:00+00:00\",\n{\n            'v': 6.0,\n            'f': \"6.0\",\n        },\n{\n            'v': NaN,\n            'f': \"NaN\",\n        },\n{\n            'v': 6.0,\n            'f': \"6.0\",\n        },\n{\n            'v': 223262,\n            'f': \"223262\",\n        },\n\"06-Insulin (Non IV)\",\n\"Short\",\n\"BOLUS_INYECTION\",\n{\n            'v': NaN,\n            'f': \"NaN\",\n        },\n\"2133-10-29 22:15:00+00:00\"]],\n        columns: [[\"number\", \"index\"], [\"number\", \"SUBJECT_ID\"], [\"number\", \"HADM_ID\"], [\"number\", \"ICUSTAY_ID\"], [\"string\", \"STARTTIME\"], [\"string\", \"ENDTIME\"], [\"number\", \"AMOUNT\"], [\"number\", \"RATE\"], [\"number\", \"ORIGINALRATE\"], [\"number\", \"ITEMID\"], [\"string\", \"ORDERCATEGORYNAME\"], [\"string\", \"InsulinType\"], [\"string\", \"InsulinAdmin\"], [\"number\", \"INFXSTOP\"], [\"string\", \"STORETIME\"]],\n        rowsPerPage: 25,\n        helpUrl: \"https://colab.research.google.com/notebooks/data_table.ipynb\",\n      });\n    ",
            "text/html": [
              "<div>\n",
              "<style scoped>\n",
              "    .dataframe tbody tr th:only-of-type {\n",
              "        vertical-align: middle;\n",
              "    }\n",
              "\n",
              "    .dataframe tbody tr th {\n",
              "        vertical-align: top;\n",
              "    }\n",
              "\n",
              "    .dataframe thead th {\n",
              "        text-align: right;\n",
              "    }\n",
              "</style>\n",
              "<table border=\"1\" class=\"dataframe\">\n",
              "  <thead>\n",
              "    <tr style=\"text-align: right;\">\n",
              "      <th></th>\n",
              "      <th>SUBJECT_ID</th>\n",
              "      <th>HADM_ID</th>\n",
              "      <th>ICUSTAY_ID</th>\n",
              "      <th>STARTTIME</th>\n",
              "      <th>ENDTIME</th>\n",
              "      <th>AMOUNT</th>\n",
              "      <th>RATE</th>\n",
              "      <th>ORIGINALRATE</th>\n",
              "      <th>ITEMID</th>\n",
              "      <th>ORDERCATEGORYNAME</th>\n",
              "      <th>InsulinType</th>\n",
              "      <th>InsulinAdmin</th>\n",
              "      <th>INFXSTOP</th>\n",
              "      <th>STORETIME</th>\n",
              "    </tr>\n",
              "  </thead>\n",
              "  <tbody>\n",
              "    <tr>\n",
              "      <th>45</th>\n",
              "      <td>11861</td>\n",
              "      <td>192256</td>\n",
              "      <td>200010.0</td>\n",
              "      <td>2132-08-05 10:00:00+00:00</td>\n",
              "      <td>2132-08-05 10:01:00+00:00</td>\n",
              "      <td>4.0</td>\n",
              "      <td>NaN</td>\n",
              "      <td>4.0</td>\n",
              "      <td>223262</td>\n",
              "      <td>06-Insulin (Non IV)</td>\n",
              "      <td>Short</td>\n",
              "      <td>BOLUS_INYECTION</td>\n",
              "      <td>NaN</td>\n",
              "      <td>2132-08-05 16:12:00+00:00</td>\n",
              "    </tr>\n",
              "    <tr>\n",
              "      <th>46</th>\n",
              "      <td>11861</td>\n",
              "      <td>192256</td>\n",
              "      <td>200010.0</td>\n",
              "      <td>2132-08-05 16:12:00+00:00</td>\n",
              "      <td>2132-08-05 16:13:00+00:00</td>\n",
              "      <td>6.0</td>\n",
              "      <td>NaN</td>\n",
              "      <td>6.0</td>\n",
              "      <td>223262</td>\n",
              "      <td>06-Insulin (Non IV)</td>\n",
              "      <td>Short</td>\n",
              "      <td>BOLUS_INYECTION</td>\n",
              "      <td>NaN</td>\n",
              "      <td>2132-08-05 16:12:00+00:00</td>\n",
              "    </tr>\n",
              "    <tr>\n",
              "      <th>47</th>\n",
              "      <td>11861</td>\n",
              "      <td>192256</td>\n",
              "      <td>200010.0</td>\n",
              "      <td>2132-08-05 21:28:00+00:00</td>\n",
              "      <td>2132-08-05 21:29:00+00:00</td>\n",
              "      <td>8.0</td>\n",
              "      <td>NaN</td>\n",
              "      <td>8.0</td>\n",
              "      <td>223262</td>\n",
              "      <td>06-Insulin (Non IV)</td>\n",
              "      <td>Short</td>\n",
              "      <td>BOLUS_INYECTION</td>\n",
              "      <td>NaN</td>\n",
              "      <td>2132-08-05 21:28:00+00:00</td>\n",
              "    </tr>\n",
              "    <tr>\n",
              "      <th>49</th>\n",
              "      <td>76603</td>\n",
              "      <td>179633</td>\n",
              "      <td>200024.0</td>\n",
              "      <td>2127-03-03 17:30:00+00:00</td>\n",
              "      <td>2127-03-03 17:31:00+00:00</td>\n",
              "      <td>10.0</td>\n",
              "      <td>NaN</td>\n",
              "      <td>10.0</td>\n",
              "      <td>223258</td>\n",
              "      <td>06-Insulin (Non IV)</td>\n",
              "      <td>Short</td>\n",
              "      <td>BOLUS_INYECTION</td>\n",
              "      <td>NaN</td>\n",
              "      <td>2127-03-03 18:21:00+00:00</td>\n",
              "    </tr>\n",
              "    <tr>\n",
              "      <th>50</th>\n",
              "      <td>41710</td>\n",
              "      <td>181955</td>\n",
              "      <td>200028.0</td>\n",
              "      <td>2133-10-29 22:15:00+00:00</td>\n",
              "      <td>2133-10-29 22:16:00+00:00</td>\n",
              "      <td>6.0</td>\n",
              "      <td>NaN</td>\n",
              "      <td>6.0</td>\n",
              "      <td>223262</td>\n",
              "      <td>06-Insulin (Non IV)</td>\n",
              "      <td>Short</td>\n",
              "      <td>BOLUS_INYECTION</td>\n",
              "      <td>NaN</td>\n",
              "      <td>2133-10-29 22:15:00+00:00</td>\n",
              "    </tr>\n",
              "  </tbody>\n",
              "</table>\n",
              "</div>"
            ],
            "text/plain": [
              "    SUBJECT_ID  HADM_ID  ...  INFXSTOP                 STORETIME\n",
              "45       11861   192256  ...       NaN 2132-08-05 16:12:00+00:00\n",
              "46       11861   192256  ...       NaN 2132-08-05 16:12:00+00:00\n",
              "47       11861   192256  ...       NaN 2132-08-05 21:28:00+00:00\n",
              "49       76603   179633  ...       NaN 2127-03-03 18:21:00+00:00\n",
              "50       41710   181955  ...       NaN 2133-10-29 22:15:00+00:00\n",
              "\n",
              "[5 rows x 14 columns]"
            ]
          },
          "metadata": {
            "tags": []
          }
        }
      ]
    },
    {
      "cell_type": "code",
      "metadata": {
        "id": "7ypvwqvu5BD2",
        "colab_type": "code",
        "outputId": "70d3f0a4-140e-4807-dbfc-e2b0d14dd762",
        "colab": {
          "base_uri": "https://localhost:8080/",
          "height": 0
        }
      },
      "source": [
        "# Display results\n",
        "display(HTML('<h5>Statistics of doses</h5>'))\n",
        "display(MV_bol_short[['AMOUNT']].describe())\n",
        "\n",
        "display(HTML('<h5>Short-acting boluses contains the following information</h5>'))\n",
        "print(\"Observations: {}\".format(MV_bol_short.shape[0]))\n",
        "print(\"Patients: {}\".format(MV_bol_short['SUBJECT_ID'].nunique()))\n",
        "print(\"Hospital admissions: {}\".format(MV_bol_short['HADM_ID'].nunique()))\n",
        "print('ICU stays: {}'.format(MV_bol_short['ICUSTAY_ID'].nunique()))"
      ],
      "execution_count": 9,
      "outputs": [
        {
          "output_type": "display_data",
          "data": {
            "text/html": [
              "<h5>Statistics of doses</h5>"
            ],
            "text/plain": [
              "<IPython.core.display.HTML object>"
            ]
          },
          "metadata": {
            "tags": []
          }
        },
        {
          "output_type": "display_data",
          "data": {
            "application/vnd.google.colaboratory.module+javascript": "\n      import \"https://ssl.gstatic.com/colaboratory/data_table/a036b366c3cace79/data_table.js\";\n\n      window.createDataTable({\n        data: [[\"count\",\n{\n            'v': 92916.0,\n            'f': \"92916.0\",\n        }],\n [\"mean\",\n{\n            'v': 4.598589048177385,\n            'f': \"4.598589048177385\",\n        }],\n [\"std\",\n{\n            'v': 4.24100523905481,\n            'f': \"4.24100523905481\",\n        }],\n [\"min\",\n{\n            'v': 0.0,\n            'f': \"0.0\",\n        }],\n [\"25%\",\n{\n            'v': 2.0,\n            'f': \"2.0\",\n        }],\n [\"50%\",\n{\n            'v': 4.0,\n            'f': \"4.0\",\n        }],\n [\"75%\",\n{\n            'v': 6.0,\n            'f': \"6.0\",\n        }],\n [\"max\",\n{\n            'v': 223.0,\n            'f': \"223.0\",\n        }]],\n        columns: [[\"string\", \"index\"], [\"number\", \"AMOUNT\"]],\n        rowsPerPage: 25,\n        helpUrl: \"https://colab.research.google.com/notebooks/data_table.ipynb\",\n      });\n    ",
            "text/html": [
              "<div>\n",
              "<style scoped>\n",
              "    .dataframe tbody tr th:only-of-type {\n",
              "        vertical-align: middle;\n",
              "    }\n",
              "\n",
              "    .dataframe tbody tr th {\n",
              "        vertical-align: top;\n",
              "    }\n",
              "\n",
              "    .dataframe thead th {\n",
              "        text-align: right;\n",
              "    }\n",
              "</style>\n",
              "<table border=\"1\" class=\"dataframe\">\n",
              "  <thead>\n",
              "    <tr style=\"text-align: right;\">\n",
              "      <th></th>\n",
              "      <th>AMOUNT</th>\n",
              "    </tr>\n",
              "  </thead>\n",
              "  <tbody>\n",
              "    <tr>\n",
              "      <th>count</th>\n",
              "      <td>92916.000000</td>\n",
              "    </tr>\n",
              "    <tr>\n",
              "      <th>mean</th>\n",
              "      <td>4.598589</td>\n",
              "    </tr>\n",
              "    <tr>\n",
              "      <th>std</th>\n",
              "      <td>4.241005</td>\n",
              "    </tr>\n",
              "    <tr>\n",
              "      <th>min</th>\n",
              "      <td>0.000000</td>\n",
              "    </tr>\n",
              "    <tr>\n",
              "      <th>25%</th>\n",
              "      <td>2.000000</td>\n",
              "    </tr>\n",
              "    <tr>\n",
              "      <th>50%</th>\n",
              "      <td>4.000000</td>\n",
              "    </tr>\n",
              "    <tr>\n",
              "      <th>75%</th>\n",
              "      <td>6.000000</td>\n",
              "    </tr>\n",
              "    <tr>\n",
              "      <th>max</th>\n",
              "      <td>223.000000</td>\n",
              "    </tr>\n",
              "  </tbody>\n",
              "</table>\n",
              "</div>"
            ],
            "text/plain": [
              "             AMOUNT\n",
              "count  92916.000000\n",
              "mean       4.598589\n",
              "std        4.241005\n",
              "min        0.000000\n",
              "25%        2.000000\n",
              "50%        4.000000\n",
              "75%        6.000000\n",
              "max      223.000000"
            ]
          },
          "metadata": {
            "tags": []
          }
        },
        {
          "output_type": "display_data",
          "data": {
            "text/html": [
              "<h5>Short-acting boluses contains the following information</h5>"
            ],
            "text/plain": [
              "<IPython.core.display.HTML object>"
            ]
          },
          "metadata": {
            "tags": []
          }
        },
        {
          "output_type": "stream",
          "text": [
            "Observations: 92916\n",
            "Patients: 9496\n",
            "Hospital admissions: 11029\n",
            "ICU stays: 11652\n"
          ],
          "name": "stdout"
        }
      ]
    },
    {
      "cell_type": "code",
      "metadata": {
        "id": "ffwXR0gY5KPc",
        "colab_type": "code",
        "outputId": "328db674-b40c-44cd-d018-c8c711c87139",
        "colab": {
          "base_uri": "https://localhost:8080/",
          "height": 0
        }
      },
      "source": [
        "# Remove doses <= 0 U\n",
        "MV_bol_short = MV_bol_short[MV_bol_short['AMOUNT'] > 0]\n",
        "\n",
        "# Estimate 99th percentile for outlier removal\n",
        "P99_bol_s = MV_bol_short['AMOUNT'].quantile(.99)\n",
        "\n",
        "# Drop boluses over 99th percentile\n",
        "MV_bol_short = MV_bol_short[(MV_bol_short['AMOUNT'] < (MV_bol_short['AMOUNT'].quantile(.99)))]\n",
        "\n",
        "# Display results\n",
        "display(HTML('<h5>Short-acting boluses 99th percentile</h5>'))\n",
        "display('P99: {:.3f}'.format(P99_bol_s))\n",
        "\n",
        "display(HTML('<h5>Statistics of doses</h5>'))\n",
        "display(MV_bol_short[['AMOUNT']].describe())\n",
        "\n",
        "display(HTML('<h5>Short-acting boluses contains the following updated information</h5>'))\n",
        "print(\"Observations: {}\".format(MV_bol_short.shape[0]))\n",
        "print(\"Patients: {}\".format(MV_bol_short['SUBJECT_ID'].nunique()))\n",
        "print(\"Hospital admissions: {}\".format(MV_bol_short['HADM_ID'].nunique()))\n",
        "print('ICU stays: {}'.format(MV_bol_short['ICUSTAY_ID'].nunique()))\n",
        "\n",
        "# Item id's\n",
        "display(HTML('<h5>The gathered item ids are:</h5>'))\n",
        "display(MV_bol_short['ITEMID'].value_counts())"
      ],
      "execution_count": 10,
      "outputs": [
        {
          "output_type": "display_data",
          "data": {
            "text/html": [
              "<h5>Short-acting boluses 99th percentile</h5>"
            ],
            "text/plain": [
              "<IPython.core.display.HTML object>"
            ]
          },
          "metadata": {
            "tags": []
          }
        },
        {
          "output_type": "display_data",
          "data": {
            "text/plain": [
              "'P99: 18.000'"
            ]
          },
          "metadata": {
            "tags": []
          }
        },
        {
          "output_type": "display_data",
          "data": {
            "text/html": [
              "<h5>Statistics of doses</h5>"
            ],
            "text/plain": [
              "<IPython.core.display.HTML object>"
            ]
          },
          "metadata": {
            "tags": []
          }
        },
        {
          "output_type": "display_data",
          "data": {
            "application/vnd.google.colaboratory.module+javascript": "\n      import \"https://ssl.gstatic.com/colaboratory/data_table/a036b366c3cace79/data_table.js\";\n\n      window.createDataTable({\n        data: [[\"count\",\n{\n            'v': 88473.0,\n            'f': \"88473.0\",\n        }],\n [\"mean\",\n{\n            'v': 4.518098176838695,\n            'f': \"4.518098176838695\",\n        }],\n [\"std\",\n{\n            'v': 3.0384320947802808,\n            'f': \"3.0384320947802808\",\n        }],\n [\"min\",\n{\n            'v': 0.1,\n            'f': \"0.1\",\n        }],\n [\"25%\",\n{\n            'v': 2.0,\n            'f': \"2.0\",\n        }],\n [\"50%\",\n{\n            'v': 4.0,\n            'f': \"4.0\",\n        }],\n [\"75%\",\n{\n            'v': 6.0,\n            'f': \"6.0\",\n        }],\n [\"max\",\n{\n            'v': 17.0,\n            'f': \"17.0\",\n        }]],\n        columns: [[\"string\", \"index\"], [\"number\", \"AMOUNT\"]],\n        rowsPerPage: 25,\n        helpUrl: \"https://colab.research.google.com/notebooks/data_table.ipynb\",\n      });\n    ",
            "text/html": [
              "<div>\n",
              "<style scoped>\n",
              "    .dataframe tbody tr th:only-of-type {\n",
              "        vertical-align: middle;\n",
              "    }\n",
              "\n",
              "    .dataframe tbody tr th {\n",
              "        vertical-align: top;\n",
              "    }\n",
              "\n",
              "    .dataframe thead th {\n",
              "        text-align: right;\n",
              "    }\n",
              "</style>\n",
              "<table border=\"1\" class=\"dataframe\">\n",
              "  <thead>\n",
              "    <tr style=\"text-align: right;\">\n",
              "      <th></th>\n",
              "      <th>AMOUNT</th>\n",
              "    </tr>\n",
              "  </thead>\n",
              "  <tbody>\n",
              "    <tr>\n",
              "      <th>count</th>\n",
              "      <td>88473.000000</td>\n",
              "    </tr>\n",
              "    <tr>\n",
              "      <th>mean</th>\n",
              "      <td>4.518098</td>\n",
              "    </tr>\n",
              "    <tr>\n",
              "      <th>std</th>\n",
              "      <td>3.038432</td>\n",
              "    </tr>\n",
              "    <tr>\n",
              "      <th>min</th>\n",
              "      <td>0.100000</td>\n",
              "    </tr>\n",
              "    <tr>\n",
              "      <th>25%</th>\n",
              "      <td>2.000000</td>\n",
              "    </tr>\n",
              "    <tr>\n",
              "      <th>50%</th>\n",
              "      <td>4.000000</td>\n",
              "    </tr>\n",
              "    <tr>\n",
              "      <th>75%</th>\n",
              "      <td>6.000000</td>\n",
              "    </tr>\n",
              "    <tr>\n",
              "      <th>max</th>\n",
              "      <td>17.000000</td>\n",
              "    </tr>\n",
              "  </tbody>\n",
              "</table>\n",
              "</div>"
            ],
            "text/plain": [
              "             AMOUNT\n",
              "count  88473.000000\n",
              "mean       4.518098\n",
              "std        3.038432\n",
              "min        0.100000\n",
              "25%        2.000000\n",
              "50%        4.000000\n",
              "75%        6.000000\n",
              "max       17.000000"
            ]
          },
          "metadata": {
            "tags": []
          }
        },
        {
          "output_type": "display_data",
          "data": {
            "text/html": [
              "<h5>Short-acting boluses contains the following updated information</h5>"
            ],
            "text/plain": [
              "<IPython.core.display.HTML object>"
            ]
          },
          "metadata": {
            "tags": []
          }
        },
        {
          "output_type": "stream",
          "text": [
            "Observations: 88473\n",
            "Patients: 9370\n",
            "Hospital admissions: 10877\n",
            "ICU stays: 11484\n"
          ],
          "name": "stdout"
        },
        {
          "output_type": "display_data",
          "data": {
            "text/html": [
              "<h5>The gathered item ids are:</h5>"
            ],
            "text/plain": [
              "<IPython.core.display.HTML object>"
            ]
          },
          "metadata": {
            "tags": []
          }
        },
        {
          "output_type": "display_data",
          "data": {
            "text/plain": [
              "223258    59850\n",
              "223262    28623\n",
              "Name: ITEMID, dtype: int64"
            ]
          },
          "metadata": {
            "tags": []
          }
        }
      ]
    },
    {
      "cell_type": "markdown",
      "metadata": {
        "id": "1Tk5bdtr5SuS",
        "colab_type": "text"
      },
      "source": [
        "### Intermediate-acting insulin boluses"
      ]
    },
    {
      "cell_type": "code",
      "metadata": {
        "id": "BjBEpZy75UAt",
        "colab_type": "code",
        "outputId": "a1b45a97-7738-4914-9ff3-5a0456702359",
        "colab": {
          "base_uri": "https://localhost:8080/",
          "height": 0
        }
      },
      "source": [
        "# Filter intermediate-acting insulin\n",
        "MV_bol_inter = insulin_mv[(insulin_mv['InsulinType']==\"Intermediate\") & \n",
        "                      (insulin_mv['InsulinAdmin'].str.contains('BOLUS'))]\n",
        "\n",
        "display(MV_bol_inter.head())"
      ],
      "execution_count": 11,
      "outputs": [
        {
          "output_type": "display_data",
          "data": {
            "application/vnd.google.colaboratory.module+javascript": "\n      import \"https://ssl.gstatic.com/colaboratory/data_table/a036b366c3cace79/data_table.js\";\n\n      window.createDataTable({\n        data: [[{\n            'v': 248,\n            'f': \"248\",\n        },\n{\n            'v': 50772,\n            'f': \"50772\",\n        },\n{\n            'v': 192069,\n            'f': \"192069\",\n        },\n{\n            'v': 200108.0,\n            'f': \"200108.0\",\n        },\n\"2110-12-10 18:00:00+00:00\",\n\"2110-12-10 18:01:00+00:00\",\n{\n            'v': 11.0,\n            'f': \"11.0\",\n        },\n{\n            'v': NaN,\n            'f': \"NaN\",\n        },\n{\n            'v': 11.0,\n            'f': \"11.0\",\n        },\n{\n            'v': 223257,\n            'f': \"223257\",\n        },\n\"06-Insulin (Non IV)\",\n\"Intermediate\",\n\"BOLUS_INYECTION\",\n{\n            'v': NaN,\n            'f': \"NaN\",\n        },\n\"2110-12-10 19:13:00+00:00\"],\n [{\n            'v': 848,\n            'f': \"848\",\n        },\n{\n            'v': 69110,\n            'f': \"69110\",\n        },\n{\n            'v': 131817,\n            'f': \"131817\",\n        },\n{\n            'v': 200636.0,\n            'f': \"200636.0\",\n        },\n\"2123-02-08 13:17:00+00:00\",\n\"2123-02-08 13:18:00+00:00\",\n{\n            'v': 4.0,\n            'f': \"4.0\",\n        },\n{\n            'v': NaN,\n            'f': \"NaN\",\n        },\n{\n            'v': 4.0,\n            'f': \"4.0\",\n        },\n{\n            'v': 223259,\n            'f': \"223259\",\n        },\n\"06-Insulin (Non IV)\",\n\"Intermediate\",\n\"BOLUS_INYECTION\",\n{\n            'v': NaN,\n            'f': \"NaN\",\n        },\n\"2123-02-08 13:17:00+00:00\"],\n [{\n            'v': 1022,\n            'f': \"1022\",\n        },\n{\n            'v': 4588,\n            'f': \"4588\",\n        },\n{\n            'v': 186721,\n            'f': \"186721\",\n        },\n{\n            'v': 200746.0,\n            'f': \"200746.0\",\n        },\n\"2113-03-04 10:29:00+00:00\",\n\"2113-03-04 10:30:00+00:00\",\n{\n            'v': 10.0,\n            'f': \"10.0\",\n        },\n{\n            'v': NaN,\n            'f': \"NaN\",\n        },\n{\n            'v': 10.0,\n            'f': \"10.0\",\n        },\n{\n            'v': 223259,\n            'f': \"223259\",\n        },\n\"06-Insulin (Non IV)\",\n\"Intermediate\",\n\"BOLUS_INYECTION\",\n{\n            'v': NaN,\n            'f': \"NaN\",\n        },\n\"2113-03-04 10:29:00+00:00\"],\n [{\n            'v': 1190,\n            'f': \"1190\",\n        },\n{\n            'v': 70148,\n            'f': \"70148\",\n        },\n{\n            'v': 195958,\n            'f': \"195958\",\n        },\n{\n            'v': 200924.0,\n            'f': \"200924.0\",\n        },\n\"2173-11-19 22:31:00+00:00\",\n\"2173-11-19 22:32:00+00:00\",\n{\n            'v': 10.0,\n            'f': \"10.0\",\n        },\n{\n            'v': NaN,\n            'f': \"NaN\",\n        },\n{\n            'v': 10.0,\n            'f': \"10.0\",\n        },\n{\n            'v': 223259,\n            'f': \"223259\",\n        },\n\"06-Insulin (Non IV)\",\n\"Intermediate\",\n\"BOLUS_INYECTION\",\n{\n            'v': NaN,\n            'f': \"NaN\",\n        },\n\"2173-11-19 22:31:00+00:00\"],\n [{\n            'v': 1191,\n            'f': \"1191\",\n        },\n{\n            'v': 70148,\n            'f': \"70148\",\n        },\n{\n            'v': 195958,\n            'f': \"195958\",\n        },\n{\n            'v': 200924.0,\n            'f': \"200924.0\",\n        },\n\"2173-11-20 10:39:00+00:00\",\n\"2173-11-20 10:40:00+00:00\",\n{\n            'v': 10.0,\n            'f': \"10.0\",\n        },\n{\n            'v': NaN,\n            'f': \"NaN\",\n        },\n{\n            'v': 10.0,\n            'f': \"10.0\",\n        },\n{\n            'v': 223259,\n            'f': \"223259\",\n        },\n\"06-Insulin (Non IV)\",\n\"Intermediate\",\n\"BOLUS_INYECTION\",\n{\n            'v': NaN,\n            'f': \"NaN\",\n        },\n\"2173-11-20 11:39:00+00:00\"]],\n        columns: [[\"number\", \"index\"], [\"number\", \"SUBJECT_ID\"], [\"number\", \"HADM_ID\"], [\"number\", \"ICUSTAY_ID\"], [\"string\", \"STARTTIME\"], [\"string\", \"ENDTIME\"], [\"number\", \"AMOUNT\"], [\"number\", \"RATE\"], [\"number\", \"ORIGINALRATE\"], [\"number\", \"ITEMID\"], [\"string\", \"ORDERCATEGORYNAME\"], [\"string\", \"InsulinType\"], [\"string\", \"InsulinAdmin\"], [\"number\", \"INFXSTOP\"], [\"string\", \"STORETIME\"]],\n        rowsPerPage: 25,\n        helpUrl: \"https://colab.research.google.com/notebooks/data_table.ipynb\",\n      });\n    ",
            "text/html": [
              "<div>\n",
              "<style scoped>\n",
              "    .dataframe tbody tr th:only-of-type {\n",
              "        vertical-align: middle;\n",
              "    }\n",
              "\n",
              "    .dataframe tbody tr th {\n",
              "        vertical-align: top;\n",
              "    }\n",
              "\n",
              "    .dataframe thead th {\n",
              "        text-align: right;\n",
              "    }\n",
              "</style>\n",
              "<table border=\"1\" class=\"dataframe\">\n",
              "  <thead>\n",
              "    <tr style=\"text-align: right;\">\n",
              "      <th></th>\n",
              "      <th>SUBJECT_ID</th>\n",
              "      <th>HADM_ID</th>\n",
              "      <th>ICUSTAY_ID</th>\n",
              "      <th>STARTTIME</th>\n",
              "      <th>ENDTIME</th>\n",
              "      <th>AMOUNT</th>\n",
              "      <th>RATE</th>\n",
              "      <th>ORIGINALRATE</th>\n",
              "      <th>ITEMID</th>\n",
              "      <th>ORDERCATEGORYNAME</th>\n",
              "      <th>InsulinType</th>\n",
              "      <th>InsulinAdmin</th>\n",
              "      <th>INFXSTOP</th>\n",
              "      <th>STORETIME</th>\n",
              "    </tr>\n",
              "  </thead>\n",
              "  <tbody>\n",
              "    <tr>\n",
              "      <th>248</th>\n",
              "      <td>50772</td>\n",
              "      <td>192069</td>\n",
              "      <td>200108.0</td>\n",
              "      <td>2110-12-10 18:00:00+00:00</td>\n",
              "      <td>2110-12-10 18:01:00+00:00</td>\n",
              "      <td>11.0</td>\n",
              "      <td>NaN</td>\n",
              "      <td>11.0</td>\n",
              "      <td>223257</td>\n",
              "      <td>06-Insulin (Non IV)</td>\n",
              "      <td>Intermediate</td>\n",
              "      <td>BOLUS_INYECTION</td>\n",
              "      <td>NaN</td>\n",
              "      <td>2110-12-10 19:13:00+00:00</td>\n",
              "    </tr>\n",
              "    <tr>\n",
              "      <th>848</th>\n",
              "      <td>69110</td>\n",
              "      <td>131817</td>\n",
              "      <td>200636.0</td>\n",
              "      <td>2123-02-08 13:17:00+00:00</td>\n",
              "      <td>2123-02-08 13:18:00+00:00</td>\n",
              "      <td>4.0</td>\n",
              "      <td>NaN</td>\n",
              "      <td>4.0</td>\n",
              "      <td>223259</td>\n",
              "      <td>06-Insulin (Non IV)</td>\n",
              "      <td>Intermediate</td>\n",
              "      <td>BOLUS_INYECTION</td>\n",
              "      <td>NaN</td>\n",
              "      <td>2123-02-08 13:17:00+00:00</td>\n",
              "    </tr>\n",
              "    <tr>\n",
              "      <th>1022</th>\n",
              "      <td>4588</td>\n",
              "      <td>186721</td>\n",
              "      <td>200746.0</td>\n",
              "      <td>2113-03-04 10:29:00+00:00</td>\n",
              "      <td>2113-03-04 10:30:00+00:00</td>\n",
              "      <td>10.0</td>\n",
              "      <td>NaN</td>\n",
              "      <td>10.0</td>\n",
              "      <td>223259</td>\n",
              "      <td>06-Insulin (Non IV)</td>\n",
              "      <td>Intermediate</td>\n",
              "      <td>BOLUS_INYECTION</td>\n",
              "      <td>NaN</td>\n",
              "      <td>2113-03-04 10:29:00+00:00</td>\n",
              "    </tr>\n",
              "    <tr>\n",
              "      <th>1190</th>\n",
              "      <td>70148</td>\n",
              "      <td>195958</td>\n",
              "      <td>200924.0</td>\n",
              "      <td>2173-11-19 22:31:00+00:00</td>\n",
              "      <td>2173-11-19 22:32:00+00:00</td>\n",
              "      <td>10.0</td>\n",
              "      <td>NaN</td>\n",
              "      <td>10.0</td>\n",
              "      <td>223259</td>\n",
              "      <td>06-Insulin (Non IV)</td>\n",
              "      <td>Intermediate</td>\n",
              "      <td>BOLUS_INYECTION</td>\n",
              "      <td>NaN</td>\n",
              "      <td>2173-11-19 22:31:00+00:00</td>\n",
              "    </tr>\n",
              "    <tr>\n",
              "      <th>1191</th>\n",
              "      <td>70148</td>\n",
              "      <td>195958</td>\n",
              "      <td>200924.0</td>\n",
              "      <td>2173-11-20 10:39:00+00:00</td>\n",
              "      <td>2173-11-20 10:40:00+00:00</td>\n",
              "      <td>10.0</td>\n",
              "      <td>NaN</td>\n",
              "      <td>10.0</td>\n",
              "      <td>223259</td>\n",
              "      <td>06-Insulin (Non IV)</td>\n",
              "      <td>Intermediate</td>\n",
              "      <td>BOLUS_INYECTION</td>\n",
              "      <td>NaN</td>\n",
              "      <td>2173-11-20 11:39:00+00:00</td>\n",
              "    </tr>\n",
              "  </tbody>\n",
              "</table>\n",
              "</div>"
            ],
            "text/plain": [
              "      SUBJECT_ID  HADM_ID  ...  INFXSTOP                 STORETIME\n",
              "248        50772   192069  ...       NaN 2110-12-10 19:13:00+00:00\n",
              "848        69110   131817  ...       NaN 2123-02-08 13:17:00+00:00\n",
              "1022        4588   186721  ...       NaN 2113-03-04 10:29:00+00:00\n",
              "1190       70148   195958  ...       NaN 2173-11-19 22:31:00+00:00\n",
              "1191       70148   195958  ...       NaN 2173-11-20 11:39:00+00:00\n",
              "\n",
              "[5 rows x 14 columns]"
            ]
          },
          "metadata": {
            "tags": []
          }
        }
      ]
    },
    {
      "cell_type": "code",
      "metadata": {
        "id": "7holkhuL5aVw",
        "colab_type": "code",
        "outputId": "1f80e05e-abde-4d63-8b41-8c55e1bcff2b",
        "colab": {
          "base_uri": "https://localhost:8080/",
          "height": 0
        }
      },
      "source": [
        "# Remove doses <= 0 U\n",
        "MV_bol_inter = MV_bol_inter[MV_bol_inter['AMOUNT'] > 0]\n",
        "\n",
        "# Display results\n",
        "display(HTML('<h5>Statistics of doses</h5>'))\n",
        "display(MV_bol_inter[['AMOUNT']].describe())\n",
        "\n",
        "display(HTML('<h5>Intermediate-acting boluses contains the following information</h5>'))\n",
        "print(\"Observations: {}\".format(MV_bol_inter.shape[0]))\n",
        "print(\"Patients: {}\".format(MV_bol_inter['SUBJECT_ID'].nunique()))\n",
        "print(\"Hospital admissions: {}\".format(MV_bol_inter['HADM_ID'].nunique()))\n",
        "print('ICU stays: {}'.format(MV_bol_inter['ICUSTAY_ID'].nunique()))\n",
        "\n",
        "# Item id's\n",
        "display(HTML('<h5>The gathered item ids are:</h5>'))\n",
        "display(MV_bol_inter['ITEMID'].value_counts())"
      ],
      "execution_count": 12,
      "outputs": [
        {
          "output_type": "display_data",
          "data": {
            "text/html": [
              "<h5>Statistics of doses</h5>"
            ],
            "text/plain": [
              "<IPython.core.display.HTML object>"
            ]
          },
          "metadata": {
            "tags": []
          }
        },
        {
          "output_type": "display_data",
          "data": {
            "application/vnd.google.colaboratory.module+javascript": "\n      import \"https://ssl.gstatic.com/colaboratory/data_table/a036b366c3cace79/data_table.js\";\n\n      window.createDataTable({\n        data: [[\"count\",\n{\n            'v': 3962.0,\n            'f': \"3962.0\",\n        }],\n [\"mean\",\n{\n            'v': 18.57243816254417,\n            'f': \"18.57243816254417\",\n        }],\n [\"std\",\n{\n            'v': 15.330287844144701,\n            'f': \"15.330287844144701\",\n        }],\n [\"min\",\n{\n            'v': 1.0,\n            'f': \"1.0\",\n        }],\n [\"25%\",\n{\n            'v': 8.0,\n            'f': \"8.0\",\n        }],\n [\"50%\",\n{\n            'v': 15.0,\n            'f': \"15.0\",\n        }],\n [\"75%\",\n{\n            'v': 25.0,\n            'f': \"25.0\",\n        }],\n [\"max\",\n{\n            'v': 180.0,\n            'f': \"180.0\",\n        }]],\n        columns: [[\"string\", \"index\"], [\"number\", \"AMOUNT\"]],\n        rowsPerPage: 25,\n        helpUrl: \"https://colab.research.google.com/notebooks/data_table.ipynb\",\n      });\n    ",
            "text/html": [
              "<div>\n",
              "<style scoped>\n",
              "    .dataframe tbody tr th:only-of-type {\n",
              "        vertical-align: middle;\n",
              "    }\n",
              "\n",
              "    .dataframe tbody tr th {\n",
              "        vertical-align: top;\n",
              "    }\n",
              "\n",
              "    .dataframe thead th {\n",
              "        text-align: right;\n",
              "    }\n",
              "</style>\n",
              "<table border=\"1\" class=\"dataframe\">\n",
              "  <thead>\n",
              "    <tr style=\"text-align: right;\">\n",
              "      <th></th>\n",
              "      <th>AMOUNT</th>\n",
              "    </tr>\n",
              "  </thead>\n",
              "  <tbody>\n",
              "    <tr>\n",
              "      <th>count</th>\n",
              "      <td>3962.000000</td>\n",
              "    </tr>\n",
              "    <tr>\n",
              "      <th>mean</th>\n",
              "      <td>18.572438</td>\n",
              "    </tr>\n",
              "    <tr>\n",
              "      <th>std</th>\n",
              "      <td>15.330288</td>\n",
              "    </tr>\n",
              "    <tr>\n",
              "      <th>min</th>\n",
              "      <td>1.000000</td>\n",
              "    </tr>\n",
              "    <tr>\n",
              "      <th>25%</th>\n",
              "      <td>8.000000</td>\n",
              "    </tr>\n",
              "    <tr>\n",
              "      <th>50%</th>\n",
              "      <td>15.000000</td>\n",
              "    </tr>\n",
              "    <tr>\n",
              "      <th>75%</th>\n",
              "      <td>25.000000</td>\n",
              "    </tr>\n",
              "    <tr>\n",
              "      <th>max</th>\n",
              "      <td>180.000000</td>\n",
              "    </tr>\n",
              "  </tbody>\n",
              "</table>\n",
              "</div>"
            ],
            "text/plain": [
              "            AMOUNT\n",
              "count  3962.000000\n",
              "mean     18.572438\n",
              "std      15.330288\n",
              "min       1.000000\n",
              "25%       8.000000\n",
              "50%      15.000000\n",
              "75%      25.000000\n",
              "max     180.000000"
            ]
          },
          "metadata": {
            "tags": []
          }
        },
        {
          "output_type": "display_data",
          "data": {
            "text/html": [
              "<h5>Intermediate-acting boluses contains the following information</h5>"
            ],
            "text/plain": [
              "<IPython.core.display.HTML object>"
            ]
          },
          "metadata": {
            "tags": []
          }
        },
        {
          "output_type": "stream",
          "text": [
            "Observations: 3962\n",
            "Patients: 680\n",
            "Hospital admissions: 781\n",
            "ICU stays: 813\n"
          ],
          "name": "stdout"
        },
        {
          "output_type": "display_data",
          "data": {
            "text/html": [
              "<h5>The gathered item ids are:</h5>"
            ],
            "text/plain": [
              "<IPython.core.display.HTML object>"
            ]
          },
          "metadata": {
            "tags": []
          }
        },
        {
          "output_type": "display_data",
          "data": {
            "text/plain": [
              "223259    3369\n",
              "223257     437\n",
              "223261     156\n",
              "Name: ITEMID, dtype: int64"
            ]
          },
          "metadata": {
            "tags": []
          }
        }
      ]
    },
    {
      "cell_type": "markdown",
      "metadata": {
        "id": "2Ios1ZPD5qS9",
        "colab_type": "text"
      },
      "source": [
        "### Long-acting insulin boluses"
      ]
    },
    {
      "cell_type": "code",
      "metadata": {
        "id": "X_mlujE_5rWS",
        "colab_type": "code",
        "outputId": "47ef6346-3b1c-4702-ff54-158efbfcb5b0",
        "colab": {
          "base_uri": "https://localhost:8080/",
          "height": 0
        }
      },
      "source": [
        "# Filter long-acting insulin boluses\n",
        "MV_bol_long = insulin_mv[(insulin_mv['InsulinType']==\"Long\") & \n",
        "                      (insulin_mv['InsulinAdmin'].str.contains('BOLUS'))]\n",
        "\n",
        "display(MV_bol_long.head())"
      ],
      "execution_count": 13,
      "outputs": [
        {
          "output_type": "display_data",
          "data": {
            "application/vnd.google.colaboratory.module+javascript": "\n      import \"https://ssl.gstatic.com/colaboratory/data_table/a036b366c3cace79/data_table.js\";\n\n      window.createDataTable({\n        data: [[{\n            'v': 48,\n            'f': \"48\",\n        },\n{\n            'v': 11861,\n            'f': \"11861\",\n        },\n{\n            'v': 192256,\n            'f': \"192256\",\n        },\n{\n            'v': 200010.0,\n            'f': \"200010.0\",\n        },\n\"2132-08-05 21:29:00+00:00\",\n\"2132-08-05 21:30:00+00:00\",\n{\n            'v': 20.0,\n            'f': \"20.0\",\n        },\n{\n            'v': NaN,\n            'f': \"NaN\",\n        },\n{\n            'v': 20.0,\n            'f': \"20.0\",\n        },\n{\n            'v': 223260,\n            'f': \"223260\",\n        },\n\"06-Insulin (Non IV)\",\n\"Long\",\n\"BOLUS_INYECTION\",\n{\n            'v': NaN,\n            'f': \"NaN\",\n        },\n\"2132-08-05 21:29:00+00:00\"],\n [{\n            'v': 51,\n            'f': \"51\",\n        },\n{\n            'v': 41710,\n            'f': \"41710\",\n        },\n{\n            'v': 181955,\n            'f': \"181955\",\n        },\n{\n            'v': 200028.0,\n            'f': \"200028.0\",\n        },\n\"2133-10-29 22:15:00+00:00\",\n\"2133-10-29 22:16:00+00:00\",\n{\n            'v': 40.0,\n            'f': \"40.0\",\n        },\n{\n            'v': NaN,\n            'f': \"NaN\",\n        },\n{\n            'v': 40.0,\n            'f': \"40.0\",\n        },\n{\n            'v': 223260,\n            'f': \"223260\",\n        },\n\"06-Insulin (Non IV)\",\n\"Long\",\n\"BOLUS_INYECTION\",\n{\n            'v': NaN,\n            'f': \"NaN\",\n        },\n\"2133-10-29 22:15:00+00:00\"],\n [{\n            'v': 56,\n            'f': \"56\",\n        },\n{\n            'v': 41710,\n            'f': \"41710\",\n        },\n{\n            'v': 181955,\n            'f': \"181955\",\n        },\n{\n            'v': 200028.0,\n            'f': \"200028.0\",\n        },\n\"2133-10-30 22:21:00+00:00\",\n\"2133-10-30 22:22:00+00:00\",\n{\n            'v': 66.0,\n            'f': \"66.0\",\n        },\n{\n            'v': NaN,\n            'f': \"NaN\",\n        },\n{\n            'v': 66.0,\n            'f': \"66.0\",\n        },\n{\n            'v': 223260,\n            'f': \"223260\",\n        },\n\"06-Insulin (Non IV)\",\n\"Long\",\n\"BOLUS_INYECTION\",\n{\n            'v': NaN,\n            'f': \"NaN\",\n        },\n\"2133-10-30 22:21:00+00:00\"],\n [{\n            'v': 61,\n            'f': \"61\",\n        },\n{\n            'v': 41710,\n            'f': \"41710\",\n        },\n{\n            'v': 181955,\n            'f': \"181955\",\n        },\n{\n            'v': 200028.0,\n            'f': \"200028.0\",\n        },\n\"2133-10-31 22:00:00+00:00\",\n\"2133-10-31 22:01:00+00:00\",\n{\n            'v': 66.0,\n            'f': \"66.0\",\n        },\n{\n            'v': NaN,\n            'f': \"NaN\",\n        },\n{\n            'v': 66.0,\n            'f': \"66.0\",\n        },\n{\n            'v': 223260,\n            'f': \"223260\",\n        },\n\"06-Insulin (Non IV)\",\n\"Long\",\n\"BOLUS_INYECTION\",\n{\n            'v': NaN,\n            'f': \"NaN\",\n        },\n\"2133-10-31 22:44:00+00:00\"],\n [{\n            'v': 69,\n            'f': \"69\",\n        },\n{\n            'v': 56369,\n            'f': \"56369\",\n        },\n{\n            'v': 198650,\n            'f': \"198650\",\n        },\n{\n            'v': 200033.0,\n            'f': \"200033.0\",\n        },\n\"2198-08-11 08:00:00+00:00\",\n\"2198-08-11 08:01:00+00:00\",\n{\n            'v': 10.0,\n            'f': \"10.0\",\n        },\n{\n            'v': NaN,\n            'f': \"NaN\",\n        },\n{\n            'v': 10.0,\n            'f': \"10.0\",\n        },\n{\n            'v': 223260,\n            'f': \"223260\",\n        },\n\"06-Insulin (Non IV)\",\n\"Long\",\n\"BOLUS_INYECTION\",\n{\n            'v': NaN,\n            'f': \"NaN\",\n        },\n\"2198-08-11 09:38:00+00:00\"]],\n        columns: [[\"number\", \"index\"], [\"number\", \"SUBJECT_ID\"], [\"number\", \"HADM_ID\"], [\"number\", \"ICUSTAY_ID\"], [\"string\", \"STARTTIME\"], [\"string\", \"ENDTIME\"], [\"number\", \"AMOUNT\"], [\"number\", \"RATE\"], [\"number\", \"ORIGINALRATE\"], [\"number\", \"ITEMID\"], [\"string\", \"ORDERCATEGORYNAME\"], [\"string\", \"InsulinType\"], [\"string\", \"InsulinAdmin\"], [\"number\", \"INFXSTOP\"], [\"string\", \"STORETIME\"]],\n        rowsPerPage: 25,\n        helpUrl: \"https://colab.research.google.com/notebooks/data_table.ipynb\",\n      });\n    ",
            "text/html": [
              "<div>\n",
              "<style scoped>\n",
              "    .dataframe tbody tr th:only-of-type {\n",
              "        vertical-align: middle;\n",
              "    }\n",
              "\n",
              "    .dataframe tbody tr th {\n",
              "        vertical-align: top;\n",
              "    }\n",
              "\n",
              "    .dataframe thead th {\n",
              "        text-align: right;\n",
              "    }\n",
              "</style>\n",
              "<table border=\"1\" class=\"dataframe\">\n",
              "  <thead>\n",
              "    <tr style=\"text-align: right;\">\n",
              "      <th></th>\n",
              "      <th>SUBJECT_ID</th>\n",
              "      <th>HADM_ID</th>\n",
              "      <th>ICUSTAY_ID</th>\n",
              "      <th>STARTTIME</th>\n",
              "      <th>ENDTIME</th>\n",
              "      <th>AMOUNT</th>\n",
              "      <th>RATE</th>\n",
              "      <th>ORIGINALRATE</th>\n",
              "      <th>ITEMID</th>\n",
              "      <th>ORDERCATEGORYNAME</th>\n",
              "      <th>InsulinType</th>\n",
              "      <th>InsulinAdmin</th>\n",
              "      <th>INFXSTOP</th>\n",
              "      <th>STORETIME</th>\n",
              "    </tr>\n",
              "  </thead>\n",
              "  <tbody>\n",
              "    <tr>\n",
              "      <th>48</th>\n",
              "      <td>11861</td>\n",
              "      <td>192256</td>\n",
              "      <td>200010.0</td>\n",
              "      <td>2132-08-05 21:29:00+00:00</td>\n",
              "      <td>2132-08-05 21:30:00+00:00</td>\n",
              "      <td>20.0</td>\n",
              "      <td>NaN</td>\n",
              "      <td>20.0</td>\n",
              "      <td>223260</td>\n",
              "      <td>06-Insulin (Non IV)</td>\n",
              "      <td>Long</td>\n",
              "      <td>BOLUS_INYECTION</td>\n",
              "      <td>NaN</td>\n",
              "      <td>2132-08-05 21:29:00+00:00</td>\n",
              "    </tr>\n",
              "    <tr>\n",
              "      <th>51</th>\n",
              "      <td>41710</td>\n",
              "      <td>181955</td>\n",
              "      <td>200028.0</td>\n",
              "      <td>2133-10-29 22:15:00+00:00</td>\n",
              "      <td>2133-10-29 22:16:00+00:00</td>\n",
              "      <td>40.0</td>\n",
              "      <td>NaN</td>\n",
              "      <td>40.0</td>\n",
              "      <td>223260</td>\n",
              "      <td>06-Insulin (Non IV)</td>\n",
              "      <td>Long</td>\n",
              "      <td>BOLUS_INYECTION</td>\n",
              "      <td>NaN</td>\n",
              "      <td>2133-10-29 22:15:00+00:00</td>\n",
              "    </tr>\n",
              "    <tr>\n",
              "      <th>56</th>\n",
              "      <td>41710</td>\n",
              "      <td>181955</td>\n",
              "      <td>200028.0</td>\n",
              "      <td>2133-10-30 22:21:00+00:00</td>\n",
              "      <td>2133-10-30 22:22:00+00:00</td>\n",
              "      <td>66.0</td>\n",
              "      <td>NaN</td>\n",
              "      <td>66.0</td>\n",
              "      <td>223260</td>\n",
              "      <td>06-Insulin (Non IV)</td>\n",
              "      <td>Long</td>\n",
              "      <td>BOLUS_INYECTION</td>\n",
              "      <td>NaN</td>\n",
              "      <td>2133-10-30 22:21:00+00:00</td>\n",
              "    </tr>\n",
              "    <tr>\n",
              "      <th>61</th>\n",
              "      <td>41710</td>\n",
              "      <td>181955</td>\n",
              "      <td>200028.0</td>\n",
              "      <td>2133-10-31 22:00:00+00:00</td>\n",
              "      <td>2133-10-31 22:01:00+00:00</td>\n",
              "      <td>66.0</td>\n",
              "      <td>NaN</td>\n",
              "      <td>66.0</td>\n",
              "      <td>223260</td>\n",
              "      <td>06-Insulin (Non IV)</td>\n",
              "      <td>Long</td>\n",
              "      <td>BOLUS_INYECTION</td>\n",
              "      <td>NaN</td>\n",
              "      <td>2133-10-31 22:44:00+00:00</td>\n",
              "    </tr>\n",
              "    <tr>\n",
              "      <th>69</th>\n",
              "      <td>56369</td>\n",
              "      <td>198650</td>\n",
              "      <td>200033.0</td>\n",
              "      <td>2198-08-11 08:00:00+00:00</td>\n",
              "      <td>2198-08-11 08:01:00+00:00</td>\n",
              "      <td>10.0</td>\n",
              "      <td>NaN</td>\n",
              "      <td>10.0</td>\n",
              "      <td>223260</td>\n",
              "      <td>06-Insulin (Non IV)</td>\n",
              "      <td>Long</td>\n",
              "      <td>BOLUS_INYECTION</td>\n",
              "      <td>NaN</td>\n",
              "      <td>2198-08-11 09:38:00+00:00</td>\n",
              "    </tr>\n",
              "  </tbody>\n",
              "</table>\n",
              "</div>"
            ],
            "text/plain": [
              "    SUBJECT_ID  HADM_ID  ...  INFXSTOP                 STORETIME\n",
              "48       11861   192256  ...       NaN 2132-08-05 21:29:00+00:00\n",
              "51       41710   181955  ...       NaN 2133-10-29 22:15:00+00:00\n",
              "56       41710   181955  ...       NaN 2133-10-30 22:21:00+00:00\n",
              "61       41710   181955  ...       NaN 2133-10-31 22:44:00+00:00\n",
              "69       56369   198650  ...       NaN 2198-08-11 09:38:00+00:00\n",
              "\n",
              "[5 rows x 14 columns]"
            ]
          },
          "metadata": {
            "tags": []
          }
        }
      ]
    },
    {
      "cell_type": "code",
      "metadata": {
        "id": "ilRB9RZD50cs",
        "colab_type": "code",
        "outputId": "e3eb3143-4290-4bd2-a03f-40bae8b24c13",
        "colab": {
          "base_uri": "https://localhost:8080/",
          "height": 0
        }
      },
      "source": [
        "# Remove doses <= 0 U\n",
        "MV_bol_long = MV_bol_long[MV_bol_long['AMOUNT'] > 0]\n",
        "\n",
        "display(HTML('<h5>Statistics of doses</h5>'))\n",
        "display(MV_bol_long[['AMOUNT']].describe())\n",
        "\n",
        "display(HTML('<h5>Long-acting boluses contains the following information</h5>'))\n",
        "print(\"Observations: {}\".format(MV_bol_long.shape[0]))\n",
        "print(\"Patients: {}\".format(MV_bol_long['SUBJECT_ID'].nunique()))\n",
        "print(\"Hospital admissions: {}\".format(MV_bol_long['HADM_ID'].nunique()))\n",
        "print('ICU stays: {}'.format(MV_bol_long['ICUSTAY_ID'].nunique()))\n",
        "\n",
        "# Item id's\n",
        "display(HTML('<h5>The gathered item ids are:</h5>'))\n",
        "display(MV_bol_long['ITEMID'].value_counts())"
      ],
      "execution_count": 14,
      "outputs": [
        {
          "output_type": "display_data",
          "data": {
            "text/html": [
              "<h5>Statistics of doses</h5>"
            ],
            "text/plain": [
              "<IPython.core.display.HTML object>"
            ]
          },
          "metadata": {
            "tags": []
          }
        },
        {
          "output_type": "display_data",
          "data": {
            "application/vnd.google.colaboratory.module+javascript": "\n      import \"https://ssl.gstatic.com/colaboratory/data_table/a036b366c3cace79/data_table.js\";\n\n      window.createDataTable({\n        data: [[\"count\",\n{\n            'v': 8627.0,\n            'f': \"8627.0\",\n        }],\n [\"mean\",\n{\n            'v': 23.382067926277966,\n            'f': \"23.382067926277966\",\n        }],\n [\"std\",\n{\n            'v': 16.147519838316814,\n            'f': \"16.147519838316814\",\n        }],\n [\"min\",\n{\n            'v': 1.0,\n            'f': \"1.0\",\n        }],\n [\"25%\",\n{\n            'v': 10.0,\n            'f': \"10.0\",\n        }],\n [\"50%\",\n{\n            'v': 20.0,\n            'f': \"20.0\",\n        }],\n [\"75%\",\n{\n            'v': 30.0,\n            'f': \"30.0\",\n        }],\n [\"max\",\n{\n            'v': 180.0,\n            'f': \"180.0\",\n        }]],\n        columns: [[\"string\", \"index\"], [\"number\", \"AMOUNT\"]],\n        rowsPerPage: 25,\n        helpUrl: \"https://colab.research.google.com/notebooks/data_table.ipynb\",\n      });\n    ",
            "text/html": [
              "<div>\n",
              "<style scoped>\n",
              "    .dataframe tbody tr th:only-of-type {\n",
              "        vertical-align: middle;\n",
              "    }\n",
              "\n",
              "    .dataframe tbody tr th {\n",
              "        vertical-align: top;\n",
              "    }\n",
              "\n",
              "    .dataframe thead th {\n",
              "        text-align: right;\n",
              "    }\n",
              "</style>\n",
              "<table border=\"1\" class=\"dataframe\">\n",
              "  <thead>\n",
              "    <tr style=\"text-align: right;\">\n",
              "      <th></th>\n",
              "      <th>AMOUNT</th>\n",
              "    </tr>\n",
              "  </thead>\n",
              "  <tbody>\n",
              "    <tr>\n",
              "      <th>count</th>\n",
              "      <td>8627.000000</td>\n",
              "    </tr>\n",
              "    <tr>\n",
              "      <th>mean</th>\n",
              "      <td>23.382068</td>\n",
              "    </tr>\n",
              "    <tr>\n",
              "      <th>std</th>\n",
              "      <td>16.147520</td>\n",
              "    </tr>\n",
              "    <tr>\n",
              "      <th>min</th>\n",
              "      <td>1.000000</td>\n",
              "    </tr>\n",
              "    <tr>\n",
              "      <th>25%</th>\n",
              "      <td>10.000000</td>\n",
              "    </tr>\n",
              "    <tr>\n",
              "      <th>50%</th>\n",
              "      <td>20.000000</td>\n",
              "    </tr>\n",
              "    <tr>\n",
              "      <th>75%</th>\n",
              "      <td>30.000000</td>\n",
              "    </tr>\n",
              "    <tr>\n",
              "      <th>max</th>\n",
              "      <td>180.000000</td>\n",
              "    </tr>\n",
              "  </tbody>\n",
              "</table>\n",
              "</div>"
            ],
            "text/plain": [
              "            AMOUNT\n",
              "count  8627.000000\n",
              "mean     23.382068\n",
              "std      16.147520\n",
              "min       1.000000\n",
              "25%      10.000000\n",
              "50%      20.000000\n",
              "75%      30.000000\n",
              "max     180.000000"
            ]
          },
          "metadata": {
            "tags": []
          }
        },
        {
          "output_type": "display_data",
          "data": {
            "text/html": [
              "<h5>Long-acting boluses contains the following information</h5>"
            ],
            "text/plain": [
              "<IPython.core.display.HTML object>"
            ]
          },
          "metadata": {
            "tags": []
          }
        },
        {
          "output_type": "stream",
          "text": [
            "Observations: 8627\n",
            "Patients: 2908\n",
            "Hospital admissions: 3314\n",
            "ICU stays: 3408\n"
          ],
          "name": "stdout"
        },
        {
          "output_type": "display_data",
          "data": {
            "text/html": [
              "<h5>The gathered item ids are:</h5>"
            ],
            "text/plain": [
              "<IPython.core.display.HTML object>"
            ]
          },
          "metadata": {
            "tags": []
          }
        },
        {
          "output_type": "display_data",
          "data": {
            "text/plain": [
              "223260    8627\n",
              "Name: ITEMID, dtype: int64"
            ]
          },
          "metadata": {
            "tags": []
          }
        }
      ]
    },
    {
      "cell_type": "markdown",
      "metadata": {
        "id": "6NnQunuz6BgJ",
        "colab_type": "text"
      },
      "source": [
        "### Merging boluses and infusions\n",
        "\n",
        "This operation will gather the curated data of each insulin type analyzed above."
      ]
    },
    {
      "cell_type": "code",
      "metadata": {
        "id": "FY5riA8y6Ahw",
        "colab_type": "code",
        "outputId": "320f4770-71f1-456b-fdb0-36834ac294fa",
        "colab": {
          "base_uri": "https://localhost:8080/",
          "height": 0
        }
      },
      "source": [
        "frames = [MV_bol_short, MV_bol_inter, MV_infusions, MV_bol_long]\n",
        "MV_insulin_all = pd.concat(frames, sort = True, verify_integrity=True\n",
        "                             , ignore_index=True, axis = 0)\n",
        "cols = list(MV_bol_short.columns)\n",
        "MV_insulin_all = MV_insulin_all[cols]\n",
        "\n",
        "del frames, cols\n",
        "\n",
        "# Display first lines\n",
        "display(MV_insulin_all.head())"
      ],
      "execution_count": 15,
      "outputs": [
        {
          "output_type": "display_data",
          "data": {
            "application/vnd.google.colaboratory.module+javascript": "\n      import \"https://ssl.gstatic.com/colaboratory/data_table/a036b366c3cace79/data_table.js\";\n\n      window.createDataTable({\n        data: [[{\n            'v': 0,\n            'f': \"0\",\n        },\n{\n            'v': 11861,\n            'f': \"11861\",\n        },\n{\n            'v': 192256,\n            'f': \"192256\",\n        },\n{\n            'v': 200010.0,\n            'f': \"200010.0\",\n        },\n\"2132-08-05 10:00:00+00:00\",\n\"2132-08-05 10:01:00+00:00\",\n{\n            'v': 4.0,\n            'f': \"4.0\",\n        },\n{\n            'v': NaN,\n            'f': \"NaN\",\n        },\n{\n            'v': 4.0,\n            'f': \"4.0\",\n        },\n{\n            'v': 223262,\n            'f': \"223262\",\n        },\n\"06-Insulin (Non IV)\",\n\"Short\",\n\"BOLUS_INYECTION\",\n{\n            'v': NaN,\n            'f': \"NaN\",\n        },\n\"2132-08-05 16:12:00+00:00\"],\n [{\n            'v': 1,\n            'f': \"1\",\n        },\n{\n            'v': 11861,\n            'f': \"11861\",\n        },\n{\n            'v': 192256,\n            'f': \"192256\",\n        },\n{\n            'v': 200010.0,\n            'f': \"200010.0\",\n        },\n\"2132-08-05 16:12:00+00:00\",\n\"2132-08-05 16:13:00+00:00\",\n{\n            'v': 6.0,\n            'f': \"6.0\",\n        },\n{\n            'v': NaN,\n            'f': \"NaN\",\n        },\n{\n            'v': 6.0,\n            'f': \"6.0\",\n        },\n{\n            'v': 223262,\n            'f': \"223262\",\n        },\n\"06-Insulin (Non IV)\",\n\"Short\",\n\"BOLUS_INYECTION\",\n{\n            'v': NaN,\n            'f': \"NaN\",\n        },\n\"2132-08-05 16:12:00+00:00\"],\n [{\n            'v': 2,\n            'f': \"2\",\n        },\n{\n            'v': 11861,\n            'f': \"11861\",\n        },\n{\n            'v': 192256,\n            'f': \"192256\",\n        },\n{\n            'v': 200010.0,\n            'f': \"200010.0\",\n        },\n\"2132-08-05 21:28:00+00:00\",\n\"2132-08-05 21:29:00+00:00\",\n{\n            'v': 8.0,\n            'f': \"8.0\",\n        },\n{\n            'v': NaN,\n            'f': \"NaN\",\n        },\n{\n            'v': 8.0,\n            'f': \"8.0\",\n        },\n{\n            'v': 223262,\n            'f': \"223262\",\n        },\n\"06-Insulin (Non IV)\",\n\"Short\",\n\"BOLUS_INYECTION\",\n{\n            'v': NaN,\n            'f': \"NaN\",\n        },\n\"2132-08-05 21:28:00+00:00\"],\n [{\n            'v': 3,\n            'f': \"3\",\n        },\n{\n            'v': 76603,\n            'f': \"76603\",\n        },\n{\n            'v': 179633,\n            'f': \"179633\",\n        },\n{\n            'v': 200024.0,\n            'f': \"200024.0\",\n        },\n\"2127-03-03 17:30:00+00:00\",\n\"2127-03-03 17:31:00+00:00\",\n{\n            'v': 10.0,\n            'f': \"10.0\",\n        },\n{\n            'v': NaN,\n            'f': \"NaN\",\n        },\n{\n            'v': 10.0,\n            'f': \"10.0\",\n        },\n{\n            'v': 223258,\n            'f': \"223258\",\n        },\n\"06-Insulin (Non IV)\",\n\"Short\",\n\"BOLUS_INYECTION\",\n{\n            'v': NaN,\n            'f': \"NaN\",\n        },\n\"2127-03-03 18:21:00+00:00\"],\n [{\n            'v': 4,\n            'f': \"4\",\n        },\n{\n            'v': 41710,\n            'f': \"41710\",\n        },\n{\n            'v': 181955,\n            'f': \"181955\",\n        },\n{\n            'v': 200028.0,\n            'f': \"200028.0\",\n        },\n\"2133-10-29 22:15:00+00:00\",\n\"2133-10-29 22:16:00+00:00\",\n{\n            'v': 6.0,\n            'f': \"6.0\",\n        },\n{\n            'v': NaN,\n            'f': \"NaN\",\n        },\n{\n            'v': 6.0,\n            'f': \"6.0\",\n        },\n{\n            'v': 223262,\n            'f': \"223262\",\n        },\n\"06-Insulin (Non IV)\",\n\"Short\",\n\"BOLUS_INYECTION\",\n{\n            'v': NaN,\n            'f': \"NaN\",\n        },\n\"2133-10-29 22:15:00+00:00\"]],\n        columns: [[\"number\", \"index\"], [\"number\", \"SUBJECT_ID\"], [\"number\", \"HADM_ID\"], [\"number\", \"ICUSTAY_ID\"], [\"string\", \"STARTTIME\"], [\"string\", \"ENDTIME\"], [\"number\", \"AMOUNT\"], [\"number\", \"RATE\"], [\"number\", \"ORIGINALRATE\"], [\"number\", \"ITEMID\"], [\"string\", \"ORDERCATEGORYNAME\"], [\"string\", \"InsulinType\"], [\"string\", \"InsulinAdmin\"], [\"number\", \"INFXSTOP\"], [\"string\", \"STORETIME\"]],\n        rowsPerPage: 25,\n        helpUrl: \"https://colab.research.google.com/notebooks/data_table.ipynb\",\n      });\n    ",
            "text/html": [
              "<div>\n",
              "<style scoped>\n",
              "    .dataframe tbody tr th:only-of-type {\n",
              "        vertical-align: middle;\n",
              "    }\n",
              "\n",
              "    .dataframe tbody tr th {\n",
              "        vertical-align: top;\n",
              "    }\n",
              "\n",
              "    .dataframe thead th {\n",
              "        text-align: right;\n",
              "    }\n",
              "</style>\n",
              "<table border=\"1\" class=\"dataframe\">\n",
              "  <thead>\n",
              "    <tr style=\"text-align: right;\">\n",
              "      <th></th>\n",
              "      <th>SUBJECT_ID</th>\n",
              "      <th>HADM_ID</th>\n",
              "      <th>ICUSTAY_ID</th>\n",
              "      <th>STARTTIME</th>\n",
              "      <th>ENDTIME</th>\n",
              "      <th>AMOUNT</th>\n",
              "      <th>RATE</th>\n",
              "      <th>ORIGINALRATE</th>\n",
              "      <th>ITEMID</th>\n",
              "      <th>ORDERCATEGORYNAME</th>\n",
              "      <th>InsulinType</th>\n",
              "      <th>InsulinAdmin</th>\n",
              "      <th>INFXSTOP</th>\n",
              "      <th>STORETIME</th>\n",
              "    </tr>\n",
              "  </thead>\n",
              "  <tbody>\n",
              "    <tr>\n",
              "      <th>0</th>\n",
              "      <td>11861</td>\n",
              "      <td>192256</td>\n",
              "      <td>200010.0</td>\n",
              "      <td>2132-08-05 10:00:00+00:00</td>\n",
              "      <td>2132-08-05 10:01:00+00:00</td>\n",
              "      <td>4.0</td>\n",
              "      <td>NaN</td>\n",
              "      <td>4.0</td>\n",
              "      <td>223262</td>\n",
              "      <td>06-Insulin (Non IV)</td>\n",
              "      <td>Short</td>\n",
              "      <td>BOLUS_INYECTION</td>\n",
              "      <td>NaN</td>\n",
              "      <td>2132-08-05 16:12:00+00:00</td>\n",
              "    </tr>\n",
              "    <tr>\n",
              "      <th>1</th>\n",
              "      <td>11861</td>\n",
              "      <td>192256</td>\n",
              "      <td>200010.0</td>\n",
              "      <td>2132-08-05 16:12:00+00:00</td>\n",
              "      <td>2132-08-05 16:13:00+00:00</td>\n",
              "      <td>6.0</td>\n",
              "      <td>NaN</td>\n",
              "      <td>6.0</td>\n",
              "      <td>223262</td>\n",
              "      <td>06-Insulin (Non IV)</td>\n",
              "      <td>Short</td>\n",
              "      <td>BOLUS_INYECTION</td>\n",
              "      <td>NaN</td>\n",
              "      <td>2132-08-05 16:12:00+00:00</td>\n",
              "    </tr>\n",
              "    <tr>\n",
              "      <th>2</th>\n",
              "      <td>11861</td>\n",
              "      <td>192256</td>\n",
              "      <td>200010.0</td>\n",
              "      <td>2132-08-05 21:28:00+00:00</td>\n",
              "      <td>2132-08-05 21:29:00+00:00</td>\n",
              "      <td>8.0</td>\n",
              "      <td>NaN</td>\n",
              "      <td>8.0</td>\n",
              "      <td>223262</td>\n",
              "      <td>06-Insulin (Non IV)</td>\n",
              "      <td>Short</td>\n",
              "      <td>BOLUS_INYECTION</td>\n",
              "      <td>NaN</td>\n",
              "      <td>2132-08-05 21:28:00+00:00</td>\n",
              "    </tr>\n",
              "    <tr>\n",
              "      <th>3</th>\n",
              "      <td>76603</td>\n",
              "      <td>179633</td>\n",
              "      <td>200024.0</td>\n",
              "      <td>2127-03-03 17:30:00+00:00</td>\n",
              "      <td>2127-03-03 17:31:00+00:00</td>\n",
              "      <td>10.0</td>\n",
              "      <td>NaN</td>\n",
              "      <td>10.0</td>\n",
              "      <td>223258</td>\n",
              "      <td>06-Insulin (Non IV)</td>\n",
              "      <td>Short</td>\n",
              "      <td>BOLUS_INYECTION</td>\n",
              "      <td>NaN</td>\n",
              "      <td>2127-03-03 18:21:00+00:00</td>\n",
              "    </tr>\n",
              "    <tr>\n",
              "      <th>4</th>\n",
              "      <td>41710</td>\n",
              "      <td>181955</td>\n",
              "      <td>200028.0</td>\n",
              "      <td>2133-10-29 22:15:00+00:00</td>\n",
              "      <td>2133-10-29 22:16:00+00:00</td>\n",
              "      <td>6.0</td>\n",
              "      <td>NaN</td>\n",
              "      <td>6.0</td>\n",
              "      <td>223262</td>\n",
              "      <td>06-Insulin (Non IV)</td>\n",
              "      <td>Short</td>\n",
              "      <td>BOLUS_INYECTION</td>\n",
              "      <td>NaN</td>\n",
              "      <td>2133-10-29 22:15:00+00:00</td>\n",
              "    </tr>\n",
              "  </tbody>\n",
              "</table>\n",
              "</div>"
            ],
            "text/plain": [
              "   SUBJECT_ID  HADM_ID  ...  INFXSTOP                 STORETIME\n",
              "0       11861   192256  ...       NaN 2132-08-05 16:12:00+00:00\n",
              "1       11861   192256  ...       NaN 2132-08-05 16:12:00+00:00\n",
              "2       11861   192256  ...       NaN 2132-08-05 21:28:00+00:00\n",
              "3       76603   179633  ...       NaN 2127-03-03 18:21:00+00:00\n",
              "4       41710   181955  ...       NaN 2133-10-29 22:15:00+00:00\n",
              "\n",
              "[5 rows x 14 columns]"
            ]
          },
          "metadata": {
            "tags": []
          }
        }
      ]
    },
    {
      "cell_type": "code",
      "metadata": {
        "id": "CEbqRa7p7Bee",
        "colab_type": "code",
        "outputId": "c5341687-a028-45ec-b383-78c4db2958f2",
        "colab": {
          "base_uri": "https://localhost:8080/",
          "height": 0
        }
      },
      "source": [
        "# Display statistics\n",
        "\n",
        "display(HTML('<h5>Statistics of all insulin doses</h5>'))\n",
        "display(MV_insulin_all[['AMOUNT','RATE']].describe())\n",
        "\n",
        "display(HTML('<h5>Contains the following information</h5>'))\n",
        "print(\"Observations: {}\".format(MV_insulin_all.shape[0]))\n",
        "print(\"Patients: {}\".format(MV_insulin_all['SUBJECT_ID'].nunique()))\n",
        "print(\"Hospital admissions: {}\".format(MV_insulin_all['HADM_ID'].nunique()))\n",
        "print('ICU stays: {}'.format(MV_insulin_all['ICUSTAY_ID'].nunique()))\n",
        "\n",
        "# Item id's\n",
        "display(HTML('<h5>The gathered item ids are:</h5>'))\n",
        "display(MV_insulin_all['ITEMID'].value_counts())\n",
        "\n",
        "# Administration route\n",
        "display(HTML('<h5>Administration routes:</h5>'))\n",
        "display(MV_insulin_all['InsulinAdmin'].value_counts())"
      ],
      "execution_count": 16,
      "outputs": [
        {
          "output_type": "display_data",
          "data": {
            "text/html": [
              "<h5>Statistics of all insulin doses</h5>"
            ],
            "text/plain": [
              "<IPython.core.display.HTML object>"
            ]
          },
          "metadata": {
            "tags": []
          }
        },
        {
          "output_type": "display_data",
          "data": {
            "application/vnd.google.colaboratory.module+javascript": "\n      import \"https://ssl.gstatic.com/colaboratory/data_table/a036b366c3cace79/data_table.js\";\n\n      window.createDataTable({\n        data: [[\"count\",\n{\n            'v': 146685.0,\n            'f': \"146685.0\",\n        },\n{\n            'v': 44632.0,\n            'f': \"44632.0\",\n        }],\n [\"mean\",\n{\n            'v': 7.869878605800597,\n            'f': \"7.869878605800597\",\n        },\n{\n            'v': 5.663981219767003,\n            'f': \"5.663981219767003\",\n        }],\n [\"std\",\n{\n            'v': 10.879814104779165,\n            'f': \"10.879814104779165\",\n        },\n{\n            'v': 12.097431632654505,\n            'f': \"12.097431632654505\",\n        }],\n [\"min\",\n{\n            'v': 0.000833313,\n            'f': \"0.000833313\",\n        },\n{\n            'v': 0.0499987824,\n            'f': \"0.0499987824\",\n        }],\n [\"25%\",\n{\n            'v': 2.0,\n            'f': \"2.0\",\n        },\n{\n            'v': 2.0010753300000004,\n            'f': \"2.0010753300000004\",\n        }],\n [\"50%\",\n{\n            'v': 4.0,\n            'f': \"4.0\",\n        },\n{\n            'v': 4.0000002,\n            'f': \"4.0000002\",\n        }],\n [\"75%\",\n{\n            'v': 8.55287595,\n            'f': \"8.55287595\",\n        },\n{\n            'v': 6.0340622999999995,\n            'f': \"6.0340622999999995\",\n        }],\n [\"max\",\n{\n            'v': 500.0000152,\n            'f': \"500.0000152\",\n        },\n{\n            'v': 1084.03188,\n            'f': \"1084.03188\",\n        }]],\n        columns: [[\"string\", \"index\"], [\"number\", \"AMOUNT\"], [\"number\", \"RATE\"]],\n        rowsPerPage: 25,\n        helpUrl: \"https://colab.research.google.com/notebooks/data_table.ipynb\",\n      });\n    ",
            "text/html": [
              "<div>\n",
              "<style scoped>\n",
              "    .dataframe tbody tr th:only-of-type {\n",
              "        vertical-align: middle;\n",
              "    }\n",
              "\n",
              "    .dataframe tbody tr th {\n",
              "        vertical-align: top;\n",
              "    }\n",
              "\n",
              "    .dataframe thead th {\n",
              "        text-align: right;\n",
              "    }\n",
              "</style>\n",
              "<table border=\"1\" class=\"dataframe\">\n",
              "  <thead>\n",
              "    <tr style=\"text-align: right;\">\n",
              "      <th></th>\n",
              "      <th>AMOUNT</th>\n",
              "      <th>RATE</th>\n",
              "    </tr>\n",
              "  </thead>\n",
              "  <tbody>\n",
              "    <tr>\n",
              "      <th>count</th>\n",
              "      <td>146685.000000</td>\n",
              "      <td>44632.000000</td>\n",
              "    </tr>\n",
              "    <tr>\n",
              "      <th>mean</th>\n",
              "      <td>7.869879</td>\n",
              "      <td>5.663981</td>\n",
              "    </tr>\n",
              "    <tr>\n",
              "      <th>std</th>\n",
              "      <td>10.879814</td>\n",
              "      <td>12.097432</td>\n",
              "    </tr>\n",
              "    <tr>\n",
              "      <th>min</th>\n",
              "      <td>0.000833</td>\n",
              "      <td>0.049999</td>\n",
              "    </tr>\n",
              "    <tr>\n",
              "      <th>25%</th>\n",
              "      <td>2.000000</td>\n",
              "      <td>2.001075</td>\n",
              "    </tr>\n",
              "    <tr>\n",
              "      <th>50%</th>\n",
              "      <td>4.000000</td>\n",
              "      <td>4.000000</td>\n",
              "    </tr>\n",
              "    <tr>\n",
              "      <th>75%</th>\n",
              "      <td>8.552876</td>\n",
              "      <td>6.034062</td>\n",
              "    </tr>\n",
              "    <tr>\n",
              "      <th>max</th>\n",
              "      <td>500.000015</td>\n",
              "      <td>1084.031880</td>\n",
              "    </tr>\n",
              "  </tbody>\n",
              "</table>\n",
              "</div>"
            ],
            "text/plain": [
              "              AMOUNT          RATE\n",
              "count  146685.000000  44632.000000\n",
              "mean        7.869879      5.663981\n",
              "std        10.879814     12.097432\n",
              "min         0.000833      0.049999\n",
              "25%         2.000000      2.001075\n",
              "50%         4.000000      4.000000\n",
              "75%         8.552876      6.034062\n",
              "max       500.000015   1084.031880"
            ]
          },
          "metadata": {
            "tags": []
          }
        },
        {
          "output_type": "display_data",
          "data": {
            "text/html": [
              "<h5>Contains the following information</h5>"
            ],
            "text/plain": [
              "<IPython.core.display.HTML object>"
            ]
          },
          "metadata": {
            "tags": []
          }
        },
        {
          "output_type": "stream",
          "text": [
            "Observations: 146685\n",
            "Patients: 9521\n",
            "Hospital admissions: 11097\n",
            "ICU stays: 11729\n"
          ],
          "name": "stdout"
        },
        {
          "output_type": "display_data",
          "data": {
            "text/html": [
              "<h5>The gathered item ids are:</h5>"
            ],
            "text/plain": [
              "<IPython.core.display.HTML object>"
            ]
          },
          "metadata": {
            "tags": []
          }
        },
        {
          "output_type": "display_data",
          "data": {
            "text/plain": [
              "223258    105473\n",
              "223262     28623\n",
              "223260      8627\n",
              "223259      3369\n",
              "223257       437\n",
              "223261       156\n",
              "Name: ITEMID, dtype: int64"
            ]
          },
          "metadata": {
            "tags": []
          }
        },
        {
          "output_type": "display_data",
          "data": {
            "text/html": [
              "<h5>Administration routes:</h5>"
            ],
            "text/plain": [
              "<IPython.core.display.HTML object>"
            ]
          },
          "metadata": {
            "tags": []
          }
        },
        {
          "output_type": "display_data",
          "data": {
            "text/plain": [
              "BOLUS_INYECTION    91761\n",
              "INFUSION           45623\n",
              "BOLUS_PUSH          9301\n",
              "Name: InsulinAdmin, dtype: int64"
            ]
          },
          "metadata": {
            "tags": []
          }
        }
      ]
    },
    {
      "cell_type": "markdown",
      "metadata": {
        "id": "VsP6a4-g7rmr",
        "colab_type": "text"
      },
      "source": [
        "## Glucose readings\n",
        "\n",
        "The following item id's were identified:\n",
        "\n",
        "| Item id | Description                 | Source    |\n",
        "|:-------:|-----------------------------|:---------:|\n",
        "| 807     |Fingerstick Glucose          |CHARTEVENTS|\n",
        "| 811     | Glucose (70-105)            |CHARTEVENTS|\n",
        "| 1529    | Glucose                     |CHARTEVENTS|\n",
        "| 3745    | BloodGlucose                |CHARTEVENTS|\n",
        "| 3744    | Blood Glucose               |CHARTEVENTS|\n",
        "| 225664  | Glucose finger stick        |CHARTEVENTS|\n",
        "| 220621  | Glucose (serum)             |CHARTEVENTS|\n",
        "| 226537  | Glucose (whole blood)       |CHARTEVENTS|\n",
        "| 50931   | GLUCOSE CHEMISTRY BLOOD     |LABEVENTS  |\n",
        "| 50809   | GLUCOSE BLOOD GAS BLOOD)    |LABEVENTS  |"
      ]
    },
    {
      "cell_type": "code",
      "metadata": {
        "id": "UpFVVrvl7vYG",
        "colab_type": "code",
        "outputId": "19e1dcd6-f296-4d59-e04d-6d77ba27917c",
        "colab": {
          "base_uri": "https://localhost:8080/",
          "height": 0
        }
      },
      "source": [
        "warnings.simplefilter('ignore')\n",
        "\n",
        "# Import raw glucose readings\n",
        "projectid = \"milan-datathon\"\n",
        "query = \"\"\"\n",
        "        WITH chart AS(\n",
        "          SELECT ce.subject_id, ce.hadm_id, ce.icustay_id, ce.charttime, ce.storetime\n",
        "          , (CASE\n",
        "              WHEN itemid IN (811,1529,3745,3744,220621,226537,807,225664)\n",
        "              AND ce.valuenum > 0\n",
        "              THEN valuenum            \n",
        "             ELSE null END) AS Glu_Chart\n",
        "          , ce.itemid, 1 AS idi\n",
        "          FROM `physionet-data.mimiciii_clinical.chartevents` ce\n",
        "          WHERE ce.itemid IN(807,  -- Fingerstick Glucose\n",
        "                           811,   --\tGlucose (70-105)\n",
        "                           1529,  --\tGlucose\n",
        "                           3745,  --\tBloodGlucose\n",
        "                           3744,  --\tBlood Glucose\n",
        "                           225664,--\tGlucose finger stick\n",
        "                           220621,--\tGlucose (serum)\n",
        "                           226537 --\tGlucose (whole blood)\n",
        "                           )\n",
        "          AND (ce.error IS null OR ce.error <> 1)\n",
        "        )\n",
        "        , labv AS(\n",
        "          SELECT le.SUBJECT_ID, le.HADM_ID, le.CHARTTIME \n",
        "          , (CASE\n",
        "              WHEN itemid IN (50809,50931) AND valuenum > 0\n",
        "              THEN valuenum ELSE null END) AS Glu_Labv\n",
        "          , itemid, 2 AS idi\n",
        "          FROM `physionet-data.mimiciii_clinical.labevents` le\t \n",
        "          WHERE le.itemid IN(50931  -- GLUCOSE | CHEMISTRY | BLOOD \n",
        "                            , 50809)-- GLUCOSE | BLOOD GAS | BLOOD)\n",
        "        )\n",
        "        -- Join both tables\n",
        "        SELECT pt.SUBJECT_ID, pt.HADM_ID, pt.ICUSTAY_ID\n",
        "        , CAST(pt.CHARTTIME AS TIMESTAMP) AS CHARTTIME\n",
        "        , CAST(pt.STORETIME AS TIMESTAMP) AS STORETIME\n",
        "        , pt.glucose\n",
        "        , COALESCE(pt.CH, pt.LB) AS ITEM_GLC\n",
        "        FROM (\n",
        "        SELECT subject_id, hadm_id, null AS icustay_id, charttime\n",
        "              , null AS storetime, glu_labv AS glucose, itemid AS LB, null AS CH \n",
        "              FROM labv AS le\n",
        "              UNION ALL\n",
        "              SELECT subject_id, hadm_id, icustay_id, charttime, storetime, Glu_Chart, null\n",
        "              , itemid FROM chart as ce\n",
        "              ) pt\n",
        "        WHERE pt.glucose IS NOT null\n",
        "        GROUP BY pt.subject_id,pt.hadm_id,pt.ICUSTAY_ID,pt.charttime,pt.STORETIME,glucose,pt.CH,pt.LB\n",
        "        ORDER BY subject_id,hadm_id,ICUSTAY_ID,charttime\n",
        "    \"\"\" \n",
        "\n",
        "Glucose = q(query,projectid)\n",
        "\n",
        "del query\n",
        "\n",
        "# Coerse columns\n",
        "Glucose[[\"CHARTTIME\",\"STORETIME\"]] = Glucose[\n",
        "    [\"CHARTTIME\",\"STORETIME\"]].apply(pd.to_datetime, format='%Y%m%d %H:%M:%S')\n",
        "\n",
        "# Display first rows\n",
        "display(Glucose.head())"
      ],
      "execution_count": 17,
      "outputs": [
        {
          "output_type": "display_data",
          "data": {
            "application/vnd.google.colaboratory.module+javascript": "\n      import \"https://ssl.gstatic.com/colaboratory/data_table/a036b366c3cace79/data_table.js\";\n\n      window.createDataTable({\n        data: [[{\n            'v': 0,\n            'f': \"0\",\n        },\n{\n            'v': 2,\n            'f': \"2\",\n        },\n{\n            'v': 163353.0,\n            'f': \"163353.0\",\n        },\n{\n            'v': 243653.0,\n            'f': \"243653.0\",\n        },\n\"2138-07-17 20:30:00+00:00\",\n\"2138-07-17 22:07:00+00:00\",\n{\n            'v': 72.0,\n            'f': \"72.0\",\n        },\n{\n            'v': 3745,\n            'f': \"3745\",\n        }],\n [{\n            'v': 1,\n            'f': \"1\",\n        },\n{\n            'v': 3,\n            'f': \"3\",\n        },\n{\n            'v': NaN,\n            'f': \"NaN\",\n        },\n{\n            'v': NaN,\n            'f': \"NaN\",\n        },\n\"2101-10-04 15:24:00+00:00\",\n\"NaT\",\n{\n            'v': 121.0,\n            'f': \"121.0\",\n        },\n{\n            'v': 50931,\n            'f': \"50931\",\n        }],\n [{\n            'v': 2,\n            'f': \"2\",\n        },\n{\n            'v': 3,\n            'f': \"3\",\n        },\n{\n            'v': NaN,\n            'f': \"NaN\",\n        },\n{\n            'v': NaN,\n            'f': \"NaN\",\n        },\n\"2101-10-05 06:00:00+00:00\",\n\"NaT\",\n{\n            'v': 116.0,\n            'f': \"116.0\",\n        },\n{\n            'v': 50931,\n            'f': \"50931\",\n        }],\n [{\n            'v': 3,\n            'f': \"3\",\n        },\n{\n            'v': 3,\n            'f': \"3\",\n        },\n{\n            'v': NaN,\n            'f': \"NaN\",\n        },\n{\n            'v': NaN,\n            'f': \"NaN\",\n        },\n\"2101-10-06 05:45:00+00:00\",\n\"NaT\",\n{\n            'v': 94.0,\n            'f': \"94.0\",\n        },\n{\n            'v': 50931,\n            'f': \"50931\",\n        }],\n [{\n            'v': 4,\n            'f': \"4\",\n        },\n{\n            'v': 3,\n            'f': \"3\",\n        },\n{\n            'v': NaN,\n            'f': \"NaN\",\n        },\n{\n            'v': NaN,\n            'f': \"NaN\",\n        },\n\"2101-10-07 04:30:00+00:00\",\n\"NaT\",\n{\n            'v': 92.0,\n            'f': \"92.0\",\n        },\n{\n            'v': 50931,\n            'f': \"50931\",\n        }]],\n        columns: [[\"number\", \"index\"], [\"number\", \"SUBJECT_ID\"], [\"number\", \"HADM_ID\"], [\"number\", \"ICUSTAY_ID\"], [\"string\", \"CHARTTIME\"], [\"string\", \"STORETIME\"], [\"number\", \"glucose\"], [\"number\", \"ITEM_GLC\"]],\n        rowsPerPage: 25,\n        helpUrl: \"https://colab.research.google.com/notebooks/data_table.ipynb\",\n      });\n    ",
            "text/html": [
              "<div>\n",
              "<style scoped>\n",
              "    .dataframe tbody tr th:only-of-type {\n",
              "        vertical-align: middle;\n",
              "    }\n",
              "\n",
              "    .dataframe tbody tr th {\n",
              "        vertical-align: top;\n",
              "    }\n",
              "\n",
              "    .dataframe thead th {\n",
              "        text-align: right;\n",
              "    }\n",
              "</style>\n",
              "<table border=\"1\" class=\"dataframe\">\n",
              "  <thead>\n",
              "    <tr style=\"text-align: right;\">\n",
              "      <th></th>\n",
              "      <th>SUBJECT_ID</th>\n",
              "      <th>HADM_ID</th>\n",
              "      <th>ICUSTAY_ID</th>\n",
              "      <th>CHARTTIME</th>\n",
              "      <th>STORETIME</th>\n",
              "      <th>glucose</th>\n",
              "      <th>ITEM_GLC</th>\n",
              "    </tr>\n",
              "  </thead>\n",
              "  <tbody>\n",
              "    <tr>\n",
              "      <th>0</th>\n",
              "      <td>2</td>\n",
              "      <td>163353.0</td>\n",
              "      <td>243653.0</td>\n",
              "      <td>2138-07-17 20:30:00+00:00</td>\n",
              "      <td>2138-07-17 22:07:00+00:00</td>\n",
              "      <td>72.0</td>\n",
              "      <td>3745</td>\n",
              "    </tr>\n",
              "    <tr>\n",
              "      <th>1</th>\n",
              "      <td>3</td>\n",
              "      <td>NaN</td>\n",
              "      <td>NaN</td>\n",
              "      <td>2101-10-04 15:24:00+00:00</td>\n",
              "      <td>NaT</td>\n",
              "      <td>121.0</td>\n",
              "      <td>50931</td>\n",
              "    </tr>\n",
              "    <tr>\n",
              "      <th>2</th>\n",
              "      <td>3</td>\n",
              "      <td>NaN</td>\n",
              "      <td>NaN</td>\n",
              "      <td>2101-10-05 06:00:00+00:00</td>\n",
              "      <td>NaT</td>\n",
              "      <td>116.0</td>\n",
              "      <td>50931</td>\n",
              "    </tr>\n",
              "    <tr>\n",
              "      <th>3</th>\n",
              "      <td>3</td>\n",
              "      <td>NaN</td>\n",
              "      <td>NaN</td>\n",
              "      <td>2101-10-06 05:45:00+00:00</td>\n",
              "      <td>NaT</td>\n",
              "      <td>94.0</td>\n",
              "      <td>50931</td>\n",
              "    </tr>\n",
              "    <tr>\n",
              "      <th>4</th>\n",
              "      <td>3</td>\n",
              "      <td>NaN</td>\n",
              "      <td>NaN</td>\n",
              "      <td>2101-10-07 04:30:00+00:00</td>\n",
              "      <td>NaT</td>\n",
              "      <td>92.0</td>\n",
              "      <td>50931</td>\n",
              "    </tr>\n",
              "  </tbody>\n",
              "</table>\n",
              "</div>"
            ],
            "text/plain": [
              "   SUBJECT_ID   HADM_ID  ...  glucose ITEM_GLC\n",
              "0           2  163353.0  ...     72.0     3745\n",
              "1           3       NaN  ...    121.0    50931\n",
              "2           3       NaN  ...    116.0    50931\n",
              "3           3       NaN  ...     94.0    50931\n",
              "4           3       NaN  ...     92.0    50931\n",
              "\n",
              "[5 rows x 7 columns]"
            ]
          },
          "metadata": {
            "tags": []
          }
        }
      ]
    },
    {
      "cell_type": "code",
      "metadata": {
        "id": "xvUYzZuI8FoF",
        "colab_type": "code",
        "outputId": "f7e70d2b-0cee-4034-b205-1a4e44e4df08",
        "colab": {
          "base_uri": "https://localhost:8080/",
          "height": 0
        }
      },
      "source": [
        "# Display statistics\n",
        "\n",
        "display(HTML('<h5>Statistics of all glucose readings</h5>'))\n",
        "display(Glucose[['glucose']].describe())\n",
        "\n",
        "display(HTML('<h5>Contains the following information</h5>'))\n",
        "print(\"Observations: {}\".format(Glucose.shape[0]))\n",
        "print(\"Patients: {}\".format(Glucose['SUBJECT_ID'].nunique()))\n",
        "print(\"Hospital admissions: {}\".format(Glucose['HADM_ID'].nunique()))\n",
        "print('ICU stays: {}'.format(Glucose['ICUSTAY_ID'].nunique()))\n",
        "\n",
        "# Item id's\n",
        "display(HTML('<h5>The gathered item ids are:</h5>'))\n",
        "display(Glucose['ITEM_GLC'].value_counts())"
      ],
      "execution_count": 18,
      "outputs": [
        {
          "output_type": "display_data",
          "data": {
            "text/html": [
              "<h5>Statistics of all glucose readings</h5>"
            ],
            "text/plain": [
              "<IPython.core.display.HTML object>"
            ]
          },
          "metadata": {
            "tags": []
          }
        },
        {
          "output_type": "display_data",
          "data": {
            "application/vnd.google.colaboratory.module+javascript": "\n      import \"https://ssl.gstatic.com/colaboratory/data_table/a036b366c3cace79/data_table.js\";\n\n      window.createDataTable({\n        data: [[\"count\",\n{\n            'v': 2508737.0,\n            'f': \"2508737.0\",\n        }],\n [\"mean\",\n{\n            'v': 137.7640906790947,\n            'f': \"137.7640906790947\",\n        }],\n [\"std\",\n{\n            'v': 894.7668558104133,\n            'f': \"894.7668558104133\",\n        }],\n [\"min\",\n{\n            'v': 0.106,\n            'f': \"0.106\",\n        }],\n [\"25%\",\n{\n            'v': 103.0,\n            'f': \"103.0\",\n        }],\n [\"50%\",\n{\n            'v': 125.0,\n            'f': \"125.0\",\n        }],\n [\"75%\",\n{\n            'v': 155.0,\n            'f': \"155.0\",\n        }],\n [\"max\",\n{\n            'v': 999999.0,\n            'f': \"999999.0\",\n        }]],\n        columns: [[\"string\", \"index\"], [\"number\", \"glucose\"]],\n        rowsPerPage: 25,\n        helpUrl: \"https://colab.research.google.com/notebooks/data_table.ipynb\",\n      });\n    ",
            "text/html": [
              "<div>\n",
              "<style scoped>\n",
              "    .dataframe tbody tr th:only-of-type {\n",
              "        vertical-align: middle;\n",
              "    }\n",
              "\n",
              "    .dataframe tbody tr th {\n",
              "        vertical-align: top;\n",
              "    }\n",
              "\n",
              "    .dataframe thead th {\n",
              "        text-align: right;\n",
              "    }\n",
              "</style>\n",
              "<table border=\"1\" class=\"dataframe\">\n",
              "  <thead>\n",
              "    <tr style=\"text-align: right;\">\n",
              "      <th></th>\n",
              "      <th>glucose</th>\n",
              "    </tr>\n",
              "  </thead>\n",
              "  <tbody>\n",
              "    <tr>\n",
              "      <th>count</th>\n",
              "      <td>2.508737e+06</td>\n",
              "    </tr>\n",
              "    <tr>\n",
              "      <th>mean</th>\n",
              "      <td>1.377641e+02</td>\n",
              "    </tr>\n",
              "    <tr>\n",
              "      <th>std</th>\n",
              "      <td>8.947669e+02</td>\n",
              "    </tr>\n",
              "    <tr>\n",
              "      <th>min</th>\n",
              "      <td>1.060000e-01</td>\n",
              "    </tr>\n",
              "    <tr>\n",
              "      <th>25%</th>\n",
              "      <td>1.030000e+02</td>\n",
              "    </tr>\n",
              "    <tr>\n",
              "      <th>50%</th>\n",
              "      <td>1.250000e+02</td>\n",
              "    </tr>\n",
              "    <tr>\n",
              "      <th>75%</th>\n",
              "      <td>1.550000e+02</td>\n",
              "    </tr>\n",
              "    <tr>\n",
              "      <th>max</th>\n",
              "      <td>9.999990e+05</td>\n",
              "    </tr>\n",
              "  </tbody>\n",
              "</table>\n",
              "</div>"
            ],
            "text/plain": [
              "            glucose\n",
              "count  2.508737e+06\n",
              "mean   1.377641e+02\n",
              "std    8.947669e+02\n",
              "min    1.060000e-01\n",
              "25%    1.030000e+02\n",
              "50%    1.250000e+02\n",
              "75%    1.550000e+02\n",
              "max    9.999990e+05"
            ]
          },
          "metadata": {
            "tags": []
          }
        },
        {
          "output_type": "display_data",
          "data": {
            "text/html": [
              "<h5>Contains the following information</h5>"
            ],
            "text/plain": [
              "<IPython.core.display.HTML object>"
            ]
          },
          "metadata": {
            "tags": []
          }
        },
        {
          "output_type": "stream",
          "text": [
            "Observations: 2508737\n",
            "Patients: 41395\n",
            "Hospital admissions: 53078\n",
            "ICU stays: 54601\n"
          ],
          "name": "stdout"
        },
        {
          "output_type": "display_data",
          "data": {
            "text/html": [
              "<h5>The gathered item ids are:</h5>"
            ],
            "text/plain": [
              "<IPython.core.display.HTML object>"
            ]
          },
          "metadata": {
            "tags": []
          }
        },
        {
          "output_type": "display_data",
          "data": {
            "text/plain": [
              "50931     748747\n",
              "807       431010\n",
              "811       374668\n",
              "1529      283795\n",
              "225664    246001\n",
              "50809     196591\n",
              "220621    154525\n",
              "226537     70231\n",
              "3745        2639\n",
              "3744         530\n",
              "Name: ITEM_GLC, dtype: int64"
            ]
          },
          "metadata": {
            "tags": []
          }
        }
      ]
    },
    {
      "cell_type": "markdown",
      "metadata": {
        "id": "qGTvGI6l9e4H",
        "colab_type": "text"
      },
      "source": [
        "#### Item id's distributions\n",
        "\n",
        "The following chunk would let us to visualizae the distributions of each item id related with glucose readings before futher curation."
      ]
    },
    {
      "cell_type": "code",
      "metadata": {
        "id": "ASpvBBZt9dmf",
        "colab_type": "code",
        "outputId": "e1beaa90-7a00-40bf-9178-e258b3d62f53",
        "colab": {
          "base_uri": "https://localhost:8080/",
          "height": 0
        }
      },
      "source": [
        "# Initialize the FacetGrid object\n",
        "sns.set(style=\"darkgrid\", rc=None)\n",
        "\n",
        "# Plot\n",
        "pal = sns.cubehelix_palette((Glucose['ITEM_GLC'].nunique()), rot=-.4, light=.7)\n",
        "g = sns.FacetGrid(Glucose[Glucose.glucose < 9000]\n",
        "    , row=\"ITEM_GLC\", hue=\"ITEM_GLC\", aspect = 5, palette=pal, row_order=[50931,50809,807,811,1529\n",
        "                                                                          ,225664,220621,226537\n",
        "                                                                          ,3745,3744]\n",
        "                 , height = 2)\n",
        "g.map(sns.stripplot, \"glucose\", clip_on=False, alpha=0.8, jitter=True)\n",
        "g.map(plt.axvline, x=500, ymin=0, ymax=1, clip_on=False, color = 'm')\n",
        "g.map(plt.axvline, x=1000, ymin=0, ymax=1, clip_on=False, color = 'r')\n",
        "plt.xlabel('Glucose (mg/dL)', fontsize=18)\n",
        "plt.xlim(-20,(max(Glucose.glucose[Glucose.glucose < 9000])+10))\n",
        "ax = plt.gca()\n",
        "ax.legend(['500 mg/dL','1000 mg/dL','data'],fontsize=16)\n",
        "ax.tick_params(labelsize = 16)"
      ],
      "execution_count": 19,
      "outputs": [
        {
          "output_type": "display_data",
          "data": {
            "image/png": "[encoded data removed]",
            "text/plain": [
              "<Figure size 720x1440 with 10 Axes>"
            ]
          },
          "metadata": {
            "tags": []
          }
        }
      ]
    },
    {
      "cell_type": "markdown",
      "metadata": {
        "id": "3A3uhGY_-bqg",
        "colab_type": "text"
      },
      "source": [
        "#### Joining information from glucose readings and insulin events.\n",
        "\n",
        "Including only glucose readings from patients that received any insulin input "
      ]
    },
    {
      "cell_type": "code",
      "metadata": {
        "id": "kuQ-hwdH-cJY",
        "colab_type": "code",
        "outputId": "ef892933-4875-4182-9d21-b776647a276e",
        "colab": {
          "base_uri": "https://localhost:8080/",
          "height": 0
        }
      },
      "source": [
        "# Include patients that have insulin info\n",
        "\n",
        "insulin_mv_patients = list(MV_insulin_all.HADM_ID.dropna().unique())\n",
        "\n",
        "Glucose = Glucose[Glucose['HADM_ID'].isin(insulin_mv_patients)]\n",
        "\n",
        "# Display statistics (updated)\n",
        "display(HTML('<h5>Statistics of all glucose readings</h5>'))\n",
        "display(Glucose[['glucose']].describe())\n",
        "\n",
        "display(HTML('<h5>Contains the following information</h5>'))\n",
        "print(\"Observations: {}\".format(Glucose.shape[0]))\n",
        "print(\"Patients: {}\".format(Glucose['SUBJECT_ID'].nunique()))\n",
        "print(\"Hospital admissions: {}\".format(Glucose['HADM_ID'].nunique()))\n",
        "print('ICU stays: {}'.format(Glucose['ICUSTAY_ID'].nunique()))\n",
        "\n",
        "# Item id's\n",
        "display(HTML('<h5>The gathered item ids are:</h5>'))\n",
        "display(Glucose['ITEM_GLC'].value_counts())\n",
        "\n",
        "# Plot\n",
        "pal = sns.cubehelix_palette((Glucose['ITEM_GLC'].nunique()), rot=-.4, light=.7)\n",
        "g = sns.FacetGrid(Glucose[Glucose.glucose < 9000]\n",
        "    , row=\"ITEM_GLC\", hue=\"ITEM_GLC\", aspect = 5, palette=pal, row_order=[50931,50809,807,811,1529\n",
        "                                                                          ,225664,220621,226537]\n",
        "                 , height = 2)\n",
        "g.map(sns.stripplot, \"glucose\", clip_on=False, alpha=0.8, jitter=True)\n",
        "g.map(plt.axvline, x=500, ymin=0, ymax=1, clip_on=False, color = 'm')\n",
        "g.map(plt.axvline, x=1000, ymin=0, ymax=1, clip_on=False, color = 'r')\n",
        "plt.xlabel('Glucose (mg/dL)', fontsize=18)\n",
        "plt.xlim(-20,(max(Glucose.glucose[Glucose.glucose < 9000])+10))\n",
        "ax = plt.gca()\n",
        "ax.legend(['500 mg/dL','1000 mg/dL','data'],fontsize=16)\n",
        "ax.tick_params(labelsize = 16)\n",
        "\n",
        "plt.show()"
      ],
      "execution_count": 20,
      "outputs": [
        {
          "output_type": "display_data",
          "data": {
            "text/html": [
              "<h5>Statistics of all glucose readings</h5>"
            ],
            "text/plain": [
              "<IPython.core.display.HTML object>"
            ]
          },
          "metadata": {
            "tags": []
          }
        },
        {
          "output_type": "display_data",
          "data": {
            "application/vnd.google.colaboratory.module+javascript": "\n      import \"https://ssl.gstatic.com/colaboratory/data_table/a036b366c3cace79/data_table.js\";\n\n      window.createDataTable({\n        data: [[\"count\",\n{\n            'v': 592623.0,\n            'f': \"592623.0\",\n        }],\n [\"mean\",\n{\n            'v': 150.97104674135156,\n            'f': \"150.97104674135156\",\n        }],\n [\"std\",\n{\n            'v': 1838.0468438118721,\n            'f': \"1838.0468438118721\",\n        }],\n [\"min\",\n{\n            'v': 0.133,\n            'f': \"0.133\",\n        }],\n [\"25%\",\n{\n            'v': 110.0,\n            'f': \"110.0\",\n        }],\n [\"50%\",\n{\n            'v': 133.0,\n            'f': \"133.0\",\n        }],\n [\"75%\",\n{\n            'v': 167.0,\n            'f': \"167.0\",\n        }],\n [\"max\",\n{\n            'v': 999999.0,\n            'f': \"999999.0\",\n        }]],\n        columns: [[\"string\", \"index\"], [\"number\", \"glucose\"]],\n        rowsPerPage: 25,\n        helpUrl: \"https://colab.research.google.com/notebooks/data_table.ipynb\",\n      });\n    ",
            "text/html": [
              "<div>\n",
              "<style scoped>\n",
              "    .dataframe tbody tr th:only-of-type {\n",
              "        vertical-align: middle;\n",
              "    }\n",
              "\n",
              "    .dataframe tbody tr th {\n",
              "        vertical-align: top;\n",
              "    }\n",
              "\n",
              "    .dataframe thead th {\n",
              "        text-align: right;\n",
              "    }\n",
              "</style>\n",
              "<table border=\"1\" class=\"dataframe\">\n",
              "  <thead>\n",
              "    <tr style=\"text-align: right;\">\n",
              "      <th></th>\n",
              "      <th>glucose</th>\n",
              "    </tr>\n",
              "  </thead>\n",
              "  <tbody>\n",
              "    <tr>\n",
              "      <th>count</th>\n",
              "      <td>592623.000000</td>\n",
              "    </tr>\n",
              "    <tr>\n",
              "      <th>mean</th>\n",
              "      <td>150.971047</td>\n",
              "    </tr>\n",
              "    <tr>\n",
              "      <th>std</th>\n",
              "      <td>1838.046844</td>\n",
              "    </tr>\n",
              "    <tr>\n",
              "      <th>min</th>\n",
              "      <td>0.133000</td>\n",
              "    </tr>\n",
              "    <tr>\n",
              "      <th>25%</th>\n",
              "      <td>110.000000</td>\n",
              "    </tr>\n",
              "    <tr>\n",
              "      <th>50%</th>\n",
              "      <td>133.000000</td>\n",
              "    </tr>\n",
              "    <tr>\n",
              "      <th>75%</th>\n",
              "      <td>167.000000</td>\n",
              "    </tr>\n",
              "    <tr>\n",
              "      <th>max</th>\n",
              "      <td>999999.000000</td>\n",
              "    </tr>\n",
              "  </tbody>\n",
              "</table>\n",
              "</div>"
            ],
            "text/plain": [
              "             glucose\n",
              "count  592623.000000\n",
              "mean      150.971047\n",
              "std      1838.046844\n",
              "min         0.133000\n",
              "25%       110.000000\n",
              "50%       133.000000\n",
              "75%       167.000000\n",
              "max    999999.000000"
            ]
          },
          "metadata": {
            "tags": []
          }
        },
        {
          "output_type": "display_data",
          "data": {
            "text/html": [
              "<h5>Contains the following information</h5>"
            ],
            "text/plain": [
              "<IPython.core.display.HTML object>"
            ]
          },
          "metadata": {
            "tags": []
          }
        },
        {
          "output_type": "stream",
          "text": [
            "Observations: 592623\n",
            "Patients: 9521\n",
            "Hospital admissions: 11097\n",
            "ICU stays: 12227\n"
          ],
          "name": "stdout"
        },
        {
          "output_type": "display_data",
          "data": {
            "text/html": [
              "<h5>The gathered item ids are:</h5>"
            ],
            "text/plain": [
              "<IPython.core.display.HTML object>"
            ]
          },
          "metadata": {
            "tags": []
          }
        },
        {
          "output_type": "display_data",
          "data": {
            "text/plain": [
              "225664    219093\n",
              "50931     158796\n",
              "220621     98056\n",
              "226537     58431\n",
              "50809      51081\n",
              "1529        3020\n",
              "811         3020\n",
              "807         1126\n",
              "Name: ITEM_GLC, dtype: int64"
            ]
          },
          "metadata": {
            "tags": []
          }
        },
        {
          "output_type": "display_data",
          "data": {
            "image/png": "[encoded data removed]",
            "text/plain": [
              "<Figure size 720x1152 with 8 Axes>"
            ]
          },
          "metadata": {
            "tags": []
          }
        }
      ]
    },
    {
      "cell_type": "code",
      "metadata": {
        "id": "cf-f7UTe_Vt7",
        "colab_type": "code",
        "outputId": "7737d724-1b21-47ca-cc9d-63802d6a46b4",
        "colab": {
          "base_uri": "https://localhost:8080/",
          "height": 0
        }
      },
      "source": [
        "# Remove duplicated: same subject id, hadm id, and charttime\n",
        "Glucose = Glucose.drop_duplicates([\"SUBJECT_ID\",\"HADM_ID\",\"CHARTTIME\"], keep= 'last')\n",
        "Glucose['GLCSOURCE'] = np.nan\n",
        "\n",
        "# Display statistics (updated)\n",
        "display(HTML('<h5>Statistics of all glucose readings</h5>'))\n",
        "display(Glucose[['glucose']].describe())\n",
        "\n",
        "display(HTML('<h5>Contains the following information</h5>'))\n",
        "print(\"Observations: {}\".format(Glucose.shape[0]))\n",
        "print(\"Patients: {}\".format(Glucose['SUBJECT_ID'].nunique()))\n",
        "print(\"Hospital admissions: {}\".format(Glucose['HADM_ID'].nunique()))\n",
        "print('ICU stays: {}'.format(Glucose['ICUSTAY_ID'].nunique()))\n",
        "\n",
        "# Item id's\n",
        "display(HTML('<h5>The gathered item ids are:</h5>'))\n",
        "display(Glucose['ITEM_GLC'].value_counts())\n",
        "\n",
        "# Plot\n",
        "pal = sns.cubehelix_palette((Glucose['ITEM_GLC'].nunique()), rot=-.4, light=.7)\n",
        "g = sns.FacetGrid(Glucose[Glucose.glucose < 9000]\n",
        "    , row=\"ITEM_GLC\", hue=\"ITEM_GLC\", aspect = 5, palette=pal, row_order=[50931,50809,807,1529\n",
        "                                                                          ,225664,220621,226537]\n",
        "                 , height = 2)\n",
        "g.map(sns.stripplot, \"glucose\", clip_on=False, alpha=0.8, jitter=True)\n",
        "g.map(plt.axvline, x=500, ymin=0, ymax=1, clip_on=False, color = 'm')\n",
        "g.map(plt.axvline, x=1000, ymin=0, ymax=1, clip_on=False, color = 'r')\n",
        "plt.xlabel('Glucose (mg/dL)', fontsize=18)\n",
        "plt.xlim(-20,(max(Glucose.glucose[Glucose.glucose < 9000])+10))\n",
        "ax = plt.gca()\n",
        "ax.legend(['500 mg/dL','1000 mg/dL','data'],fontsize=16)\n",
        "ax.tick_params(labelsize = 16)\n",
        "\n",
        "plt.show()"
      ],
      "execution_count": 21,
      "outputs": [
        {
          "output_type": "display_data",
          "data": {
            "text/html": [
              "<h5>Statistics of all glucose readings</h5>"
            ],
            "text/plain": [
              "<IPython.core.display.HTML object>"
            ]
          },
          "metadata": {
            "tags": []
          }
        },
        {
          "output_type": "display_data",
          "data": {
            "application/vnd.google.colaboratory.module+javascript": "\n      import \"https://ssl.gstatic.com/colaboratory/data_table/a036b366c3cace79/data_table.js\";\n\n      window.createDataTable({\n        data: [[\"count\",\n{\n            'v': 534039.0,\n            'f': \"534039.0\",\n        }],\n [\"mean\",\n{\n            'v': 151.98818238555612,\n            'f': \"151.98818238555612\",\n        }],\n [\"std\",\n{\n            'v': 1936.1275843185028,\n            'f': \"1936.1275843185028\",\n        }],\n [\"min\",\n{\n            'v': 0.133,\n            'f': \"0.133\",\n        }],\n [\"25%\",\n{\n            'v': 110.0,\n            'f': \"110.0\",\n        }],\n [\"50%\",\n{\n            'v': 134.0,\n            'f': \"134.0\",\n        }],\n [\"75%\",\n{\n            'v': 168.0,\n            'f': \"168.0\",\n        }],\n [\"max\",\n{\n            'v': 999999.0,\n            'f': \"999999.0\",\n        }]],\n        columns: [[\"string\", \"index\"], [\"number\", \"glucose\"]],\n        rowsPerPage: 25,\n        helpUrl: \"https://colab.research.google.com/notebooks/data_table.ipynb\",\n      });\n    ",
            "text/html": [
              "<div>\n",
              "<style scoped>\n",
              "    .dataframe tbody tr th:only-of-type {\n",
              "        vertical-align: middle;\n",
              "    }\n",
              "\n",
              "    .dataframe tbody tr th {\n",
              "        vertical-align: top;\n",
              "    }\n",
              "\n",
              "    .dataframe thead th {\n",
              "        text-align: right;\n",
              "    }\n",
              "</style>\n",
              "<table border=\"1\" class=\"dataframe\">\n",
              "  <thead>\n",
              "    <tr style=\"text-align: right;\">\n",
              "      <th></th>\n",
              "      <th>glucose</th>\n",
              "    </tr>\n",
              "  </thead>\n",
              "  <tbody>\n",
              "    <tr>\n",
              "      <th>count</th>\n",
              "      <td>534039.000000</td>\n",
              "    </tr>\n",
              "    <tr>\n",
              "      <th>mean</th>\n",
              "      <td>151.988182</td>\n",
              "    </tr>\n",
              "    <tr>\n",
              "      <th>std</th>\n",
              "      <td>1936.127584</td>\n",
              "    </tr>\n",
              "    <tr>\n",
              "      <th>min</th>\n",
              "      <td>0.133000</td>\n",
              "    </tr>\n",
              "    <tr>\n",
              "      <th>25%</th>\n",
              "      <td>110.000000</td>\n",
              "    </tr>\n",
              "    <tr>\n",
              "      <th>50%</th>\n",
              "      <td>134.000000</td>\n",
              "    </tr>\n",
              "    <tr>\n",
              "      <th>75%</th>\n",
              "      <td>168.000000</td>\n",
              "    </tr>\n",
              "    <tr>\n",
              "      <th>max</th>\n",
              "      <td>999999.000000</td>\n",
              "    </tr>\n",
              "  </tbody>\n",
              "</table>\n",
              "</div>"
            ],
            "text/plain": [
              "             glucose\n",
              "count  534039.000000\n",
              "mean      151.988182\n",
              "std      1936.127584\n",
              "min         0.133000\n",
              "25%       110.000000\n",
              "50%       134.000000\n",
              "75%       168.000000\n",
              "max    999999.000000"
            ]
          },
          "metadata": {
            "tags": []
          }
        },
        {
          "output_type": "display_data",
          "data": {
            "text/html": [
              "<h5>Contains the following information</h5>"
            ],
            "text/plain": [
              "<IPython.core.display.HTML object>"
            ]
          },
          "metadata": {
            "tags": []
          }
        },
        {
          "output_type": "stream",
          "text": [
            "Observations: 534039\n",
            "Patients: 9521\n",
            "Hospital admissions: 11097\n",
            "ICU stays: 12227\n"
          ],
          "name": "stdout"
        },
        {
          "output_type": "display_data",
          "data": {
            "text/html": [
              "<h5>The gathered item ids are:</h5>"
            ],
            "text/plain": [
              "<IPython.core.display.HTML object>"
            ]
          },
          "metadata": {
            "tags": []
          }
        },
        {
          "output_type": "display_data",
          "data": {
            "text/plain": [
              "225664    217834\n",
              "50931     122599\n",
              "220621     96588\n",
              "226537     58111\n",
              "50809      34946\n",
              "811         1441\n",
              "1529        1402\n",
              "807         1118\n",
              "Name: ITEM_GLC, dtype: int64"
            ]
          },
          "metadata": {
            "tags": []
          }
        },
        {
          "output_type": "display_data",
          "data": {
            "image/png": "[encoded data removed]",
            "text/plain": [
              "<Figure size 720x1008 with 7 Axes>"
            ]
          },
          "metadata": {
            "tags": []
          }
        }
      ]
    },
    {
      "cell_type": "markdown",
      "metadata": {
        "id": "8_yqefM-_sX7",
        "colab_type": "text"
      },
      "source": [
        "#### Fingerstick & Lab analyzer\n",
        "\n",
        "The following sections is going to analyze the different measuring methodologies"
      ]
    },
    {
      "cell_type": "code",
      "metadata": {
        "id": "ptm6Hmh-_n7A",
        "colab_type": "code",
        "outputId": "649d61ab-ba97-4666-d12b-3efc3dc286a7",
        "colab": {
          "base_uri": "https://localhost:8080/",
          "height": 0
        }
      },
      "source": [
        "# Filter fingerstick\n",
        "Glucose_step3_finger = Glucose[(Glucose['ITEM_GLC'] == 807) | \n",
        "        (Glucose['ITEM_GLC'] == 225664) | (Glucose['ITEM_GLC'] == 226537) | \n",
        "        (Glucose['ITEM_GLC'] == 811) | (Glucose['ITEM_GLC'] == 1529) ]\n",
        "\n",
        "# Display statistics (updated)\n",
        "display(HTML('<h5>Statistics of fingerstick glucose readings</h5>'))\n",
        "display(Glucose_step3_finger[['glucose']].describe())\n",
        "\n",
        "display(HTML('<h5>Contains the following information</h5>'))\n",
        "print(\"Observations: {}\".format(Glucose_step3_finger.shape[0]))\n",
        "print(\"Patients: {}\".format(Glucose_step3_finger['SUBJECT_ID'].nunique()))\n",
        "print(\"Hospital admissions: {}\".format(Glucose_step3_finger['HADM_ID'].nunique()))\n",
        "print('ICU stays: {}'.format(Glucose_step3_finger['ICUSTAY_ID'].nunique()))"
      ],
      "execution_count": 22,
      "outputs": [
        {
          "output_type": "display_data",
          "data": {
            "text/html": [
              "<h5>Statistics of fingerstick glucose readings</h5>"
            ],
            "text/plain": [
              "<IPython.core.display.HTML object>"
            ]
          },
          "metadata": {
            "tags": []
          }
        },
        {
          "output_type": "display_data",
          "data": {
            "application/vnd.google.colaboratory.module+javascript": "\n      import \"https://ssl.gstatic.com/colaboratory/data_table/a036b366c3cace79/data_table.js\";\n\n      window.createDataTable({\n        data: [[\"count\",\n{\n            'v': 279906.0,\n            'f': \"279906.0\",\n        }],\n [\"mean\",\n{\n            'v': 155.15639976635015,\n            'f': \"155.15639976635015\",\n        }],\n [\"std\",\n{\n            'v': 1890.8961925706813,\n            'f': \"1890.8961925706813\",\n        }],\n [\"min\",\n{\n            'v': 0.133,\n            'f': \"0.133\",\n        }],\n [\"25%\",\n{\n            'v': 113.0,\n            'f': \"113.0\",\n        }],\n [\"50%\",\n{\n            'v': 138.0,\n            'f': \"138.0\",\n        }],\n [\"75%\",\n{\n            'v': 173.0,\n            'f': \"173.0\",\n        }],\n [\"max\",\n{\n            'v': 999999.0,\n            'f': \"999999.0\",\n        }]],\n        columns: [[\"string\", \"index\"], [\"number\", \"glucose\"]],\n        rowsPerPage: 25,\n        helpUrl: \"https://colab.research.google.com/notebooks/data_table.ipynb\",\n      });\n    ",
            "text/html": [
              "<div>\n",
              "<style scoped>\n",
              "    .dataframe tbody tr th:only-of-type {\n",
              "        vertical-align: middle;\n",
              "    }\n",
              "\n",
              "    .dataframe tbody tr th {\n",
              "        vertical-align: top;\n",
              "    }\n",
              "\n",
              "    .dataframe thead th {\n",
              "        text-align: right;\n",
              "    }\n",
              "</style>\n",
              "<table border=\"1\" class=\"dataframe\">\n",
              "  <thead>\n",
              "    <tr style=\"text-align: right;\">\n",
              "      <th></th>\n",
              "      <th>glucose</th>\n",
              "    </tr>\n",
              "  </thead>\n",
              "  <tbody>\n",
              "    <tr>\n",
              "      <th>count</th>\n",
              "      <td>279906.000000</td>\n",
              "    </tr>\n",
              "    <tr>\n",
              "      <th>mean</th>\n",
              "      <td>155.156400</td>\n",
              "    </tr>\n",
              "    <tr>\n",
              "      <th>std</th>\n",
              "      <td>1890.896193</td>\n",
              "    </tr>\n",
              "    <tr>\n",
              "      <th>min</th>\n",
              "      <td>0.133000</td>\n",
              "    </tr>\n",
              "    <tr>\n",
              "      <th>25%</th>\n",
              "      <td>113.000000</td>\n",
              "    </tr>\n",
              "    <tr>\n",
              "      <th>50%</th>\n",
              "      <td>138.000000</td>\n",
              "    </tr>\n",
              "    <tr>\n",
              "      <th>75%</th>\n",
              "      <td>173.000000</td>\n",
              "    </tr>\n",
              "    <tr>\n",
              "      <th>max</th>\n",
              "      <td>999999.000000</td>\n",
              "    </tr>\n",
              "  </tbody>\n",
              "</table>\n",
              "</div>"
            ],
            "text/plain": [
              "             glucose\n",
              "count  279906.000000\n",
              "mean      155.156400\n",
              "std      1890.896193\n",
              "min         0.133000\n",
              "25%       113.000000\n",
              "50%       138.000000\n",
              "75%       173.000000\n",
              "max    999999.000000"
            ]
          },
          "metadata": {
            "tags": []
          }
        },
        {
          "output_type": "display_data",
          "data": {
            "text/html": [
              "<h5>Contains the following information</h5>"
            ],
            "text/plain": [
              "<IPython.core.display.HTML object>"
            ]
          },
          "metadata": {
            "tags": []
          }
        },
        {
          "output_type": "stream",
          "text": [
            "Observations: 279906\n",
            "Patients: 9489\n",
            "Hospital admissions: 11054\n",
            "ICU stays: 12025\n"
          ],
          "name": "stdout"
        }
      ]
    },
    {
      "cell_type": "code",
      "metadata": {
        "id": "UXEu6eDqy7a6",
        "colab_type": "code",
        "colab": {
          "base_uri": "https://localhost:8080/",
          "height": 0
        },
        "outputId": "3cd5540e-37ef-46c8-a94f-7103ef4195c8"
      },
      "source": [
        "warnings.simplefilter('ignore')\n",
        "\n",
        "# Remove values over 499\n",
        "Glucose_step3_finger_sat = Glucose_step3_finger[(Glucose_step3_finger['glucose'] < 500)]\n",
        "\n",
        "# Add flag column\n",
        "Glucose_step3_finger_sat['GLCSOURCE'] = \"FINGERSTICK\"\n",
        "\n",
        "# Display statistics (updated)\n",
        "display(HTML('<h5>Statistics of fingerstick glucose readings</h5>'))\n",
        "display(Glucose_step3_finger_sat[['glucose']].describe())\n",
        "\n",
        "display(HTML('<h5>Contains the following information</h5>'))\n",
        "print(\"Observations: {}\".format(Glucose_step3_finger_sat.shape[0]))\n",
        "print(\"Patients: {}\".format(Glucose_step3_finger_sat['SUBJECT_ID'].nunique()))\n",
        "print(\"Hospital admissions: {}\".format(Glucose_step3_finger_sat['HADM_ID'].nunique()))\n",
        "print('ICU stays: {}'.format(Glucose_step3_finger_sat['ICUSTAY_ID'].nunique()))"
      ],
      "execution_count": 23,
      "outputs": [
        {
          "output_type": "display_data",
          "data": {
            "text/html": [
              "<h5>Statistics of fingerstick glucose readings</h5>"
            ],
            "text/plain": [
              "<IPython.core.display.HTML object>"
            ]
          },
          "metadata": {
            "tags": []
          }
        },
        {
          "output_type": "display_data",
          "data": {
            "application/vnd.google.colaboratory.module+javascript": "\n      import \"https://ssl.gstatic.com/colaboratory/data_table/a036b366c3cace79/data_table.js\";\n\n      window.createDataTable({\n        data: [[\"count\",\n{\n            'v': 279760.0,\n            'f': \"279760.0\",\n        }],\n [\"mean\",\n{\n            'v': 151.33680023234203,\n            'f': \"151.33680023234203\",\n        }],\n [\"std\",\n{\n            'v': 59.27375319858891,\n            'f': \"59.27375319858891\",\n        }],\n [\"min\",\n{\n            'v': 0.133,\n            'f': \"0.133\",\n        }],\n [\"25%\",\n{\n            'v': 113.0,\n            'f': \"113.0\",\n        }],\n [\"50%\",\n{\n            'v': 138.0,\n            'f': \"138.0\",\n        }],\n [\"75%\",\n{\n            'v': 173.0,\n            'f': \"173.0\",\n        }],\n [\"max\",\n{\n            'v': 499.0,\n            'f': \"499.0\",\n        }]],\n        columns: [[\"string\", \"index\"], [\"number\", \"glucose\"]],\n        rowsPerPage: 25,\n        helpUrl: \"https://colab.research.google.com/notebooks/data_table.ipynb\",\n      });\n    ",
            "text/html": [
              "<div>\n",
              "<style scoped>\n",
              "    .dataframe tbody tr th:only-of-type {\n",
              "        vertical-align: middle;\n",
              "    }\n",
              "\n",
              "    .dataframe tbody tr th {\n",
              "        vertical-align: top;\n",
              "    }\n",
              "\n",
              "    .dataframe thead th {\n",
              "        text-align: right;\n",
              "    }\n",
              "</style>\n",
              "<table border=\"1\" class=\"dataframe\">\n",
              "  <thead>\n",
              "    <tr style=\"text-align: right;\">\n",
              "      <th></th>\n",
              "      <th>glucose</th>\n",
              "    </tr>\n",
              "  </thead>\n",
              "  <tbody>\n",
              "    <tr>\n",
              "      <th>count</th>\n",
              "      <td>279760.000000</td>\n",
              "    </tr>\n",
              "    <tr>\n",
              "      <th>mean</th>\n",
              "      <td>151.336800</td>\n",
              "    </tr>\n",
              "    <tr>\n",
              "      <th>std</th>\n",
              "      <td>59.273753</td>\n",
              "    </tr>\n",
              "    <tr>\n",
              "      <th>min</th>\n",
              "      <td>0.133000</td>\n",
              "    </tr>\n",
              "    <tr>\n",
              "      <th>25%</th>\n",
              "      <td>113.000000</td>\n",
              "    </tr>\n",
              "    <tr>\n",
              "      <th>50%</th>\n",
              "      <td>138.000000</td>\n",
              "    </tr>\n",
              "    <tr>\n",
              "      <th>75%</th>\n",
              "      <td>173.000000</td>\n",
              "    </tr>\n",
              "    <tr>\n",
              "      <th>max</th>\n",
              "      <td>499.000000</td>\n",
              "    </tr>\n",
              "  </tbody>\n",
              "</table>\n",
              "</div>"
            ],
            "text/plain": [
              "             glucose\n",
              "count  279760.000000\n",
              "mean      151.336800\n",
              "std        59.273753\n",
              "min         0.133000\n",
              "25%       113.000000\n",
              "50%       138.000000\n",
              "75%       173.000000\n",
              "max       499.000000"
            ]
          },
          "metadata": {
            "tags": []
          }
        },
        {
          "output_type": "display_data",
          "data": {
            "text/html": [
              "<h5>Contains the following information</h5>"
            ],
            "text/plain": [
              "<IPython.core.display.HTML object>"
            ]
          },
          "metadata": {
            "tags": []
          }
        },
        {
          "output_type": "stream",
          "text": [
            "Observations: 279760\n",
            "Patients: 9488\n",
            "Hospital admissions: 11052\n",
            "ICU stays: 12023\n"
          ],
          "name": "stdout"
        }
      ]
    },
    {
      "cell_type": "code",
      "metadata": {
        "id": "p55VDrxtzK1d",
        "colab_type": "code",
        "colab": {
          "base_uri": "https://localhost:8080/",
          "height": 0
        },
        "outputId": "4574414e-2c86-4bd3-c4d3-d10df3e5e1e1"
      },
      "source": [
        "# Filter lab samples\n",
        "Glucose_step3_blood = Glucose[((Glucose['ITEM_GLC'] == 3745) | \n",
        "        (Glucose['ITEM_GLC'] == 220621) | (Glucose['ITEM_GLC'] == 50931) | \n",
        "        (Glucose['ITEM_GLC'] == 50809)\n",
        "        )]\n",
        "\n",
        "# Display statistics (updated)\n",
        "display(HTML('<h5>Statistics for lab samples</h5>'))\n",
        "display(Glucose_step3_blood[['glucose']].describe())\n",
        "\n",
        "display(HTML('<h5>Contains the following information</h5>'))\n",
        "print(\"Observations: {}\".format(Glucose_step3_blood.shape[0]))\n",
        "print(\"Patients: {}\".format(Glucose_step3_blood['SUBJECT_ID'].nunique()))\n",
        "print(\"Hospital admissions: {}\".format(Glucose_step3_blood['HADM_ID'].nunique()))\n",
        "print('ICU stays: {}'.format(Glucose_step3_blood['ICUSTAY_ID'].nunique()))"
      ],
      "execution_count": 24,
      "outputs": [
        {
          "output_type": "display_data",
          "data": {
            "text/html": [
              "<h5>Statistics for lab samples</h5>"
            ],
            "text/plain": [
              "<IPython.core.display.HTML object>"
            ]
          },
          "metadata": {
            "tags": []
          }
        },
        {
          "output_type": "display_data",
          "data": {
            "application/vnd.google.colaboratory.module+javascript": "\n      import \"https://ssl.gstatic.com/colaboratory/data_table/a036b366c3cace79/data_table.js\";\n\n      window.createDataTable({\n        data: [[\"count\",\n{\n            'v': 254133.0,\n            'f': \"254133.0\",\n        }],\n [\"mean\",\n{\n            'v': 148.49865896990946,\n            'f': \"148.49865896990946\",\n        }],\n [\"std\",\n{\n            'v': 1984.751468305305,\n            'f': \"1984.751468305305\",\n        }],\n [\"min\",\n{\n            'v': 4.0,\n            'f': \"4.0\",\n        }],\n [\"25%\",\n{\n            'v': 107.0,\n            'f': \"107.0\",\n        }],\n [\"50%\",\n{\n            'v': 129.0,\n            'f': \"129.0\",\n        }],\n [\"75%\",\n{\n            'v': 162.0,\n            'f': \"162.0\",\n        }],\n [\"max\",\n{\n            'v': 999999.0,\n            'f': \"999999.0\",\n        }]],\n        columns: [[\"string\", \"index\"], [\"number\", \"glucose\"]],\n        rowsPerPage: 25,\n        helpUrl: \"https://colab.research.google.com/notebooks/data_table.ipynb\",\n      });\n    ",
            "text/html": [
              "<div>\n",
              "<style scoped>\n",
              "    .dataframe tbody tr th:only-of-type {\n",
              "        vertical-align: middle;\n",
              "    }\n",
              "\n",
              "    .dataframe tbody tr th {\n",
              "        vertical-align: top;\n",
              "    }\n",
              "\n",
              "    .dataframe thead th {\n",
              "        text-align: right;\n",
              "    }\n",
              "</style>\n",
              "<table border=\"1\" class=\"dataframe\">\n",
              "  <thead>\n",
              "    <tr style=\"text-align: right;\">\n",
              "      <th></th>\n",
              "      <th>glucose</th>\n",
              "    </tr>\n",
              "  </thead>\n",
              "  <tbody>\n",
              "    <tr>\n",
              "      <th>count</th>\n",
              "      <td>254133.000000</td>\n",
              "    </tr>\n",
              "    <tr>\n",
              "      <th>mean</th>\n",
              "      <td>148.498659</td>\n",
              "    </tr>\n",
              "    <tr>\n",
              "      <th>std</th>\n",
              "      <td>1984.751468</td>\n",
              "    </tr>\n",
              "    <tr>\n",
              "      <th>min</th>\n",
              "      <td>4.000000</td>\n",
              "    </tr>\n",
              "    <tr>\n",
              "      <th>25%</th>\n",
              "      <td>107.000000</td>\n",
              "    </tr>\n",
              "    <tr>\n",
              "      <th>50%</th>\n",
              "      <td>129.000000</td>\n",
              "    </tr>\n",
              "    <tr>\n",
              "      <th>75%</th>\n",
              "      <td>162.000000</td>\n",
              "    </tr>\n",
              "    <tr>\n",
              "      <th>max</th>\n",
              "      <td>999999.000000</td>\n",
              "    </tr>\n",
              "  </tbody>\n",
              "</table>\n",
              "</div>"
            ],
            "text/plain": [
              "             glucose\n",
              "count  254133.000000\n",
              "mean      148.498659\n",
              "std      1984.751468\n",
              "min         4.000000\n",
              "25%       107.000000\n",
              "50%       129.000000\n",
              "75%       162.000000\n",
              "max    999999.000000"
            ]
          },
          "metadata": {
            "tags": []
          }
        },
        {
          "output_type": "display_data",
          "data": {
            "text/html": [
              "<h5>Contains the following information</h5>"
            ],
            "text/plain": [
              "<IPython.core.display.HTML object>"
            ]
          },
          "metadata": {
            "tags": []
          }
        },
        {
          "output_type": "stream",
          "text": [
            "Observations: 254133\n",
            "Patients: 9520\n",
            "Hospital admissions: 11095\n",
            "ICU stays: 12078\n"
          ],
          "name": "stdout"
        }
      ]
    },
    {
      "cell_type": "code",
      "metadata": {
        "id": "iY5Ga4A32Ik1",
        "colab_type": "code",
        "colab": {
          "base_uri": "https://localhost:8080/",
          "height": 0
        },
        "outputId": "8eb4beca-50d6-4c76-bbbe-aa2d18eb84a4"
      },
      "source": [
        "# Remove values over 1000\n",
        "Glucose_step3_blood_sat = Glucose_step3_blood[(Glucose_step3_blood['glucose'] < 1000)]\n",
        "\n",
        "# Add flag column\n",
        "Glucose_step3_blood_sat['GLCSOURCE'] = \"BLOOD\"\n",
        "\n",
        "# Display statistics (updated)\n",
        "display(HTML('<h5>Statistics for lab samples</h5>'))\n",
        "display(Glucose_step3_blood_sat[['glucose']].describe())\n",
        "\n",
        "display(HTML('<h5>Contains the following information</h5>'))\n",
        "print(\"Observations: {}\".format(Glucose_step3_blood_sat.shape[0]))\n",
        "print(\"Patients: {}\".format(Glucose_step3_blood_sat['SUBJECT_ID'].nunique()))\n",
        "print(\"Hospital admissions: {}\".format(Glucose_step3_blood_sat['HADM_ID'].nunique()))\n",
        "print('ICU stays: {}'.format(Glucose_step3_blood_sat['ICUSTAY_ID'].nunique()))"
      ],
      "execution_count": 25,
      "outputs": [
        {
          "output_type": "display_data",
          "data": {
            "text/html": [
              "<h5>Statistics for lab samples</h5>"
            ],
            "text/plain": [
              "<IPython.core.display.HTML object>"
            ]
          },
          "metadata": {
            "tags": []
          }
        },
        {
          "output_type": "display_data",
          "data": {
            "application/vnd.google.colaboratory.module+javascript": "\n      import \"https://ssl.gstatic.com/colaboratory/data_table/a036b366c3cace79/data_table.js\";\n\n      window.createDataTable({\n        data: [[\"count\",\n{\n            'v': 253989.0,\n            'f': \"253989.0\",\n        }],\n [\"mean\",\n{\n            'v': 143.7978916409766,\n            'f': \"143.7978916409766\",\n        }],\n [\"std\",\n{\n            'v': 64.28059181428647,\n            'f': \"64.28059181428647\",\n        }],\n [\"min\",\n{\n            'v': 4.0,\n            'f': \"4.0\",\n        }],\n [\"25%\",\n{\n            'v': 107.0,\n            'f': \"107.0\",\n        }],\n [\"50%\",\n{\n            'v': 129.0,\n            'f': \"129.0\",\n        }],\n [\"75%\",\n{\n            'v': 162.0,\n            'f': \"162.0\",\n        }],\n [\"max\",\n{\n            'v': 999.0,\n            'f': \"999.0\",\n        }]],\n        columns: [[\"string\", \"index\"], [\"number\", \"glucose\"]],\n        rowsPerPage: 25,\n        helpUrl: \"https://colab.research.google.com/notebooks/data_table.ipynb\",\n      });\n    ",
            "text/html": [
              "<div>\n",
              "<style scoped>\n",
              "    .dataframe tbody tr th:only-of-type {\n",
              "        vertical-align: middle;\n",
              "    }\n",
              "\n",
              "    .dataframe tbody tr th {\n",
              "        vertical-align: top;\n",
              "    }\n",
              "\n",
              "    .dataframe thead th {\n",
              "        text-align: right;\n",
              "    }\n",
              "</style>\n",
              "<table border=\"1\" class=\"dataframe\">\n",
              "  <thead>\n",
              "    <tr style=\"text-align: right;\">\n",
              "      <th></th>\n",
              "      <th>glucose</th>\n",
              "    </tr>\n",
              "  </thead>\n",
              "  <tbody>\n",
              "    <tr>\n",
              "      <th>count</th>\n",
              "      <td>253989.000000</td>\n",
              "    </tr>\n",
              "    <tr>\n",
              "      <th>mean</th>\n",
              "      <td>143.797892</td>\n",
              "    </tr>\n",
              "    <tr>\n",
              "      <th>std</th>\n",
              "      <td>64.280592</td>\n",
              "    </tr>\n",
              "    <tr>\n",
              "      <th>min</th>\n",
              "      <td>4.000000</td>\n",
              "    </tr>\n",
              "    <tr>\n",
              "      <th>25%</th>\n",
              "      <td>107.000000</td>\n",
              "    </tr>\n",
              "    <tr>\n",
              "      <th>50%</th>\n",
              "      <td>129.000000</td>\n",
              "    </tr>\n",
              "    <tr>\n",
              "      <th>75%</th>\n",
              "      <td>162.000000</td>\n",
              "    </tr>\n",
              "    <tr>\n",
              "      <th>max</th>\n",
              "      <td>999.000000</td>\n",
              "    </tr>\n",
              "  </tbody>\n",
              "</table>\n",
              "</div>"
            ],
            "text/plain": [
              "             glucose\n",
              "count  253989.000000\n",
              "mean      143.797892\n",
              "std        64.280592\n",
              "min         4.000000\n",
              "25%       107.000000\n",
              "50%       129.000000\n",
              "75%       162.000000\n",
              "max       999.000000"
            ]
          },
          "metadata": {
            "tags": []
          }
        },
        {
          "output_type": "display_data",
          "data": {
            "text/html": [
              "<h5>Contains the following information</h5>"
            ],
            "text/plain": [
              "<IPython.core.display.HTML object>"
            ]
          },
          "metadata": {
            "tags": []
          }
        },
        {
          "output_type": "stream",
          "text": [
            "Observations: 253989\n",
            "Patients: 9520\n",
            "Hospital admissions: 11095\n",
            "ICU stays: 12078\n"
          ],
          "name": "stdout"
        }
      ]
    },
    {
      "cell_type": "code",
      "metadata": {
        "id": "Ix1IIPCh3NtZ",
        "colab_type": "code",
        "colab": {
          "base_uri": "https://localhost:8080/",
          "height": 0
        },
        "outputId": "4cad1aea-0f4c-4daa-ae6f-c8ca48919878"
      },
      "source": [
        "warnings.simplefilter('default')\n",
        "\n",
        "# Merge both sources\n",
        "\n",
        "Glucose_step3 = pd.concat([Glucose_step3_finger_sat, Glucose_step3_blood_sat]\n",
        ", keys=['SUBJECT_ID', 'HADM_ID'], verify_integrity=True\n",
        ", ignore_index=True)\n",
        "\n",
        "# Display statistics (updated)\n",
        "display(HTML('<h5>Statistics for all glucose readings</h5>'))\n",
        "display(Glucose_step3[['glucose']].describe())\n",
        "\n",
        "display(HTML('<h5>Contains the following information</h5>'))\n",
        "print(\"Observations: {}\".format(Glucose_step3.shape[0]))\n",
        "print(\"Patients: {}\".format(Glucose_step3['SUBJECT_ID'].nunique()))\n",
        "print(\"Hospital admissions: {}\".format(Glucose_step3['HADM_ID'].nunique()))\n",
        "print('ICU stays: {}'.format(Glucose_step3['ICUSTAY_ID'].nunique()))"
      ],
      "execution_count": 26,
      "outputs": [
        {
          "output_type": "display_data",
          "data": {
            "text/html": [
              "<h5>Statistics for all glucose readings</h5>"
            ],
            "text/plain": [
              "<IPython.core.display.HTML object>"
            ]
          },
          "metadata": {
            "tags": []
          }
        },
        {
          "output_type": "display_data",
          "data": {
            "application/vnd.google.colaboratory.module+javascript": "\n      import \"https://ssl.gstatic.com/colaboratory/data_table/a036b366c3cace79/data_table.js\";\n\n      window.createDataTable({\n        data: [[\"count\",\n{\n            'v': 533749.0,\n            'f': \"533749.0\",\n        }],\n [\"mean\",\n{\n            'v': 147.74934647746412,\n            'f': \"147.74934647746412\",\n        }],\n [\"std\",\n{\n            'v': 61.821681606902416,\n            'f': \"61.821681606902416\",\n        }],\n [\"min\",\n{\n            'v': 0.133,\n            'f': \"0.133\",\n        }],\n [\"25%\",\n{\n            'v': 110.0,\n            'f': \"110.0\",\n        }],\n [\"50%\",\n{\n            'v': 134.0,\n            'f': \"134.0\",\n        }],\n [\"75%\",\n{\n            'v': 168.0,\n            'f': \"168.0\",\n        }],\n [\"max\",\n{\n            'v': 999.0,\n            'f': \"999.0\",\n        }]],\n        columns: [[\"string\", \"index\"], [\"number\", \"glucose\"]],\n        rowsPerPage: 25,\n        helpUrl: \"https://colab.research.google.com/notebooks/data_table.ipynb\",\n      });\n    ",
            "text/html": [
              "<div>\n",
              "<style scoped>\n",
              "    .dataframe tbody tr th:only-of-type {\n",
              "        vertical-align: middle;\n",
              "    }\n",
              "\n",
              "    .dataframe tbody tr th {\n",
              "        vertical-align: top;\n",
              "    }\n",
              "\n",
              "    .dataframe thead th {\n",
              "        text-align: right;\n",
              "    }\n",
              "</style>\n",
              "<table border=\"1\" class=\"dataframe\">\n",
              "  <thead>\n",
              "    <tr style=\"text-align: right;\">\n",
              "      <th></th>\n",
              "      <th>glucose</th>\n",
              "    </tr>\n",
              "  </thead>\n",
              "  <tbody>\n",
              "    <tr>\n",
              "      <th>count</th>\n",
              "      <td>533749.000000</td>\n",
              "    </tr>\n",
              "    <tr>\n",
              "      <th>mean</th>\n",
              "      <td>147.749346</td>\n",
              "    </tr>\n",
              "    <tr>\n",
              "      <th>std</th>\n",
              "      <td>61.821682</td>\n",
              "    </tr>\n",
              "    <tr>\n",
              "      <th>min</th>\n",
              "      <td>0.133000</td>\n",
              "    </tr>\n",
              "    <tr>\n",
              "      <th>25%</th>\n",
              "      <td>110.000000</td>\n",
              "    </tr>\n",
              "    <tr>\n",
              "      <th>50%</th>\n",
              "      <td>134.000000</td>\n",
              "    </tr>\n",
              "    <tr>\n",
              "      <th>75%</th>\n",
              "      <td>168.000000</td>\n",
              "    </tr>\n",
              "    <tr>\n",
              "      <th>max</th>\n",
              "      <td>999.000000</td>\n",
              "    </tr>\n",
              "  </tbody>\n",
              "</table>\n",
              "</div>"
            ],
            "text/plain": [
              "             glucose\n",
              "count  533749.000000\n",
              "mean      147.749346\n",
              "std        61.821682\n",
              "min         0.133000\n",
              "25%       110.000000\n",
              "50%       134.000000\n",
              "75%       168.000000\n",
              "max       999.000000"
            ]
          },
          "metadata": {
            "tags": []
          }
        },
        {
          "output_type": "display_data",
          "data": {
            "text/html": [
              "<h5>Contains the following information</h5>"
            ],
            "text/plain": [
              "<IPython.core.display.HTML object>"
            ]
          },
          "metadata": {
            "tags": []
          }
        },
        {
          "output_type": "stream",
          "text": [
            "Observations: 533749\n",
            "Patients: 9521\n",
            "Hospital admissions: 11097\n",
            "ICU stays: 12227\n"
          ],
          "name": "stdout"
        }
      ]
    },
    {
      "cell_type": "markdown",
      "metadata": {
        "id": "PFygxpP43pmO",
        "colab_type": "text"
      },
      "source": [
        "#### CHARTTIME and STORETIME disadjustment"
      ]
    },
    {
      "cell_type": "code",
      "metadata": {
        "id": "OXmzO5Hf5pm0",
        "colab_type": "code",
        "colab": {
          "base_uri": "https://localhost:8080/",
          "height": 0
        },
        "outputId": "1a0ce3e4-6ad5-46c2-b671-00a2232292e5"
      },
      "source": [
        "warnings.simplefilter('ignore')\n",
        "\n",
        "# Find: (CASE WHEN pt.charttime < pt.storetime THEN pt.charttime ELSE pt.storetime END) AS timer_\n",
        "Glucose['CHART_STORE'] = Glucose['CHARTTIME'] > Glucose['STORETIME']\n",
        "Glucose_final = Glucose_step3.copy()\n",
        "Glucose_final['CHART_STORE'] = Glucose_final['CHARTTIME'] > Glucose_final['STORETIME']\n",
        "\n",
        "# Replace\n",
        "Glucose_final.loc[(Glucose_final['CHART_STORE'] == True),'CHARTTIME'] = Glucose_final['STORETIME']\n",
        "\n",
        "# Create subset for plotting\n",
        "step4_switch_cases = Glucose[(Glucose.CHART_STORE == True)].copy()\n",
        "step4_switch_cases['TIMEDELTA'] = abs(step4_switch_cases.CHARTTIME \n",
        "                  - step4_switch_cases.STORETIME).dt.seconds\n",
        "\n",
        "# Display statistics\n",
        "display(HTML('<h5>Statistics for all glucose readings that got switched their time stamps</h5>'))\n",
        "display(step4_switch_cases[['glucose']].describe())\n",
        "\n",
        "display(HTML('<h5>Contains the following information</h5>'))\n",
        "print(\"Observations: {}\".format(step4_switch_cases.shape[0]))\n",
        "print(\"Patients: {}\".format(step4_switch_cases['SUBJECT_ID'].nunique()))\n",
        "print(\"Hospital admissions: {}\".format(step4_switch_cases['HADM_ID'].nunique()))\n",
        "print('ICU stays: {}'.format(step4_switch_cases['ICUSTAY_ID'].nunique()))\n",
        "\n",
        "# Scatterplottimedelta\n",
        "plt.figure(figsize=(12,10))\n",
        "df = step4_switch_cases.loc[step4_switch_cases['CHART_STORE']==True]\n",
        "df['TIMEDELTA']=df['TIMEDELTA']/60\n",
        "sns.scatterplot(x=\"TIMEDELTA\",y=\"glucose\",data=df,alpha=0.3)\n",
        "plt.title('Time difference (CHARTTIME - STORETIME) n='+str(df.shape[0])\n",
        "        ,fontsize=18)\n",
        "plt.vlines(df['TIMEDELTA'].quantile(0.50), 0, max(df.glucose)\n",
        "    , color = 'red', linestyles='--',label='Median (25 min)')\n",
        "plt.vlines(df['TIMEDELTA'].quantile(0.95), 0, max(df.glucose)\n",
        "    , color = '#34A853', linestyles='--',label='$P$ = 95$^{TH}$ (32 min)')\n",
        "plt.vlines(df['TIMEDELTA'].quantile(0.99), 0, max(df.glucose)\n",
        "    , color = '#9CBF38', linestyles='--',label='$P$ = 99$^{TH}$ (54 min)')\n",
        "plt.vlines(90, 0, max(df.glucose), color = '#E7BE2D', linestyles='dotted'\n",
        "           ,label='90 min')\n",
        "plt.xlabel('$\\Delta$ time (min)', fontsize=18)\n",
        "plt.ylabel('Glucose (mg/dL)', fontsize=18)\n",
        "plt.ylim(0,(max(df.glucose)))\n",
        "plt.xlim(0,(max(df.TIMEDELTA)+100))\n",
        "ax = plt.gca()\n",
        "ax.tick_params(axis = 'both', which = 'major', labelsize = 18)\n",
        "ax.legend(fontsize=18)\n",
        "plt.show()"
      ],
      "execution_count": 27,
      "outputs": [
        {
          "output_type": "stream",
          "text": [
            "<input>:41: DeprecationWarning: invalid escape sequence \\D\n",
            "<input>:41: DeprecationWarning: invalid escape sequence \\D\n",
            "<input>:41: DeprecationWarning: invalid escape sequence \\D\n",
            "<input>:41: DeprecationWarning: invalid escape sequence \\D\n",
            "<input>:41: DeprecationWarning: invalid escape sequence \\D\n",
            "<input>:41: DeprecationWarning: invalid escape sequence \\D\n",
            "<input>:41: DeprecationWarning: invalid escape sequence \\D\n",
            "<input>:41: DeprecationWarning: invalid escape sequence \\D\n",
            "<input>:41: DeprecationWarning: invalid escape sequence \\D\n",
            "<input>:41: DeprecationWarning: invalid escape sequence \\D\n",
            "<input>:41: DeprecationWarning: invalid escape sequence \\D\n",
            "<input>:41: DeprecationWarning: invalid escape sequence \\D\n",
            "<input>:41: DeprecationWarning: invalid escape sequence \\D\n",
            "<input>:41: DeprecationWarning: invalid escape sequence \\D\n",
            "<input>:41: DeprecationWarning: invalid escape sequence \\D\n",
            "<input>:41: DeprecationWarning: invalid escape sequence \\D\n",
            "<input>:41: DeprecationWarning: invalid escape sequence \\D\n",
            "<input>:41: DeprecationWarning: invalid escape sequence \\D\n",
            "<input>:41: DeprecationWarning: invalid escape sequence \\D\n",
            "<input>:41: DeprecationWarning: invalid escape sequence \\D\n",
            "<input>:41: DeprecationWarning: invalid escape sequence \\D\n",
            "<input>:41: DeprecationWarning: invalid escape sequence \\D\n",
            "<input>:41: DeprecationWarning: invalid escape sequence \\D\n",
            "<input>:41: DeprecationWarning: invalid escape sequence \\D\n",
            "<ipython-input-27-519668c40dd2>:41: DeprecationWarning: invalid escape sequence \\D\n",
            "  plt.xlabel('$\\Delta$ time (min)', fontsize=18)\n"
          ],
          "name": "stderr"
        },
        {
          "output_type": "display_data",
          "data": {
            "text/html": [
              "<h5>Statistics for all glucose readings that got switched their time stamps</h5>"
            ],
            "text/plain": [
              "<IPython.core.display.HTML object>"
            ]
          },
          "metadata": {
            "tags": []
          }
        },
        {
          "output_type": "display_data",
          "data": {
            "application/vnd.google.colaboratory.module+javascript": "\n      import \"https://ssl.gstatic.com/colaboratory/data_table/a036b366c3cace79/data_table.js\";\n\n      window.createDataTable({\n        data: [[\"count\",\n{\n            'v': 44852.0,\n            'f': \"44852.0\",\n        }],\n [\"mean\",\n{\n            'v': 157.36863462052975,\n            'f': \"157.36863462052975\",\n        }],\n [\"std\",\n{\n            'v': 60.988251409572364,\n            'f': \"60.988251409572364\",\n        }],\n [\"min\",\n{\n            'v': 1.0,\n            'f': \"1.0\",\n        }],\n [\"25%\",\n{\n            'v': 117.0,\n            'f': \"117.0\",\n        }],\n [\"50%\",\n{\n            'v': 143.0,\n            'f': \"143.0\",\n        }],\n [\"75%\",\n{\n            'v': 181.0,\n            'f': \"181.0\",\n        }],\n [\"max\",\n{\n            'v': 600.0,\n            'f': \"600.0\",\n        }]],\n        columns: [[\"string\", \"index\"], [\"number\", \"glucose\"]],\n        rowsPerPage: 25,\n        helpUrl: \"https://colab.research.google.com/notebooks/data_table.ipynb\",\n      });\n    ",
            "text/html": [
              "<div>\n",
              "<style scoped>\n",
              "    .dataframe tbody tr th:only-of-type {\n",
              "        vertical-align: middle;\n",
              "    }\n",
              "\n",
              "    .dataframe tbody tr th {\n",
              "        vertical-align: top;\n",
              "    }\n",
              "\n",
              "    .dataframe thead th {\n",
              "        text-align: right;\n",
              "    }\n",
              "</style>\n",
              "<table border=\"1\" class=\"dataframe\">\n",
              "  <thead>\n",
              "    <tr style=\"text-align: right;\">\n",
              "      <th></th>\n",
              "      <th>glucose</th>\n",
              "    </tr>\n",
              "  </thead>\n",
              "  <tbody>\n",
              "    <tr>\n",
              "      <th>count</th>\n",
              "      <td>44852.000000</td>\n",
              "    </tr>\n",
              "    <tr>\n",
              "      <th>mean</th>\n",
              "      <td>157.368635</td>\n",
              "    </tr>\n",
              "    <tr>\n",
              "      <th>std</th>\n",
              "      <td>60.988251</td>\n",
              "    </tr>\n",
              "    <tr>\n",
              "      <th>min</th>\n",
              "      <td>1.000000</td>\n",
              "    </tr>\n",
              "    <tr>\n",
              "      <th>25%</th>\n",
              "      <td>117.000000</td>\n",
              "    </tr>\n",
              "    <tr>\n",
              "      <th>50%</th>\n",
              "      <td>143.000000</td>\n",
              "    </tr>\n",
              "    <tr>\n",
              "      <th>75%</th>\n",
              "      <td>181.000000</td>\n",
              "    </tr>\n",
              "    <tr>\n",
              "      <th>max</th>\n",
              "      <td>600.000000</td>\n",
              "    </tr>\n",
              "  </tbody>\n",
              "</table>\n",
              "</div>"
            ],
            "text/plain": [
              "            glucose\n",
              "count  44852.000000\n",
              "mean     157.368635\n",
              "std       60.988251\n",
              "min        1.000000\n",
              "25%      117.000000\n",
              "50%      143.000000\n",
              "75%      181.000000\n",
              "max      600.000000"
            ]
          },
          "metadata": {
            "tags": []
          }
        },
        {
          "output_type": "display_data",
          "data": {
            "text/html": [
              "<h5>Contains the following information</h5>"
            ],
            "text/plain": [
              "<IPython.core.display.HTML object>"
            ]
          },
          "metadata": {
            "tags": []
          }
        },
        {
          "output_type": "stream",
          "text": [
            "Observations: 44852\n",
            "Patients: 7763\n",
            "Hospital admissions: 8927\n",
            "ICU stays: 9476\n"
          ],
          "name": "stdout"
        },
        {
          "output_type": "display_data",
          "data": {
            "image/png": "[encoded data removed]",
            "text/plain": [
              "<Figure size 864x720 with 1 Axes>"
            ]
          },
          "metadata": {
            "tags": []
          }
        }
      ]
    },
    {
      "cell_type": "markdown",
      "metadata": {
        "id": "OE_TuaqqLv3D",
        "colab_type": "text"
      },
      "source": [
        "## Curated datasets"
      ]
    },
    {
      "cell_type": "code",
      "metadata": {
        "id": "HcgQjL4jLwiI",
        "colab_type": "code",
        "colab": {}
      },
      "source": [
        "warnings.simplefilter('ignore')\n",
        "\n",
        "# Glucose readings (14 columns)\n",
        "Glucose_cur = Glucose_final[['SUBJECT_ID','HADM_ID','ICUSTAY_ID','CHARTTIME'\n",
        "                              ,'glucose','GLCSOURCE','CHART_STORE']]\n",
        "Glucose_cur['STARTTIME'] = pd.NaT\n",
        "Glucose_cur['ENDTIME'] = pd.NaT\n",
        "Glucose_cur['INPUT'] = np.nan\n",
        "Glucose_cur['INPUT_HRS'] = np.nan\n",
        "Glucose_cur['INSULINTYPE'] = np.nan\n",
        "Glucose_cur['EVENT'] = np.nan\n",
        "Glucose_cur['INFXSTOP'] = np.nan\n",
        "\n",
        "Glucose_cur.columns = ['SUBJECT_ID', 'HADM_ID', 'ICUSTAY_ID', 'GLCTIMER'\n",
        "                         , 'GLC', 'GLCSOURCE','CHART_STORE', 'STARTTIME'\n",
        "                         , 'ENDTIME', 'INPUT', 'INPUT_HRS', 'INSULINTYPE'\n",
        "                         , 'EVENT', 'INFXSTOP']\n",
        "\n",
        "\n",
        "\n",
        "# Insulin events\n",
        "Insulin_cur = MV_insulin_all[['SUBJECT_ID', 'HADM_ID', 'ICUSTAY_ID'\n",
        "                               , 'STARTTIME', 'ENDTIME', 'AMOUNT', 'RATE'\n",
        "                               , 'InsulinType', 'InsulinAdmin', 'INFXSTOP']]\n",
        "Insulin_cur['GLCTIMER'] = pd.NaT\n",
        "Insulin_cur['GLCSOURCE'] = np.nan\n",
        "Insulin_cur['GLC'] = np.nan\n",
        "Insulin_cur['CHART_STORE'] = np.nan\n",
        "\n",
        "Insulin_cur.columns = ['SUBJECT_ID', 'HADM_ID', 'ICUSTAY_ID', 'STARTTIME'\n",
        "                      , 'ENDTIME', 'INPUT', 'INPUT_HRS', 'INSULINTYPE' \n",
        "                      , 'EVENT', 'INFXSTOP', 'CHART_STORE', 'GLCTIMER'\n",
        "                      , 'GLC','GLCSOURCE']"
      ],
      "execution_count": 0,
      "outputs": []
    },
    {
      "cell_type": "markdown",
      "metadata": {
        "id": "y3hoE35h0bkj",
        "colab_type": "text"
      },
      "source": [
        "**Export these curated datasets to BigQuery.**\n",
        "\n",
        "It is assumed that you build the MIMIC III database in BigQuery and have credentials to load new tables.\n",
        "\n",
        "Insulin_cur as `insulin_cur` and Glucose_cur as `glc_cur` will be uploaded according to the following code.\n",
        "\n",
        "```python\n",
        "# Here goes the name of the dataset or schema if you are familiarized with PSQL\n",
        "dataset_ref = client.dataset('icuinsulintherapy')\n",
        "\n",
        "# Assign the name for the table\n",
        "table_ref = dataset_ref.table('insulin_cur')\n",
        "\n",
        "client.load_table_from_dataframe(Insulin_cur, table_ref).result()\n",
        "```\n",
        "\n",
        "You should be able to read something similar to the following warning:\n",
        "\n",
        "```python\n",
        "<google.cloud.bigquery.job.LoadJob at 0x7f71be8f0a20>\n",
        "```"
      ]
    },
    {
      "cell_type": "code",
      "metadata": {
        "id": "mPXrztou3nrc",
        "colab_type": "code",
        "colab": {
          "base_uri": "https://localhost:8080/",
          "height": 378
        },
        "outputId": "f9851d8f-d456-4e39-dbc7-51c338dda417"
      },
      "source": [
        "# Concatenate subsets\n",
        "warnings.simplefilter('ignore')\n",
        "\n",
        "# Concatenate Glucose and insulin values\n",
        "\n",
        "Glc_Ins = pd.concat([Insulin_cur, Glucose_cur], sort = True, ignore_index = True)\n",
        "\n",
        "# Reorder columns\n",
        "Glc_Ins = Glc_Ins[['SUBJECT_ID', 'HADM_ID', 'ICUSTAY_ID', 'STARTTIME'\n",
        "                      , 'ENDTIME', 'INPUT', 'INPUT_HRS', 'INSULINTYPE' \n",
        "                      , 'EVENT', 'INFXSTOP', 'GLCTIMER', 'GLC', 'GLCSOURCE'\n",
        "                      , 'CHART_STORE']].sort_values(\n",
        "                   by=['SUBJECT_ID', 'HADM_ID', 'GLCTIMER', 'STARTTIME'])\n",
        "\n",
        "Glc_Ins['TIMER'] = pd.NaT\n",
        "\n",
        "# Reset index\n",
        "Glc_Ins = Glc_Ins.reset_index()\n",
        "\n",
        "# Reorder columns\n",
        "Glc_Ins = Glc_Ins[['SUBJECT_ID', 'HADM_ID', 'ICUSTAY_ID', 'TIMER' ,'STARTTIME'\n",
        "                      , 'GLCTIMER', 'ENDTIME', 'INPUT', 'INPUT_HRS'\n",
        "                      , 'INSULINTYPE', 'EVENT', 'GLC', 'GLCSOURCE'\n",
        "                      , 'CHART_STORE', 'INFXSTOP']].sort_values(\n",
        "                   by=['SUBJECT_ID', 'HADM_ID', 'GLCTIMER', 'STARTTIME'])\n",
        "\n",
        "# Create a column that contains all timestamps ordered chronologically\n",
        "Glc_Ins['TIMER'] = Glc_Ins['GLCTIMER']\n",
        "Glc_Ins['TIMER'].loc[\n",
        "        (Glc_Ins['TIMER'].isnull())] = Glc_Ins.loc[\n",
        "                (Glc_Ins['TIMER'].isnull()),'STARTTIME']\n",
        "Glc_Ins = Glc_Ins.sort_values(by = ['SUBJECT_ID', 'HADM_ID', 'TIMER'])\n",
        "\n",
        "display(Glc_Ins.head())\n",
        "\n",
        "display(HTML('<h5>Contains the following information</h5>'))\n",
        "print(\"Observations: {}\".format(Glc_Ins.shape[0]))\n",
        "print(\"Patients: {}\".format(Glc_Ins['SUBJECT_ID'].nunique()))\n",
        "print(\"Hospital admissions: {}\".format(Glc_Ins['HADM_ID'].nunique()))\n",
        "print('ICU stays: {}'.format(Glc_Ins['ICUSTAY_ID'].nunique()))"
      ],
      "execution_count": 29,
      "outputs": [
        {
          "output_type": "display_data",
          "data": {
            "application/vnd.google.colaboratory.module+javascript": "\n      import \"https://ssl.gstatic.com/colaboratory/data_table/a036b366c3cace79/data_table.js\";\n\n      window.createDataTable({\n        data: [[{\n            'v': 0,\n            'f': \"0\",\n        },\n{\n            'v': 23,\n            'f': \"23\",\n        },\n{\n            'v': 124321.0,\n            'f': \"124321.0\",\n        },\n{\n            'v': NaN,\n            'f': \"NaN\",\n        },\n\"2157-10-19 03:55:00+00:00\",\n\"NaT\",\n\"2157-10-19 03:55:00+00:00\",\n\"NaT\",\n{\n            'v': NaN,\n            'f': \"NaN\",\n        },\n{\n            'v': NaN,\n            'f': \"NaN\",\n        },\n{\n            'v': NaN,\n            'f': \"NaN\",\n        },\n{\n            'v': NaN,\n            'f': \"NaN\",\n        },\n{\n            'v': 141.0,\n            'f': \"141.0\",\n        },\n\"BLOOD\",\nfalse,\n{\n            'v': NaN,\n            'f': \"NaN\",\n        }],\n [{\n            'v': 1,\n            'f': \"1\",\n        },\n{\n            'v': 23,\n            'f': \"23\",\n        },\n{\n            'v': 124321.0,\n            'f': \"124321.0\",\n        },\n{\n            'v': NaN,\n            'f': \"NaN\",\n        },\n\"2157-10-20 04:00:00+00:00\",\n\"NaT\",\n\"2157-10-20 04:00:00+00:00\",\n\"NaT\",\n{\n            'v': NaN,\n            'f': \"NaN\",\n        },\n{\n            'v': NaN,\n            'f': \"NaN\",\n        },\n{\n            'v': NaN,\n            'f': \"NaN\",\n        },\n{\n            'v': NaN,\n            'f': \"NaN\",\n        },\n{\n            'v': 167.0,\n            'f': \"167.0\",\n        },\n\"BLOOD\",\nfalse,\n{\n            'v': NaN,\n            'f': \"NaN\",\n        }],\n [{\n            'v': 2,\n            'f': \"2\",\n        },\n{\n            'v': 23,\n            'f': \"23\",\n        },\n{\n            'v': 124321.0,\n            'f': \"124321.0\",\n        },\n{\n            'v': NaN,\n            'f': \"NaN\",\n        },\n\"2157-10-21 03:40:00+00:00\",\n\"NaT\",\n\"2157-10-21 03:40:00+00:00\",\n\"NaT\",\n{\n            'v': NaN,\n            'f': \"NaN\",\n        },\n{\n            'v': NaN,\n            'f': \"NaN\",\n        },\n{\n            'v': NaN,\n            'f': \"NaN\",\n        },\n{\n            'v': NaN,\n            'f': \"NaN\",\n        },\n{\n            'v': 134.0,\n            'f': \"134.0\",\n        },\n\"BLOOD\",\nfalse,\n{\n            'v': NaN,\n            'f': \"NaN\",\n        }],\n [{\n            'v': 3,\n            'f': \"3\",\n        },\n{\n            'v': 23,\n            'f': \"23\",\n        },\n{\n            'v': 124321.0,\n            'f': \"124321.0\",\n        },\n{\n            'v': NaN,\n            'f': \"NaN\",\n        },\n\"2157-10-21 07:55:00+00:00\",\n\"NaT\",\n\"2157-10-21 07:55:00+00:00\",\n\"NaT\",\n{\n            'v': NaN,\n            'f': \"NaN\",\n        },\n{\n            'v': NaN,\n            'f': \"NaN\",\n        },\n{\n            'v': NaN,\n            'f': \"NaN\",\n        },\n{\n            'v': NaN,\n            'f': \"NaN\",\n        },\n{\n            'v': 122.0,\n            'f': \"122.0\",\n        },\n\"BLOOD\",\nfalse,\n{\n            'v': NaN,\n            'f': \"NaN\",\n        }],\n [{\n            'v': 4,\n            'f': \"4\",\n        },\n{\n            'v': 23,\n            'f': \"23\",\n        },\n{\n            'v': 124321.0,\n            'f': \"124321.0\",\n        },\n{\n            'v': NaN,\n            'f': \"NaN\",\n        },\n\"2157-10-21 10:27:00+00:00\",\n\"NaT\",\n\"2157-10-21 10:27:00+00:00\",\n\"NaT\",\n{\n            'v': NaN,\n            'f': \"NaN\",\n        },\n{\n            'v': NaN,\n            'f': \"NaN\",\n        },\n{\n            'v': NaN,\n            'f': \"NaN\",\n        },\n{\n            'v': NaN,\n            'f': \"NaN\",\n        },\n{\n            'v': 141.0,\n            'f': \"141.0\",\n        },\n\"BLOOD\",\nfalse,\n{\n            'v': NaN,\n            'f': \"NaN\",\n        }]],\n        columns: [[\"number\", \"index\"], [\"number\", \"SUBJECT_ID\"], [\"number\", \"HADM_ID\"], [\"number\", \"ICUSTAY_ID\"], [\"string\", \"TIMER\"], [\"string\", \"STARTTIME\"], [\"string\", \"GLCTIMER\"], [\"string\", \"ENDTIME\"], [\"number\", \"INPUT\"], [\"number\", \"INPUT_HRS\"], [\"number\", \"INSULINTYPE\"], [\"number\", \"EVENT\"], [\"number\", \"GLC\"], [\"string\", \"GLCSOURCE\"], [\"string\", \"CHART_STORE\"], [\"number\", \"INFXSTOP\"]],\n        rowsPerPage: 25,\n        helpUrl: \"https://colab.research.google.com/notebooks/data_table.ipynb\",\n      });\n    ",
            "text/html": [
              "<div>\n",
              "<style scoped>\n",
              "    .dataframe tbody tr th:only-of-type {\n",
              "        vertical-align: middle;\n",
              "    }\n",
              "\n",
              "    .dataframe tbody tr th {\n",
              "        vertical-align: top;\n",
              "    }\n",
              "\n",
              "    .dataframe thead th {\n",
              "        text-align: right;\n",
              "    }\n",
              "</style>\n",
              "<table border=\"1\" class=\"dataframe\">\n",
              "  <thead>\n",
              "    <tr style=\"text-align: right;\">\n",
              "      <th></th>\n",
              "      <th>SUBJECT_ID</th>\n",
              "      <th>HADM_ID</th>\n",
              "      <th>ICUSTAY_ID</th>\n",
              "      <th>TIMER</th>\n",
              "      <th>STARTTIME</th>\n",
              "      <th>GLCTIMER</th>\n",
              "      <th>ENDTIME</th>\n",
              "      <th>INPUT</th>\n",
              "      <th>INPUT_HRS</th>\n",
              "      <th>INSULINTYPE</th>\n",
              "      <th>EVENT</th>\n",
              "      <th>GLC</th>\n",
              "      <th>GLCSOURCE</th>\n",
              "      <th>CHART_STORE</th>\n",
              "      <th>INFXSTOP</th>\n",
              "    </tr>\n",
              "  </thead>\n",
              "  <tbody>\n",
              "    <tr>\n",
              "      <th>0</th>\n",
              "      <td>23</td>\n",
              "      <td>124321.0</td>\n",
              "      <td>NaN</td>\n",
              "      <td>2157-10-19 03:55:00+00:00</td>\n",
              "      <td>NaT</td>\n",
              "      <td>2157-10-19 03:55:00+00:00</td>\n",
              "      <td>NaT</td>\n",
              "      <td>NaN</td>\n",
              "      <td>NaN</td>\n",
              "      <td>NaN</td>\n",
              "      <td>NaN</td>\n",
              "      <td>141.0</td>\n",
              "      <td>BLOOD</td>\n",
              "      <td>False</td>\n",
              "      <td>NaN</td>\n",
              "    </tr>\n",
              "    <tr>\n",
              "      <th>1</th>\n",
              "      <td>23</td>\n",
              "      <td>124321.0</td>\n",
              "      <td>NaN</td>\n",
              "      <td>2157-10-20 04:00:00+00:00</td>\n",
              "      <td>NaT</td>\n",
              "      <td>2157-10-20 04:00:00+00:00</td>\n",
              "      <td>NaT</td>\n",
              "      <td>NaN</td>\n",
              "      <td>NaN</td>\n",
              "      <td>NaN</td>\n",
              "      <td>NaN</td>\n",
              "      <td>167.0</td>\n",
              "      <td>BLOOD</td>\n",
              "      <td>False</td>\n",
              "      <td>NaN</td>\n",
              "    </tr>\n",
              "    <tr>\n",
              "      <th>2</th>\n",
              "      <td>23</td>\n",
              "      <td>124321.0</td>\n",
              "      <td>NaN</td>\n",
              "      <td>2157-10-21 03:40:00+00:00</td>\n",
              "      <td>NaT</td>\n",
              "      <td>2157-10-21 03:40:00+00:00</td>\n",
              "      <td>NaT</td>\n",
              "      <td>NaN</td>\n",
              "      <td>NaN</td>\n",
              "      <td>NaN</td>\n",
              "      <td>NaN</td>\n",
              "      <td>134.0</td>\n",
              "      <td>BLOOD</td>\n",
              "      <td>False</td>\n",
              "      <td>NaN</td>\n",
              "    </tr>\n",
              "    <tr>\n",
              "      <th>3</th>\n",
              "      <td>23</td>\n",
              "      <td>124321.0</td>\n",
              "      <td>NaN</td>\n",
              "      <td>2157-10-21 07:55:00+00:00</td>\n",
              "      <td>NaT</td>\n",
              "      <td>2157-10-21 07:55:00+00:00</td>\n",
              "      <td>NaT</td>\n",
              "      <td>NaN</td>\n",
              "      <td>NaN</td>\n",
              "      <td>NaN</td>\n",
              "      <td>NaN</td>\n",
              "      <td>122.0</td>\n",
              "      <td>BLOOD</td>\n",
              "      <td>False</td>\n",
              "      <td>NaN</td>\n",
              "    </tr>\n",
              "    <tr>\n",
              "      <th>4</th>\n",
              "      <td>23</td>\n",
              "      <td>124321.0</td>\n",
              "      <td>NaN</td>\n",
              "      <td>2157-10-21 10:27:00+00:00</td>\n",
              "      <td>NaT</td>\n",
              "      <td>2157-10-21 10:27:00+00:00</td>\n",
              "      <td>NaT</td>\n",
              "      <td>NaN</td>\n",
              "      <td>NaN</td>\n",
              "      <td>NaN</td>\n",
              "      <td>NaN</td>\n",
              "      <td>141.0</td>\n",
              "      <td>BLOOD</td>\n",
              "      <td>False</td>\n",
              "      <td>NaN</td>\n",
              "    </tr>\n",
              "  </tbody>\n",
              "</table>\n",
              "</div>"
            ],
            "text/plain": [
              "   SUBJECT_ID   HADM_ID  ICUSTAY_ID  ... GLCSOURCE CHART_STORE INFXSTOP\n",
              "0          23  124321.0         NaN  ...     BLOOD       False      NaN\n",
              "1          23  124321.0         NaN  ...     BLOOD       False      NaN\n",
              "2          23  124321.0         NaN  ...     BLOOD       False      NaN\n",
              "3          23  124321.0         NaN  ...     BLOOD       False      NaN\n",
              "4          23  124321.0         NaN  ...     BLOOD       False      NaN\n",
              "\n",
              "[5 rows x 15 columns]"
            ]
          },
          "metadata": {
            "tags": []
          }
        },
        {
          "output_type": "display_data",
          "data": {
            "text/html": [
              "<h5>Contains the following information</h5>"
            ],
            "text/plain": [
              "<IPython.core.display.HTML object>"
            ]
          },
          "metadata": {
            "tags": []
          }
        },
        {
          "output_type": "stream",
          "text": [
            "Observations: 680434\n",
            "Patients: 9521\n",
            "Hospital admissions: 11097\n",
            "ICU stays: 12227\n"
          ],
          "name": "stdout"
        }
      ]
    },
    {
      "cell_type": "code",
      "metadata": {
        "id": "0Lja9cRpCAnc",
        "colab_type": "code",
        "colab": {
          "base_uri": "https://localhost:8080/",
          "height": 378
        },
        "outputId": "6d94ccb5-592a-4b8d-bc4a-fbd7aebdea20"
      },
      "source": [
        "warnings.simplefilter('default')\n",
        "\n",
        "projectid = \"milan-datathon\"\n",
        "query = \"\"\"\n",
        "    SELECT SUBJECT_ID, HADM_ID, ICUSTAY_ID\n",
        "    , gender AS SEX\n",
        "    , CAST(dod AS TIMESTAMP) AS DATEDEATH\n",
        "    , CAST(admittime AS TIMESTAMP) AS ADMISSIONTIME\n",
        "    , CAST(intime AS TIMESTAMP) AS ICU_ADMISSIONTIME\n",
        "    , CAST(dischtime AS TIMESTAMP) AS DISCHARGETIME\n",
        "    , CAST(outtime AS TIMESTAMP) AS ICU_DISCHARGETIME\n",
        "    , hospital_expire_flag AS SURVIVED_HOSP\n",
        "    , los_icu AS LOS_ICU_hr\n",
        "    , first_ICU_stay\n",
        "    FROM `physionet-data.mimiciii_derived.icustay_detail`\n",
        "    WHERE upper(admission_type) IN('EMERGENCY','URGENT')\n",
        "    \"\"\"\n",
        "admissions = q(query,projectid)\n",
        "\n",
        "del query\n",
        "\n",
        "display(admissions.head())\n",
        "\n",
        "display(HTML('<h5>Contains the following information</h5>'))\n",
        "print(\"Observations: {}\".format(admissions.shape[0]))\n",
        "print(\"Patients: {}\".format(admissions['SUBJECT_ID'].nunique()))\n",
        "print(\"Hospital admissions: {}\".format(admissions['HADM_ID'].nunique()))\n",
        "print('ICU stays: {}'.format(admissions['ICUSTAY_ID'].nunique()))"
      ],
      "execution_count": 32,
      "outputs": [
        {
          "output_type": "display_data",
          "data": {
            "application/vnd.google.colaboratory.module+javascript": "\n      import \"https://ssl.gstatic.com/colaboratory/data_table/a036b366c3cace79/data_table.js\";\n\n      window.createDataTable({\n        data: [[{\n            'v': 0,\n            'f': \"0\",\n        },\n{\n            'v': 3,\n            'f': \"3\",\n        },\n{\n            'v': 145834,\n            'f': \"145834\",\n        },\n{\n            'v': 211552,\n            'f': \"211552\",\n        },\n\"M\",\n\"2102-06-14 00:00:00+00:00\",\n\"2101-10-20 19:08:00+00:00\",\n\"2101-10-20 19:10:11+00:00\",\n\"2101-10-31 13:58:00+00:00\",\n\"2101-10-26 20:43:09+00:00\",\n{\n            'v': 0,\n            'f': \"0\",\n        },\n{\n            'v': 6.0,\n            'f': \"6.0\",\n        },\ntrue],\n [{\n            'v': 1,\n            'f': \"1\",\n        },\n{\n            'v': 4,\n            'f': \"4\",\n        },\n{\n            'v': 185777,\n            'f': \"185777\",\n        },\n{\n            'v': 294638,\n            'f': \"294638\",\n        },\n\"F\",\n\"NaT\",\n\"2191-03-16 00:28:00+00:00\",\n\"2191-03-16 00:29:31+00:00\",\n\"2191-03-23 18:41:00+00:00\",\n\"2191-03-17 16:46:31+00:00\",\n{\n            'v': 0,\n            'f': \"0\",\n        },\n{\n            'v': 1.0,\n            'f': \"1.0\",\n        },\ntrue],\n [{\n            'v': 2,\n            'f': \"2\",\n        },\n{\n            'v': 9,\n            'f': \"9\",\n        },\n{\n            'v': 150750,\n            'f': \"150750\",\n        },\n{\n            'v': 220597,\n            'f': \"220597\",\n        },\n\"M\",\n\"2149-11-14 00:00:00+00:00\",\n\"2149-11-09 13:06:00+00:00\",\n\"2149-11-09 13:07:02+00:00\",\n\"2149-11-14 10:15:00+00:00\",\n\"2149-11-14 20:52:14+00:00\",\n{\n            'v': 1,\n            'f': \"1\",\n        },\n{\n            'v': 5.0,\n            'f': \"5.0\",\n        },\ntrue],\n [{\n            'v': 3,\n            'f': \"3\",\n        },\n{\n            'v': 11,\n            'f': \"11\",\n        },\n{\n            'v': 194540,\n            'f': \"194540\",\n        },\n{\n            'v': 229441,\n            'f': \"229441\",\n        },\n\"F\",\n\"2178-11-14 00:00:00+00:00\",\n\"2178-04-16 06:18:00+00:00\",\n\"2178-04-16 06:19:32+00:00\",\n\"2178-05-11 19:00:00+00:00\",\n\"2178-04-17 20:21:05+00:00\",\n{\n            'v': 0,\n            'f': \"0\",\n        },\n{\n            'v': 1.0,\n            'f': \"1.0\",\n        },\ntrue],\n [{\n            'v': 4,\n            'f': \"4\",\n        },\n{\n            'v': 13,\n            'f': \"13\",\n        },\n{\n            'v': 143045,\n            'f': \"143045\",\n        },\n{\n            'v': 263738,\n            'f': \"263738\",\n        },\n\"F\",\n\"NaT\",\n\"2167-01-08 18:43:00+00:00\",\n\"2167-01-08 18:44:25+00:00\",\n\"2167-01-15 15:15:00+00:00\",\n\"2167-01-12 10:43:31+00:00\",\n{\n            'v': 0,\n            'f': \"0\",\n        },\n{\n            'v': 4.0,\n            'f': \"4.0\",\n        },\ntrue]],\n        columns: [[\"number\", \"index\"], [\"number\", \"SUBJECT_ID\"], [\"number\", \"HADM_ID\"], [\"number\", \"ICUSTAY_ID\"], [\"string\", \"SEX\"], [\"string\", \"DATEDEATH\"], [\"string\", \"ADMISSIONTIME\"], [\"string\", \"ICU_ADMISSIONTIME\"], [\"string\", \"DISCHARGETIME\"], [\"string\", \"ICU_DISCHARGETIME\"], [\"number\", \"SURVIVED_HOSP\"], [\"number\", \"LOS_ICU_hr\"], [\"string\", \"first_ICU_stay\"]],\n        rowsPerPage: 25,\n        helpUrl: \"https://colab.research.google.com/notebooks/data_table.ipynb\",\n      });\n    ",
            "text/html": [
              "<div>\n",
              "<style scoped>\n",
              "    .dataframe tbody tr th:only-of-type {\n",
              "        vertical-align: middle;\n",
              "    }\n",
              "\n",
              "    .dataframe tbody tr th {\n",
              "        vertical-align: top;\n",
              "    }\n",
              "\n",
              "    .dataframe thead th {\n",
              "        text-align: right;\n",
              "    }\n",
              "</style>\n",
              "<table border=\"1\" class=\"dataframe\">\n",
              "  <thead>\n",
              "    <tr style=\"text-align: right;\">\n",
              "      <th></th>\n",
              "      <th>SUBJECT_ID</th>\n",
              "      <th>HADM_ID</th>\n",
              "      <th>ICUSTAY_ID</th>\n",
              "      <th>SEX</th>\n",
              "      <th>DATEDEATH</th>\n",
              "      <th>ADMISSIONTIME</th>\n",
              "      <th>ICU_ADMISSIONTIME</th>\n",
              "      <th>DISCHARGETIME</th>\n",
              "      <th>ICU_DISCHARGETIME</th>\n",
              "      <th>SURVIVED_HOSP</th>\n",
              "      <th>LOS_ICU_hr</th>\n",
              "      <th>first_ICU_stay</th>\n",
              "    </tr>\n",
              "  </thead>\n",
              "  <tbody>\n",
              "    <tr>\n",
              "      <th>0</th>\n",
              "      <td>3</td>\n",
              "      <td>145834</td>\n",
              "      <td>211552</td>\n",
              "      <td>M</td>\n",
              "      <td>2102-06-14 00:00:00+00:00</td>\n",
              "      <td>2101-10-20 19:08:00+00:00</td>\n",
              "      <td>2101-10-20 19:10:11+00:00</td>\n",
              "      <td>2101-10-31 13:58:00+00:00</td>\n",
              "      <td>2101-10-26 20:43:09+00:00</td>\n",
              "      <td>0</td>\n",
              "      <td>6.0</td>\n",
              "      <td>True</td>\n",
              "    </tr>\n",
              "    <tr>\n",
              "      <th>1</th>\n",
              "      <td>4</td>\n",
              "      <td>185777</td>\n",
              "      <td>294638</td>\n",
              "      <td>F</td>\n",
              "      <td>NaT</td>\n",
              "      <td>2191-03-16 00:28:00+00:00</td>\n",
              "      <td>2191-03-16 00:29:31+00:00</td>\n",
              "      <td>2191-03-23 18:41:00+00:00</td>\n",
              "      <td>2191-03-17 16:46:31+00:00</td>\n",
              "      <td>0</td>\n",
              "      <td>1.0</td>\n",
              "      <td>True</td>\n",
              "    </tr>\n",
              "    <tr>\n",
              "      <th>2</th>\n",
              "      <td>9</td>\n",
              "      <td>150750</td>\n",
              "      <td>220597</td>\n",
              "      <td>M</td>\n",
              "      <td>2149-11-14 00:00:00+00:00</td>\n",
              "      <td>2149-11-09 13:06:00+00:00</td>\n",
              "      <td>2149-11-09 13:07:02+00:00</td>\n",
              "      <td>2149-11-14 10:15:00+00:00</td>\n",
              "      <td>2149-11-14 20:52:14+00:00</td>\n",
              "      <td>1</td>\n",
              "      <td>5.0</td>\n",
              "      <td>True</td>\n",
              "    </tr>\n",
              "    <tr>\n",
              "      <th>3</th>\n",
              "      <td>11</td>\n",
              "      <td>194540</td>\n",
              "      <td>229441</td>\n",
              "      <td>F</td>\n",
              "      <td>2178-11-14 00:00:00+00:00</td>\n",
              "      <td>2178-04-16 06:18:00+00:00</td>\n",
              "      <td>2178-04-16 06:19:32+00:00</td>\n",
              "      <td>2178-05-11 19:00:00+00:00</td>\n",
              "      <td>2178-04-17 20:21:05+00:00</td>\n",
              "      <td>0</td>\n",
              "      <td>1.0</td>\n",
              "      <td>True</td>\n",
              "    </tr>\n",
              "    <tr>\n",
              "      <th>4</th>\n",
              "      <td>13</td>\n",
              "      <td>143045</td>\n",
              "      <td>263738</td>\n",
              "      <td>F</td>\n",
              "      <td>NaT</td>\n",
              "      <td>2167-01-08 18:43:00+00:00</td>\n",
              "      <td>2167-01-08 18:44:25+00:00</td>\n",
              "      <td>2167-01-15 15:15:00+00:00</td>\n",
              "      <td>2167-01-12 10:43:31+00:00</td>\n",
              "      <td>0</td>\n",
              "      <td>4.0</td>\n",
              "      <td>True</td>\n",
              "    </tr>\n",
              "  </tbody>\n",
              "</table>\n",
              "</div>"
            ],
            "text/plain": [
              "   SUBJECT_ID  HADM_ID  ICUSTAY_ID  ... SURVIVED_HOSP LOS_ICU_hr first_ICU_stay\n",
              "0           3   145834      211552  ...             0        6.0           True\n",
              "1           4   185777      294638  ...             0        1.0           True\n",
              "2           9   150750      220597  ...             1        5.0           True\n",
              "3          11   194540      229441  ...             0        1.0           True\n",
              "4          13   143045      263738  ...             0        4.0           True\n",
              "\n",
              "[5 rows x 12 columns]"
            ]
          },
          "metadata": {
            "tags": []
          }
        },
        {
          "output_type": "display_data",
          "data": {
            "text/html": [
              "<h5>Contains the following information</h5>"
            ],
            "text/plain": [
              "<IPython.core.display.HTML object>"
            ]
          },
          "metadata": {
            "tags": []
          }
        },
        {
          "output_type": "stream",
          "text": [
            "Observations: 45789\n",
            "Patients: 33447\n",
            "Hospital admissions: 42573\n",
            "ICU stays: 45789\n"
          ],
          "name": "stdout"
        }
      ]
    },
    {
      "cell_type": "code",
      "metadata": {
        "id": "-7iBnvisqG4a",
        "colab_type": "code",
        "colab": {
          "base_uri": "https://localhost:8080/",
          "height": 466
        },
        "outputId": "724ca95d-0995-4399-fe86-e900f928fd92"
      },
      "source": [
        "# INNER JOIN\n",
        "ICUinputs = admissions[[\"SUBJECT_ID\",\"HADM_ID\",\"ICUSTAY_ID\",\"ICU_ADMISSIONTIME\"\n",
        "                        ,\"ICU_DISCHARGETIME\",\"LOS_ICU_hr\",\"first_ICU_stay\"]].merge(\n",
        "                        Glc_Ins[['SUBJECT_ID','HADM_ID','TIMER','STARTTIME'\n",
        "                                 ,'GLCTIMER','ENDTIME','INPUT','INPUT_HRS'\n",
        "                                 ,'INSULINTYPE','EVENT','GLC','GLCSOURCE'\n",
        "                                 ,'CHART_STORE','INFXSTOP']], how='inner'\n",
        "                                 , on=[\"SUBJECT_ID\",\"HADM_ID\"]).sort_values(\n",
        "                                         by=['SUBJECT_ID', 'HADM_ID', 'TIMER'])\n",
        "\n",
        "# Drop measurements that occur before or after stay\n",
        "ICUinputs = ICUinputs[((ICUinputs[\"GLCTIMER\"] > ICUinputs[\"ICU_ADMISSIONTIME\"]) &\n",
        "       (ICUinputs[\"GLCTIMER\"] < ICUinputs[\"ICU_DISCHARGETIME\"])) | \n",
        "       ((ICUinputs[\"STARTTIME\"] > ICUinputs[\"ICU_ADMISSIONTIME\"]) & \n",
        "       (ICUinputs[\"ENDTIME\"] < ICUinputs[\"ICU_DISCHARGETIME\"]))]\n",
        "\n",
        "display(ICUinputs.head())\n",
        "\n",
        "display(HTML('<h5>Contains the following information</h5>'))\n",
        "print(\"Observations: {}\".format(ICUinputs.shape[0]))\n",
        "print(\"Patients: {}\".format(ICUinputs['SUBJECT_ID'].nunique()))\n",
        "print(\"Hospital admissions: {}\".format(ICUinputs['HADM_ID'].nunique()))\n",
        "print('ICU stays: {}'.format(ICUinputs['ICUSTAY_ID'].nunique()))"
      ],
      "execution_count": 33,
      "outputs": [
        {
          "output_type": "stream",
          "text": [
            "/usr/local/lib/python3.6/dist-packages/pandas/core/arrays/datetimes.py:513: ResourceWarning: unclosed <ssl.SSLSocket fd=81, family=AddressFamily.AF_INET, type=SocketKind.SOCK_STREAM, proto=6, laddr=('172.28.0.2', 47030), raddr=('74.125.197.95', 443)>\n",
            "  return lambda x: Timestamp(x, freq=self.freq, tz=self.tz)\n",
            "/usr/local/lib/python3.6/dist-packages/pandas/core/arrays/datetimes.py:513: ResourceWarning: unclosed <ssl.SSLSocket fd=82, family=AddressFamily.AF_INET, type=SocketKind.SOCK_STREAM, proto=6, laddr=('172.28.0.2', 39738), raddr=('74.125.195.84', 443)>\n",
            "  return lambda x: Timestamp(x, freq=self.freq, tz=self.tz)\n"
          ],
          "name": "stderr"
        },
        {
          "output_type": "display_data",
          "data": {
            "application/vnd.google.colaboratory.module+javascript": "\n      import \"https://ssl.gstatic.com/colaboratory/data_table/a036b366c3cace79/data_table.js\";\n\n      window.createDataTable({\n        data: [[{\n            'v': 5,\n            'f': \"5\",\n        },\n{\n            'v': 23,\n            'f': \"23\",\n        },\n{\n            'v': 124321,\n            'f': \"124321\",\n        },\n{\n            'v': 234044,\n            'f': \"234044\",\n        },\n\"2157-10-21 11:40:38+00:00\",\n\"2157-10-22 16:08:48+00:00\",\n{\n            'v': 1.0,\n            'f': \"1.0\",\n        },\ntrue,\n\"2157-10-21 13:40:00+00:00\",\n\"NaT\",\n\"2157-10-21 13:40:00+00:00\",\n\"NaT\",\n{\n            'v': NaN,\n            'f': \"NaN\",\n        },\n{\n            'v': NaN,\n            'f': \"NaN\",\n        },\nNaN,\nNaN,\n{\n            'v': 136.0,\n            'f': \"136.0\",\n        },\n\"BLOOD\",\nfalse,\n{\n            'v': NaN,\n            'f': \"NaN\",\n        }],\n [{\n            'v': 6,\n            'f': \"6\",\n        },\n{\n            'v': 23,\n            'f': \"23\",\n        },\n{\n            'v': 124321,\n            'f': \"124321\",\n        },\n{\n            'v': 234044,\n            'f': \"234044\",\n        },\n\"2157-10-21 11:40:38+00:00\",\n\"2157-10-22 16:08:48+00:00\",\n{\n            'v': 1.0,\n            'f': \"1.0\",\n        },\ntrue,\n\"2157-10-21 14:40:00+00:00\",\n\"NaT\",\n\"2157-10-21 14:40:00+00:00\",\n\"NaT\",\n{\n            'v': NaN,\n            'f': \"NaN\",\n        },\n{\n            'v': NaN,\n            'f': \"NaN\",\n        },\nNaN,\nNaN,\n{\n            'v': 136.0,\n            'f': \"136.0\",\n        },\n\"BLOOD\",\nfalse,\n{\n            'v': NaN,\n            'f': \"NaN\",\n        }],\n [{\n            'v': 7,\n            'f': \"7\",\n        },\n{\n            'v': 23,\n            'f': \"23\",\n        },\n{\n            'v': 124321,\n            'f': \"124321\",\n        },\n{\n            'v': 234044,\n            'f': \"234044\",\n        },\n\"2157-10-21 11:40:38+00:00\",\n\"2157-10-22 16:08:48+00:00\",\n{\n            'v': 1.0,\n            'f': \"1.0\",\n        },\ntrue,\n\"2157-10-21 16:00:00+00:00\",\n\"NaT\",\n\"2157-10-21 16:00:00+00:00\",\n\"NaT\",\n{\n            'v': NaN,\n            'f': \"NaN\",\n        },\n{\n            'v': NaN,\n            'f': \"NaN\",\n        },\nNaN,\nNaN,\n{\n            'v': 123.0,\n            'f': \"123.0\",\n        },\n\"FINGERSTICK\",\nfalse,\n{\n            'v': NaN,\n            'f': \"NaN\",\n        }],\n [{\n            'v': 8,\n            'f': \"8\",\n        },\n{\n            'v': 23,\n            'f': \"23\",\n        },\n{\n            'v': 124321,\n            'f': \"124321\",\n        },\n{\n            'v': 234044,\n            'f': \"234044\",\n        },\n\"2157-10-21 11:40:38+00:00\",\n\"2157-10-22 16:08:48+00:00\",\n{\n            'v': 1.0,\n            'f': \"1.0\",\n        },\ntrue,\n\"2157-10-21 16:38:00+00:00\",\n\"2157-10-21 16:38:00+00:00\",\nNaN,\n\"2157-10-21 16:39:00+00:00\",\n{\n            'v': 2.0,\n            'f': \"2.0\",\n        },\n{\n            'v': NaN,\n            'f': \"NaN\",\n        },\n\"Short\",\n\"BOLUS_INYECTION\",\n{\n            'v': NaN,\n            'f': \"NaN\",\n        },\nNaN,\n\"NaT\",\n{\n            'v': NaN,\n            'f': \"NaN\",\n        }],\n [{\n            'v': 9,\n            'f': \"9\",\n        },\n{\n            'v': 23,\n            'f': \"23\",\n        },\n{\n            'v': 124321,\n            'f': \"124321\",\n        },\n{\n            'v': 234044,\n            'f': \"234044\",\n        },\n\"2157-10-21 11:40:38+00:00\",\n\"2157-10-22 16:08:48+00:00\",\n{\n            'v': 1.0,\n            'f': \"1.0\",\n        },\ntrue,\n\"2157-10-22 00:00:00+00:00\",\n\"NaT\",\n\"2157-10-22 00:00:00+00:00\",\n\"NaT\",\n{\n            'v': NaN,\n            'f': \"NaN\",\n        },\n{\n            'v': NaN,\n            'f': \"NaN\",\n        },\nNaN,\nNaN,\n{\n            'v': 105.0,\n            'f': \"105.0\",\n        },\n\"FINGERSTICK\",\nfalse,\n{\n            'v': NaN,\n            'f': \"NaN\",\n        }]],\n        columns: [[\"number\", \"index\"], [\"number\", \"SUBJECT_ID\"], [\"number\", \"HADM_ID\"], [\"number\", \"ICUSTAY_ID\"], [\"string\", \"ICU_ADMISSIONTIME\"], [\"string\", \"ICU_DISCHARGETIME\"], [\"number\", \"LOS_ICU_hr\"], [\"string\", \"first_ICU_stay\"], [\"string\", \"TIMER\"], [\"string\", \"STARTTIME\"], [\"string\", \"GLCTIMER\"], [\"string\", \"ENDTIME\"], [\"number\", \"INPUT\"], [\"number\", \"INPUT_HRS\"], [\"string\", \"INSULINTYPE\"], [\"string\", \"EVENT\"], [\"number\", \"GLC\"], [\"string\", \"GLCSOURCE\"], [\"string\", \"CHART_STORE\"], [\"number\", \"INFXSTOP\"]],\n        rowsPerPage: 25,\n        helpUrl: \"https://colab.research.google.com/notebooks/data_table.ipynb\",\n      });\n    ",
            "text/html": [
              "<div>\n",
              "<style scoped>\n",
              "    .dataframe tbody tr th:only-of-type {\n",
              "        vertical-align: middle;\n",
              "    }\n",
              "\n",
              "    .dataframe tbody tr th {\n",
              "        vertical-align: top;\n",
              "    }\n",
              "\n",
              "    .dataframe thead th {\n",
              "        text-align: right;\n",
              "    }\n",
              "</style>\n",
              "<table border=\"1\" class=\"dataframe\">\n",
              "  <thead>\n",
              "    <tr style=\"text-align: right;\">\n",
              "      <th></th>\n",
              "      <th>SUBJECT_ID</th>\n",
              "      <th>HADM_ID</th>\n",
              "      <th>ICUSTAY_ID</th>\n",
              "      <th>ICU_ADMISSIONTIME</th>\n",
              "      <th>ICU_DISCHARGETIME</th>\n",
              "      <th>LOS_ICU_hr</th>\n",
              "      <th>first_ICU_stay</th>\n",
              "      <th>TIMER</th>\n",
              "      <th>STARTTIME</th>\n",
              "      <th>GLCTIMER</th>\n",
              "      <th>ENDTIME</th>\n",
              "      <th>INPUT</th>\n",
              "      <th>INPUT_HRS</th>\n",
              "      <th>INSULINTYPE</th>\n",
              "      <th>EVENT</th>\n",
              "      <th>GLC</th>\n",
              "      <th>GLCSOURCE</th>\n",
              "      <th>CHART_STORE</th>\n",
              "      <th>INFXSTOP</th>\n",
              "    </tr>\n",
              "  </thead>\n",
              "  <tbody>\n",
              "    <tr>\n",
              "      <th>5</th>\n",
              "      <td>23</td>\n",
              "      <td>124321</td>\n",
              "      <td>234044</td>\n",
              "      <td>2157-10-21 11:40:38+00:00</td>\n",
              "      <td>2157-10-22 16:08:48+00:00</td>\n",
              "      <td>1.0</td>\n",
              "      <td>True</td>\n",
              "      <td>2157-10-21 13:40:00+00:00</td>\n",
              "      <td>NaT</td>\n",
              "      <td>2157-10-21 13:40:00+00:00</td>\n",
              "      <td>NaT</td>\n",
              "      <td>NaN</td>\n",
              "      <td>NaN</td>\n",
              "      <td>NaN</td>\n",
              "      <td>NaN</td>\n",
              "      <td>136.0</td>\n",
              "      <td>BLOOD</td>\n",
              "      <td>False</td>\n",
              "      <td>NaN</td>\n",
              "    </tr>\n",
              "    <tr>\n",
              "      <th>6</th>\n",
              "      <td>23</td>\n",
              "      <td>124321</td>\n",
              "      <td>234044</td>\n",
              "      <td>2157-10-21 11:40:38+00:00</td>\n",
              "      <td>2157-10-22 16:08:48+00:00</td>\n",
              "      <td>1.0</td>\n",
              "      <td>True</td>\n",
              "      <td>2157-10-21 14:40:00+00:00</td>\n",
              "      <td>NaT</td>\n",
              "      <td>2157-10-21 14:40:00+00:00</td>\n",
              "      <td>NaT</td>\n",
              "      <td>NaN</td>\n",
              "      <td>NaN</td>\n",
              "      <td>NaN</td>\n",
              "      <td>NaN</td>\n",
              "      <td>136.0</td>\n",
              "      <td>BLOOD</td>\n",
              "      <td>False</td>\n",
              "      <td>NaN</td>\n",
              "    </tr>\n",
              "    <tr>\n",
              "      <th>7</th>\n",
              "      <td>23</td>\n",
              "      <td>124321</td>\n",
              "      <td>234044</td>\n",
              "      <td>2157-10-21 11:40:38+00:00</td>\n",
              "      <td>2157-10-22 16:08:48+00:00</td>\n",
              "      <td>1.0</td>\n",
              "      <td>True</td>\n",
              "      <td>2157-10-21 16:00:00+00:00</td>\n",
              "      <td>NaT</td>\n",
              "      <td>2157-10-21 16:00:00+00:00</td>\n",
              "      <td>NaT</td>\n",
              "      <td>NaN</td>\n",
              "      <td>NaN</td>\n",
              "      <td>NaN</td>\n",
              "      <td>NaN</td>\n",
              "      <td>123.0</td>\n",
              "      <td>FINGERSTICK</td>\n",
              "      <td>False</td>\n",
              "      <td>NaN</td>\n",
              "    </tr>\n",
              "    <tr>\n",
              "      <th>8</th>\n",
              "      <td>23</td>\n",
              "      <td>124321</td>\n",
              "      <td>234044</td>\n",
              "      <td>2157-10-21 11:40:38+00:00</td>\n",
              "      <td>2157-10-22 16:08:48+00:00</td>\n",
              "      <td>1.0</td>\n",
              "      <td>True</td>\n",
              "      <td>2157-10-21 16:38:00+00:00</td>\n",
              "      <td>2157-10-21 16:38:00+00:00</td>\n",
              "      <td>NaN</td>\n",
              "      <td>2157-10-21 16:39:00+00:00</td>\n",
              "      <td>2.0</td>\n",
              "      <td>NaN</td>\n",
              "      <td>Short</td>\n",
              "      <td>BOLUS_INYECTION</td>\n",
              "      <td>NaN</td>\n",
              "      <td>NaN</td>\n",
              "      <td>NaT</td>\n",
              "      <td>NaN</td>\n",
              "    </tr>\n",
              "    <tr>\n",
              "      <th>9</th>\n",
              "      <td>23</td>\n",
              "      <td>124321</td>\n",
              "      <td>234044</td>\n",
              "      <td>2157-10-21 11:40:38+00:00</td>\n",
              "      <td>2157-10-22 16:08:48+00:00</td>\n",
              "      <td>1.0</td>\n",
              "      <td>True</td>\n",
              "      <td>2157-10-22 00:00:00+00:00</td>\n",
              "      <td>NaT</td>\n",
              "      <td>2157-10-22 00:00:00+00:00</td>\n",
              "      <td>NaT</td>\n",
              "      <td>NaN</td>\n",
              "      <td>NaN</td>\n",
              "      <td>NaN</td>\n",
              "      <td>NaN</td>\n",
              "      <td>105.0</td>\n",
              "      <td>FINGERSTICK</td>\n",
              "      <td>False</td>\n",
              "      <td>NaN</td>\n",
              "    </tr>\n",
              "  </tbody>\n",
              "</table>\n",
              "</div>"
            ],
            "text/plain": [
              "   SUBJECT_ID  HADM_ID  ICUSTAY_ID  ...    GLCSOURCE CHART_STORE  INFXSTOP\n",
              "5          23   124321      234044  ...        BLOOD       False       NaN\n",
              "6          23   124321      234044  ...        BLOOD       False       NaN\n",
              "7          23   124321      234044  ...  FINGERSTICK       False       NaN\n",
              "8          23   124321      234044  ...          NaN         NaT       NaN\n",
              "9          23   124321      234044  ...  FINGERSTICK       False       NaN\n",
              "\n",
              "[5 rows x 19 columns]"
            ]
          },
          "metadata": {
            "tags": []
          }
        },
        {
          "output_type": "display_data",
          "data": {
            "text/html": [
              "<h5>Contains the following information</h5>"
            ],
            "text/plain": [
              "<IPython.core.display.HTML object>"
            ]
          },
          "metadata": {
            "tags": []
          }
        },
        {
          "output_type": "stream",
          "text": [
            "Observations: 493980\n",
            "Patients: 7588\n",
            "Hospital admissions: 8939\n",
            "ICU stays: 9922\n"
          ],
          "name": "stdout"
        }
      ]
    },
    {
      "cell_type": "markdown",
      "metadata": {
        "id": "vCpmT3yc7lgf",
        "colab_type": "text"
      },
      "source": [
        "## Alignment\n",
        "The alignment of pairing between insulin events and glucose readings was done according to the following assumptions:\n",
        "\n",
        "1. **Rule 1**: A Glucose reading should precede an insulin input up to 90 min before the insulin dose. This 90 considers the ketoacidosis guidelines that recommends to re-measure glucose every 60 min after an insulin dose. 30 min more are added to consider the time it may take to care-providers to register this event. \n",
        "2. **Rule 2**: When an insulin event is not preceded by a glucose reading but followed by glucose time-stamps, this glucose reading is considered as the closest preceding time-stamp to insulin. 90 minutes away is determined as the maximum distance allowed.\n",
        "3. **Rule 3**: Sometimes an insulin infusion/bolus appears between a glucose transition from a low value (preceding record) to a high value (posterior record). In this case, the highest glucose value is considered as the aligned (preceding) glucose time-stamp and only if it was measured within 90 minutes.\n",
        "4. **Rule 4**: When an insulin event is preceded by a time-stamp of insulin bolus / infusion, and the following time-stamp is an insulin bolus/infusion, the glucose measurement from 2 previous times-tamps is selected for both insulin events only if it was taken up to 90 min before. This normally occurs when an insulin infusion is complemented with a bolus (same time-stamp).\n",
        "5. No glucose values below 90 mg/dL should be followed by an insulin bolus/infusion. Values below this threshold are not considered for alignment."
      ]
    },
    {
      "cell_type": "code",
      "metadata": {
        "id": "sX0qb3yJ82fb",
        "colab_type": "code",
        "colab": {}
      },
      "source": [
        "warnings.simplefilter('default')\n",
        "projectid = \"fluent-empire-241300\"\n",
        "query =\"\"\"\n",
        "            SELECT pg.*\n",
        "            , (CASE\n",
        "                    WHEN pg.GLCSOURCE_AL IS null \n",
        "                    AND (LEAD(pg.GLCTIMER_AL,1) OVER(PARTITION BY pg.SUBJECT_ID ORDER BY pg.TIMER) = pg.GLCTIMER)\n",
        "                    THEN 1 \n",
        "                    WHEN pg.GLCSOURCE_AL IS null \n",
        "                    AND (LAG(pg.GLCTIMER_AL,1) OVER(PARTITION BY pg.SUBJECT_ID ORDER BY pg.timer) = pg.GLCTIMER)\n",
        "                    AND LAG(endtime,1) OVER(PARTITION BY SUBJECT_ID ORDER BY timer) IS NOT null \n",
        "                    THEN 1\n",
        "                    ELSE null END) AS Repeated -- Column needed for further analysis in the notebook\n",
        "            FROM(SELECT p1.* \n",
        "            , (CASE\n",
        "            -- When previous and following measures are glucose, select the glucose value that \n",
        "            -- has the shortest time distance to insulin bolus/infusion. Glucose timestamps should not be\n",
        "            -- greater than 90 min. Glucose values should never be below 90 mg/dL\n",
        "                    WHEN p1.EVENT IN('BOLUS_INYECTION', 'BOLUS_PUSH', 'INFUSION')\n",
        "                    AND (LAG(p1.GLCSOURCE,1) OVER(PARTITION BY CAST(p1.HADM_ID AS INT64) ORDER BY p1.TIMER)) IN ('BLOOD', 'FINGERSTICK')\n",
        "                    AND (LEAD(p1.GLCSOURCE,1) OVER(PARTITION BY CAST(p1.HADM_ID AS INT64) ORDER BY p1.TIMER)) IN ('BLOOD', 'FINGERSTICK')\n",
        "                    AND ABS(TIMESTAMP_DIFF((LAG(p1.TIMER,1) OVER(PARTITION BY CAST(p1.HADM_ID AS INT64) ORDER BY p1.TIMER)),  p1.TIMER, MINUTE)) < ABS(TIMESTAMP_DIFF(LEAD(p1.TIMER,1) OVER(PARTITION BY CAST(p1.HADM_ID AS INT64) ORDER BY p1.TIMER), p1.TIMER, MINUTE))\n",
        "                    AND (ABS(TIMESTAMP_DIFF(LAG(p1.TIMER,1) OVER(PARTITION BY CAST(p1.HADM_ID AS INT64) ORDER BY p1.TIMER),  p1.TIMER, MINUTE)) <= 90 \n",
        "                        OR ABS(TIMESTAMP_DIFF(LEAD(p1.TIMER,1) OVER(PARTITION BY CAST(p1.HADM_ID AS INT64) ORDER BY p1.TIMER),  p1.TIMER, MINUTE)) <= 90) \n",
        "                    AND (LAG(p1.GLC,1) OVER(PARTITION BY CAST(p1.HADM_ID AS INT64) ORDER BY p1.TIMER)) >= 90.0 \n",
        "                    THEN (LAG(p1.GLC,1) OVER(PARTITION BY CAST(p1.HADM_ID AS INT64) ORDER BY p1.TIMER))\n",
        "\n",
        "                    WHEN p1.EVENT IN('BOLUS_INYECTION','BOLUS_PUSH','INFUSION')\n",
        "                    AND (LAG(p1.GLCSOURCE,1) OVER(PARTITION BY CAST(p1.HADM_ID AS INT64) ORDER BY p1.TIMER)) NOT IN ('BLOOD', 'FINGERSTICK')\n",
        "                    AND (LEAD(p1.GLCSOURCE,1) OVER(PARTITION BY CAST(p1.HADM_ID AS INT64) ORDER BY p1.TIMER)) NOT IN ('BLOOD', 'FINGERSTICK')\n",
        "                    AND ABS(TIMESTAMP_DIFF(LAG(p1.TIMER,1) OVER(PARTITION BY CAST(p1.HADM_ID AS INT64) ORDER BY p1.TIMER),\n",
        "                    p1.TIMER, MINUTE)) > ABS(TIMESTAMP_DIFF(LEAD(p1.TIMER,1) OVER(PARTITION BY CAST(p1.HADM_ID AS INT64) ORDER BY p1.TIMER), p1.TIMER, MINUTE))\n",
        "                    AND (ABS(TIMESTAMP_DIFF(LAG(p1.TIMER,1) OVER(PARTITION BY CAST(p1.HADM_ID AS INT64) ORDER BY p1.TIMER), p1.TIMER, MINUTE)) <= 90\n",
        "                        OR ABS(TIMESTAMP_DIFF(LEAD(p1.TIMER,1) OVER(PARTITION BY CAST(p1.HADM_ID AS INT64) ORDER BY p1.TIMER), p1.TIMER, MINUTE)) <= 90) \n",
        "                    AND (LEAD(p1.GLC,1) OVER(PARTITION BY CAST(p1.HADM_ID AS INT64) ORDER BY p1.TIMER)) >= 90.0\n",
        "                    THEN (LEAD(p1.GLC,1) OVER(PARTITION BY CAST(p1.HADM_ID AS INT64) ORDER BY p1.timer))\n",
        "\n",
        "            -- Shortest distance to insulin bolus/infusion + greatest value of Glucose\n",
        "            -- In case both previous and posterior Glucose values are within <= 90 min of difference \n",
        "            -- to bolus/infusion select the following glucose value in case it is the highest value.\n",
        "            -- Glucose values should never be below 90 mg/dL\n",
        "                  WHEN p1.EVENT IN('BOLUS_INYECTION','BOLUS_PUSH','INFUSION') AND (LAG(p1.GLCSOURCE,1) OVER(PARTITION BY CAST(p1.HADM_ID AS INT64) ORDER BY p1.TIMER)) IN ('BLOOD', 'FINGERSTICK')\n",
        "                  AND (LEAD(p1.GLCSOURCE,1) OVER(PARTITION BY CAST(p1.HADM_ID AS INT64) ORDER BY p1.TIMER)) IN ('BLOOD', 'FINGERSTICK')\n",
        "                  AND ABS(TIMESTAMP_DIFF(LAG(p1.TIMER,1) OVER(PARTITION BY CAST(p1.HADM_ID AS INT64) ORDER BY p1.TIMER), p1.TIMER, MINUTE)) < ABS(TIMESTAMP_DIFF(LEAD(p1.TIMER,1) OVER(PARTITION BY CAST(p1.HADM_ID AS INT64) ORDER BY p1.TIMER), p1.TIMER, MINUTE)) \n",
        "                  AND ABS(TIMESTAMP_DIFF(LEAD(p1.TIMER,1) OVER(PARTITION BY CAST(p1.HADM_ID AS INT64) ORDER BY p1.TIMER), p1.TIMER, MINUTE)) <= 90.0\n",
        "                  AND LAG(p1.GLC,1) OVER(PARTITION BY CAST(p1.HADM_ID AS INT64) ORDER BY p1.TIMER) < LEAD(p1.GLC,1) OVER(PARTITION BY CAST(p1.HADM_ID AS INT64) ORDER BY p1.TIMER) AND (LEAD(p1.GLC,1) OVER(PARTITION BY CAST(p1.HADM_ID AS INT64) ORDER BY p1.TIMER)) >= 90.0\n",
        "                  THEN (LEAD(p1.GLC,1) OVER(PARTITION BY CAST(p1.HADM_ID AS INT64) ORDER BY p1.TIMER))\n",
        "\n",
        "            -- In case both previous and posterior Glucose values are within <= 90 min of difference \n",
        "            -- to bolus/infusion select the following glucose value in case it is the highest value.\n",
        "            -- Glucose values should never be below 90 mg/dL\n",
        "                  WHEN p1.EVENT IN('BOLUS_INYECTION','BOLUS_PUSH','INFUSION')\n",
        "                  AND (LAG(p1.GLCSOURCE,1) OVER(PARTITION BY CAST(p1.HADM_ID AS INT64) ORDER BY p1.TIMER)) IN ('BLOOD', 'FINGERSTICK')\n",
        "                AND (LEAD(p1.GLCSOURCE,1) OVER(PARTITION BY CAST(p1.HADM_ID AS INT64) ORDER BY p1.TIMER)) IN ('BLOOD', 'FINGERSTICK')\n",
        "                AND ABS(TIMESTAMP_DIFF(LAG(p1.TIMER,1) OVER(PARTITION BY CAST(p1.HADM_ID AS INT64) ORDER BY p1.TIMER), p1.TIMER,MINUTE)) = ABS(TIMESTAMP_DIFF(LEAD(p1.TIMER,1) OVER(PARTITION BY CAST(p1.HADM_ID AS INT64) ORDER BY p1.TIMER), p1.TIMER, MINUTE))\n",
        "                AND ABS(TIMESTAMP_DIFF(LEAD(p1.TIMER,1) OVER(PARTITION BY CAST(p1.HADM_ID AS INT64) ORDER BY p1.TIMER), p1.TIMER, MINUTE)) <= 90.0\n",
        "                AND LAG(p1.GLC,1) OVER(PARTITION BY CAST(p1.HADM_ID AS INT64) ORDER BY p1.TIMER) < LEAD(p1.GLC,1) OVER(PARTITION BY CAST(p1.HADM_ID AS INT64) ORDER BY p1.TIMER)\n",
        "                AND (LEAD(p1.GLC,1) OVER(PARTITION BY CAST(p1.HADM_ID AS INT64) ORDER BY p1.TIMER)) >= 90\n",
        "                THEN (LEAD(p1.GLC,1) OVER(PARTITION BY CAST(p1.HADM_ID AS INT64) ORDER BY p1.TIMER))\n",
        "\n",
        "                WHEN p1.EVENT IN('BOLUS_INYECTION','BOLUS_PUSH','INFUSION') \n",
        "                AND (LAG(p1.GLCSOURCE,1) OVER(PARTITION BY CAST(p1.HADM_ID AS INT64) ORDER BY p1.TIMER)) IN ('BLOOD', 'FINGERSTICK')\n",
        "                AND (LEAD(p1.GLCSOURCE,1) OVER(PARTITION BY CAST(p1.HADM_ID AS INT64) ORDER BY p1.TIMER)) IN ('BLOOD', 'FINGERSTICK') \n",
        "                AND ABS(TIMESTAMP_DIFF(LAG(p1.timer,1) OVER(PARTITION BY CAST(p1.hadm_id AS INT64) ORDER BY p1.timer),  p1.timer, MINUTE)) = ABS(TIMESTAMP_DIFF(LEAD(p1.timer,1) OVER(PARTITION BY CAST(p1.hadm_id AS INT64) ORDER BY p1.timer), p1.timer, MINUTE)) \n",
        "                AND ABS(TIMESTAMP_DIFF(LAG(p1.timer,1) OVER(PARTITION BY CAST(p1.hadm_id AS INT64) ORDER BY p1.timer),  p1.timer, MINUTE)) <= 90.0 \n",
        "                AND LAG(p1.GLC,1) OVER(PARTITION BY CAST(p1.hadm_id AS INT64) ORDER BY p1.timer) > LEAD(p1.GLC,1) OVER(PARTITION BY CAST(p1.hadm_id AS INT64) ORDER BY p1.timer) \n",
        "                AND (LAG(p1.GLC,1) OVER(PARTITION BY CAST(p1.hadm_id AS INT64) ORDER BY p1.timer)) >= 90 \n",
        "                THEN (LAG(p1.GLC,1) OVER(PARTITION BY CAST(p1.hadm_id AS INT64) ORDER BY p1.timer))\n",
        "\n",
        "            -- When the previous timestamp is for glucose value and following timestamp is insulin\n",
        "            -- bolus/infusion select the previous glucose value IF it was taken up to 90 min before \n",
        "            -- to insulin infusion. Glucose values should never be below 90 mg/dL\n",
        "                WHEN p1.EVENT IN('BOLUS_INYECTION','BOLUS_PUSH','INFUSION')\n",
        "                AND (LAG(p1.GLCSOURCE,1) OVER(PARTITION BY CAST(p1.HADM_ID AS INT64) ORDER BY p1.TIMER)) IN ('BLOOD', 'FINGERSTICK')\n",
        "                AND (LEAD(p1.EVENT,1) OVER(PARTITION BY CAST(p1.HADM_ID AS INT64) ORDER BY p1.TIMER)) IN ('BOLUS_INYECTION','BOLUS_PUSH','INFUSION')\n",
        "                AND ABS(TIMESTAMP_DIFF(LAG(p1.timer,1) OVER(PARTITION BY CAST(p1.hadm_id AS INT64) ORDER BY p1.timer),p1.timer,MINUTE)) <= 90.0\n",
        "                AND (LAG(p1.GLC,1) OVER(PARTITION BY CAST(p1.hadm_id AS INT64) ORDER BY p1.timer)) >= 90 \n",
        "                THEN (LAG(p1.GLC,1) OVER(PARTITION BY CAST(p1.hadm_id AS INT64) ORDER BY p1.timer))\n",
        "\n",
        "            -- When previous timestamp is for Insulin bolus/infusion, following timestamp is insulin\n",
        "            -- bolus/infusion 2 previous timestamps is for glucose value, select that glucose value \n",
        "            -- if only it was taken up to 90 min before to that insulin infusion/bolus.\n",
        "            -- Glucose values should never be below 90 mg/dL\n",
        "                WHEN p1.EVENT IN('BOLUS_INYECTION', 'BOLUS_PUSH','INFUSION') \n",
        "                AND (LAG(p1.GLCSOURCE,2) OVER(PARTITION BY CAST(p1.hadm_id AS INT64) ORDER BY p1.timer)) IN ('BLOOD', 'FINGERSTICK')\n",
        "                AND (LAG(p1.EVENT,1) OVER(PARTITION BY CAST(p1.hadm_id AS INT64) ORDER BY p1.timer)) IN ('BOLUS_INYECTION','BOLUS_PUSH','INFUSION') \n",
        "                AND (LEAD(p1.EVENT,1) OVER(PARTITION BY CAST(p1.hadm_id AS INT64) ORDER BY p1.timer)) IN ('BOLUS_INYECTION','BOLUS_PUSH','INFUSION') AND ABS(TIMESTAMP_DIFF(LAG(timer,2) OVER(PARTITION BY CAST(p1.hadm_id AS INT64) ORDER BY p1.timer), p1.timer, MINUTE)) <= 90 \n",
        "                AND (LAG(p1.GLC,2) OVER(PARTITION BY CAST(p1.hadm_id AS INT64) ORDER BY p1.timer)) >= 90 \n",
        "                THEN (LAG(p1.GLC,2) OVER(PARTITION BY CAST(p1.hadm_id AS INT64) ORDER BY p1.timer))\n",
        "\n",
        "            -- When previous timestamp is for Insulin bolus/infusion, following timestamp is glucose value\n",
        "            -- and 2 previous timestamps is for glucose value, select the glucose value that is closest \n",
        "            -- to insulin event if only glucose timestamp is within 90 min.\n",
        "            -- Glucose values should never be below 90 mg/dL\n",
        "                WHEN p1.EVENT IN('BOLUS_INYECTION','BOLUS_PUSH','INFUSION')\n",
        "                AND (LAG(p1.GLCSOURCE,2) OVER(PARTITION BY CAST(p1.HADM_ID AS INT64) ORDER BY p1.TIMER)) IN ('BLOOD', 'FINGERSTICK')\n",
        "                AND (LAG(p1.EVENT,1) OVER(PARTITION BY CAST(p1.hadm_id AS INT64) ORDER BY p1.timer)) IN ('BOLUS_INYECTION','BOLUS_PUSH','INFUSION')\n",
        "                AND (LEAD(p1.GLCSOURCE,1) OVER(PARTITION BY CAST(p1.hadm_id AS INT64) ORDER BY p1.timer)) IN ('BLOOD', 'FINGERSTICK')\n",
        "                AND (ABS(TIMESTAMP_DIFF(LAG(p1.timer,2) OVER(PARTITION BY CAST(p1.hadm_id AS INT64) ORDER BY p1.timer), p1.timer, MINUTE)) <= 90.0\n",
        "                OR ABS(TIMESTAMP_DIFF(LEAD(p1.timer,1) OVER(PARTITION BY CAST(p1.hadm_id AS INT64) ORDER BY p1.timer), p1.timer, MINUTE)) <= 90.0)\n",
        "                AND ABS(TIMESTAMP_DIFF(LAG(p1.timer,2) OVER(PARTITION BY CAST(p1.hadm_id AS INT64) ORDER BY p1.timer), p1.timer, MINUTE)) < ABS(TIMESTAMP_DIFF(LEAD(p1.timer,1) OVER(PARTITION BY CAST(p1.hadm_id AS INT64) ORDER BY p1.timer), p1.timer, MINUTE))\n",
        "                AND (LAG(p1.GLC,2) OVER(PARTITION BY CAST(p1.hadm_id AS INT64) ORDER BY p1.timer)) >= 90\n",
        "                THEN (LAG(p1.GLC,2) OVER(PARTITION BY CAST(p1.hadm_id AS INT64) ORDER BY p1.timer))\n",
        "\n",
        "                WHEN p1.EVENT IN('BOLUS_INYECTION','BOLUS_PUSH','INFUSION') \n",
        "                AND (LAG(p1.GLCSOURCE,2) OVER(PARTITION BY CAST(p1.hadm_id AS INT64) ORDER BY p1.timer)) IN ('BLOOD', 'FINGERSTICK') \n",
        "                AND (LAG(p1.EVENT,1) OVER(PARTITION BY CAST(p1.hadm_id AS INT64) ORDER BY p1.timer)) IN ('BOLUS_INYECTION','BOLUS_PUSH','INFUSION') \n",
        "                AND (LEAD(p1.GLCSOURCE,1) OVER(PARTITION BY CAST(p1.hadm_id AS INT64) ORDER BY timer))IN ('BLOOD', 'FINGERSTICK')\n",
        "                AND (ABS(TIMESTAMP_DIFF(LAG(p1.timer,2) OVER(PARTITION BY CAST(p1.hadm_id AS INT64) ORDER BY p1.timer),  p1.timer,  MINUTE)) <= 90.0 \n",
        "                  OR ABS(TIMESTAMP_DIFF(LEAD(p1.timer,1) OVER(PARTITION BY CAST(p1.hadm_id AS INT64) ORDER BY p1.timer),  p1.timer,MINUTE)) <= 90.0) \n",
        "                AND ABS(TIMESTAMP_DIFF(LAG(p1.timer,2) OVER(PARTITION BY CAST(p1.hadm_id AS INT64) ORDER BY p1.timer),  p1.timer, MINUTE))> ABS(TIMESTAMP_DIFF(LEAD(p1.timer,1) OVER(PARTITION BY CAST(p1.hadm_id AS INT64) ORDER BY p1.timer), p1.timer, MINUTE)) \n",
        "                AND (LEAD(p1.GLC,1) OVER(PARTITION BY CAST(p1.hadm_id AS INT64) ORDER BY p1.timer)) >= 90 \n",
        "                THEN (LEAD(p1.GLC,1) OVER(PARTITION BY CAST(p1.hadm_id AS INT64) ORDER BY p1.timer))\n",
        "\n",
        "            -- In case -2 and -1 timestamps are insulin infusion/bolus and following is a glucose \n",
        "            -- timestamp within 90 min.\n",
        "            -- Glucose values should never be below 90 mg/dL\n",
        "                WHEN p1.EVENT IN('BOLUS_INYECTION','BOLUS_PUSH','INFUSION')\n",
        "                AND (LAG(p1.EVENT,2) OVER(PARTITION BY CAST(p1.hadm_id AS INT64) ORDER BY p1.timer)) IN ('BOLUS_INYECTION','BOLUS_PUSH','INFUSION')\n",
        "                AND (LAG(p1.EVENT,1) OVER(PARTITION BY CAST(p1.hadm_id AS INT64) ORDER BY p1.timer)) IN ('BOLUS_INYECTION','BOLUS_PUSH','INFUSION')\n",
        "                AND (LEAD(p1.GLCSOURCE,1) OVER(PARTITION BY CAST(p1.hadm_id AS INT64) ORDER BY p1.timer)) IN ('BLOOD', 'FINGERSTICK')\n",
        "                AND ABS(TIMESTAMP_DIFF(LEAD(p1.timer,1) OVER(PARTITION BY CAST(p1.hadm_id AS INT64) ORDER BY p1.timer), p1.timer, MINUTE)) <= 90.0\n",
        "                AND (LEAD(p1.GLC,1) OVER(PARTITION BY CAST(p1.hadm_id AS INT64) ORDER BY p1.timer)) >= 90 \n",
        "                THEN (LEAD(p1.GLC,1) OVER(PARTITION BY CAST(p1.hadm_id AS INT64) ORDER BY p1.timer))\n",
        "\n",
        "            -- In case the last timestamp is for insulin, select the previous glucose value if it was \n",
        "            -- within 90 min.\n",
        "            -- Glucose values should never be below 90 mg/dL\n",
        "                WHEN p1.EVENT IN('BOLUS_INYECTION','BOLUS_PUSH','INFUSION')\n",
        "                AND (LAG(p1.GLCSOURCE,1) OVER(PARTITION BY CAST(p1.hadm_id AS INT64) ORDER BY p1.TIMER)) IN ('BLOOD', 'FINGERSTICK') \n",
        "                AND (LEAD(p1.EVENT,1) OVER(PARTITION BY CAST(p1.hadm_id AS INT64) ORDER BY p1.timer)) IS NULL \n",
        "                AND ABS(TIMESTAMP_DIFF(LAG(p1.TIMER,1) OVER(PARTITION BY CAST(p1.hadm_id AS INT64) ORDER BY p1.timer),  p1.timer, MINUTE)) <= 90.0 \n",
        "                AND (LAG(p1.GLC,1) OVER(PARTITION BY CAST(p1.hadm_id AS INT64) ORDER BY p1.timer)) >= 90\n",
        "                THEN (LAG(p1.GLC,1) OVER(PARTITION BY CAST(p1.hadm_id AS INT64) ORDER BY p1.timer))\n",
        "                ELSE null END\n",
        "                ) AS GLC_AL -- GLUCOSE READING VALUE\n",
        "\n",
        "            , (CASE\n",
        "                    WHEN p1.EVENT IN('BOLUS_INYECTION', 'BOLUS_PUSH', 'INFUSION')\n",
        "                    AND (LAG(p1.GLCSOURCE,1) OVER(PARTITION BY CAST(p1.HADM_ID AS INT64) ORDER BY p1.TIMER)) IN ('BLOOD', 'FINGERSTICK')\n",
        "                    AND (LEAD(p1.GLCSOURCE,1) OVER(PARTITION BY CAST(p1.HADM_ID AS INT64) ORDER BY p1.TIMER)) IN ('BLOOD', 'FINGERSTICK')\n",
        "                    AND ABS(TIMESTAMP_DIFF((LAG(p1.TIMER,1) OVER(PARTITION BY CAST(p1.HADM_ID AS INT64) ORDER BY p1.TIMER)),  p1.TIMER, MINUTE)) < ABS(TIMESTAMP_DIFF(LEAD(p1.TIMER,1) OVER(PARTITION BY CAST(p1.HADM_ID AS INT64) ORDER BY p1.TIMER), p1.TIMER, MINUTE))\n",
        "                    AND (ABS(TIMESTAMP_DIFF(LAG(p1.TIMER,1) OVER(PARTITION BY CAST(p1.HADM_ID AS INT64) ORDER BY p1.TIMER),  p1.TIMER, MINUTE)) <= 90 \n",
        "                    OR ABS(TIMESTAMP_DIFF(LEAD(p1.TIMER,1) OVER(PARTITION BY CAST(p1.HADM_ID AS INT64) ORDER BY p1.TIMER),  p1.TIMER, MINUTE)) <= 90) \n",
        "                    AND (LAG(p1.GLC,1) OVER(PARTITION BY CAST(p1.HADM_ID AS INT64) ORDER BY p1.TIMER)) >= 90.0 \n",
        "                    THEN (LAG(p1.TIMER,1) OVER(PARTITION BY CAST(p1.HADM_ID AS INT64) ORDER BY p1.TIMER))\n",
        "\n",
        "                  WHEN p1.EVENT IN('BOLUS_INYECTION','BOLUS_PUSH','INFUSION')\n",
        "                    AND (LAG(p1.GLCSOURCE,1) OVER(PARTITION BY CAST(p1.HADM_ID AS INT64) ORDER BY p1.TIMER)) NOT IN ('BLOOD', 'FINGERSTICK')\n",
        "                    AND (LEAD(p1.GLCSOURCE,1) OVER(PARTITION BY CAST(p1.HADM_ID AS INT64) ORDER BY p1.TIMER)) NOT IN ('BLOOD', 'FINGERSTICK')\n",
        "                    AND ABS(TIMESTAMP_DIFF(LAG(p1.TIMER,1) OVER(PARTITION BY CAST(p1.HADM_ID AS INT64) ORDER BY p1.TIMER),\n",
        "                    p1.TIMER, MINUTE)) > ABS(TIMESTAMP_DIFF(LEAD(p1.TIMER,1) OVER(PARTITION BY CAST(p1.HADM_ID AS INT64) ORDER BY p1.TIMER), p1.TIMER, MINUTE))\n",
        "                    AND (ABS(TIMESTAMP_DIFF(LAG(p1.TIMER,1) OVER(PARTITION BY CAST(p1.HADM_ID AS INT64) ORDER BY p1.TIMER), p1.TIMER, MINUTE)) <= 90\n",
        "                    OR ABS(TIMESTAMP_DIFF(LEAD(p1.TIMER,1) OVER(PARTITION BY CAST(p1.HADM_ID AS INT64) ORDER BY p1.TIMER), p1.TIMER, MINUTE)) <= 90) \n",
        "                    AND (LEAD(p1.GLC,1) OVER(PARTITION BY CAST(p1.HADM_ID AS INT64) ORDER BY p1.TIMER)) >= 90.0\n",
        "                    THEN (LEAD(p1.TIMER,1) OVER(PARTITION BY CAST(p1.HADM_ID AS INT64) ORDER BY p1.timer))\n",
        "\n",
        "                  \n",
        "                  WHEN p1.EVENT IN('BOLUS_INYECTION','BOLUS_PUSH','INFUSION') AND (LAG(p1.GLCSOURCE,1) OVER(PARTITION BY CAST(p1.HADM_ID AS INT64) ORDER BY p1.TIMER)) IN ('BLOOD', 'FINGERSTICK')\n",
        "                  AND (LEAD(p1.GLCSOURCE,1) OVER(PARTITION BY CAST(p1.HADM_ID AS INT64) ORDER BY p1.TIMER)) IN ('BLOOD', 'FINGERSTICK')\n",
        "                  AND ABS(TIMESTAMP_DIFF(LAG(p1.TIMER,1) OVER(PARTITION BY CAST(p1.HADM_ID AS INT64) ORDER BY p1.TIMER), p1.TIMER, MINUTE)) < ABS(TIMESTAMP_DIFF(LEAD(p1.TIMER,1) OVER(PARTITION BY CAST(p1.HADM_ID AS INT64) ORDER BY p1.TIMER), p1.TIMER, MINUTE)) \n",
        "                  AND ABS(TIMESTAMP_DIFF(LEAD(p1.TIMER,1) OVER(PARTITION BY CAST(p1.HADM_ID AS INT64) ORDER BY p1.TIMER), p1.TIMER, MINUTE)) <= 90.0\n",
        "                  AND LAG(p1.GLC,1) OVER(PARTITION BY CAST(p1.HADM_ID AS INT64) ORDER BY p1.TIMER) < LEAD(p1.GLC,1) OVER(PARTITION BY CAST(p1.HADM_ID AS INT64) ORDER BY p1.TIMER) AND (LEAD(p1.GLC,1) OVER(PARTITION BY CAST(p1.HADM_ID AS INT64) ORDER BY p1.TIMER)) >= 90.0\n",
        "                  THEN (LEAD(p1.TIMER,1) OVER(PARTITION BY CAST(p1.HADM_ID AS INT64) ORDER BY p1.TIMER))\n",
        "\n",
        "                \n",
        "                  WHEN p1.EVENT IN('BOLUS_INYECTION','BOLUS_PUSH','INFUSION')\n",
        "                  AND (LAG(p1.GLCSOURCE,1) OVER(PARTITION BY CAST(p1.HADM_ID AS INT64) ORDER BY p1.TIMER)) IN ('BLOOD', 'FINGERSTICK')\n",
        "                AND (LEAD(p1.GLCSOURCE,1) OVER(PARTITION BY CAST(p1.HADM_ID AS INT64) ORDER BY p1.TIMER)) IN ('BLOOD', 'FINGERSTICK')\n",
        "                AND ABS(TIMESTAMP_DIFF(LAG(p1.TIMER,1) OVER(PARTITION BY CAST(p1.HADM_ID AS INT64) ORDER BY p1.TIMER), p1.TIMER,MINUTE)) = ABS(TIMESTAMP_DIFF(LEAD(p1.TIMER,1) OVER(PARTITION BY CAST(p1.HADM_ID AS INT64) ORDER BY p1.TIMER), p1.TIMER, MINUTE))\n",
        "                AND ABS(TIMESTAMP_DIFF(LEAD(p1.TIMER,1) OVER(PARTITION BY CAST(p1.HADM_ID AS INT64) ORDER BY p1.TIMER), p1.TIMER, MINUTE)) <= 90.0\n",
        "                AND LAG(p1.GLC,1) OVER(PARTITION BY CAST(p1.HADM_ID AS INT64) ORDER BY p1.TIMER) < LEAD(p1.GLC,1) OVER(PARTITION BY CAST(p1.HADM_ID AS INT64) ORDER BY p1.TIMER)\n",
        "                AND (LEAD(p1.GLC,1) OVER(PARTITION BY CAST(p1.HADM_ID AS INT64) ORDER BY p1.TIMER)) >= 90\n",
        "                THEN (LEAD(p1.TIMER,1) OVER(PARTITION BY CAST(p1.HADM_ID AS INT64) ORDER BY p1.TIMER))\n",
        "\n",
        "                WHEN p1.EVENT IN('BOLUS_INYECTION','BOLUS_PUSH','INFUSION') \n",
        "                AND (LAG(p1.GLCSOURCE,1) OVER(PARTITION BY CAST(p1.HADM_ID AS INT64) ORDER BY p1.TIMER)) IN ('BLOOD', 'FINGERSTICK')\n",
        "                AND (LEAD(p1.GLCSOURCE,1) OVER(PARTITION BY CAST(p1.HADM_ID AS INT64) ORDER BY p1.TIMER)) IN ('BLOOD', 'FINGERSTICK') \n",
        "                AND ABS(TIMESTAMP_DIFF(LAG(p1.timer,1) OVER(PARTITION BY CAST(p1.hadm_id AS INT64) ORDER BY p1.timer),  p1.timer, MINUTE)) = ABS(TIMESTAMP_DIFF(LEAD(p1.timer,1) OVER(PARTITION BY CAST(p1.hadm_id AS INT64) ORDER BY p1.timer), p1.timer, MINUTE)) \n",
        "                AND ABS(TIMESTAMP_DIFF(LAG(p1.timer,1) OVER(PARTITION BY CAST(p1.hadm_id AS INT64) ORDER BY p1.timer),  p1.timer, MINUTE)) <= 90.0 \n",
        "                AND LAG(p1.GLC,1) OVER(PARTITION BY CAST(p1.hadm_id AS INT64) ORDER BY p1.timer) > LEAD(p1.GLC,1) OVER(PARTITION BY CAST(p1.hadm_id AS INT64) ORDER BY p1.timer) \n",
        "                AND (LAG(p1.GLC,1) OVER(PARTITION BY CAST(p1.hadm_id AS INT64) ORDER BY p1.timer)) >= 90 \n",
        "                THEN (LAG(p1.TIMER,1) OVER(PARTITION BY CAST(p1.hadm_id AS INT64) ORDER BY p1.timer))\n",
        "\n",
        "                -- When the previous timestamp is for glucose value and following timestamp is insulin bolus/infusion\n",
        "                -- select the previous glucose value IF it was taken up to 90 min before to insulin infusion.\n",
        "                -- Glucose values should never be below 90 mg/dL\n",
        "                WHEN p1.EVENT IN('BOLUS_INYECTION','BOLUS_PUSH','INFUSION')\n",
        "                AND (LAG(p1.GLCSOURCE,1) OVER(PARTITION BY CAST(p1.HADM_ID AS INT64) ORDER BY p1.TIMER)) IN ('BLOOD', 'FINGERSTICK')\n",
        "                AND (LEAD(p1.EVENT,1) OVER(PARTITION BY CAST(p1.HADM_ID AS INT64) ORDER BY p1.TIMER)) IN ('BOLUS_INYECTION','BOLUS_PUSH','INFUSION')\n",
        "                AND ABS(TIMESTAMP_DIFF(LAG(p1.timer,1) OVER(PARTITION BY CAST(p1.hadm_id AS INT64) ORDER BY p1.timer),p1.timer,MINUTE)) <= 90.0\n",
        "                AND (LAG(p1.GLC,1) OVER(PARTITION BY CAST(p1.hadm_id AS INT64) ORDER BY p1.timer)) >= 90 \n",
        "                THEN (LAG(p1.TIMER,1) OVER(PARTITION BY CAST(p1.hadm_id AS INT64) ORDER BY p1.timer))\n",
        "\n",
        "                -- When previous timestamp is for Insulin bolus/infusion, following timestamp is insulin bolus/infusion\n",
        "                -- 2 previous timestamps is for glucose value, select that glucose value if only it was taken up to\n",
        "                -- 90 min before to that insulin infusion/bolus. Glucose values should never be below 90 mg/dL\n",
        "                WHEN p1.EVENT IN('BOLUS_INYECTION', 'BOLUS_PUSH','INFUSION') \n",
        "                  AND (LAG(p1.GLCSOURCE,2) OVER(PARTITION BY CAST(p1.hadm_id AS INT64) ORDER BY p1.timer)) IN ('BLOOD', 'FINGERSTICK')\n",
        "                  AND (LAG(p1.EVENT,1) OVER(PARTITION BY CAST(p1.hadm_id AS INT64) ORDER BY p1.timer)) IN ('BOLUS_INYECTION','BOLUS_PUSH','INFUSION') \n",
        "                  AND (LEAD(p1.EVENT,1) OVER(PARTITION BY CAST(p1.hadm_id AS INT64) ORDER BY p1.timer)) IN ('BOLUS_INYECTION','BOLUS_PUSH','INFUSION') AND ABS(TIMESTAMP_DIFF(LAG(timer,2) OVER(PARTITION BY CAST(p1.hadm_id AS INT64) ORDER BY p1.timer), p1.timer, MINUTE)) <= 90 \n",
        "                  AND (LAG(p1.GLC,2) OVER(PARTITION BY CAST(p1.hadm_id AS INT64) ORDER BY p1.timer)) >= 90 \n",
        "                  THEN (LAG(p1.TIMER,2) OVER(PARTITION BY CAST(p1.hadm_id AS INT64) ORDER BY p1.timer))\n",
        "\n",
        "                -- When previous timestamp is for Insulin bolus/infusion, following timestamp is glucose value and\n",
        "                -- 2 previous timestamps is for glucose value, select the glucose value that is closest to insulin event\n",
        "                -- if only glucose timestamp is within 90 min. Glucose values should never be below 90 mg/dL\n",
        "                  WHEN p1.EVENT IN('BOLUS_INYECTION','BOLUS_PUSH','INFUSION')\n",
        "                  AND (LAG(p1.GLCSOURCE,2) OVER(PARTITION BY CAST(p1.HADM_ID AS INT64) ORDER BY p1.TIMER)) IN ('BLOOD', 'FINGERSTICK')\n",
        "                AND (LAG(p1.EVENT,1) OVER(PARTITION BY CAST(p1.hadm_id AS INT64) ORDER BY p1.timer)) IN ('BOLUS_INYECTION','BOLUS_PUSH','INFUSION')\n",
        "                AND (LEAD(p1.GLCSOURCE,1) OVER(PARTITION BY CAST(p1.hadm_id AS INT64) ORDER BY p1.timer)) IN ('BLOOD', 'FINGERSTICK')\n",
        "                AND (ABS(TIMESTAMP_DIFF(LAG(p1.timer,2) OVER(PARTITION BY CAST(p1.hadm_id AS INT64) ORDER BY p1.timer), p1.timer, MINUTE)) <= 90.0\n",
        "                OR ABS(TIMESTAMP_DIFF(LEAD(p1.timer,1) OVER(PARTITION BY CAST(p1.hadm_id AS INT64) ORDER BY p1.timer), p1.timer, MINUTE)) <= 90.0)\n",
        "                AND ABS(TIMESTAMP_DIFF(LAG(p1.timer,2) OVER(PARTITION BY CAST(p1.hadm_id AS INT64) ORDER BY p1.timer), p1.timer, MINUTE)) < ABS(TIMESTAMP_DIFF(LEAD(p1.timer,1) OVER(PARTITION BY CAST(p1.hadm_id AS INT64) ORDER BY p1.timer), p1.timer, MINUTE))\n",
        "                AND (LAG(p1.GLC,2) OVER(PARTITION BY CAST(p1.hadm_id AS INT64) ORDER BY p1.timer)) >= 90\n",
        "                THEN (LAG(p1.TIMER,2) OVER(PARTITION BY CAST(p1.hadm_id AS INT64) ORDER BY p1.timer))\n",
        "\n",
        "                WHEN p1.EVENT IN('BOLUS_INYECTION','BOLUS_PUSH','INFUSION') \n",
        "                AND (LAG(p1.GLCSOURCE,2) OVER(PARTITION BY CAST(p1.hadm_id AS INT64) ORDER BY p1.timer)) IN ('BLOOD', 'FINGERSTICK') \n",
        "                AND (LAG(p1.EVENT,1) OVER(PARTITION BY CAST(p1.hadm_id AS INT64) ORDER BY p1.timer)) IN ('BOLUS_INYECTION','BOLUS_PUSH','INFUSION') \n",
        "                AND (LEAD(p1.GLCSOURCE,1) OVER(PARTITION BY CAST(p1.hadm_id AS INT64) ORDER BY timer))IN ('BLOOD', 'FINGERSTICK')\n",
        "                AND (ABS(TIMESTAMP_DIFF(LAG(p1.timer,2) OVER(PARTITION BY CAST(p1.hadm_id AS INT64) ORDER BY p1.timer),  p1.timer,  MINUTE)) <= 90.0 \n",
        "                  OR ABS(TIMESTAMP_DIFF(LEAD(p1.timer,1) OVER(PARTITION BY CAST(p1.hadm_id AS INT64) ORDER BY p1.timer),  p1.timer,MINUTE)) <= 90.0) \n",
        "                AND ABS(TIMESTAMP_DIFF(LAG(p1.timer,2) OVER(PARTITION BY CAST(p1.hadm_id AS INT64) ORDER BY p1.timer),  p1.timer, MINUTE))> ABS(TIMESTAMP_DIFF(LEAD(p1.timer,1) OVER(PARTITION BY CAST(p1.hadm_id AS INT64) ORDER BY p1.timer), p1.timer, MINUTE)) \n",
        "                AND (LEAD(p1.GLC,1) OVER(PARTITION BY CAST(p1.hadm_id AS INT64) ORDER BY p1.timer)) >= 90 \n",
        "                THEN (LEAD(p1.TIMER,1) OVER(PARTITION BY CAST(p1.hadm_id AS INT64) ORDER BY p1.timer))\n",
        "\n",
        "                -- In case -2 and -1 timestamps are insulin infusion/bolus and following is a glucose timestamp within 90 min\n",
        "                -- Glucose values should never be below 90 mg/dL\n",
        "                WHEN p1.EVENT IN('BOLUS_INYECTION','BOLUS_PUSH','INFUSION')\n",
        "                  AND (LAG(p1.EVENT,2) OVER(PARTITION BY CAST(p1.hadm_id AS INT64) ORDER BY p1.timer)) IN ('BOLUS_INYECTION','BOLUS_PUSH','INFUSION')\n",
        "                AND (LAG(p1.EVENT,1) OVER(PARTITION BY CAST(p1.hadm_id AS INT64) ORDER BY p1.timer)) IN ('BOLUS_INYECTION','BOLUS_PUSH','INFUSION')\n",
        "                AND (LEAD(p1.GLCSOURCE,1) OVER(PARTITION BY CAST(p1.hadm_id AS INT64) ORDER BY p1.timer)) IN ('BLOOD', 'FINGERSTICK')\n",
        "                AND ABS(TIMESTAMP_DIFF(LEAD(p1.timer,1) OVER(PARTITION BY CAST(p1.hadm_id AS INT64) ORDER BY p1.timer), p1.timer, MINUTE)) <= 90.0\n",
        "                AND (LEAD(p1.GLC,1) OVER(PARTITION BY CAST(p1.hadm_id AS INT64) ORDER BY p1.timer)) >= 90 \n",
        "                THEN (LEAD(p1.TIMER,1) OVER(PARTITION BY CAST(p1.hadm_id AS INT64) ORDER BY p1.timer))\n",
        "\n",
        "                -- In case the last timestamp is for insulin, select the previous glucose value if it was within 90 min.\n",
        "                -- Glucose values should never be below 90 mg/dL\n",
        "                WHEN p1.EVENT IN('BOLUS_INYECTION','BOLUS_PUSH','INFUSION')\n",
        "                AND (LAG(p1.GLCSOURCE,1) OVER(PARTITION BY CAST(p1.hadm_id AS INT64) ORDER BY p1.TIMER)) IN ('BLOOD', 'FINGERSTICK') \n",
        "                AND (LEAD(p1.EVENT,1) OVER(PARTITION BY CAST(p1.hadm_id AS INT64) ORDER BY p1.timer)) IS NULL \n",
        "                AND ABS(TIMESTAMP_DIFF(LAG(p1.TIMER,1) OVER(PARTITION BY CAST(p1.hadm_id AS INT64) ORDER BY p1.timer),  p1.timer, MINUTE)) <= 90.0 \n",
        "                AND (LAG(p1.GLC,1) OVER(PARTITION BY CAST(p1.hadm_id AS INT64) ORDER BY p1.timer)) >= 90\n",
        "                THEN (LAG(p1.TIMER,1) OVER(PARTITION BY CAST(p1.hadm_id AS INT64) ORDER BY p1.timer))\n",
        "                ELSE null END\n",
        "                ) AS GLCTIMER_AL\n",
        "                \n",
        "            , (CASE\n",
        "                -- When previous and following measures are glucose, select the glucose value that \n",
        "                -- has the shortest time distance to insulin bolus/infusion. Glucose timestamps should not be\n",
        "                -- greater than 90 min. Glucose values should never be below 100 mg/dL\n",
        "                  WHEN p1.EVENT IN('BOLUS_INYECTION', 'BOLUS_PUSH', 'INFUSION')\n",
        "                    AND (LAG(p1.GLCSOURCE,1) OVER(PARTITION BY CAST(p1.HADM_ID AS INT64) ORDER BY p1.TIMER)) IN ('BLOOD', 'FINGERSTICK')\n",
        "                    AND (LEAD(p1.GLCSOURCE,1) OVER(PARTITION BY CAST(p1.HADM_ID AS INT64) ORDER BY p1.TIMER)) IN ('BLOOD', 'FINGERSTICK')\n",
        "                    AND ABS(TIMESTAMP_DIFF((LAG(p1.TIMER,1) OVER(PARTITION BY CAST(p1.HADM_ID AS INT64) ORDER BY p1.TIMER)),  p1.TIMER, MINUTE)) < ABS(TIMESTAMP_DIFF(LEAD(p1.TIMER,1) OVER(PARTITION BY CAST(p1.HADM_ID AS INT64) ORDER BY p1.TIMER), p1.TIMER, MINUTE))\n",
        "                    AND (ABS(TIMESTAMP_DIFF(LAG(p1.TIMER,1) OVER(PARTITION BY CAST(p1.HADM_ID AS INT64) ORDER BY p1.TIMER),  p1.TIMER, MINUTE)) <= 90 \n",
        "                    OR ABS(TIMESTAMP_DIFF(LEAD(p1.TIMER,1) OVER(PARTITION BY CAST(p1.HADM_ID AS INT64) ORDER BY p1.TIMER),  p1.TIMER, MINUTE)) <= 90) \n",
        "                    AND (LAG(p1.GLC,1) OVER(PARTITION BY CAST(p1.HADM_ID AS INT64) ORDER BY p1.TIMER)) >= 90.0 \n",
        "                    THEN (LAG(p1.GLCSOURCE,1) OVER(PARTITION BY CAST(p1.HADM_ID AS INT64) ORDER BY p1.TIMER))\n",
        "\n",
        "                  WHEN p1.EVENT IN('BOLUS_INYECTION','BOLUS_PUSH','INFUSION')\n",
        "                    AND (LAG(p1.GLCSOURCE,1) OVER(PARTITION BY CAST(p1.HADM_ID AS INT64) ORDER BY p1.TIMER)) NOT IN ('BLOOD', 'FINGERSTICK')\n",
        "                    AND (LEAD(p1.GLCSOURCE,1) OVER(PARTITION BY CAST(p1.HADM_ID AS INT64) ORDER BY p1.TIMER)) NOT IN ('BLOOD', 'FINGERSTICK')\n",
        "                    AND ABS(TIMESTAMP_DIFF(LAG(p1.TIMER,1) OVER(PARTITION BY CAST(p1.HADM_ID AS INT64) ORDER BY p1.TIMER),\n",
        "                    p1.TIMER, MINUTE)) > ABS(TIMESTAMP_DIFF(LEAD(p1.TIMER,1) OVER(PARTITION BY CAST(p1.HADM_ID AS INT64) ORDER BY p1.TIMER), p1.TIMER, MINUTE))\n",
        "                    AND (ABS(TIMESTAMP_DIFF(LAG(p1.TIMER,1) OVER(PARTITION BY CAST(p1.HADM_ID AS INT64) ORDER BY p1.TIMER), p1.TIMER, MINUTE)) <= 90\n",
        "                    OR ABS(TIMESTAMP_DIFF(LEAD(p1.TIMER,1) OVER(PARTITION BY CAST(p1.HADM_ID AS INT64) ORDER BY p1.TIMER), p1.TIMER, MINUTE)) <= 90) \n",
        "                    AND (LEAD(p1.GLC,1) OVER(PARTITION BY CAST(p1.HADM_ID AS INT64) ORDER BY p1.TIMER)) >= 90.0\n",
        "                    THEN (LEAD(p1.GLCSOURCE,1) OVER(PARTITION BY CAST(p1.HADM_ID AS INT64) ORDER BY p1.timer))\n",
        "\n",
        "                -- Shortest distance to insulin bolus/infusion + greatest value of Glucose\n",
        "                -- In case both previous and posterior Glucose values are within <= 90 min of difference to bolus/infusion\n",
        "                -- select the following glucose value in case it is the highest value. Glucose values should never be below 90 mg/dL\n",
        "                  WHEN p1.EVENT IN('BOLUS_INYECTION','BOLUS_PUSH','INFUSION') AND (LAG(p1.GLCSOURCE,1) OVER(PARTITION BY CAST(p1.HADM_ID AS INT64) ORDER BY p1.TIMER)) IN ('BLOOD', 'FINGERSTICK')\n",
        "                  AND (LEAD(p1.GLCSOURCE,1) OVER(PARTITION BY CAST(p1.HADM_ID AS INT64) ORDER BY p1.TIMER)) IN ('BLOOD', 'FINGERSTICK')\n",
        "                  AND ABS(TIMESTAMP_DIFF(LAG(p1.TIMER,1) OVER(PARTITION BY CAST(p1.HADM_ID AS INT64) ORDER BY p1.TIMER), p1.TIMER, MINUTE)) < ABS(TIMESTAMP_DIFF(LEAD(p1.TIMER,1) OVER(PARTITION BY CAST(p1.HADM_ID AS INT64) ORDER BY p1.TIMER), p1.TIMER, MINUTE)) \n",
        "                  AND ABS(TIMESTAMP_DIFF(LEAD(p1.TIMER,1) OVER(PARTITION BY CAST(p1.HADM_ID AS INT64) ORDER BY p1.TIMER), p1.TIMER, MINUTE)) <= 90.0\n",
        "                  AND LAG(p1.GLC,1) OVER(PARTITION BY CAST(p1.HADM_ID AS INT64) ORDER BY p1.TIMER) < LEAD(p1.GLC,1) OVER(PARTITION BY CAST(p1.HADM_ID AS INT64) ORDER BY p1.TIMER) AND (LEAD(p1.GLC,1) OVER(PARTITION BY CAST(p1.HADM_ID AS INT64) ORDER BY p1.TIMER)) >= 90.0\n",
        "                  THEN (LEAD(p1.GLCSOURCE,1) OVER(PARTITION BY CAST(p1.HADM_ID AS INT64) ORDER BY p1.TIMER))\n",
        "\n",
        "                -- When lead and lag distance to insulin bolus/infusion are the same + greatest value of Glucose\n",
        "                -- In case both previous and posterior Glucose values are within <= 90 min of difference to bolus/infusion\n",
        "                -- select the following glucose value in case it is the highest value. Glucose values should never be below 90 mg/dL\n",
        "                  WHEN p1.EVENT IN('BOLUS_INYECTION','BOLUS_PUSH','INFUSION')\n",
        "                  AND (LAG(p1.GLCSOURCE,1) OVER(PARTITION BY CAST(p1.HADM_ID AS INT64) ORDER BY p1.TIMER)) IN ('BLOOD', 'FINGERSTICK')\n",
        "                AND (LEAD(p1.GLCSOURCE,1) OVER(PARTITION BY CAST(p1.HADM_ID AS INT64) ORDER BY p1.TIMER)) IN ('BLOOD', 'FINGERSTICK')\n",
        "                AND ABS(TIMESTAMP_DIFF(LAG(p1.TIMER,1) OVER(PARTITION BY CAST(p1.HADM_ID AS INT64) ORDER BY p1.TIMER), p1.TIMER,MINUTE)) = ABS(TIMESTAMP_DIFF(LEAD(p1.TIMER,1) OVER(PARTITION BY CAST(p1.HADM_ID AS INT64) ORDER BY p1.TIMER), p1.TIMER, MINUTE))\n",
        "                AND ABS(TIMESTAMP_DIFF(LEAD(p1.TIMER,1) OVER(PARTITION BY CAST(p1.HADM_ID AS INT64) ORDER BY p1.TIMER), p1.TIMER, MINUTE)) <= 90.0\n",
        "                AND LAG(p1.GLC,1) OVER(PARTITION BY CAST(p1.HADM_ID AS INT64) ORDER BY p1.TIMER) < LEAD(p1.GLC,1) OVER(PARTITION BY CAST(p1.HADM_ID AS INT64) ORDER BY p1.TIMER)\n",
        "                AND (LEAD(p1.GLC,1) OVER(PARTITION BY CAST(p1.HADM_ID AS INT64) ORDER BY p1.TIMER)) >= 90\n",
        "                THEN (LEAD(p1.GLCSOURCE,1) OVER(PARTITION BY CAST(p1.HADM_ID AS INT64) ORDER BY p1.TIMER))\n",
        "\n",
        "                WHEN p1.EVENT IN('BOLUS_INYECTION','BOLUS_PUSH','INFUSION') \n",
        "                AND (LAG(p1.GLCSOURCE,1) OVER(PARTITION BY CAST(p1.HADM_ID AS INT64) ORDER BY p1.TIMER)) IN ('BLOOD', 'FINGERSTICK')\n",
        "                AND (LEAD(p1.GLCSOURCE,1) OVER(PARTITION BY CAST(p1.HADM_ID AS INT64) ORDER BY p1.TIMER)) IN ('BLOOD', 'FINGERSTICK') \n",
        "                AND ABS(TIMESTAMP_DIFF(LAG(p1.timer,1) OVER(PARTITION BY CAST(p1.hadm_id AS INT64) ORDER BY p1.timer),  p1.timer, MINUTE)) = ABS(TIMESTAMP_DIFF(LEAD(p1.timer,1) OVER(PARTITION BY CAST(p1.hadm_id AS INT64) ORDER BY p1.timer), p1.timer, MINUTE)) \n",
        "                AND ABS(TIMESTAMP_DIFF(LAG(p1.timer,1) OVER(PARTITION BY CAST(p1.hadm_id AS INT64) ORDER BY p1.timer),  p1.timer, MINUTE)) <= 90.0 \n",
        "                AND LAG(p1.GLC,1) OVER(PARTITION BY CAST(p1.hadm_id AS INT64) ORDER BY p1.timer) > LEAD(p1.GLC,1) OVER(PARTITION BY CAST(p1.hadm_id AS INT64) ORDER BY p1.timer) \n",
        "                AND (LAG(p1.GLC,1) OVER(PARTITION BY CAST(p1.hadm_id AS INT64) ORDER BY p1.timer)) >= 90 \n",
        "                THEN (LAG(p1.GLCSOURCE,1) OVER(PARTITION BY CAST(p1.hadm_id AS INT64) ORDER BY p1.timer))\n",
        "\n",
        "                -- When the previous timestamp is for glucose value and following timestamp is insulin bolus/infusion\n",
        "                -- select the previous glucose value IF it was taken up to 90 min before to insulin infusion.\n",
        "                -- Glucose values should never be below 90 mg/dL\n",
        "                WHEN p1.EVENT IN('BOLUS_INYECTION','BOLUS_PUSH','INFUSION')\n",
        "                AND (LAG(p1.GLCSOURCE,1) OVER(PARTITION BY CAST(p1.HADM_ID AS INT64) ORDER BY p1.TIMER)) IN ('BLOOD', 'FINGERSTICK')\n",
        "                AND (LEAD(p1.EVENT,1) OVER(PARTITION BY CAST(p1.HADM_ID AS INT64) ORDER BY p1.TIMER)) IN ('BOLUS_INYECTION','BOLUS_PUSH','INFUSION')\n",
        "                AND ABS(TIMESTAMP_DIFF(LAG(p1.timer,1) OVER(PARTITION BY CAST(p1.hadm_id AS INT64) ORDER BY p1.timer),p1.timer,MINUTE)) <= 90.0\n",
        "                AND (LAG(p1.GLC,1) OVER(PARTITION BY CAST(p1.hadm_id AS INT64) ORDER BY p1.timer)) >= 90 \n",
        "                THEN (LAG(p1.GLCSOURCE,1) OVER(PARTITION BY CAST(p1.hadm_id AS INT64) ORDER BY p1.timer))\n",
        "\n",
        "                -- When previous timestamp is for Insulin bolus/infusion, following timestamp is insulin bolus/infusion\n",
        "                -- 2 previous timestamps is for glucose value, select that glucose value if only it was taken up to\n",
        "                -- 90 min before to that insulin infusion/bolus. Glucose values should never be below 90 mg/dL\n",
        "                WHEN p1.EVENT IN('BOLUS_INYECTION', 'BOLUS_PUSH','INFUSION') \n",
        "                  AND (LAG(p1.GLCSOURCE,2) OVER(PARTITION BY CAST(p1.hadm_id AS INT64) ORDER BY p1.timer)) IN ('BLOOD', 'FINGERSTICK')\n",
        "                  AND (LAG(p1.EVENT,1) OVER(PARTITION BY CAST(p1.hadm_id AS INT64) ORDER BY p1.timer)) IN ('BOLUS_INYECTION','BOLUS_PUSH','INFUSION') \n",
        "                  AND (LEAD(p1.EVENT,1) OVER(PARTITION BY CAST(p1.hadm_id AS INT64) ORDER BY p1.timer)) IN ('BOLUS_INYECTION','BOLUS_PUSH','INFUSION') AND ABS(TIMESTAMP_DIFF(LAG(timer,2) OVER(PARTITION BY CAST(p1.hadm_id AS INT64) ORDER BY p1.timer), p1.timer, MINUTE)) <= 90 \n",
        "                  AND (LAG(p1.GLC,2) OVER(PARTITION BY CAST(p1.hadm_id AS INT64) ORDER BY p1.timer)) >= 90 \n",
        "                  THEN (LAG(p1.GLCSOURCE,2) OVER(PARTITION BY CAST(p1.hadm_id AS INT64) ORDER BY p1.timer))\n",
        "\n",
        "                -- When previous timestamp is for Insulin bolus/infusion, following timestamp is glucose value and\n",
        "                -- 2 previous timestamps is for glucose value, select the glucose value that is closest to insulin event\n",
        "                -- if only glucose timestamp is within 90 min. Glucose values should never be below 90 mg/dL\n",
        "                  WHEN p1.EVENT IN('BOLUS_INYECTION','BOLUS_PUSH','INFUSION')\n",
        "                  AND (LAG(p1.GLCSOURCE,2) OVER(PARTITION BY CAST(p1.HADM_ID AS INT64) ORDER BY p1.TIMER)) IN ('BLOOD', 'FINGERSTICK')\n",
        "                AND (LAG(p1.EVENT,1) OVER(PARTITION BY CAST(p1.hadm_id AS INT64) ORDER BY p1.timer)) IN ('BOLUS_INYECTION','BOLUS_PUSH','INFUSION')\n",
        "                AND (LEAD(p1.GLCSOURCE,1) OVER(PARTITION BY CAST(p1.hadm_id AS INT64) ORDER BY p1.timer)) IN ('BLOOD', 'FINGERSTICK')\n",
        "                AND (ABS(TIMESTAMP_DIFF(LAG(p1.timer,2) OVER(PARTITION BY CAST(p1.hadm_id AS INT64) ORDER BY p1.timer), p1.timer, MINUTE)) <= 90.0\n",
        "                OR ABS(TIMESTAMP_DIFF(LEAD(p1.timer,1) OVER(PARTITION BY CAST(p1.hadm_id AS INT64) ORDER BY p1.timer), p1.timer, MINUTE)) <= 90.0)\n",
        "                AND ABS(TIMESTAMP_DIFF(LAG(p1.timer,2) OVER(PARTITION BY CAST(p1.hadm_id AS INT64) ORDER BY p1.timer), p1.timer, MINUTE)) < ABS(TIMESTAMP_DIFF(LEAD(p1.timer,1) OVER(PARTITION BY CAST(p1.hadm_id AS INT64) ORDER BY p1.timer), p1.timer, MINUTE))\n",
        "                AND (LAG(p1.GLC,2) OVER(PARTITION BY CAST(p1.hadm_id AS INT64) ORDER BY p1.timer)) >= 90\n",
        "                THEN (LAG(p1.GLCSOURCE,2) OVER(PARTITION BY CAST(p1.hadm_id AS INT64) ORDER BY p1.timer))\n",
        "\n",
        "                WHEN p1.EVENT IN('BOLUS_INYECTION','BOLUS_PUSH','INFUSION') \n",
        "                AND (LAG(p1.GLCSOURCE,2) OVER(PARTITION BY CAST(p1.hadm_id AS INT64) ORDER BY p1.timer)) IN ('BLOOD', 'FINGERSTICK') \n",
        "                AND (LAG(p1.EVENT,1) OVER(PARTITION BY CAST(p1.hadm_id AS INT64) ORDER BY p1.timer)) IN ('BOLUS_INYECTION','BOLUS_PUSH','INFUSION') \n",
        "                AND (LEAD(p1.GLCSOURCE,1) OVER(PARTITION BY CAST(p1.hadm_id AS INT64) ORDER BY timer))IN ('BLOOD', 'FINGERSTICK')\n",
        "                AND (ABS(TIMESTAMP_DIFF(LAG(p1.timer,2) OVER(PARTITION BY CAST(p1.hadm_id AS INT64) ORDER BY p1.timer),  p1.timer,  MINUTE)) <= 90.0 \n",
        "                  OR ABS(TIMESTAMP_DIFF(LEAD(p1.timer,1) OVER(PARTITION BY CAST(p1.hadm_id AS INT64) ORDER BY p1.timer),  p1.timer,MINUTE)) <= 90.0) \n",
        "                AND ABS(TIMESTAMP_DIFF(LAG(p1.timer,2) OVER(PARTITION BY CAST(p1.hadm_id AS INT64) ORDER BY p1.timer),  p1.timer, MINUTE))> ABS(TIMESTAMP_DIFF(LEAD(p1.timer,1) OVER(PARTITION BY CAST(p1.hadm_id AS INT64) ORDER BY p1.timer), p1.timer, MINUTE)) \n",
        "                AND (LEAD(p1.GLC,1) OVER(PARTITION BY CAST(p1.hadm_id AS INT64) ORDER BY p1.timer)) >= 90 \n",
        "                THEN (LEAD(p1.GLCSOURCE,1) OVER(PARTITION BY CAST(p1.hadm_id AS INT64) ORDER BY p1.timer))\n",
        "\n",
        "                -- In case -2 and -1 timestamps are insulin infusion/bolus and following is a glucose timestamp within 90 min\n",
        "                -- Glucose values should never be below 90 mg/dL\n",
        "                WHEN p1.EVENT IN('BOLUS_INYECTION','BOLUS_PUSH','INFUSION')\n",
        "                  AND (LAG(p1.EVENT,2) OVER(PARTITION BY CAST(p1.hadm_id AS INT64) ORDER BY p1.timer)) IN ('BOLUS_INYECTION','BOLUS_PUSH','INFUSION')\n",
        "                AND (LAG(p1.EVENT,1) OVER(PARTITION BY CAST(p1.hadm_id AS INT64) ORDER BY p1.timer)) IN ('BOLUS_INYECTION','BOLUS_PUSH','INFUSION')\n",
        "                AND (LEAD(p1.GLCSOURCE,1) OVER(PARTITION BY CAST(p1.hadm_id AS INT64) ORDER BY p1.timer)) IN ('BLOOD', 'FINGERSTICK')\n",
        "                AND ABS(TIMESTAMP_DIFF(LEAD(p1.timer,1) OVER(PARTITION BY CAST(p1.hadm_id AS INT64) ORDER BY p1.timer), p1.timer, MINUTE)) <= 90.0\n",
        "                AND (LEAD(p1.GLC,1) OVER(PARTITION BY CAST(p1.hadm_id AS INT64) ORDER BY p1.timer)) >= 90 \n",
        "                THEN (LEAD(p1.GLCSOURCE,1) OVER(PARTITION BY CAST(p1.hadm_id AS INT64) ORDER BY p1.timer))\n",
        "\n",
        "                -- In case the last timestamp is for insulin, select the previous glucose value if it was within 90 min.\n",
        "                -- Glucose values should never be below 90 mg/dL\n",
        "                WHEN p1.EVENT IN('BOLUS_INYECTION','BOLUS_PUSH','INFUSION')\n",
        "                AND (LAG(p1.GLCSOURCE,1) OVER(PARTITION BY CAST(p1.hadm_id AS INT64) ORDER BY p1.TIMER)) IN ('BLOOD', 'FINGERSTICK') \n",
        "                AND (LEAD(p1.EVENT,1) OVER(PARTITION BY CAST(p1.hadm_id AS INT64) ORDER BY p1.timer)) IS NULL \n",
        "                AND ABS(TIMESTAMP_DIFF(LAG(p1.TIMER,1) OVER(PARTITION BY CAST(p1.hadm_id AS INT64) ORDER BY p1.timer),  p1.timer, MINUTE)) <= 90.0 \n",
        "                AND (LAG(p1.GLC,1) OVER(PARTITION BY CAST(p1.hadm_id AS INT64) ORDER BY p1.timer)) >= 90\n",
        "                THEN (LAG(p1.GLCSOURCE,1) OVER(PARTITION BY CAST(p1.hadm_id AS INT64) ORDER BY p1.timer))\n",
        "                ELSE null END\n",
        "                ) AS GLCSOURCE_AL -- GLUCOSE sample source\n",
        "                \n",
        "            , (CASE\n",
        "                -- When previous and following measures are glucose, select the glucose value that \n",
        "                -- has the shortest time distance to insulin bolus/infusion. Glucose timestamps should not be\n",
        "                -- greater than 90 min. Glucose values should never be below 100 mg/dL\n",
        "                  WHEN p1.EVENT IN('BOLUS_INYECTION', 'BOLUS_PUSH', 'INFUSION')\n",
        "                    AND (LAG(p1.GLCSOURCE,1) OVER(PARTITION BY CAST(p1.HADM_ID AS INT64) ORDER BY p1.TIMER)) IN ('BLOOD', 'FINGERSTICK')\n",
        "                    AND (LEAD(p1.GLCSOURCE,1) OVER(PARTITION BY CAST(p1.HADM_ID AS INT64) ORDER BY p1.TIMER)) IN ('BLOOD', 'FINGERSTICK')\n",
        "                    AND ABS(TIMESTAMP_DIFF((LAG(p1.TIMER,1) OVER(PARTITION BY CAST(p1.HADM_ID AS INT64) ORDER BY p1.TIMER)),  p1.TIMER, MINUTE)) < ABS(TIMESTAMP_DIFF(LEAD(p1.TIMER,1) OVER(PARTITION BY CAST(p1.HADM_ID AS INT64) ORDER BY p1.TIMER), p1.TIMER, MINUTE))\n",
        "                    AND (ABS(TIMESTAMP_DIFF(LAG(p1.TIMER,1) OVER(PARTITION BY CAST(p1.HADM_ID AS INT64) ORDER BY p1.TIMER),  p1.TIMER, MINUTE)) <= 90 \n",
        "                    OR ABS(TIMESTAMP_DIFF(LEAD(p1.TIMER,1) OVER(PARTITION BY CAST(p1.HADM_ID AS INT64) ORDER BY p1.TIMER),  p1.TIMER, MINUTE)) <= 90) \n",
        "                    AND (LAG(p1.GLC,1) OVER(PARTITION BY CAST(p1.HADM_ID AS INT64) ORDER BY p1.TIMER)) >= 90.0 \n",
        "                    THEN 1\n",
        "\n",
        "                  WHEN p1.EVENT IN('BOLUS_INYECTION','BOLUS_PUSH','INFUSION')\n",
        "                    AND (LAG(p1.GLCSOURCE,1) OVER(PARTITION BY CAST(p1.HADM_ID AS INT64) ORDER BY p1.TIMER)) NOT IN ('BLOOD', 'FINGERSTICK')\n",
        "                    AND (LEAD(p1.GLCSOURCE,1) OVER(PARTITION BY CAST(p1.HADM_ID AS INT64) ORDER BY p1.TIMER)) NOT IN ('BLOOD', 'FINGERSTICK')\n",
        "                    AND ABS(TIMESTAMP_DIFF(LAG(p1.TIMER,1) OVER(PARTITION BY CAST(p1.HADM_ID AS INT64) ORDER BY p1.TIMER),\n",
        "                    p1.TIMER, MINUTE)) > ABS(TIMESTAMP_DIFF(LEAD(p1.TIMER,1) OVER(PARTITION BY CAST(p1.HADM_ID AS INT64) ORDER BY p1.TIMER), p1.TIMER, MINUTE))\n",
        "                    AND (ABS(TIMESTAMP_DIFF(LAG(p1.TIMER,1) OVER(PARTITION BY CAST(p1.HADM_ID AS INT64) ORDER BY p1.TIMER), p1.TIMER, MINUTE)) <= 90\n",
        "                    OR ABS(TIMESTAMP_DIFF(LEAD(p1.TIMER,1) OVER(PARTITION BY CAST(p1.HADM_ID AS INT64) ORDER BY p1.TIMER), p1.TIMER, MINUTE)) <= 90) \n",
        "                    AND (LEAD(p1.GLC,1) OVER(PARTITION BY CAST(p1.HADM_ID AS INT64) ORDER BY p1.TIMER)) >= 90.0\n",
        "                    THEN 3\n",
        "\n",
        "                -- Shortest distance to insulin bolus/infusion + greatest value of Glucose\n",
        "                -- In case both previous and posterior Glucose values are within <= 90 min of difference to bolus/infusion\n",
        "                -- select the following glucose value in case it is the highest value. Glucose values should never be below 90 mg/dL\n",
        "                  WHEN p1.EVENT IN('BOLUS_INYECTION','BOLUS_PUSH','INFUSION') AND (LAG(p1.GLCSOURCE,1) OVER(PARTITION BY CAST(p1.HADM_ID AS INT64) ORDER BY p1.TIMER)) IN ('BLOOD', 'FINGERSTICK')\n",
        "                  AND (LEAD(p1.GLCSOURCE,1) OVER(PARTITION BY CAST(p1.HADM_ID AS INT64) ORDER BY p1.TIMER)) IN ('BLOOD', 'FINGERSTICK')\n",
        "                  AND ABS(TIMESTAMP_DIFF(LAG(p1.TIMER,1) OVER(PARTITION BY CAST(p1.HADM_ID AS INT64) ORDER BY p1.TIMER), p1.TIMER, MINUTE)) < ABS(TIMESTAMP_DIFF(LEAD(p1.TIMER,1) OVER(PARTITION BY CAST(p1.HADM_ID AS INT64) ORDER BY p1.TIMER), p1.TIMER, MINUTE)) \n",
        "                  AND ABS(TIMESTAMP_DIFF(LEAD(p1.TIMER,1) OVER(PARTITION BY CAST(p1.HADM_ID AS INT64) ORDER BY p1.TIMER), p1.TIMER, MINUTE)) <= 90.0\n",
        "                  AND LAG(p1.GLC,1) OVER(PARTITION BY CAST(p1.HADM_ID AS INT64) ORDER BY p1.TIMER) < LEAD(p1.GLC,1) OVER(PARTITION BY CAST(p1.HADM_ID AS INT64) ORDER BY p1.TIMER) \n",
        "                  AND (LEAD(p1.GLC,1) OVER(PARTITION BY CAST(p1.HADM_ID AS INT64) ORDER BY p1.TIMER)) >= 90.0\n",
        "                  THEN 3\n",
        "\n",
        "                -- When lead and lag distance to insulin bolus/infusion are the same + greatest value of Glucose\n",
        "                -- In case both previous and posterior Glucose values are within <= 90 min of difference to bolus/infusion\n",
        "                -- select the following glucose value in case it is the highest value. Glucose values should never be below 90 mg/dL\n",
        "                  WHEN p1.EVENT IN('BOLUS_INYECTION','BOLUS_PUSH','INFUSION')\n",
        "                  AND (LAG(p1.GLCSOURCE,1) OVER(PARTITION BY CAST(p1.HADM_ID AS INT64) ORDER BY p1.TIMER)) IN ('BLOOD', 'FINGERSTICK')\n",
        "                AND (LEAD(p1.GLCSOURCE,1) OVER(PARTITION BY CAST(p1.HADM_ID AS INT64) ORDER BY p1.TIMER)) IN ('BLOOD', 'FINGERSTICK')\n",
        "                AND ABS(TIMESTAMP_DIFF(LAG(p1.TIMER,1) OVER(PARTITION BY CAST(p1.HADM_ID AS INT64) ORDER BY p1.TIMER), p1.TIMER,MINUTE)) = ABS(TIMESTAMP_DIFF(LEAD(p1.TIMER,1) OVER(PARTITION BY CAST(p1.HADM_ID AS INT64) ORDER BY p1.TIMER), p1.TIMER, MINUTE))\n",
        "                AND ABS(TIMESTAMP_DIFF(LEAD(p1.TIMER,1) OVER(PARTITION BY CAST(p1.HADM_ID AS INT64) ORDER BY p1.TIMER), p1.TIMER, MINUTE)) <= 90.0\n",
        "                AND LAG(p1.GLC,1) OVER(PARTITION BY CAST(p1.HADM_ID AS INT64) ORDER BY p1.TIMER) < LEAD(p1.GLC,1) OVER(PARTITION BY CAST(p1.HADM_ID AS INT64) ORDER BY p1.TIMER)\n",
        "                AND (LEAD(p1.GLC,1) OVER(PARTITION BY CAST(p1.HADM_ID AS INT64) ORDER BY p1.TIMER)) >= 90\n",
        "                THEN 3\n",
        "\n",
        "                WHEN p1.EVENT IN('BOLUS_INYECTION','BOLUS_PUSH','INFUSION') \n",
        "                AND (LAG(p1.GLCSOURCE,1) OVER(PARTITION BY CAST(p1.HADM_ID AS INT64) ORDER BY p1.TIMER)) IN ('BLOOD', 'FINGERSTICK')\n",
        "                AND (LEAD(p1.GLCSOURCE,1) OVER(PARTITION BY CAST(p1.HADM_ID AS INT64) ORDER BY p1.TIMER)) IN ('BLOOD', 'FINGERSTICK') \n",
        "                AND ABS(TIMESTAMP_DIFF(LAG(p1.timer,1) OVER(PARTITION BY CAST(p1.hadm_id AS INT64) ORDER BY p1.timer),  p1.timer, MINUTE)) = ABS(TIMESTAMP_DIFF(LEAD(p1.timer,1) OVER(PARTITION BY CAST(p1.hadm_id AS INT64) ORDER BY p1.timer), p1.timer, MINUTE)) \n",
        "                AND ABS(TIMESTAMP_DIFF(LAG(p1.timer,1) OVER(PARTITION BY CAST(p1.hadm_id AS INT64) ORDER BY p1.timer),  p1.timer, MINUTE)) <= 90.0 \n",
        "                AND LAG(p1.GLC,1) OVER(PARTITION BY CAST(p1.hadm_id AS INT64) ORDER BY p1.timer) > LEAD(p1.GLC,1) OVER(PARTITION BY CAST(p1.hadm_id AS INT64) ORDER BY p1.timer) \n",
        "                AND (LAG(p1.GLC,1) OVER(PARTITION BY CAST(p1.hadm_id AS INT64) ORDER BY p1.timer)) >= 90 \n",
        "                THEN 1\n",
        "\n",
        "                -- When the previous timestamp is for glucose value and following timestamp is insulin bolus/infusion\n",
        "                -- select the previous glucose value IF it was taken up to 90 min before to insulin infusion.\n",
        "                -- Glucose values should never be below 90 mg/dL\n",
        "                WHEN p1.EVENT IN('BOLUS_INYECTION','BOLUS_PUSH','INFUSION')\n",
        "                AND (LAG(p1.GLCSOURCE,1) OVER(PARTITION BY CAST(p1.HADM_ID AS INT64) ORDER BY p1.TIMER)) IN ('BLOOD', 'FINGERSTICK')\n",
        "                AND (LEAD(p1.EVENT,1) OVER(PARTITION BY CAST(p1.HADM_ID AS INT64) ORDER BY p1.TIMER)) IN ('BOLUS_INYECTION','BOLUS_PUSH','INFUSION')\n",
        "                AND ABS(TIMESTAMP_DIFF(LAG(p1.timer,1) OVER(PARTITION BY CAST(p1.hadm_id AS INT64) ORDER BY p1.timer),p1.timer,MINUTE)) <= 90.0\n",
        "                AND (LAG(p1.GLC,1) OVER(PARTITION BY CAST(p1.hadm_id AS INT64) ORDER BY p1.timer)) >= 90 \n",
        "                THEN 1\n",
        "\n",
        "                -- When previous timestamp is for Insulin bolus/infusion, following timestamp is insulin bolus/infusion\n",
        "                -- 2 previous timestamps is for glucose value, select that glucose value if only it was taken up to\n",
        "                -- 90 min before to that insulin infusion/bolus. Glucose values should never be below 90 mg/dL\n",
        "                WHEN p1.EVENT IN('BOLUS_INYECTION', 'BOLUS_PUSH','INFUSION') \n",
        "                  AND (LAG(p1.GLCSOURCE,2) OVER(PARTITION BY CAST(p1.hadm_id AS INT64) ORDER BY p1.timer)) IN ('BLOOD', 'FINGERSTICK')\n",
        "                  AND (LAG(p1.EVENT,1) OVER(PARTITION BY CAST(p1.hadm_id AS INT64) ORDER BY p1.timer)) IN ('BOLUS_INYECTION','BOLUS_PUSH','INFUSION') \n",
        "                  AND (LEAD(p1.EVENT,1) OVER(PARTITION BY CAST(p1.hadm_id AS INT64) ORDER BY p1.timer)) IN ('BOLUS_INYECTION','BOLUS_PUSH','INFUSION') AND ABS(TIMESTAMP_DIFF(LAG(timer,2) OVER(PARTITION BY CAST(p1.hadm_id AS INT64) ORDER BY p1.timer), p1.timer, MINUTE)) <= 90 \n",
        "                  AND (LAG(p1.GLC,2) OVER(PARTITION BY CAST(p1.hadm_id AS INT64) ORDER BY p1.timer)) >= 90 \n",
        "                  THEN 4\n",
        "\n",
        "                -- When previous timestamp is for Insulin bolus/infusion, following timestamp is glucose value and\n",
        "                -- 2 previous timestamps is for glucose value, select the glucose value that is closest to insulin event\n",
        "                -- if only glucose timestamp is within 90 min. Glucose values should never be below 90 mg/dL\n",
        "                  WHEN p1.EVENT IN('BOLUS_INYECTION','BOLUS_PUSH','INFUSION')\n",
        "                  AND (LAG(p1.GLCSOURCE,2) OVER(PARTITION BY CAST(p1.HADM_ID AS INT64) ORDER BY p1.TIMER)) IN ('BLOOD', 'FINGERSTICK')\n",
        "                AND (LAG(p1.EVENT,1) OVER(PARTITION BY CAST(p1.hadm_id AS INT64) ORDER BY p1.timer)) IN ('BOLUS_INYECTION','BOLUS_PUSH','INFUSION')\n",
        "                AND (LEAD(p1.GLCSOURCE,1) OVER(PARTITION BY CAST(p1.hadm_id AS INT64) ORDER BY p1.timer)) IN ('BLOOD', 'FINGERSTICK')\n",
        "                AND (ABS(TIMESTAMP_DIFF(LAG(p1.timer,2) OVER(PARTITION BY CAST(p1.hadm_id AS INT64) ORDER BY p1.timer), p1.timer, MINUTE)) <= 90.0\n",
        "                OR ABS(TIMESTAMP_DIFF(LEAD(p1.timer,1) OVER(PARTITION BY CAST(p1.hadm_id AS INT64) ORDER BY p1.timer), p1.timer, MINUTE)) <= 90.0)\n",
        "                AND ABS(TIMESTAMP_DIFF(LAG(p1.timer,2) OVER(PARTITION BY CAST(p1.hadm_id AS INT64) ORDER BY p1.timer), p1.timer, MINUTE)) < ABS(TIMESTAMP_DIFF(LEAD(p1.timer,1) OVER(PARTITION BY CAST(p1.hadm_id AS INT64) ORDER BY p1.timer), p1.timer, MINUTE))\n",
        "                AND (LAG(p1.GLC,2) OVER(PARTITION BY CAST(p1.hadm_id AS INT64) ORDER BY p1.timer)) >= 90\n",
        "                THEN 4\n",
        "\n",
        "                WHEN p1.EVENT IN('BOLUS_INYECTION','BOLUS_PUSH','INFUSION') \n",
        "                AND (LAG(p1.GLCSOURCE,2) OVER(PARTITION BY CAST(p1.hadm_id AS INT64) ORDER BY p1.timer)) IN ('BLOOD', 'FINGERSTICK') \n",
        "                AND (LAG(p1.EVENT,1) OVER(PARTITION BY CAST(p1.hadm_id AS INT64) ORDER BY p1.timer)) IN ('BOLUS_INYECTION','BOLUS_PUSH','INFUSION') \n",
        "                AND (LEAD(p1.GLCSOURCE,1) OVER(PARTITION BY CAST(p1.hadm_id AS INT64) ORDER BY timer))IN ('BLOOD', 'FINGERSTICK')\n",
        "                AND (ABS(TIMESTAMP_DIFF(LAG(p1.timer,2) OVER(PARTITION BY CAST(p1.hadm_id AS INT64) ORDER BY p1.timer),  p1.timer,  MINUTE)) <= 90.0 \n",
        "                  OR ABS(TIMESTAMP_DIFF(LEAD(p1.timer,1) OVER(PARTITION BY CAST(p1.hadm_id AS INT64) ORDER BY p1.timer),  p1.timer,MINUTE)) <= 90.0) \n",
        "                AND ABS(TIMESTAMP_DIFF(LAG(p1.timer,2) OVER(PARTITION BY CAST(p1.hadm_id AS INT64) ORDER BY p1.timer),  p1.timer, MINUTE))> ABS(TIMESTAMP_DIFF(LEAD(p1.timer,1) OVER(PARTITION BY CAST(p1.hadm_id AS INT64) ORDER BY p1.timer), p1.timer, MINUTE)) \n",
        "                AND (LEAD(p1.GLC,1) OVER(PARTITION BY CAST(p1.hadm_id AS INT64) ORDER BY p1.timer)) >= 90 \n",
        "                THEN 2\n",
        "\n",
        "                -- In case -2 and -1 timestamps are insulin infusion/bolus and following is a glucose timestamp within 90 min\n",
        "                -- Glucose values should never be below 90 mg/dL\n",
        "                WHEN p1.EVENT IN('BOLUS_INYECTION','BOLUS_PUSH','INFUSION')\n",
        "                  AND (LAG(p1.EVENT,2) OVER(PARTITION BY CAST(p1.hadm_id AS INT64) ORDER BY p1.timer)) IN ('BOLUS_INYECTION','BOLUS_PUSH','INFUSION')\n",
        "                AND (LAG(p1.EVENT,1) OVER(PARTITION BY CAST(p1.hadm_id AS INT64) ORDER BY p1.timer)) IN ('BOLUS_INYECTION','BOLUS_PUSH','INFUSION')\n",
        "                AND (LEAD(p1.GLCSOURCE,1) OVER(PARTITION BY CAST(p1.hadm_id AS INT64) ORDER BY p1.timer)) IN ('BLOOD', 'FINGERSTICK')\n",
        "                AND ABS(TIMESTAMP_DIFF(LEAD(p1.timer,1) OVER(PARTITION BY CAST(p1.hadm_id AS INT64) ORDER BY p1.timer), p1.timer, MINUTE)) <= 90.0\n",
        "                AND (LEAD(p1.GLC,1) OVER(PARTITION BY CAST(p1.hadm_id AS INT64) ORDER BY p1.timer)) >= 90 \n",
        "                THEN 2\n",
        "\n",
        "                -- In case the last timestamp is for insulin, select the previous glucose value if it was within 90 min.\n",
        "                -- Glucose values should never be below 90 mg/dL\n",
        "                WHEN p1.EVENT IN('BOLUS_INYECTION','BOLUS_PUSH','INFUSION')\n",
        "                AND (LAG(p1.GLCSOURCE,1) OVER(PARTITION BY CAST(p1.hadm_id AS INT64) ORDER BY p1.TIMER)) IN ('BLOOD', 'FINGERSTICK') \n",
        "                AND (LEAD(p1.EVENT,1) OVER(PARTITION BY CAST(p1.hadm_id AS INT64) ORDER BY p1.timer)) IS NULL \n",
        "                AND ABS(TIMESTAMP_DIFF(LAG(p1.TIMER,1) OVER(PARTITION BY CAST(p1.hadm_id AS INT64) ORDER BY p1.timer),  p1.timer, MINUTE)) <= 90.0 \n",
        "                AND (LAG(p1.GLC,1) OVER(PARTITION BY CAST(p1.hadm_id AS INT64) ORDER BY p1.timer)) >= 90\n",
        "                THEN 1\n",
        "                ELSE null END\n",
        "                ) AS RULE -- FLAG to identify which rules was applied\n",
        "                \n",
        "            FROM `icuinsulintherapy.glc_cur0ins_cur` AS p1\n",
        "            )AS pg\n",
        "            \"\"\"\n",
        "\n",
        "ICUinputs_adjusted = q(query,projectid)"
      ],
      "execution_count": 0,
      "outputs": []
    },
    {
      "cell_type": "code",
      "metadata": {
        "id": "0humEm0jt8if",
        "colab_type": "code",
        "colab": {
          "base_uri": "https://localhost:8080/",
          "height": 245
        },
        "outputId": "d5df9c0d-27e6-4a80-f568-9c7453333492"
      },
      "source": [
        "# Convert dtypes\n",
        "ICUinputs_adjusted[[\"Repeated\",\"INFXSTOP\",\"RULE\"]] = ICUinputs_adjusted[\n",
        "        [\"Repeated\",\"INFXSTOP\",\"RULE\"]].apply(pd.to_numeric, errors='coerce')\n",
        "\n",
        "# Remove values that are repeated due to the SQL query\n",
        "ICUinputs_adjusted = ICUinputs_adjusted[ICUinputs_adjusted['Repeated']!=1]\n",
        "\n",
        "# Get statistics\n",
        "display(HTML('<h5>Contains the following information</h5>'))\n",
        "print(\"Observations: {}\".format(ICUinputs_adjusted.shape[0]))\n",
        "print(\"Patients: {}\".format(ICUinputs_adjusted['SUBJECT_ID'].nunique()))\n",
        "print(\"Hospital admissions: {}\".format(ICUinputs_adjusted['HADM_ID'].nunique()))\n",
        "print('ICU stays: {}'.format(ICUinputs_adjusted['ICUSTAY_ID'].nunique()))\n",
        "\n",
        "# Rules\n",
        "display(HTML('<h5>Frequency of the rules</h5>'))\n",
        "print(ICUinputs_adjusted['RULE'].value_counts())"
      ],
      "execution_count": 36,
      "outputs": [
        {
          "output_type": "display_data",
          "data": {
            "text/html": [
              "<h5>Contains the following information</h5>"
            ],
            "text/plain": [
              "<IPython.core.display.HTML object>"
            ]
          },
          "metadata": {
            "tags": []
          }
        },
        {
          "output_type": "stream",
          "text": [
            "Observations: 404739\n",
            "Patients: 7585\n",
            "Hospital admissions: 8936\n",
            "ICU stays: 9919\n"
          ],
          "name": "stdout"
        },
        {
          "output_type": "display_data",
          "data": {
            "text/html": [
              "<h5>Frequency of the rules</h5>"
            ],
            "text/plain": [
              "<IPython.core.display.HTML object>"
            ]
          },
          "metadata": {
            "tags": []
          }
        },
        {
          "output_type": "stream",
          "text": [
            "1.0    80314\n",
            "2.0     9006\n",
            "4.0     6766\n",
            "3.0      691\n",
            "Name: RULE, dtype: int64\n"
          ],
          "name": "stdout"
        }
      ]
    },
    {
      "cell_type": "markdown",
      "metadata": {
        "id": "GmtDCqyUuKoO",
        "colab_type": "text"
      },
      "source": [
        "### Analysing to short-acting boluses"
      ]
    },
    {
      "cell_type": "code",
      "metadata": {
        "id": "FRaxCj2AuPTI",
        "colab_type": "code",
        "colab": {
          "base_uri": "https://localhost:8080/",
          "height": 122
        },
        "outputId": "c887b12e-423b-49fd-fcc2-b3c0dc414065"
      },
      "source": [
        "# Filtering for only short insulin boluses and all sources of glucose\n",
        "short_BOL_adjusted = ICUinputs_adjusted[\n",
        "        (ICUinputs_adjusted['INSULINTYPE']==\"Short\") & \n",
        "        (ICUinputs_adjusted['EVENT'].str.contains('BOLUS'))]\n",
        "\n",
        "# Get statistics\n",
        "display(HTML('<h5>Contains the following information</h5>'))\n",
        "print(\"Observations: {}\".format(short_BOL_adjusted.shape[0]))\n",
        "print(\"Patients: {}\".format(short_BOL_adjusted['SUBJECT_ID'].nunique()))\n",
        "print(\"Hospital admissions: {}\".format(short_BOL_adjusted['HADM_ID'].nunique()))\n",
        "print('ICU stays: {}'.format(short_BOL_adjusted['ICUSTAY_ID'].nunique()))"
      ],
      "execution_count": 37,
      "outputs": [
        {
          "output_type": "display_data",
          "data": {
            "text/html": [
              "<h5>Contains the following information</h5>"
            ],
            "text/plain": [
              "<IPython.core.display.HTML object>"
            ]
          },
          "metadata": {
            "tags": []
          }
        },
        {
          "output_type": "stream",
          "text": [
            "Observations: 73809\n",
            "Patients: 7459\n",
            "Hospital admissions: 8746\n",
            "ICU stays: 9264\n"
          ],
          "name": "stdout"
        }
      ]
    },
    {
      "cell_type": "markdown",
      "metadata": {
        "id": "tFpncaFxvxSY",
        "colab_type": "text"
      },
      "source": [
        "### Analysing infusions"
      ]
    },
    {
      "cell_type": "code",
      "metadata": {
        "id": "LY8Z3vJFvwLC",
        "colab_type": "code",
        "colab": {
          "base_uri": "https://localhost:8080/",
          "height": 122
        },
        "outputId": "a7155423-7d3e-4290-90ab-01303657f418"
      },
      "source": [
        "warnings.simplefilter('default')\n",
        "\n",
        "# Filtering for only short insulin infusions and all sources of glucose\n",
        "short_INF_adjusted = ICUinputs_adjusted[\n",
        "        (ICUinputs_adjusted['INSULINTYPE']==\"Short\") & \n",
        "        (ICUinputs_adjusted['EVENT'].str.contains('INFUSION'))]\n",
        "\n",
        "# Get statistics\n",
        "display(HTML('<h5>Contains the following information</h5>'))\n",
        "print(\"Observations: {}\".format(short_INF_adjusted.shape[0]))\n",
        "print(\"Patients: {}\".format(short_INF_adjusted['SUBJECT_ID'].nunique()))\n",
        "print(\"Hospital admissions: {}\".format(short_INF_adjusted['HADM_ID'].nunique()))\n",
        "print('ICU stays: {}'.format(short_INF_adjusted['ICUSTAY_ID'].nunique()))"
      ],
      "execution_count": 40,
      "outputs": [
        {
          "output_type": "display_data",
          "data": {
            "text/html": [
              "<h5>Contains the following information</h5>"
            ],
            "text/plain": [
              "<IPython.core.display.HTML object>"
            ]
          },
          "metadata": {
            "tags": []
          }
        },
        {
          "output_type": "stream",
          "text": [
            "Observations: 33644\n",
            "Patients: 2305\n",
            "Hospital admissions: 2477\n",
            "ICU stays: 2511\n"
          ],
          "name": "stdout"
        }
      ]
    }
  ]
}